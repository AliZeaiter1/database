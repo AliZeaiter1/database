{
    "metadata": {
        "kernelspec": {
            "name": "SQL",
            "display_name": "SQL",
            "language": "sql"
        },
        "language_info": {
            "name": "sql",
            "version": ""
        }
    },
    "nbformat_minor": 2,
    "nbformat": 4,
    "cells": [
        {
            "cell_type": "code",
            "source": [
                "--Null értékek száma és százalékos aránya\r\n",
                "SELECT \r\n",
                "    'Leírás' AS Oszlop,\r\n",
                "    COUNT(*)  AS Összes_sor,\r\n",
                "    COUNT(LEIRAS) AS Nem_NULL_Értékek,\r\n",
                "    COUNT(*) - COUNT(LEIRAS) AS NULL_Értékek_száma,\r\n",
                "    (COUNT(*) - COUNT(LEIRAS)) * 100.0 / COUNT(*) AS Százalékos_arány\r\n",
                "FROM Termek;"
            ],
            "metadata": {
                "azdata_cell_guid": "4d4cb0ba-0e22-4c96-ab7f-da6fb627ac1b",
                "language": "sql"
            },
            "outputs": [
                {
                    "output_type": "display_data",
                    "data": {
                        "text/html": "Warning: Null value is eliminated by an aggregate or other SET operation."
                    },
                    "metadata": {}
                },
                {
                    "output_type": "display_data",
                    "data": {
                        "text/html": "(1 row affected)"
                    },
                    "metadata": {}
                },
                {
                    "output_type": "display_data",
                    "data": {
                        "text/html": "Total execution time: 00:00:00.148"
                    },
                    "metadata": {}
                },
                {
                    "output_type": "execute_result",
                    "metadata": {},
                    "execution_count": 78,
                    "data": {
                        "application/vnd.dataresource+json": {
                            "schema": {
                                "fields": [
                                    {
                                        "name": "Oszlop"
                                    },
                                    {
                                        "name": "Összes_sor"
                                    },
                                    {
                                        "name": "Nem_NULL_Értékek"
                                    },
                                    {
                                        "name": "NULL_Értékek_száma"
                                    },
                                    {
                                        "name": "Százalékos_arány"
                                    }
                                ]
                            },
                            "data": [
                                {
                                    "Oszlop": "Leírás",
                                    "Összes_sor": "551",
                                    "Nem_NULL_Értékek": "24",
                                    "NULL_Értékek_száma": "527",
                                    "Százalékos_arány": "95.644283121597"
                                }
                            ]
                        },
                        "text/html": [
                            "<table>",
                            "<tr><th>Oszlop</th><th>Összes_sor</th><th>Nem_NULL_Értékek</th><th>NULL_Értékek_száma</th><th>Százalékos_arány</th></tr>",
                            "<tr><td>Leírás</td><td>551</td><td>24</td><td>527</td><td>95.644283121597</td></tr>",
                            "</table>"
                        ]
                    }
                }
            ],
            "execution_count": 78
        },
        {
            "cell_type": "code",
            "source": [
                "--Minimum és maximum ár\r\n",
                "SELECT MIN(LISTAAR) As Minimum_Ár,\r\n",
                "        MAX(LISTAAR) As Maximum_Ár\r\n",
                "from Termek\r\n",
                "WHERE LISTAAR  != '0'"
            ],
            "metadata": {
                "language": "sql",
                "azdata_cell_guid": "d72c80de-08da-4c0c-a528-30d653af6642",
                "tags": []
            },
            "outputs": [
                {
                    "output_type": "display_data",
                    "data": {
                        "text/html": "(1 row affected)"
                    },
                    "metadata": {}
                },
                {
                    "output_type": "display_data",
                    "data": {
                        "text/html": "Total execution time: 00:00:00.081"
                    },
                    "metadata": {}
                },
                {
                    "output_type": "execute_result",
                    "metadata": {},
                    "execution_count": 81,
                    "data": {
                        "application/vnd.dataresource+json": {
                            "schema": {
                                "fields": [
                                    {
                                        "name": "Minimum_Ár"
                                    },
                                    {
                                        "name": "Maximum_Ár"
                                    }
                                ]
                            },
                            "data": [
                                {
                                    "Minimum_Ár": "3",
                                    "Maximum_Ár": "46000"
                                }
                            ]
                        },
                        "text/html": [
                            "<table>",
                            "<tr><th>Minimum_Ár</th><th>Maximum_Ár</th></tr>",
                            "<tr><td>3</td><td>46000</td></tr>",
                            "</table>"
                        ]
                    }
                }
            ],
            "execution_count": 81
        },
        {
            "cell_type": "code",
            "source": [
                "--Kiugró értékek keresése a felvittek oszlopban, százalékos eloszlás\r\n",
                "select FELVITTE , COUNT(*) As Felvitelek_száma, COUNT(*)*100.0 / (select COUNT(*) from Termek) as százalék\r\n",
                "From Termek\r\n",
                "GROUP BY FELVITTE\r\n",
                "ORDER BY COUNT(*) DESC"
            ],
            "metadata": {
                "azdata_cell_guid": "3d00135b-b25a-436a-bdd3-3504247ae564",
                "language": "sql"
            },
            "outputs": [
                {
                    "output_type": "display_data",
                    "data": {
                        "text/html": "(3 rows affected)"
                    },
                    "metadata": {}
                },
                {
                    "output_type": "display_data",
                    "data": {
                        "text/html": "Total execution time: 00:00:00.057"
                    },
                    "metadata": {}
                },
                {
                    "output_type": "execute_result",
                    "metadata": {},
                    "execution_count": 99,
                    "data": {
                        "application/vnd.dataresource+json": {
                            "schema": {
                                "fields": [
                                    {
                                        "name": "FELVITTE"
                                    },
                                    {
                                        "name": "Felvitelek_száma"
                                    },
                                    {
                                        "name": "százalék"
                                    }
                                ]
                            },
                            "data": [
                                {
                                    "FELVITTE": "Béla",
                                    "Felvitelek_száma": "189",
                                    "százalék": "34.301270417422"
                                },
                                {
                                    "FELVITTE": "Sára",
                                    "Felvitelek_száma": "188",
                                    "százalék": "34.119782214156"
                                },
                                {
                                    "FELVITTE": "Mari",
                                    "Felvitelek_száma": "174",
                                    "százalék": "31.578947368421"
                                }
                            ]
                        },
                        "text/html": [
                            "<table>",
                            "<tr><th>FELVITTE</th><th>Felvitelek_száma</th><th>százalék</th></tr>",
                            "<tr><td>Béla</td><td>189</td><td>34.301270417422</td></tr>",
                            "<tr><td>Sára</td><td>188</td><td>34.119782214156</td></tr>",
                            "<tr><td>Mari</td><td>174</td><td>31.578947368421</td></tr>",
                            "</table>"
                        ]
                    }
                }
            ],
            "execution_count": 99
        },
        {
            "cell_type": "code",
            "source": [
                "--Minimum/Maximum Készlet\r\n",
                "\r\n",
                "Select  MIN(KESZLET) As Minimum_készlet,\r\n",
                "        MAX(KESZLET) As Maximum_készlet,\r\n",
                "        AVG(KESZLET) AS Átlagos_készlet\r\n",
                "From Termek"
            ],
            "metadata": {
                "azdata_cell_guid": "814cf518-4714-4e22-8bcf-8c38841a5225",
                "language": "sql"
            },
            "outputs": [
                {
                    "output_type": "display_data",
                    "data": {
                        "text/html": "(1 row affected)"
                    },
                    "metadata": {}
                },
                {
                    "output_type": "display_data",
                    "data": {
                        "text/html": "Total execution time: 00:00:00.124"
                    },
                    "metadata": {}
                },
                {
                    "output_type": "execute_result",
                    "metadata": {},
                    "execution_count": 103,
                    "data": {
                        "application/vnd.dataresource+json": {
                            "schema": {
                                "fields": [
                                    {
                                        "name": "Minimum_készlet"
                                    },
                                    {
                                        "name": "Maximum_készlet"
                                    },
                                    {
                                        "name": "Átlagos_készlet"
                                    }
                                ]
                            },
                            "data": [
                                {
                                    "Minimum_készlet": "0",
                                    "Maximum_készlet": "50000",
                                    "Átlagos_készlet": "1585.9909255898367"
                                }
                            ]
                        },
                        "text/html": [
                            "<table>",
                            "<tr><th>Minimum_készlet</th><th>Maximum_készlet</th><th>Átlagos_készlet</th></tr>",
                            "<tr><td>0</td><td>50000</td><td>1585.9909255898367</td></tr>",
                            "</table>"
                        ]
                    }
                }
            ],
            "execution_count": 103
        }
    ]
}