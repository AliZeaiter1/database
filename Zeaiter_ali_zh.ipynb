{
    "metadata": {
        "kernelspec": {
            "name": "SQL",
            "display_name": "SQL",
            "language": "sql"
        },
        "language_info": {
            "name": "sql",
            "version": ""
        }
    },
    "nbformat_minor": 2,
    "nbformat": 4,
    "cells": [
        {
            "cell_type": "code",
            "source": [
                "--1.feladat\r\n",
                "\r\n",
                "SELECT FOGLALAS_PK, SZOBA_FK,FELNOTT_SZAM,GYERMEK_SZAM\r\n",
                "FROM Foglalas\r\n",
                "WHERE FELNOTT_SZAM>GYERMEK_SZAM AND SZOBA_FK >2\r\n",
                "ORDER by FOGLALAS_PK"
            ],
            "metadata": {
                "azdata_cell_guid": "c8d3c310-181d-4156-b7e4-2a7d8c889f5b",
                "language": "sql",
                "tags": []
            },
            "outputs": [
                {
                    "output_type": "display_data",
                    "data": {
                        "text/html": "(659 rows affected)"
                    },
                    "metadata": {}
                },
                {
                    "output_type": "display_data",
                    "data": {
                        "text/html": "Total execution time: 00:00:00.049"
                    },
                    "metadata": {}
                },
                {
                    "output_type": "execute_result",
                    "metadata": {},
                    "execution_count": 10,
                    "data": {
                        "application/vnd.dataresource+json": {
                            "schema": {
                                "fields": [
                                    {
                                        "name": "FOGLALAS_PK"
                                    },
                                    {
                                        "name": "SZOBA_FK"
                                    },
                                    {
                                        "name": "FELNOTT_SZAM"
                                    },
                                    {
                                        "name": "GYERMEK_SZAM"
                                    }
                                ]
                            },
                            "data": [
                                {
                                    "FOGLALAS_PK": "558",
                                    "SZOBA_FK": "87",
                                    "FELNOTT_SZAM": "2",
                                    "GYERMEK_SZAM": "1"
                                },
                                {
                                    "FOGLALAS_PK": "559",
                                    "SZOBA_FK": "131",
                                    "FELNOTT_SZAM": "2",
                                    "GYERMEK_SZAM": "0"
                                },
                                {
                                    "FOGLALAS_PK": "560",
                                    "SZOBA_FK": "6",
                                    "FELNOTT_SZAM": "2",
                                    "GYERMEK_SZAM": "0"
                                },
                                {
                                    "FOGLALAS_PK": "561",
                                    "SZOBA_FK": "42",
                                    "FELNOTT_SZAM": "2",
                                    "GYERMEK_SZAM": "0"
                                },
                                {
                                    "FOGLALAS_PK": "562",
                                    "SZOBA_FK": "7",
                                    "FELNOTT_SZAM": "1",
                                    "GYERMEK_SZAM": "0"
                                },
                                {
                                    "FOGLALAS_PK": "565",
                                    "SZOBA_FK": "141",
                                    "FELNOTT_SZAM": "2",
                                    "GYERMEK_SZAM": "0"
                                },
                                {
                                    "FOGLALAS_PK": "567",
                                    "SZOBA_FK": "170",
                                    "FELNOTT_SZAM": "1",
                                    "GYERMEK_SZAM": "0"
                                },
                                {
                                    "FOGLALAS_PK": "568",
                                    "SZOBA_FK": "78",
                                    "FELNOTT_SZAM": "2",
                                    "GYERMEK_SZAM": "0"
                                },
                                {
                                    "FOGLALAS_PK": "569",
                                    "SZOBA_FK": "10",
                                    "FELNOTT_SZAM": "2",
                                    "GYERMEK_SZAM": "0"
                                },
                                {
                                    "FOGLALAS_PK": "570",
                                    "SZOBA_FK": "164",
                                    "FELNOTT_SZAM": "2",
                                    "GYERMEK_SZAM": "0"
                                },
                                {
                                    "FOGLALAS_PK": "574",
                                    "SZOBA_FK": "171",
                                    "FELNOTT_SZAM": "2",
                                    "GYERMEK_SZAM": "0"
                                },
                                {
                                    "FOGLALAS_PK": "577",
                                    "SZOBA_FK": "155",
                                    "FELNOTT_SZAM": "2",
                                    "GYERMEK_SZAM": "1"
                                },
                                {
                                    "FOGLALAS_PK": "578",
                                    "SZOBA_FK": "185",
                                    "FELNOTT_SZAM": "2",
                                    "GYERMEK_SZAM": "1"
                                },
                                {
                                    "FOGLALAS_PK": "579",
                                    "SZOBA_FK": "139",
                                    "FELNOTT_SZAM": "2",
                                    "GYERMEK_SZAM": "0"
                                },
                                {
                                    "FOGLALAS_PK": "580",
                                    "SZOBA_FK": "130",
                                    "FELNOTT_SZAM": "2",
                                    "GYERMEK_SZAM": "0"
                                },
                                {
                                    "FOGLALAS_PK": "581",
                                    "SZOBA_FK": "144",
                                    "FELNOTT_SZAM": "2",
                                    "GYERMEK_SZAM": "1"
                                },
                                {
                                    "FOGLALAS_PK": "583",
                                    "SZOBA_FK": "79",
                                    "FELNOTT_SZAM": "3",
                                    "GYERMEK_SZAM": "0"
                                },
                                {
                                    "FOGLALAS_PK": "586",
                                    "SZOBA_FK": "107",
                                    "FELNOTT_SZAM": "1",
                                    "GYERMEK_SZAM": "0"
                                },
                                {
                                    "FOGLALAS_PK": "587",
                                    "SZOBA_FK": "123",
                                    "FELNOTT_SZAM": "1",
                                    "GYERMEK_SZAM": "0"
                                },
                                {
                                    "FOGLALAS_PK": "589",
                                    "SZOBA_FK": "44",
                                    "FELNOTT_SZAM": "3",
                                    "GYERMEK_SZAM": "0"
                                },
                                {
                                    "FOGLALAS_PK": "593",
                                    "SZOBA_FK": "77",
                                    "FELNOTT_SZAM": "3",
                                    "GYERMEK_SZAM": "0"
                                },
                                {
                                    "FOGLALAS_PK": "594",
                                    "SZOBA_FK": "153",
                                    "FELNOTT_SZAM": "2",
                                    "GYERMEK_SZAM": "0"
                                },
                                {
                                    "FOGLALAS_PK": "595",
                                    "SZOBA_FK": "74",
                                    "FELNOTT_SZAM": "2",
                                    "GYERMEK_SZAM": "0"
                                },
                                {
                                    "FOGLALAS_PK": "596",
                                    "SZOBA_FK": "115",
                                    "FELNOTT_SZAM": "3",
                                    "GYERMEK_SZAM": "0"
                                },
                                {
                                    "FOGLALAS_PK": "597",
                                    "SZOBA_FK": "100",
                                    "FELNOTT_SZAM": "2",
                                    "GYERMEK_SZAM": "0"
                                },
                                {
                                    "FOGLALAS_PK": "599",
                                    "SZOBA_FK": "162",
                                    "FELNOTT_SZAM": "3",
                                    "GYERMEK_SZAM": "0"
                                },
                                {
                                    "FOGLALAS_PK": "600",
                                    "SZOBA_FK": "190",
                                    "FELNOTT_SZAM": "1",
                                    "GYERMEK_SZAM": "0"
                                },
                                {
                                    "FOGLALAS_PK": "601",
                                    "SZOBA_FK": "39",
                                    "FELNOTT_SZAM": "1",
                                    "GYERMEK_SZAM": "0"
                                },
                                {
                                    "FOGLALAS_PK": "602",
                                    "SZOBA_FK": "17",
                                    "FELNOTT_SZAM": "3",
                                    "GYERMEK_SZAM": "1"
                                },
                                {
                                    "FOGLALAS_PK": "603",
                                    "SZOBA_FK": "48",
                                    "FELNOTT_SZAM": "3",
                                    "GYERMEK_SZAM": "0"
                                },
                                {
                                    "FOGLALAS_PK": "605",
                                    "SZOBA_FK": "111",
                                    "FELNOTT_SZAM": "2",
                                    "GYERMEK_SZAM": "1"
                                },
                                {
                                    "FOGLALAS_PK": "607",
                                    "SZOBA_FK": "96",
                                    "FELNOTT_SZAM": "2",
                                    "GYERMEK_SZAM": "1"
                                },
                                {
                                    "FOGLALAS_PK": "608",
                                    "SZOBA_FK": "184",
                                    "FELNOTT_SZAM": "2",
                                    "GYERMEK_SZAM": "0"
                                },
                                {
                                    "FOGLALAS_PK": "609",
                                    "SZOBA_FK": "9",
                                    "FELNOTT_SZAM": "2",
                                    "GYERMEK_SZAM": "0"
                                },
                                {
                                    "FOGLALAS_PK": "610",
                                    "SZOBA_FK": "106",
                                    "FELNOTT_SZAM": "1",
                                    "GYERMEK_SZAM": "0"
                                },
                                {
                                    "FOGLALAS_PK": "613",
                                    "SZOBA_FK": "130",
                                    "FELNOTT_SZAM": "2",
                                    "GYERMEK_SZAM": "0"
                                },
                                {
                                    "FOGLALAS_PK": "615",
                                    "SZOBA_FK": "186",
                                    "FELNOTT_SZAM": "2",
                                    "GYERMEK_SZAM": "1"
                                },
                                {
                                    "FOGLALAS_PK": "616",
                                    "SZOBA_FK": "94",
                                    "FELNOTT_SZAM": "2",
                                    "GYERMEK_SZAM": "0"
                                },
                                {
                                    "FOGLALAS_PK": "617",
                                    "SZOBA_FK": "117",
                                    "FELNOTT_SZAM": "2",
                                    "GYERMEK_SZAM": "1"
                                },
                                {
                                    "FOGLALAS_PK": "623",
                                    "SZOBA_FK": "96",
                                    "FELNOTT_SZAM": "3",
                                    "GYERMEK_SZAM": "0"
                                },
                                {
                                    "FOGLALAS_PK": "626",
                                    "SZOBA_FK": "18",
                                    "FELNOTT_SZAM": "2",
                                    "GYERMEK_SZAM": "0"
                                },
                                {
                                    "FOGLALAS_PK": "628",
                                    "SZOBA_FK": "48",
                                    "FELNOTT_SZAM": "3",
                                    "GYERMEK_SZAM": "0"
                                },
                                {
                                    "FOGLALAS_PK": "630",
                                    "SZOBA_FK": "163",
                                    "FELNOTT_SZAM": "2",
                                    "GYERMEK_SZAM": "0"
                                },
                                {
                                    "FOGLALAS_PK": "631",
                                    "SZOBA_FK": "98",
                                    "FELNOTT_SZAM": "1",
                                    "GYERMEK_SZAM": "0"
                                },
                                {
                                    "FOGLALAS_PK": "632",
                                    "SZOBA_FK": "99",
                                    "FELNOTT_SZAM": "2",
                                    "GYERMEK_SZAM": "0"
                                },
                                {
                                    "FOGLALAS_PK": "633",
                                    "SZOBA_FK": "187",
                                    "FELNOTT_SZAM": "2",
                                    "GYERMEK_SZAM": "1"
                                },
                                {
                                    "FOGLALAS_PK": "636",
                                    "SZOBA_FK": "91",
                                    "FELNOTT_SZAM": "2",
                                    "GYERMEK_SZAM": "0"
                                },
                                {
                                    "FOGLALAS_PK": "637",
                                    "SZOBA_FK": "100",
                                    "FELNOTT_SZAM": "2",
                                    "GYERMEK_SZAM": "0"
                                },
                                {
                                    "FOGLALAS_PK": "638",
                                    "SZOBA_FK": "67",
                                    "FELNOTT_SZAM": "1",
                                    "GYERMEK_SZAM": "0"
                                },
                                {
                                    "FOGLALAS_PK": "640",
                                    "SZOBA_FK": "165",
                                    "FELNOTT_SZAM": "2",
                                    "GYERMEK_SZAM": "0"
                                },
                                {
                                    "FOGLALAS_PK": "641",
                                    "SZOBA_FK": "150",
                                    "FELNOTT_SZAM": "2",
                                    "GYERMEK_SZAM": "1"
                                },
                                {
                                    "FOGLALAS_PK": "642",
                                    "SZOBA_FK": "54",
                                    "FELNOTT_SZAM": "2",
                                    "GYERMEK_SZAM": "0"
                                },
                                {
                                    "FOGLALAS_PK": "644",
                                    "SZOBA_FK": "166",
                                    "FELNOTT_SZAM": "2",
                                    "GYERMEK_SZAM": "0"
                                },
                                {
                                    "FOGLALAS_PK": "647",
                                    "SZOBA_FK": "85",
                                    "FELNOTT_SZAM": "2",
                                    "GYERMEK_SZAM": "0"
                                },
                                {
                                    "FOGLALAS_PK": "648",
                                    "SZOBA_FK": "157",
                                    "FELNOTT_SZAM": "1",
                                    "GYERMEK_SZAM": "0"
                                },
                                {
                                    "FOGLALAS_PK": "651",
                                    "SZOBA_FK": "4",
                                    "FELNOTT_SZAM": "1",
                                    "GYERMEK_SZAM": "0"
                                },
                                {
                                    "FOGLALAS_PK": "652",
                                    "SZOBA_FK": "149",
                                    "FELNOTT_SZAM": "1",
                                    "GYERMEK_SZAM": "0"
                                },
                                {
                                    "FOGLALAS_PK": "653",
                                    "SZOBA_FK": "161",
                                    "FELNOTT_SZAM": "2",
                                    "GYERMEK_SZAM": "0"
                                },
                                {
                                    "FOGLALAS_PK": "656",
                                    "SZOBA_FK": "95",
                                    "FELNOTT_SZAM": "2",
                                    "GYERMEK_SZAM": "0"
                                },
                                {
                                    "FOGLALAS_PK": "657",
                                    "SZOBA_FK": "137",
                                    "FELNOTT_SZAM": "1",
                                    "GYERMEK_SZAM": "0"
                                },
                                {
                                    "FOGLALAS_PK": "658",
                                    "SZOBA_FK": "44",
                                    "FELNOTT_SZAM": "3",
                                    "GYERMEK_SZAM": "0"
                                },
                                {
                                    "FOGLALAS_PK": "659",
                                    "SZOBA_FK": "169",
                                    "FELNOTT_SZAM": "2",
                                    "GYERMEK_SZAM": "0"
                                },
                                {
                                    "FOGLALAS_PK": "661",
                                    "SZOBA_FK": "136",
                                    "FELNOTT_SZAM": "1",
                                    "GYERMEK_SZAM": "0"
                                },
                                {
                                    "FOGLALAS_PK": "663",
                                    "SZOBA_FK": "14",
                                    "FELNOTT_SZAM": "3",
                                    "GYERMEK_SZAM": "1"
                                },
                                {
                                    "FOGLALAS_PK": "665",
                                    "SZOBA_FK": "94",
                                    "FELNOTT_SZAM": "2",
                                    "GYERMEK_SZAM": "0"
                                },
                                {
                                    "FOGLALAS_PK": "666",
                                    "SZOBA_FK": "3",
                                    "FELNOTT_SZAM": "2",
                                    "GYERMEK_SZAM": "1"
                                },
                                {
                                    "FOGLALAS_PK": "667",
                                    "SZOBA_FK": "80",
                                    "FELNOTT_SZAM": "2",
                                    "GYERMEK_SZAM": "1"
                                },
                                {
                                    "FOGLALAS_PK": "669",
                                    "SZOBA_FK": "173",
                                    "FELNOTT_SZAM": "1",
                                    "GYERMEK_SZAM": "0"
                                },
                                {
                                    "FOGLALAS_PK": "670",
                                    "SZOBA_FK": "43",
                                    "FELNOTT_SZAM": "2",
                                    "GYERMEK_SZAM": "0"
                                },
                                {
                                    "FOGLALAS_PK": "671",
                                    "SZOBA_FK": "96",
                                    "FELNOTT_SZAM": "3",
                                    "GYERMEK_SZAM": "0"
                                },
                                {
                                    "FOGLALAS_PK": "672",
                                    "SZOBA_FK": "185",
                                    "FELNOTT_SZAM": "3",
                                    "GYERMEK_SZAM": "0"
                                },
                                {
                                    "FOGLALAS_PK": "673",
                                    "SZOBA_FK": "196",
                                    "FELNOTT_SZAM": "2",
                                    "GYERMEK_SZAM": "0"
                                },
                                {
                                    "FOGLALAS_PK": "674",
                                    "SZOBA_FK": "83",
                                    "FELNOTT_SZAM": "2",
                                    "GYERMEK_SZAM": "1"
                                },
                                {
                                    "FOGLALAS_PK": "675",
                                    "SZOBA_FK": "193",
                                    "FELNOTT_SZAM": "3",
                                    "GYERMEK_SZAM": "0"
                                },
                                {
                                    "FOGLALAS_PK": "676",
                                    "SZOBA_FK": "60",
                                    "FELNOTT_SZAM": "2",
                                    "GYERMEK_SZAM": "0"
                                },
                                {
                                    "FOGLALAS_PK": "677",
                                    "SZOBA_FK": "181",
                                    "FELNOTT_SZAM": "3",
                                    "GYERMEK_SZAM": "0"
                                },
                                {
                                    "FOGLALAS_PK": "678",
                                    "SZOBA_FK": "148",
                                    "FELNOTT_SZAM": "2",
                                    "GYERMEK_SZAM": "0"
                                },
                                {
                                    "FOGLALAS_PK": "679",
                                    "SZOBA_FK": "185",
                                    "FELNOTT_SZAM": "2",
                                    "GYERMEK_SZAM": "1"
                                },
                                {
                                    "FOGLALAS_PK": "682",
                                    "SZOBA_FK": "174",
                                    "FELNOTT_SZAM": "2",
                                    "GYERMEK_SZAM": "0"
                                },
                                {
                                    "FOGLALAS_PK": "684",
                                    "SZOBA_FK": "184",
                                    "FELNOTT_SZAM": "1",
                                    "GYERMEK_SZAM": "0"
                                },
                                {
                                    "FOGLALAS_PK": "688",
                                    "SZOBA_FK": "37",
                                    "FELNOTT_SZAM": "2",
                                    "GYERMEK_SZAM": "0"
                                },
                                {
                                    "FOGLALAS_PK": "689",
                                    "SZOBA_FK": "102",
                                    "FELNOTT_SZAM": "1",
                                    "GYERMEK_SZAM": "0"
                                },
                                {
                                    "FOGLALAS_PK": "691",
                                    "SZOBA_FK": "99",
                                    "FELNOTT_SZAM": "2",
                                    "GYERMEK_SZAM": "0"
                                },
                                {
                                    "FOGLALAS_PK": "692",
                                    "SZOBA_FK": "156",
                                    "FELNOTT_SZAM": "2",
                                    "GYERMEK_SZAM": "0"
                                },
                                {
                                    "FOGLALAS_PK": "693",
                                    "SZOBA_FK": "185",
                                    "FELNOTT_SZAM": "2",
                                    "GYERMEK_SZAM": "0"
                                },
                                {
                                    "FOGLALAS_PK": "694",
                                    "SZOBA_FK": "8",
                                    "FELNOTT_SZAM": "2",
                                    "GYERMEK_SZAM": "0"
                                },
                                {
                                    "FOGLALAS_PK": "696",
                                    "SZOBA_FK": "19",
                                    "FELNOTT_SZAM": "2",
                                    "GYERMEK_SZAM": "1"
                                },
                                {
                                    "FOGLALAS_PK": "697",
                                    "SZOBA_FK": "12",
                                    "FELNOTT_SZAM": "1",
                                    "GYERMEK_SZAM": "0"
                                },
                                {
                                    "FOGLALAS_PK": "701",
                                    "SZOBA_FK": "61",
                                    "FELNOTT_SZAM": "2",
                                    "GYERMEK_SZAM": "0"
                                },
                                {
                                    "FOGLALAS_PK": "702",
                                    "SZOBA_FK": "62",
                                    "FELNOTT_SZAM": "1",
                                    "GYERMEK_SZAM": "0"
                                },
                                {
                                    "FOGLALAS_PK": "704",
                                    "SZOBA_FK": "70",
                                    "FELNOTT_SZAM": "2",
                                    "GYERMEK_SZAM": "1"
                                },
                                {
                                    "FOGLALAS_PK": "705",
                                    "SZOBA_FK": "37",
                                    "FELNOTT_SZAM": "1",
                                    "GYERMEK_SZAM": "0"
                                },
                                {
                                    "FOGLALAS_PK": "706",
                                    "SZOBA_FK": "119",
                                    "FELNOTT_SZAM": "2",
                                    "GYERMEK_SZAM": "0"
                                },
                                {
                                    "FOGLALAS_PK": "707",
                                    "SZOBA_FK": "35",
                                    "FELNOTT_SZAM": "2",
                                    "GYERMEK_SZAM": "1"
                                },
                                {
                                    "FOGLALAS_PK": "708",
                                    "SZOBA_FK": "106",
                                    "FELNOTT_SZAM": "1",
                                    "GYERMEK_SZAM": "0"
                                },
                                {
                                    "FOGLALAS_PK": "709",
                                    "SZOBA_FK": "172",
                                    "FELNOTT_SZAM": "1",
                                    "GYERMEK_SZAM": "0"
                                },
                                {
                                    "FOGLALAS_PK": "711",
                                    "SZOBA_FK": "185",
                                    "FELNOTT_SZAM": "3",
                                    "GYERMEK_SZAM": "0"
                                },
                                {
                                    "FOGLALAS_PK": "712",
                                    "SZOBA_FK": "71",
                                    "FELNOTT_SZAM": "2",
                                    "GYERMEK_SZAM": "1"
                                },
                                {
                                    "FOGLALAS_PK": "714",
                                    "SZOBA_FK": "73",
                                    "FELNOTT_SZAM": "2",
                                    "GYERMEK_SZAM": "1"
                                },
                                {
                                    "FOGLALAS_PK": "715",
                                    "SZOBA_FK": "101",
                                    "FELNOTT_SZAM": "2",
                                    "GYERMEK_SZAM": "0"
                                },
                                {
                                    "FOGLALAS_PK": "719",
                                    "SZOBA_FK": "58",
                                    "FELNOTT_SZAM": "2",
                                    "GYERMEK_SZAM": "1"
                                },
                                {
                                    "FOGLALAS_PK": "721",
                                    "SZOBA_FK": "195",
                                    "FELNOTT_SZAM": "2",
                                    "GYERMEK_SZAM": "0"
                                },
                                {
                                    "FOGLALAS_PK": "723",
                                    "SZOBA_FK": "129",
                                    "FELNOTT_SZAM": "2",
                                    "GYERMEK_SZAM": "0"
                                },
                                {
                                    "FOGLALAS_PK": "724",
                                    "SZOBA_FK": "135",
                                    "FELNOTT_SZAM": "2",
                                    "GYERMEK_SZAM": "0"
                                },
                                {
                                    "FOGLALAS_PK": "725",
                                    "SZOBA_FK": "28",
                                    "FELNOTT_SZAM": "2",
                                    "GYERMEK_SZAM": "0"
                                },
                                {
                                    "FOGLALAS_PK": "726",
                                    "SZOBA_FK": "97",
                                    "FELNOTT_SZAM": "3",
                                    "GYERMEK_SZAM": "1"
                                },
                                {
                                    "FOGLALAS_PK": "728",
                                    "SZOBA_FK": "31",
                                    "FELNOTT_SZAM": "3",
                                    "GYERMEK_SZAM": "1"
                                },
                                {
                                    "FOGLALAS_PK": "730",
                                    "SZOBA_FK": "152",
                                    "FELNOTT_SZAM": "2",
                                    "GYERMEK_SZAM": "0"
                                },
                                {
                                    "FOGLALAS_PK": "731",
                                    "SZOBA_FK": "181",
                                    "FELNOTT_SZAM": "3",
                                    "GYERMEK_SZAM": "0"
                                },
                                {
                                    "FOGLALAS_PK": "733",
                                    "SZOBA_FK": "140",
                                    "FELNOTT_SZAM": "1",
                                    "GYERMEK_SZAM": "0"
                                },
                                {
                                    "FOGLALAS_PK": "735",
                                    "SZOBA_FK": "121",
                                    "FELNOTT_SZAM": "2",
                                    "GYERMEK_SZAM": "0"
                                },
                                {
                                    "FOGLALAS_PK": "736",
                                    "SZOBA_FK": "66",
                                    "FELNOTT_SZAM": "2",
                                    "GYERMEK_SZAM": "1"
                                },
                                {
                                    "FOGLALAS_PK": "739",
                                    "SZOBA_FK": "121",
                                    "FELNOTT_SZAM": "2",
                                    "GYERMEK_SZAM": "0"
                                },
                                {
                                    "FOGLALAS_PK": "740",
                                    "SZOBA_FK": "182",
                                    "FELNOTT_SZAM": "2",
                                    "GYERMEK_SZAM": "0"
                                },
                                {
                                    "FOGLALAS_PK": "741",
                                    "SZOBA_FK": "93",
                                    "FELNOTT_SZAM": "3",
                                    "GYERMEK_SZAM": "1"
                                },
                                {
                                    "FOGLALAS_PK": "743",
                                    "SZOBA_FK": "187",
                                    "FELNOTT_SZAM": "2",
                                    "GYERMEK_SZAM": "0"
                                },
                                {
                                    "FOGLALAS_PK": "745",
                                    "SZOBA_FK": "139",
                                    "FELNOTT_SZAM": "2",
                                    "GYERMEK_SZAM": "0"
                                },
                                {
                                    "FOGLALAS_PK": "748",
                                    "SZOBA_FK": "36",
                                    "FELNOTT_SZAM": "3",
                                    "GYERMEK_SZAM": "1"
                                },
                                {
                                    "FOGLALAS_PK": "751",
                                    "SZOBA_FK": "139",
                                    "FELNOTT_SZAM": "2",
                                    "GYERMEK_SZAM": "0"
                                },
                                {
                                    "FOGLALAS_PK": "752",
                                    "SZOBA_FK": "46",
                                    "FELNOTT_SZAM": "2",
                                    "GYERMEK_SZAM": "0"
                                },
                                {
                                    "FOGLALAS_PK": "754",
                                    "SZOBA_FK": "126",
                                    "FELNOTT_SZAM": "2",
                                    "GYERMEK_SZAM": "1"
                                },
                                {
                                    "FOGLALAS_PK": "755",
                                    "SZOBA_FK": "20",
                                    "FELNOTT_SZAM": "1",
                                    "GYERMEK_SZAM": "0"
                                },
                                {
                                    "FOGLALAS_PK": "756",
                                    "SZOBA_FK": "61",
                                    "FELNOTT_SZAM": "3",
                                    "GYERMEK_SZAM": "0"
                                },
                                {
                                    "FOGLALAS_PK": "757",
                                    "SZOBA_FK": "88",
                                    "FELNOTT_SZAM": "1",
                                    "GYERMEK_SZAM": "0"
                                },
                                {
                                    "FOGLALAS_PK": "758",
                                    "SZOBA_FK": "27",
                                    "FELNOTT_SZAM": "3",
                                    "GYERMEK_SZAM": "1"
                                },
                                {
                                    "FOGLALAS_PK": "759",
                                    "SZOBA_FK": "7",
                                    "FELNOTT_SZAM": "2",
                                    "GYERMEK_SZAM": "0"
                                },
                                {
                                    "FOGLALAS_PK": "760",
                                    "SZOBA_FK": "131",
                                    "FELNOTT_SZAM": "2",
                                    "GYERMEK_SZAM": "0"
                                },
                                {
                                    "FOGLALAS_PK": "761",
                                    "SZOBA_FK": "141",
                                    "FELNOTT_SZAM": "2",
                                    "GYERMEK_SZAM": "0"
                                },
                                {
                                    "FOGLALAS_PK": "763",
                                    "SZOBA_FK": "13",
                                    "FELNOTT_SZAM": "3",
                                    "GYERMEK_SZAM": "0"
                                },
                                {
                                    "FOGLALAS_PK": "764",
                                    "SZOBA_FK": "197",
                                    "FELNOTT_SZAM": "2",
                                    "GYERMEK_SZAM": "1"
                                },
                                {
                                    "FOGLALAS_PK": "766",
                                    "SZOBA_FK": "187",
                                    "FELNOTT_SZAM": "2",
                                    "GYERMEK_SZAM": "0"
                                },
                                {
                                    "FOGLALAS_PK": "767",
                                    "SZOBA_FK": "18",
                                    "FELNOTT_SZAM": "2",
                                    "GYERMEK_SZAM": "1"
                                },
                                {
                                    "FOGLALAS_PK": "768",
                                    "SZOBA_FK": "138",
                                    "FELNOTT_SZAM": "3",
                                    "GYERMEK_SZAM": "1"
                                },
                                {
                                    "FOGLALAS_PK": "769",
                                    "SZOBA_FK": "63",
                                    "FELNOTT_SZAM": "2",
                                    "GYERMEK_SZAM": "0"
                                },
                                {
                                    "FOGLALAS_PK": "770",
                                    "SZOBA_FK": "42",
                                    "FELNOTT_SZAM": "2",
                                    "GYERMEK_SZAM": "1"
                                },
                                {
                                    "FOGLALAS_PK": "771",
                                    "SZOBA_FK": "147",
                                    "FELNOTT_SZAM": "2",
                                    "GYERMEK_SZAM": "0"
                                },
                                {
                                    "FOGLALAS_PK": "772",
                                    "SZOBA_FK": "6",
                                    "FELNOTT_SZAM": "3",
                                    "GYERMEK_SZAM": "0"
                                },
                                {
                                    "FOGLALAS_PK": "774",
                                    "SZOBA_FK": "190",
                                    "FELNOTT_SZAM": "2",
                                    "GYERMEK_SZAM": "0"
                                },
                                {
                                    "FOGLALAS_PK": "775",
                                    "SZOBA_FK": "12",
                                    "FELNOTT_SZAM": "2",
                                    "GYERMEK_SZAM": "1"
                                },
                                {
                                    "FOGLALAS_PK": "776",
                                    "SZOBA_FK": "112",
                                    "FELNOTT_SZAM": "3",
                                    "GYERMEK_SZAM": "0"
                                },
                                {
                                    "FOGLALAS_PK": "777",
                                    "SZOBA_FK": "34",
                                    "FELNOTT_SZAM": "2",
                                    "GYERMEK_SZAM": "0"
                                },
                                {
                                    "FOGLALAS_PK": "778",
                                    "SZOBA_FK": "19",
                                    "FELNOTT_SZAM": "2",
                                    "GYERMEK_SZAM": "1"
                                },
                                {
                                    "FOGLALAS_PK": "779",
                                    "SZOBA_FK": "130",
                                    "FELNOTT_SZAM": "1",
                                    "GYERMEK_SZAM": "0"
                                },
                                {
                                    "FOGLALAS_PK": "780",
                                    "SZOBA_FK": "96",
                                    "FELNOTT_SZAM": "2",
                                    "GYERMEK_SZAM": "0"
                                },
                                {
                                    "FOGLALAS_PK": "781",
                                    "SZOBA_FK": "166",
                                    "FELNOTT_SZAM": "1",
                                    "GYERMEK_SZAM": "0"
                                },
                                {
                                    "FOGLALAS_PK": "782",
                                    "SZOBA_FK": "163",
                                    "FELNOTT_SZAM": "1",
                                    "GYERMEK_SZAM": "0"
                                },
                                {
                                    "FOGLALAS_PK": "783",
                                    "SZOBA_FK": "148",
                                    "FELNOTT_SZAM": "2",
                                    "GYERMEK_SZAM": "0"
                                },
                                {
                                    "FOGLALAS_PK": "784",
                                    "SZOBA_FK": "141",
                                    "FELNOTT_SZAM": "2",
                                    "GYERMEK_SZAM": "0"
                                },
                                {
                                    "FOGLALAS_PK": "785",
                                    "SZOBA_FK": "177",
                                    "FELNOTT_SZAM": "3",
                                    "GYERMEK_SZAM": "1"
                                },
                                {
                                    "FOGLALAS_PK": "787",
                                    "SZOBA_FK": "50",
                                    "FELNOTT_SZAM": "1",
                                    "GYERMEK_SZAM": "0"
                                },
                                {
                                    "FOGLALAS_PK": "789",
                                    "SZOBA_FK": "146",
                                    "FELNOTT_SZAM": "3",
                                    "GYERMEK_SZAM": "0"
                                },
                                {
                                    "FOGLALAS_PK": "790",
                                    "SZOBA_FK": "10",
                                    "FELNOTT_SZAM": "1",
                                    "GYERMEK_SZAM": "0"
                                },
                                {
                                    "FOGLALAS_PK": "791",
                                    "SZOBA_FK": "15",
                                    "FELNOTT_SZAM": "2",
                                    "GYERMEK_SZAM": "0"
                                },
                                {
                                    "FOGLALAS_PK": "793",
                                    "SZOBA_FK": "49",
                                    "FELNOTT_SZAM": "3",
                                    "GYERMEK_SZAM": "0"
                                },
                                {
                                    "FOGLALAS_PK": "795",
                                    "SZOBA_FK": "10",
                                    "FELNOTT_SZAM": "3",
                                    "GYERMEK_SZAM": "0"
                                },
                                {
                                    "FOGLALAS_PK": "796",
                                    "SZOBA_FK": "138",
                                    "FELNOTT_SZAM": "3",
                                    "GYERMEK_SZAM": "0"
                                },
                                {
                                    "FOGLALAS_PK": "797",
                                    "SZOBA_FK": "74",
                                    "FELNOTT_SZAM": "3",
                                    "GYERMEK_SZAM": "1"
                                },
                                {
                                    "FOGLALAS_PK": "799",
                                    "SZOBA_FK": "175",
                                    "FELNOTT_SZAM": "1",
                                    "GYERMEK_SZAM": "0"
                                },
                                {
                                    "FOGLALAS_PK": "800",
                                    "SZOBA_FK": "45",
                                    "FELNOTT_SZAM": "2",
                                    "GYERMEK_SZAM": "0"
                                },
                                {
                                    "FOGLALAS_PK": "801",
                                    "SZOBA_FK": "112",
                                    "FELNOTT_SZAM": "3",
                                    "GYERMEK_SZAM": "0"
                                },
                                {
                                    "FOGLALAS_PK": "806",
                                    "SZOBA_FK": "126",
                                    "FELNOTT_SZAM": "2",
                                    "GYERMEK_SZAM": "0"
                                },
                                {
                                    "FOGLALAS_PK": "807",
                                    "SZOBA_FK": "27",
                                    "FELNOTT_SZAM": "2",
                                    "GYERMEK_SZAM": "1"
                                },
                                {
                                    "FOGLALAS_PK": "808",
                                    "SZOBA_FK": "148",
                                    "FELNOTT_SZAM": "2",
                                    "GYERMEK_SZAM": "0"
                                },
                                {
                                    "FOGLALAS_PK": "809",
                                    "SZOBA_FK": "92",
                                    "FELNOTT_SZAM": "3",
                                    "GYERMEK_SZAM": "0"
                                },
                                {
                                    "FOGLALAS_PK": "812",
                                    "SZOBA_FK": "148",
                                    "FELNOTT_SZAM": "2",
                                    "GYERMEK_SZAM": "0"
                                },
                                {
                                    "FOGLALAS_PK": "813",
                                    "SZOBA_FK": "14",
                                    "FELNOTT_SZAM": "2",
                                    "GYERMEK_SZAM": "1"
                                },
                                {
                                    "FOGLALAS_PK": "814",
                                    "SZOBA_FK": "70",
                                    "FELNOTT_SZAM": "2",
                                    "GYERMEK_SZAM": "1"
                                },
                                {
                                    "FOGLALAS_PK": "817",
                                    "SZOBA_FK": "89",
                                    "FELNOTT_SZAM": "3",
                                    "GYERMEK_SZAM": "0"
                                },
                                {
                                    "FOGLALAS_PK": "818",
                                    "SZOBA_FK": "8",
                                    "FELNOTT_SZAM": "1",
                                    "GYERMEK_SZAM": "0"
                                },
                                {
                                    "FOGLALAS_PK": "820",
                                    "SZOBA_FK": "20",
                                    "FELNOTT_SZAM": "3",
                                    "GYERMEK_SZAM": "0"
                                },
                                {
                                    "FOGLALAS_PK": "821",
                                    "SZOBA_FK": "34",
                                    "FELNOTT_SZAM": "2",
                                    "GYERMEK_SZAM": "1"
                                },
                                {
                                    "FOGLALAS_PK": "822",
                                    "SZOBA_FK": "52",
                                    "FELNOTT_SZAM": "2",
                                    "GYERMEK_SZAM": "0"
                                },
                                {
                                    "FOGLALAS_PK": "823",
                                    "SZOBA_FK": "44",
                                    "FELNOTT_SZAM": "3",
                                    "GYERMEK_SZAM": "0"
                                },
                                {
                                    "FOGLALAS_PK": "825",
                                    "SZOBA_FK": "158",
                                    "FELNOTT_SZAM": "2",
                                    "GYERMEK_SZAM": "1"
                                },
                                {
                                    "FOGLALAS_PK": "829",
                                    "SZOBA_FK": "35",
                                    "FELNOTT_SZAM": "3",
                                    "GYERMEK_SZAM": "0"
                                },
                                {
                                    "FOGLALAS_PK": "832",
                                    "SZOBA_FK": "8",
                                    "FELNOTT_SZAM": "2",
                                    "GYERMEK_SZAM": "1"
                                },
                                {
                                    "FOGLALAS_PK": "834",
                                    "SZOBA_FK": "149",
                                    "FELNOTT_SZAM": "1",
                                    "GYERMEK_SZAM": "0"
                                },
                                {
                                    "FOGLALAS_PK": "836",
                                    "SZOBA_FK": "97",
                                    "FELNOTT_SZAM": "2",
                                    "GYERMEK_SZAM": "0"
                                },
                                {
                                    "FOGLALAS_PK": "837",
                                    "SZOBA_FK": "104",
                                    "FELNOTT_SZAM": "3",
                                    "GYERMEK_SZAM": "0"
                                },
                                {
                                    "FOGLALAS_PK": "839",
                                    "SZOBA_FK": "172",
                                    "FELNOTT_SZAM": "1",
                                    "GYERMEK_SZAM": "0"
                                },
                                {
                                    "FOGLALAS_PK": "840",
                                    "SZOBA_FK": "158",
                                    "FELNOTT_SZAM": "2",
                                    "GYERMEK_SZAM": "1"
                                },
                                {
                                    "FOGLALAS_PK": "841",
                                    "SZOBA_FK": "92",
                                    "FELNOTT_SZAM": "3",
                                    "GYERMEK_SZAM": "1"
                                },
                                {
                                    "FOGLALAS_PK": "842",
                                    "SZOBA_FK": "195",
                                    "FELNOTT_SZAM": "2",
                                    "GYERMEK_SZAM": "0"
                                },
                                {
                                    "FOGLALAS_PK": "843",
                                    "SZOBA_FK": "149",
                                    "FELNOTT_SZAM": "2",
                                    "GYERMEK_SZAM": "0"
                                },
                                {
                                    "FOGLALAS_PK": "844",
                                    "SZOBA_FK": "87",
                                    "FELNOTT_SZAM": "3",
                                    "GYERMEK_SZAM": "0"
                                },
                                {
                                    "FOGLALAS_PK": "845",
                                    "SZOBA_FK": "63",
                                    "FELNOTT_SZAM": "1",
                                    "GYERMEK_SZAM": "0"
                                },
                                {
                                    "FOGLALAS_PK": "846",
                                    "SZOBA_FK": "45",
                                    "FELNOTT_SZAM": "1",
                                    "GYERMEK_SZAM": "0"
                                },
                                {
                                    "FOGLALAS_PK": "847",
                                    "SZOBA_FK": "74",
                                    "FELNOTT_SZAM": "2",
                                    "GYERMEK_SZAM": "1"
                                },
                                {
                                    "FOGLALAS_PK": "848",
                                    "SZOBA_FK": "23",
                                    "FELNOTT_SZAM": "2",
                                    "GYERMEK_SZAM": "0"
                                },
                                {
                                    "FOGLALAS_PK": "849",
                                    "SZOBA_FK": "135",
                                    "FELNOTT_SZAM": "2",
                                    "GYERMEK_SZAM": "0"
                                },
                                {
                                    "FOGLALAS_PK": "850",
                                    "SZOBA_FK": "6",
                                    "FELNOTT_SZAM": "3",
                                    "GYERMEK_SZAM": "0"
                                },
                                {
                                    "FOGLALAS_PK": "851",
                                    "SZOBA_FK": "42",
                                    "FELNOTT_SZAM": "2",
                                    "GYERMEK_SZAM": "1"
                                },
                                {
                                    "FOGLALAS_PK": "852",
                                    "SZOBA_FK": "24",
                                    "FELNOTT_SZAM": "1",
                                    "GYERMEK_SZAM": "0"
                                },
                                {
                                    "FOGLALAS_PK": "853",
                                    "SZOBA_FK": "127",
                                    "FELNOTT_SZAM": "2",
                                    "GYERMEK_SZAM": "0"
                                },
                                {
                                    "FOGLALAS_PK": "854",
                                    "SZOBA_FK": "167",
                                    "FELNOTT_SZAM": "1",
                                    "GYERMEK_SZAM": "0"
                                },
                                {
                                    "FOGLALAS_PK": "857",
                                    "SZOBA_FK": "165",
                                    "FELNOTT_SZAM": "1",
                                    "GYERMEK_SZAM": "0"
                                },
                                {
                                    "FOGLALAS_PK": "858",
                                    "SZOBA_FK": "121",
                                    "FELNOTT_SZAM": "1",
                                    "GYERMEK_SZAM": "0"
                                },
                                {
                                    "FOGLALAS_PK": "859",
                                    "SZOBA_FK": "86",
                                    "FELNOTT_SZAM": "2",
                                    "GYERMEK_SZAM": "1"
                                },
                                {
                                    "FOGLALAS_PK": "860",
                                    "SZOBA_FK": "70",
                                    "FELNOTT_SZAM": "1",
                                    "GYERMEK_SZAM": "0"
                                },
                                {
                                    "FOGLALAS_PK": "861",
                                    "SZOBA_FK": "124",
                                    "FELNOTT_SZAM": "2",
                                    "GYERMEK_SZAM": "1"
                                },
                                {
                                    "FOGLALAS_PK": "862",
                                    "SZOBA_FK": "82",
                                    "FELNOTT_SZAM": "2",
                                    "GYERMEK_SZAM": "1"
                                },
                                {
                                    "FOGLALAS_PK": "863",
                                    "SZOBA_FK": "185",
                                    "FELNOTT_SZAM": "2",
                                    "GYERMEK_SZAM": "1"
                                },
                                {
                                    "FOGLALAS_PK": "864",
                                    "SZOBA_FK": "118",
                                    "FELNOTT_SZAM": "2",
                                    "GYERMEK_SZAM": "0"
                                },
                                {
                                    "FOGLALAS_PK": "865",
                                    "SZOBA_FK": "51",
                                    "FELNOTT_SZAM": "2",
                                    "GYERMEK_SZAM": "0"
                                },
                                {
                                    "FOGLALAS_PK": "867",
                                    "SZOBA_FK": "175",
                                    "FELNOTT_SZAM": "1",
                                    "GYERMEK_SZAM": "0"
                                },
                                {
                                    "FOGLALAS_PK": "868",
                                    "SZOBA_FK": "187",
                                    "FELNOTT_SZAM": "3",
                                    "GYERMEK_SZAM": "1"
                                },
                                {
                                    "FOGLALAS_PK": "869",
                                    "SZOBA_FK": "83",
                                    "FELNOTT_SZAM": "3",
                                    "GYERMEK_SZAM": "0"
                                },
                                {
                                    "FOGLALAS_PK": "871",
                                    "SZOBA_FK": "82",
                                    "FELNOTT_SZAM": "3",
                                    "GYERMEK_SZAM": "0"
                                },
                                {
                                    "FOGLALAS_PK": "872",
                                    "SZOBA_FK": "28",
                                    "FELNOTT_SZAM": "1",
                                    "GYERMEK_SZAM": "0"
                                },
                                {
                                    "FOGLALAS_PK": "873",
                                    "SZOBA_FK": "6",
                                    "FELNOTT_SZAM": "2",
                                    "GYERMEK_SZAM": "0"
                                },
                                {
                                    "FOGLALAS_PK": "874",
                                    "SZOBA_FK": "67",
                                    "FELNOTT_SZAM": "2",
                                    "GYERMEK_SZAM": "0"
                                },
                                {
                                    "FOGLALAS_PK": "875",
                                    "SZOBA_FK": "64",
                                    "FELNOTT_SZAM": "2",
                                    "GYERMEK_SZAM": "0"
                                },
                                {
                                    "FOGLALAS_PK": "877",
                                    "SZOBA_FK": "74",
                                    "FELNOTT_SZAM": "3",
                                    "GYERMEK_SZAM": "0"
                                },
                                {
                                    "FOGLALAS_PK": "878",
                                    "SZOBA_FK": "83",
                                    "FELNOTT_SZAM": "1",
                                    "GYERMEK_SZAM": "0"
                                },
                                {
                                    "FOGLALAS_PK": "879",
                                    "SZOBA_FK": "127",
                                    "FELNOTT_SZAM": "2",
                                    "GYERMEK_SZAM": "0"
                                },
                                {
                                    "FOGLALAS_PK": "880",
                                    "SZOBA_FK": "184",
                                    "FELNOTT_SZAM": "1",
                                    "GYERMEK_SZAM": "0"
                                },
                                {
                                    "FOGLALAS_PK": "881",
                                    "SZOBA_FK": "131",
                                    "FELNOTT_SZAM": "1",
                                    "GYERMEK_SZAM": "0"
                                },
                                {
                                    "FOGLALAS_PK": "882",
                                    "SZOBA_FK": "8",
                                    "FELNOTT_SZAM": "2",
                                    "GYERMEK_SZAM": "0"
                                },
                                {
                                    "FOGLALAS_PK": "884",
                                    "SZOBA_FK": "98",
                                    "FELNOTT_SZAM": "1",
                                    "GYERMEK_SZAM": "0"
                                },
                                {
                                    "FOGLALAS_PK": "885",
                                    "SZOBA_FK": "69",
                                    "FELNOTT_SZAM": "3",
                                    "GYERMEK_SZAM": "0"
                                },
                                {
                                    "FOGLALAS_PK": "887",
                                    "SZOBA_FK": "80",
                                    "FELNOTT_SZAM": "2",
                                    "GYERMEK_SZAM": "0"
                                },
                                {
                                    "FOGLALAS_PK": "889",
                                    "SZOBA_FK": "54",
                                    "FELNOTT_SZAM": "2",
                                    "GYERMEK_SZAM": "0"
                                },
                                {
                                    "FOGLALAS_PK": "890",
                                    "SZOBA_FK": "146",
                                    "FELNOTT_SZAM": "2",
                                    "GYERMEK_SZAM": "1"
                                },
                                {
                                    "FOGLALAS_PK": "891",
                                    "SZOBA_FK": "63",
                                    "FELNOTT_SZAM": "1",
                                    "GYERMEK_SZAM": "0"
                                },
                                {
                                    "FOGLALAS_PK": "892",
                                    "SZOBA_FK": "165",
                                    "FELNOTT_SZAM": "1",
                                    "GYERMEK_SZAM": "0"
                                },
                                {
                                    "FOGLALAS_PK": "893",
                                    "SZOBA_FK": "151",
                                    "FELNOTT_SZAM": "1",
                                    "GYERMEK_SZAM": "0"
                                },
                                {
                                    "FOGLALAS_PK": "894",
                                    "SZOBA_FK": "29",
                                    "FELNOTT_SZAM": "2",
                                    "GYERMEK_SZAM": "0"
                                },
                                {
                                    "FOGLALAS_PK": "895",
                                    "SZOBA_FK": "36",
                                    "FELNOTT_SZAM": "3",
                                    "GYERMEK_SZAM": "2"
                                },
                                {
                                    "FOGLALAS_PK": "897",
                                    "SZOBA_FK": "165",
                                    "FELNOTT_SZAM": "1",
                                    "GYERMEK_SZAM": "0"
                                },
                                {
                                    "FOGLALAS_PK": "901",
                                    "SZOBA_FK": "28",
                                    "FELNOTT_SZAM": "2",
                                    "GYERMEK_SZAM": "0"
                                },
                                {
                                    "FOGLALAS_PK": "903",
                                    "SZOBA_FK": "192",
                                    "FELNOTT_SZAM": "2",
                                    "GYERMEK_SZAM": "1"
                                },
                                {
                                    "FOGLALAS_PK": "904",
                                    "SZOBA_FK": "34",
                                    "FELNOTT_SZAM": "1",
                                    "GYERMEK_SZAM": "0"
                                },
                                {
                                    "FOGLALAS_PK": "910",
                                    "SZOBA_FK": "130",
                                    "FELNOTT_SZAM": "2",
                                    "GYERMEK_SZAM": "0"
                                },
                                {
                                    "FOGLALAS_PK": "912",
                                    "SZOBA_FK": "188",
                                    "FELNOTT_SZAM": "3",
                                    "GYERMEK_SZAM": "0"
                                },
                                {
                                    "FOGLALAS_PK": "914",
                                    "SZOBA_FK": "48",
                                    "FELNOTT_SZAM": "3",
                                    "GYERMEK_SZAM": "0"
                                },
                                {
                                    "FOGLALAS_PK": "915",
                                    "SZOBA_FK": "140",
                                    "FELNOTT_SZAM": "2",
                                    "GYERMEK_SZAM": "0"
                                },
                                {
                                    "FOGLALAS_PK": "917",
                                    "SZOBA_FK": "174",
                                    "FELNOTT_SZAM": "2",
                                    "GYERMEK_SZAM": "0"
                                },
                                {
                                    "FOGLALAS_PK": "918",
                                    "SZOBA_FK": "11",
                                    "FELNOTT_SZAM": "2",
                                    "GYERMEK_SZAM": "1"
                                },
                                {
                                    "FOGLALAS_PK": "919",
                                    "SZOBA_FK": "36",
                                    "FELNOTT_SZAM": "3",
                                    "GYERMEK_SZAM": "1"
                                },
                                {
                                    "FOGLALAS_PK": "920",
                                    "SZOBA_FK": "32",
                                    "FELNOTT_SZAM": "2",
                                    "GYERMEK_SZAM": "0"
                                },
                                {
                                    "FOGLALAS_PK": "921",
                                    "SZOBA_FK": "112",
                                    "FELNOTT_SZAM": "2",
                                    "GYERMEK_SZAM": "1"
                                },
                                {
                                    "FOGLALAS_PK": "923",
                                    "SZOBA_FK": "123",
                                    "FELNOTT_SZAM": "1",
                                    "GYERMEK_SZAM": "0"
                                },
                                {
                                    "FOGLALAS_PK": "924",
                                    "SZOBA_FK": "40",
                                    "FELNOTT_SZAM": "2",
                                    "GYERMEK_SZAM": "1"
                                },
                                {
                                    "FOGLALAS_PK": "925",
                                    "SZOBA_FK": "185",
                                    "FELNOTT_SZAM": "2",
                                    "GYERMEK_SZAM": "1"
                                },
                                {
                                    "FOGLALAS_PK": "928",
                                    "SZOBA_FK": "182",
                                    "FELNOTT_SZAM": "2",
                                    "GYERMEK_SZAM": "0"
                                },
                                {
                                    "FOGLALAS_PK": "929",
                                    "SZOBA_FK": "80",
                                    "FELNOTT_SZAM": "2",
                                    "GYERMEK_SZAM": "0"
                                },
                                {
                                    "FOGLALAS_PK": "931",
                                    "SZOBA_FK": "110",
                                    "FELNOTT_SZAM": "2",
                                    "GYERMEK_SZAM": "0"
                                },
                                {
                                    "FOGLALAS_PK": "933",
                                    "SZOBA_FK": "160",
                                    "FELNOTT_SZAM": "2",
                                    "GYERMEK_SZAM": "1"
                                },
                                {
                                    "FOGLALAS_PK": "934",
                                    "SZOBA_FK": "23",
                                    "FELNOTT_SZAM": "2",
                                    "GYERMEK_SZAM": "0"
                                },
                                {
                                    "FOGLALAS_PK": "935",
                                    "SZOBA_FK": "56",
                                    "FELNOTT_SZAM": "1",
                                    "GYERMEK_SZAM": "0"
                                },
                                {
                                    "FOGLALAS_PK": "936",
                                    "SZOBA_FK": "62",
                                    "FELNOTT_SZAM": "2",
                                    "GYERMEK_SZAM": "0"
                                },
                                {
                                    "FOGLALAS_PK": "939",
                                    "SZOBA_FK": "183",
                                    "FELNOTT_SZAM": "3",
                                    "GYERMEK_SZAM": "0"
                                },
                                {
                                    "FOGLALAS_PK": "940",
                                    "SZOBA_FK": "74",
                                    "FELNOTT_SZAM": "3",
                                    "GYERMEK_SZAM": "1"
                                },
                                {
                                    "FOGLALAS_PK": "941",
                                    "SZOBA_FK": "163",
                                    "FELNOTT_SZAM": "2",
                                    "GYERMEK_SZAM": "0"
                                },
                                {
                                    "FOGLALAS_PK": "942",
                                    "SZOBA_FK": "92",
                                    "FELNOTT_SZAM": "3",
                                    "GYERMEK_SZAM": "1"
                                },
                                {
                                    "FOGLALAS_PK": "943",
                                    "SZOBA_FK": "115",
                                    "FELNOTT_SZAM": "3",
                                    "GYERMEK_SZAM": "0"
                                },
                                {
                                    "FOGLALAS_PK": "944",
                                    "SZOBA_FK": "170",
                                    "FELNOTT_SZAM": "2",
                                    "GYERMEK_SZAM": "0"
                                },
                                {
                                    "FOGLALAS_PK": "945",
                                    "SZOBA_FK": "23",
                                    "FELNOTT_SZAM": "1",
                                    "GYERMEK_SZAM": "0"
                                },
                                {
                                    "FOGLALAS_PK": "946",
                                    "SZOBA_FK": "4",
                                    "FELNOTT_SZAM": "2",
                                    "GYERMEK_SZAM": "0"
                                },
                                {
                                    "FOGLALAS_PK": "947",
                                    "SZOBA_FK": "8",
                                    "FELNOTT_SZAM": "3",
                                    "GYERMEK_SZAM": "0"
                                },
                                {
                                    "FOGLALAS_PK": "948",
                                    "SZOBA_FK": "19",
                                    "FELNOTT_SZAM": "1",
                                    "GYERMEK_SZAM": "0"
                                },
                                {
                                    "FOGLALAS_PK": "950",
                                    "SZOBA_FK": "66",
                                    "FELNOTT_SZAM": "3",
                                    "GYERMEK_SZAM": "0"
                                },
                                {
                                    "FOGLALAS_PK": "951",
                                    "SZOBA_FK": "12",
                                    "FELNOTT_SZAM": "2",
                                    "GYERMEK_SZAM": "0"
                                },
                                {
                                    "FOGLALAS_PK": "953",
                                    "SZOBA_FK": "117",
                                    "FELNOTT_SZAM": "2",
                                    "GYERMEK_SZAM": "1"
                                },
                                {
                                    "FOGLALAS_PK": "954",
                                    "SZOBA_FK": "84",
                                    "FELNOTT_SZAM": "1",
                                    "GYERMEK_SZAM": "0"
                                },
                                {
                                    "FOGLALAS_PK": "955",
                                    "SZOBA_FK": "47",
                                    "FELNOTT_SZAM": "1",
                                    "GYERMEK_SZAM": "0"
                                },
                                {
                                    "FOGLALAS_PK": "957",
                                    "SZOBA_FK": "187",
                                    "FELNOTT_SZAM": "3",
                                    "GYERMEK_SZAM": "0"
                                },
                                {
                                    "FOGLALAS_PK": "958",
                                    "SZOBA_FK": "181",
                                    "FELNOTT_SZAM": "2",
                                    "GYERMEK_SZAM": "1"
                                },
                                {
                                    "FOGLALAS_PK": "961",
                                    "SZOBA_FK": "72",
                                    "FELNOTT_SZAM": "2",
                                    "GYERMEK_SZAM": "0"
                                },
                                {
                                    "FOGLALAS_PK": "963",
                                    "SZOBA_FK": "74",
                                    "FELNOTT_SZAM": "3",
                                    "GYERMEK_SZAM": "1"
                                },
                                {
                                    "FOGLALAS_PK": "964",
                                    "SZOBA_FK": "110",
                                    "FELNOTT_SZAM": "2",
                                    "GYERMEK_SZAM": "0"
                                },
                                {
                                    "FOGLALAS_PK": "965",
                                    "SZOBA_FK": "5",
                                    "FELNOTT_SZAM": "1",
                                    "GYERMEK_SZAM": "0"
                                },
                                {
                                    "FOGLALAS_PK": "967",
                                    "SZOBA_FK": "123",
                                    "FELNOTT_SZAM": "3",
                                    "GYERMEK_SZAM": "0"
                                },
                                {
                                    "FOGLALAS_PK": "968",
                                    "SZOBA_FK": "154",
                                    "FELNOTT_SZAM": "2",
                                    "GYERMEK_SZAM": "0"
                                },
                                {
                                    "FOGLALAS_PK": "969",
                                    "SZOBA_FK": "153",
                                    "FELNOTT_SZAM": "3",
                                    "GYERMEK_SZAM": "0"
                                },
                                {
                                    "FOGLALAS_PK": "974",
                                    "SZOBA_FK": "169",
                                    "FELNOTT_SZAM": "1",
                                    "GYERMEK_SZAM": "0"
                                },
                                {
                                    "FOGLALAS_PK": "975",
                                    "SZOBA_FK": "94",
                                    "FELNOTT_SZAM": "2",
                                    "GYERMEK_SZAM": "0"
                                },
                                {
                                    "FOGLALAS_PK": "976",
                                    "SZOBA_FK": "76",
                                    "FELNOTT_SZAM": "1",
                                    "GYERMEK_SZAM": "0"
                                },
                                {
                                    "FOGLALAS_PK": "977",
                                    "SZOBA_FK": "193",
                                    "FELNOTT_SZAM": "3",
                                    "GYERMEK_SZAM": "2"
                                },
                                {
                                    "FOGLALAS_PK": "978",
                                    "SZOBA_FK": "198",
                                    "FELNOTT_SZAM": "3",
                                    "GYERMEK_SZAM": "0"
                                },
                                {
                                    "FOGLALAS_PK": "980",
                                    "SZOBA_FK": "143",
                                    "FELNOTT_SZAM": "1",
                                    "GYERMEK_SZAM": "0"
                                },
                                {
                                    "FOGLALAS_PK": "981",
                                    "SZOBA_FK": "171",
                                    "FELNOTT_SZAM": "1",
                                    "GYERMEK_SZAM": "0"
                                },
                                {
                                    "FOGLALAS_PK": "983",
                                    "SZOBA_FK": "80",
                                    "FELNOTT_SZAM": "2",
                                    "GYERMEK_SZAM": "0"
                                },
                                {
                                    "FOGLALAS_PK": "986",
                                    "SZOBA_FK": "48",
                                    "FELNOTT_SZAM": "2",
                                    "GYERMEK_SZAM": "1"
                                },
                                {
                                    "FOGLALAS_PK": "989",
                                    "SZOBA_FK": "190",
                                    "FELNOTT_SZAM": "2",
                                    "GYERMEK_SZAM": "0"
                                },
                                {
                                    "FOGLALAS_PK": "990",
                                    "SZOBA_FK": "6",
                                    "FELNOTT_SZAM": "1",
                                    "GYERMEK_SZAM": "0"
                                },
                                {
                                    "FOGLALAS_PK": "992",
                                    "SZOBA_FK": "103",
                                    "FELNOTT_SZAM": "2",
                                    "GYERMEK_SZAM": "0"
                                },
                                {
                                    "FOGLALAS_PK": "993",
                                    "SZOBA_FK": "197",
                                    "FELNOTT_SZAM": "3",
                                    "GYERMEK_SZAM": "0"
                                },
                                {
                                    "FOGLALAS_PK": "995",
                                    "SZOBA_FK": "83",
                                    "FELNOTT_SZAM": "3",
                                    "GYERMEK_SZAM": "0"
                                },
                                {
                                    "FOGLALAS_PK": "997",
                                    "SZOBA_FK": "82",
                                    "FELNOTT_SZAM": "1",
                                    "GYERMEK_SZAM": "0"
                                },
                                {
                                    "FOGLALAS_PK": "999",
                                    "SZOBA_FK": "132",
                                    "FELNOTT_SZAM": "2",
                                    "GYERMEK_SZAM": "0"
                                },
                                {
                                    "FOGLALAS_PK": "1000",
                                    "SZOBA_FK": "73",
                                    "FELNOTT_SZAM": "2",
                                    "GYERMEK_SZAM": "0"
                                },
                                {
                                    "FOGLALAS_PK": "1001",
                                    "SZOBA_FK": "4",
                                    "FELNOTT_SZAM": "1",
                                    "GYERMEK_SZAM": "0"
                                },
                                {
                                    "FOGLALAS_PK": "1003",
                                    "SZOBA_FK": "36",
                                    "FELNOTT_SZAM": "2",
                                    "GYERMEK_SZAM": "0"
                                },
                                {
                                    "FOGLALAS_PK": "1005",
                                    "SZOBA_FK": "22",
                                    "FELNOTT_SZAM": "1",
                                    "GYERMEK_SZAM": "0"
                                },
                                {
                                    "FOGLALAS_PK": "1006",
                                    "SZOBA_FK": "70",
                                    "FELNOTT_SZAM": "1",
                                    "GYERMEK_SZAM": "0"
                                },
                                {
                                    "FOGLALAS_PK": "1007",
                                    "SZOBA_FK": "122",
                                    "FELNOTT_SZAM": "2",
                                    "GYERMEK_SZAM": "1"
                                },
                                {
                                    "FOGLALAS_PK": "1008",
                                    "SZOBA_FK": "182",
                                    "FELNOTT_SZAM": "2",
                                    "GYERMEK_SZAM": "0"
                                },
                                {
                                    "FOGLALAS_PK": "1009",
                                    "SZOBA_FK": "71",
                                    "FELNOTT_SZAM": "2",
                                    "GYERMEK_SZAM": "1"
                                },
                                {
                                    "FOGLALAS_PK": "1010",
                                    "SZOBA_FK": "164",
                                    "FELNOTT_SZAM": "2",
                                    "GYERMEK_SZAM": "0"
                                },
                                {
                                    "FOGLALAS_PK": "1011",
                                    "SZOBA_FK": "198",
                                    "FELNOTT_SZAM": "3",
                                    "GYERMEK_SZAM": "0"
                                },
                                {
                                    "FOGLALAS_PK": "1012",
                                    "SZOBA_FK": "33",
                                    "FELNOTT_SZAM": "2",
                                    "GYERMEK_SZAM": "1"
                                },
                                {
                                    "FOGLALAS_PK": "1013",
                                    "SZOBA_FK": "75",
                                    "FELNOTT_SZAM": "2",
                                    "GYERMEK_SZAM": "0"
                                },
                                {
                                    "FOGLALAS_PK": "1014",
                                    "SZOBA_FK": "137",
                                    "FELNOTT_SZAM": "2",
                                    "GYERMEK_SZAM": "0"
                                },
                                {
                                    "FOGLALAS_PK": "1015",
                                    "SZOBA_FK": "174",
                                    "FELNOTT_SZAM": "1",
                                    "GYERMEK_SZAM": "0"
                                },
                                {
                                    "FOGLALAS_PK": "1016",
                                    "SZOBA_FK": "92",
                                    "FELNOTT_SZAM": "3",
                                    "GYERMEK_SZAM": "0"
                                },
                                {
                                    "FOGLALAS_PK": "1017",
                                    "SZOBA_FK": "190",
                                    "FELNOTT_SZAM": "1",
                                    "GYERMEK_SZAM": "0"
                                },
                                {
                                    "FOGLALAS_PK": "1018",
                                    "SZOBA_FK": "40",
                                    "FELNOTT_SZAM": "1",
                                    "GYERMEK_SZAM": "0"
                                },
                                {
                                    "FOGLALAS_PK": "1020",
                                    "SZOBA_FK": "12",
                                    "FELNOTT_SZAM": "2",
                                    "GYERMEK_SZAM": "1"
                                },
                                {
                                    "FOGLALAS_PK": "1021",
                                    "SZOBA_FK": "179",
                                    "FELNOTT_SZAM": "3",
                                    "GYERMEK_SZAM": "1"
                                },
                                {
                                    "FOGLALAS_PK": "1022",
                                    "SZOBA_FK": "181",
                                    "FELNOTT_SZAM": "3",
                                    "GYERMEK_SZAM": "0"
                                },
                                {
                                    "FOGLALAS_PK": "1023",
                                    "SZOBA_FK": "30",
                                    "FELNOTT_SZAM": "3",
                                    "GYERMEK_SZAM": "0"
                                },
                                {
                                    "FOGLALAS_PK": "1024",
                                    "SZOBA_FK": "134",
                                    "FELNOTT_SZAM": "2",
                                    "GYERMEK_SZAM": "1"
                                },
                                {
                                    "FOGLALAS_PK": "1026",
                                    "SZOBA_FK": "119",
                                    "FELNOTT_SZAM": "1",
                                    "GYERMEK_SZAM": "0"
                                },
                                {
                                    "FOGLALAS_PK": "1028",
                                    "SZOBA_FK": "15",
                                    "FELNOTT_SZAM": "2",
                                    "GYERMEK_SZAM": "1"
                                },
                                {
                                    "FOGLALAS_PK": "1030",
                                    "SZOBA_FK": "188",
                                    "FELNOTT_SZAM": "3",
                                    "GYERMEK_SZAM": "0"
                                },
                                {
                                    "FOGLALAS_PK": "1032",
                                    "SZOBA_FK": "146",
                                    "FELNOTT_SZAM": "2",
                                    "GYERMEK_SZAM": "1"
                                },
                                {
                                    "FOGLALAS_PK": "1034",
                                    "SZOBA_FK": "127",
                                    "FELNOTT_SZAM": "1",
                                    "GYERMEK_SZAM": "0"
                                },
                                {
                                    "FOGLALAS_PK": "1035",
                                    "SZOBA_FK": "18",
                                    "FELNOTT_SZAM": "2",
                                    "GYERMEK_SZAM": "1"
                                },
                                {
                                    "FOGLALAS_PK": "1036",
                                    "SZOBA_FK": "122",
                                    "FELNOTT_SZAM": "3",
                                    "GYERMEK_SZAM": "1"
                                },
                                {
                                    "FOGLALAS_PK": "1037",
                                    "SZOBA_FK": "89",
                                    "FELNOTT_SZAM": "2",
                                    "GYERMEK_SZAM": "0"
                                },
                                {
                                    "FOGLALAS_PK": "1044",
                                    "SZOBA_FK": "13",
                                    "FELNOTT_SZAM": "3",
                                    "GYERMEK_SZAM": "0"
                                },
                                {
                                    "FOGLALAS_PK": "1045",
                                    "SZOBA_FK": "134",
                                    "FELNOTT_SZAM": "2",
                                    "GYERMEK_SZAM": "1"
                                },
                                {
                                    "FOGLALAS_PK": "1046",
                                    "SZOBA_FK": "136",
                                    "FELNOTT_SZAM": "2",
                                    "GYERMEK_SZAM": "0"
                                },
                                {
                                    "FOGLALAS_PK": "1047",
                                    "SZOBA_FK": "157",
                                    "FELNOTT_SZAM": "2",
                                    "GYERMEK_SZAM": "0"
                                },
                                {
                                    "FOGLALAS_PK": "1048",
                                    "SZOBA_FK": "95",
                                    "FELNOTT_SZAM": "1",
                                    "GYERMEK_SZAM": "0"
                                },
                                {
                                    "FOGLALAS_PK": "1050",
                                    "SZOBA_FK": "98",
                                    "FELNOTT_SZAM": "2",
                                    "GYERMEK_SZAM": "0"
                                },
                                {
                                    "FOGLALAS_PK": "1054",
                                    "SZOBA_FK": "79",
                                    "FELNOTT_SZAM": "3",
                                    "GYERMEK_SZAM": "0"
                                },
                                {
                                    "FOGLALAS_PK": "1056",
                                    "SZOBA_FK": "47",
                                    "FELNOTT_SZAM": "1",
                                    "GYERMEK_SZAM": "0"
                                },
                                {
                                    "FOGLALAS_PK": "1057",
                                    "SZOBA_FK": "86",
                                    "FELNOTT_SZAM": "1",
                                    "GYERMEK_SZAM": "0"
                                },
                                {
                                    "FOGLALAS_PK": "1058",
                                    "SZOBA_FK": "151",
                                    "FELNOTT_SZAM": "2",
                                    "GYERMEK_SZAM": "0"
                                },
                                {
                                    "FOGLALAS_PK": "1063",
                                    "SZOBA_FK": "50",
                                    "FELNOTT_SZAM": "2",
                                    "GYERMEK_SZAM": "0"
                                },
                                {
                                    "FOGLALAS_PK": "1064",
                                    "SZOBA_FK": "139",
                                    "FELNOTT_SZAM": "2",
                                    "GYERMEK_SZAM": "1"
                                },
                                {
                                    "FOGLALAS_PK": "1065",
                                    "SZOBA_FK": "198",
                                    "FELNOTT_SZAM": "3",
                                    "GYERMEK_SZAM": "0"
                                },
                                {
                                    "FOGLALAS_PK": "1066",
                                    "SZOBA_FK": "49",
                                    "FELNOTT_SZAM": "1",
                                    "GYERMEK_SZAM": "0"
                                },
                                {
                                    "FOGLALAS_PK": "1067",
                                    "SZOBA_FK": "183",
                                    "FELNOTT_SZAM": "2",
                                    "GYERMEK_SZAM": "0"
                                },
                                {
                                    "FOGLALAS_PK": "1070",
                                    "SZOBA_FK": "20",
                                    "FELNOTT_SZAM": "3",
                                    "GYERMEK_SZAM": "0"
                                },
                                {
                                    "FOGLALAS_PK": "1072",
                                    "SZOBA_FK": "99",
                                    "FELNOTT_SZAM": "2",
                                    "GYERMEK_SZAM": "0"
                                },
                                {
                                    "FOGLALAS_PK": "1073",
                                    "SZOBA_FK": "5",
                                    "FELNOTT_SZAM": "2",
                                    "GYERMEK_SZAM": "0"
                                },
                                {
                                    "FOGLALAS_PK": "1074",
                                    "SZOBA_FK": "195",
                                    "FELNOTT_SZAM": "1",
                                    "GYERMEK_SZAM": "0"
                                },
                                {
                                    "FOGLALAS_PK": "1075",
                                    "SZOBA_FK": "163",
                                    "FELNOTT_SZAM": "2",
                                    "GYERMEK_SZAM": "0"
                                },
                                {
                                    "FOGLALAS_PK": "1076",
                                    "SZOBA_FK": "29",
                                    "FELNOTT_SZAM": "2",
                                    "GYERMEK_SZAM": "0"
                                },
                                {
                                    "FOGLALAS_PK": "1078",
                                    "SZOBA_FK": "38",
                                    "FELNOTT_SZAM": "2",
                                    "GYERMEK_SZAM": "1"
                                },
                                {
                                    "FOGLALAS_PK": "1079",
                                    "SZOBA_FK": "86",
                                    "FELNOTT_SZAM": "1",
                                    "GYERMEK_SZAM": "0"
                                },
                                {
                                    "FOGLALAS_PK": "1083",
                                    "SZOBA_FK": "109",
                                    "FELNOTT_SZAM": "2",
                                    "GYERMEK_SZAM": "1"
                                },
                                {
                                    "FOGLALAS_PK": "1084",
                                    "SZOBA_FK": "59",
                                    "FELNOTT_SZAM": "2",
                                    "GYERMEK_SZAM": "0"
                                },
                                {
                                    "FOGLALAS_PK": "1085",
                                    "SZOBA_FK": "113",
                                    "FELNOTT_SZAM": "3",
                                    "GYERMEK_SZAM": "1"
                                },
                                {
                                    "FOGLALAS_PK": "1087",
                                    "SZOBA_FK": "144",
                                    "FELNOTT_SZAM": "3",
                                    "GYERMEK_SZAM": "0"
                                },
                                {
                                    "FOGLALAS_PK": "1088",
                                    "SZOBA_FK": "43",
                                    "FELNOTT_SZAM": "3",
                                    "GYERMEK_SZAM": "0"
                                },
                                {
                                    "FOGLALAS_PK": "1091",
                                    "SZOBA_FK": "197",
                                    "FELNOTT_SZAM": "3",
                                    "GYERMEK_SZAM": "0"
                                },
                                {
                                    "FOGLALAS_PK": "1092",
                                    "SZOBA_FK": "70",
                                    "FELNOTT_SZAM": "2",
                                    "GYERMEK_SZAM": "0"
                                },
                                {
                                    "FOGLALAS_PK": "1093",
                                    "SZOBA_FK": "74",
                                    "FELNOTT_SZAM": "2",
                                    "GYERMEK_SZAM": "1"
                                },
                                {
                                    "FOGLALAS_PK": "1095",
                                    "SZOBA_FK": "194",
                                    "FELNOTT_SZAM": "2",
                                    "GYERMEK_SZAM": "1"
                                },
                                {
                                    "FOGLALAS_PK": "1096",
                                    "SZOBA_FK": "54",
                                    "FELNOTT_SZAM": "2",
                                    "GYERMEK_SZAM": "0"
                                },
                                {
                                    "FOGLALAS_PK": "1098",
                                    "SZOBA_FK": "140",
                                    "FELNOTT_SZAM": "2",
                                    "GYERMEK_SZAM": "1"
                                },
                                {
                                    "FOGLALAS_PK": "1100",
                                    "SZOBA_FK": "150",
                                    "FELNOTT_SZAM": "2",
                                    "GYERMEK_SZAM": "0"
                                },
                                {
                                    "FOGLALAS_PK": "1101",
                                    "SZOBA_FK": "89",
                                    "FELNOTT_SZAM": "3",
                                    "GYERMEK_SZAM": "0"
                                },
                                {
                                    "FOGLALAS_PK": "1102",
                                    "SZOBA_FK": "108",
                                    "FELNOTT_SZAM": "1",
                                    "GYERMEK_SZAM": "0"
                                },
                                {
                                    "FOGLALAS_PK": "1103",
                                    "SZOBA_FK": "87",
                                    "FELNOTT_SZAM": "1",
                                    "GYERMEK_SZAM": "0"
                                },
                                {
                                    "FOGLALAS_PK": "1104",
                                    "SZOBA_FK": "77",
                                    "FELNOTT_SZAM": "2",
                                    "GYERMEK_SZAM": "0"
                                },
                                {
                                    "FOGLALAS_PK": "1105",
                                    "SZOBA_FK": "150",
                                    "FELNOTT_SZAM": "2",
                                    "GYERMEK_SZAM": "1"
                                },
                                {
                                    "FOGLALAS_PK": "1106",
                                    "SZOBA_FK": "20",
                                    "FELNOTT_SZAM": "2",
                                    "GYERMEK_SZAM": "1"
                                },
                                {
                                    "FOGLALAS_PK": "1108",
                                    "SZOBA_FK": "86",
                                    "FELNOTT_SZAM": "2",
                                    "GYERMEK_SZAM": "0"
                                },
                                {
                                    "FOGLALAS_PK": "1109",
                                    "SZOBA_FK": "110",
                                    "FELNOTT_SZAM": "1",
                                    "GYERMEK_SZAM": "0"
                                },
                                {
                                    "FOGLALAS_PK": "1111",
                                    "SZOBA_FK": "132",
                                    "FELNOTT_SZAM": "2",
                                    "GYERMEK_SZAM": "1"
                                },
                                {
                                    "FOGLALAS_PK": "1112",
                                    "SZOBA_FK": "155",
                                    "FELNOTT_SZAM": "1",
                                    "GYERMEK_SZAM": "0"
                                },
                                {
                                    "FOGLALAS_PK": "1113",
                                    "SZOBA_FK": "58",
                                    "FELNOTT_SZAM": "2",
                                    "GYERMEK_SZAM": "0"
                                },
                                {
                                    "FOGLALAS_PK": "1114",
                                    "SZOBA_FK": "20",
                                    "FELNOTT_SZAM": "2",
                                    "GYERMEK_SZAM": "1"
                                },
                                {
                                    "FOGLALAS_PK": "1116",
                                    "SZOBA_FK": "198",
                                    "FELNOTT_SZAM": "3",
                                    "GYERMEK_SZAM": "0"
                                },
                                {
                                    "FOGLALAS_PK": "1117",
                                    "SZOBA_FK": "158",
                                    "FELNOTT_SZAM": "2",
                                    "GYERMEK_SZAM": "1"
                                },
                                {
                                    "FOGLALAS_PK": "1118",
                                    "SZOBA_FK": "40",
                                    "FELNOTT_SZAM": "2",
                                    "GYERMEK_SZAM": "1"
                                },
                                {
                                    "FOGLALAS_PK": "1122",
                                    "SZOBA_FK": "64",
                                    "FELNOTT_SZAM": "2",
                                    "GYERMEK_SZAM": "0"
                                },
                                {
                                    "FOGLALAS_PK": "1123",
                                    "SZOBA_FK": "11",
                                    "FELNOTT_SZAM": "2",
                                    "GYERMEK_SZAM": "1"
                                },
                                {
                                    "FOGLALAS_PK": "1125",
                                    "SZOBA_FK": "185",
                                    "FELNOTT_SZAM": "3",
                                    "GYERMEK_SZAM": "0"
                                },
                                {
                                    "FOGLALAS_PK": "1127",
                                    "SZOBA_FK": "4",
                                    "FELNOTT_SZAM": "2",
                                    "GYERMEK_SZAM": "0"
                                },
                                {
                                    "FOGLALAS_PK": "1130",
                                    "SZOBA_FK": "22",
                                    "FELNOTT_SZAM": "3",
                                    "GYERMEK_SZAM": "1"
                                },
                                {
                                    "FOGLALAS_PK": "1131",
                                    "SZOBA_FK": "7",
                                    "FELNOTT_SZAM": "2",
                                    "GYERMEK_SZAM": "0"
                                },
                                {
                                    "FOGLALAS_PK": "1134",
                                    "SZOBA_FK": "126",
                                    "FELNOTT_SZAM": "1",
                                    "GYERMEK_SZAM": "0"
                                },
                                {
                                    "FOGLALAS_PK": "1135",
                                    "SZOBA_FK": "45",
                                    "FELNOTT_SZAM": "2",
                                    "GYERMEK_SZAM": "0"
                                },
                                {
                                    "FOGLALAS_PK": "1136",
                                    "SZOBA_FK": "30",
                                    "FELNOTT_SZAM": "1",
                                    "GYERMEK_SZAM": "0"
                                },
                                {
                                    "FOGLALAS_PK": "1138",
                                    "SZOBA_FK": "198",
                                    "FELNOTT_SZAM": "2",
                                    "GYERMEK_SZAM": "0"
                                },
                                {
                                    "FOGLALAS_PK": "1140",
                                    "SZOBA_FK": "12",
                                    "FELNOTT_SZAM": "2",
                                    "GYERMEK_SZAM": "1"
                                },
                                {
                                    "FOGLALAS_PK": "1141",
                                    "SZOBA_FK": "165",
                                    "FELNOTT_SZAM": "2",
                                    "GYERMEK_SZAM": "0"
                                },
                                {
                                    "FOGLALAS_PK": "1142",
                                    "SZOBA_FK": "172",
                                    "FELNOTT_SZAM": "2",
                                    "GYERMEK_SZAM": "0"
                                },
                                {
                                    "FOGLALAS_PK": "1143",
                                    "SZOBA_FK": "176",
                                    "FELNOTT_SZAM": "2",
                                    "GYERMEK_SZAM": "1"
                                },
                                {
                                    "FOGLALAS_PK": "1144",
                                    "SZOBA_FK": "41",
                                    "FELNOTT_SZAM": "3",
                                    "GYERMEK_SZAM": "0"
                                },
                                {
                                    "FOGLALAS_PK": "1146",
                                    "SZOBA_FK": "149",
                                    "FELNOTT_SZAM": "2",
                                    "GYERMEK_SZAM": "0"
                                },
                                {
                                    "FOGLALAS_PK": "1148",
                                    "SZOBA_FK": "61",
                                    "FELNOTT_SZAM": "2",
                                    "GYERMEK_SZAM": "1"
                                },
                                {
                                    "FOGLALAS_PK": "1149",
                                    "SZOBA_FK": "133",
                                    "FELNOTT_SZAM": "3",
                                    "GYERMEK_SZAM": "0"
                                },
                                {
                                    "FOGLALAS_PK": "1150",
                                    "SZOBA_FK": "28",
                                    "FELNOTT_SZAM": "2",
                                    "GYERMEK_SZAM": "1"
                                },
                                {
                                    "FOGLALAS_PK": "1154",
                                    "SZOBA_FK": "115",
                                    "FELNOTT_SZAM": "1",
                                    "GYERMEK_SZAM": "0"
                                },
                                {
                                    "FOGLALAS_PK": "1155",
                                    "SZOBA_FK": "143",
                                    "FELNOTT_SZAM": "2",
                                    "GYERMEK_SZAM": "1"
                                },
                                {
                                    "FOGLALAS_PK": "1156",
                                    "SZOBA_FK": "140",
                                    "FELNOTT_SZAM": "1",
                                    "GYERMEK_SZAM": "0"
                                },
                                {
                                    "FOGLALAS_PK": "1157",
                                    "SZOBA_FK": "9",
                                    "FELNOTT_SZAM": "3",
                                    "GYERMEK_SZAM": "0"
                                },
                                {
                                    "FOGLALAS_PK": "1159",
                                    "SZOBA_FK": "73",
                                    "FELNOTT_SZAM": "1",
                                    "GYERMEK_SZAM": "0"
                                },
                                {
                                    "FOGLALAS_PK": "1161",
                                    "SZOBA_FK": "198",
                                    "FELNOTT_SZAM": "3",
                                    "GYERMEK_SZAM": "0"
                                },
                                {
                                    "FOGLALAS_PK": "1163",
                                    "SZOBA_FK": "55",
                                    "FELNOTT_SZAM": "2",
                                    "GYERMEK_SZAM": "0"
                                },
                                {
                                    "FOGLALAS_PK": "1164",
                                    "SZOBA_FK": "12",
                                    "FELNOTT_SZAM": "2",
                                    "GYERMEK_SZAM": "0"
                                },
                                {
                                    "FOGLALAS_PK": "1165",
                                    "SZOBA_FK": "51",
                                    "FELNOTT_SZAM": "2",
                                    "GYERMEK_SZAM": "0"
                                },
                                {
                                    "FOGLALAS_PK": "1167",
                                    "SZOBA_FK": "24",
                                    "FELNOTT_SZAM": "3",
                                    "GYERMEK_SZAM": "1"
                                },
                                {
                                    "FOGLALAS_PK": "1168",
                                    "SZOBA_FK": "154",
                                    "FELNOTT_SZAM": "2",
                                    "GYERMEK_SZAM": "0"
                                },
                                {
                                    "FOGLALAS_PK": "1169",
                                    "SZOBA_FK": "93",
                                    "FELNOTT_SZAM": "1",
                                    "GYERMEK_SZAM": "0"
                                },
                                {
                                    "FOGLALAS_PK": "1170",
                                    "SZOBA_FK": "59",
                                    "FELNOTT_SZAM": "2",
                                    "GYERMEK_SZAM": "0"
                                },
                                {
                                    "FOGLALAS_PK": "1171",
                                    "SZOBA_FK": "172",
                                    "FELNOTT_SZAM": "1",
                                    "GYERMEK_SZAM": "0"
                                },
                                {
                                    "FOGLALAS_PK": "1172",
                                    "SZOBA_FK": "197",
                                    "FELNOTT_SZAM": "1",
                                    "GYERMEK_SZAM": "0"
                                },
                                {
                                    "FOGLALAS_PK": "1174",
                                    "SZOBA_FK": "90",
                                    "FELNOTT_SZAM": "3",
                                    "GYERMEK_SZAM": "0"
                                },
                                {
                                    "FOGLALAS_PK": "1175",
                                    "SZOBA_FK": "7",
                                    "FELNOTT_SZAM": "2",
                                    "GYERMEK_SZAM": "0"
                                },
                                {
                                    "FOGLALAS_PK": "1177",
                                    "SZOBA_FK": "150",
                                    "FELNOTT_SZAM": "1",
                                    "GYERMEK_SZAM": "0"
                                },
                                {
                                    "FOGLALAS_PK": "1178",
                                    "SZOBA_FK": "134",
                                    "FELNOTT_SZAM": "3",
                                    "GYERMEK_SZAM": "0"
                                },
                                {
                                    "FOGLALAS_PK": "1179",
                                    "SZOBA_FK": "74",
                                    "FELNOTT_SZAM": "2",
                                    "GYERMEK_SZAM": "1"
                                },
                                {
                                    "FOGLALAS_PK": "1180",
                                    "SZOBA_FK": "104",
                                    "FELNOTT_SZAM": "2",
                                    "GYERMEK_SZAM": "1"
                                },
                                {
                                    "FOGLALAS_PK": "1181",
                                    "SZOBA_FK": "171",
                                    "FELNOTT_SZAM": "2",
                                    "GYERMEK_SZAM": "1"
                                },
                                {
                                    "FOGLALAS_PK": "1182",
                                    "SZOBA_FK": "7",
                                    "FELNOTT_SZAM": "2",
                                    "GYERMEK_SZAM": "0"
                                },
                                {
                                    "FOGLALAS_PK": "1184",
                                    "SZOBA_FK": "195",
                                    "FELNOTT_SZAM": "2",
                                    "GYERMEK_SZAM": "0"
                                },
                                {
                                    "FOGLALAS_PK": "1186",
                                    "SZOBA_FK": "58",
                                    "FELNOTT_SZAM": "1",
                                    "GYERMEK_SZAM": "0"
                                },
                                {
                                    "FOGLALAS_PK": "1187",
                                    "SZOBA_FK": "46",
                                    "FELNOTT_SZAM": "1",
                                    "GYERMEK_SZAM": "0"
                                },
                                {
                                    "FOGLALAS_PK": "1188",
                                    "SZOBA_FK": "182",
                                    "FELNOTT_SZAM": "2",
                                    "GYERMEK_SZAM": "0"
                                },
                                {
                                    "FOGLALAS_PK": "1189",
                                    "SZOBA_FK": "89",
                                    "FELNOTT_SZAM": "3",
                                    "GYERMEK_SZAM": "0"
                                },
                                {
                                    "FOGLALAS_PK": "1190",
                                    "SZOBA_FK": "161",
                                    "FELNOTT_SZAM": "1",
                                    "GYERMEK_SZAM": "0"
                                },
                                {
                                    "FOGLALAS_PK": "1191",
                                    "SZOBA_FK": "59",
                                    "FELNOTT_SZAM": "2",
                                    "GYERMEK_SZAM": "1"
                                },
                                {
                                    "FOGLALAS_PK": "1192",
                                    "SZOBA_FK": "117",
                                    "FELNOTT_SZAM": "2",
                                    "GYERMEK_SZAM": "0"
                                },
                                {
                                    "FOGLALAS_PK": "1193",
                                    "SZOBA_FK": "143",
                                    "FELNOTT_SZAM": "2",
                                    "GYERMEK_SZAM": "1"
                                },
                                {
                                    "FOGLALAS_PK": "1196",
                                    "SZOBA_FK": "88",
                                    "FELNOTT_SZAM": "3",
                                    "GYERMEK_SZAM": "0"
                                },
                                {
                                    "FOGLALAS_PK": "1197",
                                    "SZOBA_FK": "152",
                                    "FELNOTT_SZAM": "2",
                                    "GYERMEK_SZAM": "0"
                                },
                                {
                                    "FOGLALAS_PK": "1200",
                                    "SZOBA_FK": "49",
                                    "FELNOTT_SZAM": "3",
                                    "GYERMEK_SZAM": "0"
                                },
                                {
                                    "FOGLALAS_PK": "1202",
                                    "SZOBA_FK": "52",
                                    "FELNOTT_SZAM": "1",
                                    "GYERMEK_SZAM": "0"
                                },
                                {
                                    "FOGLALAS_PK": "1203",
                                    "SZOBA_FK": "150",
                                    "FELNOTT_SZAM": "2",
                                    "GYERMEK_SZAM": "1"
                                },
                                {
                                    "FOGLALAS_PK": "1205",
                                    "SZOBA_FK": "162",
                                    "FELNOTT_SZAM": "3",
                                    "GYERMEK_SZAM": "0"
                                },
                                {
                                    "FOGLALAS_PK": "1208",
                                    "SZOBA_FK": "58",
                                    "FELNOTT_SZAM": "2",
                                    "GYERMEK_SZAM": "1"
                                },
                                {
                                    "FOGLALAS_PK": "1209",
                                    "SZOBA_FK": "122",
                                    "FELNOTT_SZAM": "3",
                                    "GYERMEK_SZAM": "1"
                                },
                                {
                                    "FOGLALAS_PK": "1210",
                                    "SZOBA_FK": "124",
                                    "FELNOTT_SZAM": "3",
                                    "GYERMEK_SZAM": "0"
                                },
                                {
                                    "FOGLALAS_PK": "1211",
                                    "SZOBA_FK": "178",
                                    "FELNOTT_SZAM": "2",
                                    "GYERMEK_SZAM": "1"
                                },
                                {
                                    "FOGLALAS_PK": "1212",
                                    "SZOBA_FK": "21",
                                    "FELNOTT_SZAM": "2",
                                    "GYERMEK_SZAM": "0"
                                },
                                {
                                    "FOGLALAS_PK": "1213",
                                    "SZOBA_FK": "91",
                                    "FELNOTT_SZAM": "1",
                                    "GYERMEK_SZAM": "0"
                                },
                                {
                                    "FOGLALAS_PK": "1215",
                                    "SZOBA_FK": "121",
                                    "FELNOTT_SZAM": "2",
                                    "GYERMEK_SZAM": "1"
                                },
                                {
                                    "FOGLALAS_PK": "1218",
                                    "SZOBA_FK": "61",
                                    "FELNOTT_SZAM": "3",
                                    "GYERMEK_SZAM": "0"
                                },
                                {
                                    "FOGLALAS_PK": "1221",
                                    "SZOBA_FK": "49",
                                    "FELNOTT_SZAM": "3",
                                    "GYERMEK_SZAM": "0"
                                },
                                {
                                    "FOGLALAS_PK": "1222",
                                    "SZOBA_FK": "143",
                                    "FELNOTT_SZAM": "3",
                                    "GYERMEK_SZAM": "0"
                                },
                                {
                                    "FOGLALAS_PK": "1223",
                                    "SZOBA_FK": "123",
                                    "FELNOTT_SZAM": "3",
                                    "GYERMEK_SZAM": "0"
                                },
                                {
                                    "FOGLALAS_PK": "1224",
                                    "SZOBA_FK": "50",
                                    "FELNOTT_SZAM": "1",
                                    "GYERMEK_SZAM": "0"
                                },
                                {
                                    "FOGLALAS_PK": "1225",
                                    "SZOBA_FK": "69",
                                    "FELNOTT_SZAM": "1",
                                    "GYERMEK_SZAM": "0"
                                },
                                {
                                    "FOGLALAS_PK": "1227",
                                    "SZOBA_FK": "43",
                                    "FELNOTT_SZAM": "2",
                                    "GYERMEK_SZAM": "0"
                                },
                                {
                                    "FOGLALAS_PK": "1228",
                                    "SZOBA_FK": "106",
                                    "FELNOTT_SZAM": "2",
                                    "GYERMEK_SZAM": "0"
                                },
                                {
                                    "FOGLALAS_PK": "1229",
                                    "SZOBA_FK": "79",
                                    "FELNOTT_SZAM": "3",
                                    "GYERMEK_SZAM": "0"
                                },
                                {
                                    "FOGLALAS_PK": "1230",
                                    "SZOBA_FK": "182",
                                    "FELNOTT_SZAM": "1",
                                    "GYERMEK_SZAM": "0"
                                },
                                {
                                    "FOGLALAS_PK": "1231",
                                    "SZOBA_FK": "182",
                                    "FELNOTT_SZAM": "2",
                                    "GYERMEK_SZAM": "0"
                                },
                                {
                                    "FOGLALAS_PK": "1236",
                                    "SZOBA_FK": "11",
                                    "FELNOTT_SZAM": "2",
                                    "GYERMEK_SZAM": "0"
                                },
                                {
                                    "FOGLALAS_PK": "1237",
                                    "SZOBA_FK": "19",
                                    "FELNOTT_SZAM": "2",
                                    "GYERMEK_SZAM": "0"
                                },
                                {
                                    "FOGLALAS_PK": "1243",
                                    "SZOBA_FK": "48",
                                    "FELNOTT_SZAM": "3",
                                    "GYERMEK_SZAM": "0"
                                },
                                {
                                    "FOGLALAS_PK": "1244",
                                    "SZOBA_FK": "15",
                                    "FELNOTT_SZAM": "2",
                                    "GYERMEK_SZAM": "0"
                                },
                                {
                                    "FOGLALAS_PK": "1247",
                                    "SZOBA_FK": "117",
                                    "FELNOTT_SZAM": "2",
                                    "GYERMEK_SZAM": "1"
                                },
                                {
                                    "FOGLALAS_PK": "1250",
                                    "SZOBA_FK": "107",
                                    "FELNOTT_SZAM": "1",
                                    "GYERMEK_SZAM": "0"
                                },
                                {
                                    "FOGLALAS_PK": "1251",
                                    "SZOBA_FK": "184",
                                    "FELNOTT_SZAM": "1",
                                    "GYERMEK_SZAM": "0"
                                },
                                {
                                    "FOGLALAS_PK": "1252",
                                    "SZOBA_FK": "7",
                                    "FELNOTT_SZAM": "1",
                                    "GYERMEK_SZAM": "0"
                                },
                                {
                                    "FOGLALAS_PK": "1253",
                                    "SZOBA_FK": "89",
                                    "FELNOTT_SZAM": "2",
                                    "GYERMEK_SZAM": "1"
                                },
                                {
                                    "FOGLALAS_PK": "1255",
                                    "SZOBA_FK": "58",
                                    "FELNOTT_SZAM": "2",
                                    "GYERMEK_SZAM": "0"
                                },
                                {
                                    "FOGLALAS_PK": "1256",
                                    "SZOBA_FK": "138",
                                    "FELNOTT_SZAM": "2",
                                    "GYERMEK_SZAM": "0"
                                },
                                {
                                    "FOGLALAS_PK": "1258",
                                    "SZOBA_FK": "52",
                                    "FELNOTT_SZAM": "1",
                                    "GYERMEK_SZAM": "0"
                                },
                                {
                                    "FOGLALAS_PK": "1260",
                                    "SZOBA_FK": "9",
                                    "FELNOTT_SZAM": "3",
                                    "GYERMEK_SZAM": "1"
                                },
                                {
                                    "FOGLALAS_PK": "1264",
                                    "SZOBA_FK": "66",
                                    "FELNOTT_SZAM": "2",
                                    "GYERMEK_SZAM": "1"
                                },
                                {
                                    "FOGLALAS_PK": "1265",
                                    "SZOBA_FK": "163",
                                    "FELNOTT_SZAM": "2",
                                    "GYERMEK_SZAM": "0"
                                },
                                {
                                    "FOGLALAS_PK": "1266",
                                    "SZOBA_FK": "168",
                                    "FELNOTT_SZAM": "2",
                                    "GYERMEK_SZAM": "0"
                                },
                                {
                                    "FOGLALAS_PK": "1269",
                                    "SZOBA_FK": "89",
                                    "FELNOTT_SZAM": "2",
                                    "GYERMEK_SZAM": "0"
                                },
                                {
                                    "FOGLALAS_PK": "1273",
                                    "SZOBA_FK": "88",
                                    "FELNOTT_SZAM": "2",
                                    "GYERMEK_SZAM": "1"
                                },
                                {
                                    "FOGLALAS_PK": "1275",
                                    "SZOBA_FK": "27",
                                    "FELNOTT_SZAM": "2",
                                    "GYERMEK_SZAM": "1"
                                },
                                {
                                    "FOGLALAS_PK": "1276",
                                    "SZOBA_FK": "174",
                                    "FELNOTT_SZAM": "2",
                                    "GYERMEK_SZAM": "0"
                                },
                                {
                                    "FOGLALAS_PK": "1277",
                                    "SZOBA_FK": "82",
                                    "FELNOTT_SZAM": "2",
                                    "GYERMEK_SZAM": "1"
                                },
                                {
                                    "FOGLALAS_PK": "1278",
                                    "SZOBA_FK": "176",
                                    "FELNOTT_SZAM": "2",
                                    "GYERMEK_SZAM": "1"
                                },
                                {
                                    "FOGLALAS_PK": "1281",
                                    "SZOBA_FK": "78",
                                    "FELNOTT_SZAM": "2",
                                    "GYERMEK_SZAM": "0"
                                },
                                {
                                    "FOGLALAS_PK": "1282",
                                    "SZOBA_FK": "123",
                                    "FELNOTT_SZAM": "3",
                                    "GYERMEK_SZAM": "0"
                                },
                                {
                                    "FOGLALAS_PK": "1283",
                                    "SZOBA_FK": "138",
                                    "FELNOTT_SZAM": "3",
                                    "GYERMEK_SZAM": "0"
                                },
                                {
                                    "FOGLALAS_PK": "1284",
                                    "SZOBA_FK": "164",
                                    "FELNOTT_SZAM": "2",
                                    "GYERMEK_SZAM": "0"
                                },
                                {
                                    "FOGLALAS_PK": "1285",
                                    "SZOBA_FK": "58",
                                    "FELNOTT_SZAM": "2",
                                    "GYERMEK_SZAM": "1"
                                },
                                {
                                    "FOGLALAS_PK": "1286",
                                    "SZOBA_FK": "127",
                                    "FELNOTT_SZAM": "2",
                                    "GYERMEK_SZAM": "1"
                                },
                                {
                                    "FOGLALAS_PK": "1289",
                                    "SZOBA_FK": "135",
                                    "FELNOTT_SZAM": "3",
                                    "GYERMEK_SZAM": "0"
                                },
                                {
                                    "FOGLALAS_PK": "1291",
                                    "SZOBA_FK": "46",
                                    "FELNOTT_SZAM": "2",
                                    "GYERMEK_SZAM": "0"
                                },
                                {
                                    "FOGLALAS_PK": "1292",
                                    "SZOBA_FK": "164",
                                    "FELNOTT_SZAM": "2",
                                    "GYERMEK_SZAM": "0"
                                },
                                {
                                    "FOGLALAS_PK": "1293",
                                    "SZOBA_FK": "58",
                                    "FELNOTT_SZAM": "2",
                                    "GYERMEK_SZAM": "0"
                                },
                                {
                                    "FOGLALAS_PK": "1295",
                                    "SZOBA_FK": "44",
                                    "FELNOTT_SZAM": "3",
                                    "GYERMEK_SZAM": "0"
                                },
                                {
                                    "FOGLALAS_PK": "1299",
                                    "SZOBA_FK": "90",
                                    "FELNOTT_SZAM": "2",
                                    "GYERMEK_SZAM": "0"
                                },
                                {
                                    "FOGLALAS_PK": "1301",
                                    "SZOBA_FK": "132",
                                    "FELNOTT_SZAM": "3",
                                    "GYERMEK_SZAM": "0"
                                },
                                {
                                    "FOGLALAS_PK": "1303",
                                    "SZOBA_FK": "45",
                                    "FELNOTT_SZAM": "2",
                                    "GYERMEK_SZAM": "0"
                                },
                                {
                                    "FOGLALAS_PK": "1304",
                                    "SZOBA_FK": "197",
                                    "FELNOTT_SZAM": "3",
                                    "GYERMEK_SZAM": "0"
                                },
                                {
                                    "FOGLALAS_PK": "1306",
                                    "SZOBA_FK": "133",
                                    "FELNOTT_SZAM": "1",
                                    "GYERMEK_SZAM": "0"
                                },
                                {
                                    "FOGLALAS_PK": "1308",
                                    "SZOBA_FK": "182",
                                    "FELNOTT_SZAM": "1",
                                    "GYERMEK_SZAM": "0"
                                },
                                {
                                    "FOGLALAS_PK": "1309",
                                    "SZOBA_FK": "42",
                                    "FELNOTT_SZAM": "2",
                                    "GYERMEK_SZAM": "0"
                                },
                                {
                                    "FOGLALAS_PK": "1312",
                                    "SZOBA_FK": "94",
                                    "FELNOTT_SZAM": "1",
                                    "GYERMEK_SZAM": "0"
                                },
                                {
                                    "FOGLALAS_PK": "1314",
                                    "SZOBA_FK": "196",
                                    "FELNOTT_SZAM": "2",
                                    "GYERMEK_SZAM": "0"
                                },
                                {
                                    "FOGLALAS_PK": "1316",
                                    "SZOBA_FK": "17",
                                    "FELNOTT_SZAM": "3",
                                    "GYERMEK_SZAM": "0"
                                },
                                {
                                    "FOGLALAS_PK": "1317",
                                    "SZOBA_FK": "182",
                                    "FELNOTT_SZAM": "2",
                                    "GYERMEK_SZAM": "0"
                                },
                                {
                                    "FOGLALAS_PK": "1319",
                                    "SZOBA_FK": "10",
                                    "FELNOTT_SZAM": "2",
                                    "GYERMEK_SZAM": "0"
                                },
                                {
                                    "FOGLALAS_PK": "1320",
                                    "SZOBA_FK": "85",
                                    "FELNOTT_SZAM": "2",
                                    "GYERMEK_SZAM": "1"
                                },
                                {
                                    "FOGLALAS_PK": "1321",
                                    "SZOBA_FK": "33",
                                    "FELNOTT_SZAM": "2",
                                    "GYERMEK_SZAM": "1"
                                },
                                {
                                    "FOGLALAS_PK": "1323",
                                    "SZOBA_FK": "191",
                                    "FELNOTT_SZAM": "2",
                                    "GYERMEK_SZAM": "1"
                                },
                                {
                                    "FOGLALAS_PK": "1325",
                                    "SZOBA_FK": "70",
                                    "FELNOTT_SZAM": "2",
                                    "GYERMEK_SZAM": "1"
                                },
                                {
                                    "FOGLALAS_PK": "1326",
                                    "SZOBA_FK": "182",
                                    "FELNOTT_SZAM": "2",
                                    "GYERMEK_SZAM": "0"
                                },
                                {
                                    "FOGLALAS_PK": "1328",
                                    "SZOBA_FK": "54",
                                    "FELNOTT_SZAM": "2",
                                    "GYERMEK_SZAM": "0"
                                },
                                {
                                    "FOGLALAS_PK": "1329",
                                    "SZOBA_FK": "171",
                                    "FELNOTT_SZAM": "1",
                                    "GYERMEK_SZAM": "0"
                                },
                                {
                                    "FOGLALAS_PK": "1331",
                                    "SZOBA_FK": "73",
                                    "FELNOTT_SZAM": "2",
                                    "GYERMEK_SZAM": "0"
                                },
                                {
                                    "FOGLALAS_PK": "1333",
                                    "SZOBA_FK": "70",
                                    "FELNOTT_SZAM": "2",
                                    "GYERMEK_SZAM": "1"
                                },
                                {
                                    "FOGLALAS_PK": "1336",
                                    "SZOBA_FK": "172",
                                    "FELNOTT_SZAM": "1",
                                    "GYERMEK_SZAM": "0"
                                },
                                {
                                    "FOGLALAS_PK": "1338",
                                    "SZOBA_FK": "145",
                                    "FELNOTT_SZAM": "1",
                                    "GYERMEK_SZAM": "0"
                                },
                                {
                                    "FOGLALAS_PK": "1339",
                                    "SZOBA_FK": "120",
                                    "FELNOTT_SZAM": "1",
                                    "GYERMEK_SZAM": "0"
                                },
                                {
                                    "FOGLALAS_PK": "1342",
                                    "SZOBA_FK": "170",
                                    "FELNOTT_SZAM": "1",
                                    "GYERMEK_SZAM": "0"
                                },
                                {
                                    "FOGLALAS_PK": "1345",
                                    "SZOBA_FK": "79",
                                    "FELNOTT_SZAM": "2",
                                    "GYERMEK_SZAM": "0"
                                },
                                {
                                    "FOGLALAS_PK": "1346",
                                    "SZOBA_FK": "181",
                                    "FELNOTT_SZAM": "2",
                                    "GYERMEK_SZAM": "1"
                                },
                                {
                                    "FOGLALAS_PK": "1347",
                                    "SZOBA_FK": "13",
                                    "FELNOTT_SZAM": "3",
                                    "GYERMEK_SZAM": "0"
                                },
                                {
                                    "FOGLALAS_PK": "1348",
                                    "SZOBA_FK": "57",
                                    "FELNOTT_SZAM": "2",
                                    "GYERMEK_SZAM": "0"
                                },
                                {
                                    "FOGLALAS_PK": "1349",
                                    "SZOBA_FK": "87",
                                    "FELNOTT_SZAM": "2",
                                    "GYERMEK_SZAM": "0"
                                },
                                {
                                    "FOGLALAS_PK": "1350",
                                    "SZOBA_FK": "173",
                                    "FELNOTT_SZAM": "1",
                                    "GYERMEK_SZAM": "0"
                                },
                                {
                                    "FOGLALAS_PK": "1351",
                                    "SZOBA_FK": "38",
                                    "FELNOTT_SZAM": "1",
                                    "GYERMEK_SZAM": "0"
                                },
                                {
                                    "FOGLALAS_PK": "1352",
                                    "SZOBA_FK": "115",
                                    "FELNOTT_SZAM": "2",
                                    "GYERMEK_SZAM": "1"
                                },
                                {
                                    "FOGLALAS_PK": "1354",
                                    "SZOBA_FK": "107",
                                    "FELNOTT_SZAM": "2",
                                    "GYERMEK_SZAM": "1"
                                },
                                {
                                    "FOGLALAS_PK": "1355",
                                    "SZOBA_FK": "93",
                                    "FELNOTT_SZAM": "3",
                                    "GYERMEK_SZAM": "2"
                                },
                                {
                                    "FOGLALAS_PK": "1356",
                                    "SZOBA_FK": "169",
                                    "FELNOTT_SZAM": "2",
                                    "GYERMEK_SZAM": "1"
                                },
                                {
                                    "FOGLALAS_PK": "1357",
                                    "SZOBA_FK": "140",
                                    "FELNOTT_SZAM": "2",
                                    "GYERMEK_SZAM": "1"
                                },
                                {
                                    "FOGLALAS_PK": "1359",
                                    "SZOBA_FK": "88",
                                    "FELNOTT_SZAM": "2",
                                    "GYERMEK_SZAM": "1"
                                },
                                {
                                    "FOGLALAS_PK": "1362",
                                    "SZOBA_FK": "25",
                                    "FELNOTT_SZAM": "3",
                                    "GYERMEK_SZAM": "1"
                                },
                                {
                                    "FOGLALAS_PK": "1363",
                                    "SZOBA_FK": "133",
                                    "FELNOTT_SZAM": "3",
                                    "GYERMEK_SZAM": "0"
                                },
                                {
                                    "FOGLALAS_PK": "1366",
                                    "SZOBA_FK": "81",
                                    "FELNOTT_SZAM": "1",
                                    "GYERMEK_SZAM": "0"
                                },
                                {
                                    "FOGLALAS_PK": "1367",
                                    "SZOBA_FK": "80",
                                    "FELNOTT_SZAM": "1",
                                    "GYERMEK_SZAM": "0"
                                },
                                {
                                    "FOGLALAS_PK": "1368",
                                    "SZOBA_FK": "94",
                                    "FELNOTT_SZAM": "2",
                                    "GYERMEK_SZAM": "0"
                                },
                                {
                                    "FOGLALAS_PK": "1369",
                                    "SZOBA_FK": "142",
                                    "FELNOTT_SZAM": "3",
                                    "GYERMEK_SZAM": "0"
                                },
                                {
                                    "FOGLALAS_PK": "1370",
                                    "SZOBA_FK": "138",
                                    "FELNOTT_SZAM": "3",
                                    "GYERMEK_SZAM": "1"
                                },
                                {
                                    "FOGLALAS_PK": "1372",
                                    "SZOBA_FK": "106",
                                    "FELNOTT_SZAM": "1",
                                    "GYERMEK_SZAM": "0"
                                },
                                {
                                    "FOGLALAS_PK": "1373",
                                    "SZOBA_FK": "121",
                                    "FELNOTT_SZAM": "2",
                                    "GYERMEK_SZAM": "0"
                                },
                                {
                                    "FOGLALAS_PK": "1374",
                                    "SZOBA_FK": "118",
                                    "FELNOTT_SZAM": "1",
                                    "GYERMEK_SZAM": "0"
                                },
                                {
                                    "FOGLALAS_PK": "1376",
                                    "SZOBA_FK": "84",
                                    "FELNOTT_SZAM": "3",
                                    "GYERMEK_SZAM": "0"
                                },
                                {
                                    "FOGLALAS_PK": "1377",
                                    "SZOBA_FK": "27",
                                    "FELNOTT_SZAM": "2",
                                    "GYERMEK_SZAM": "1"
                                },
                                {
                                    "FOGLALAS_PK": "1379",
                                    "SZOBA_FK": "83",
                                    "FELNOTT_SZAM": "1",
                                    "GYERMEK_SZAM": "0"
                                },
                                {
                                    "FOGLALAS_PK": "1380",
                                    "SZOBA_FK": "39",
                                    "FELNOTT_SZAM": "2",
                                    "GYERMEK_SZAM": "0"
                                },
                                {
                                    "FOGLALAS_PK": "1381",
                                    "SZOBA_FK": "33",
                                    "FELNOTT_SZAM": "2",
                                    "GYERMEK_SZAM": "0"
                                },
                                {
                                    "FOGLALAS_PK": "1384",
                                    "SZOBA_FK": "84",
                                    "FELNOTT_SZAM": "1",
                                    "GYERMEK_SZAM": "0"
                                },
                                {
                                    "FOGLALAS_PK": "1386",
                                    "SZOBA_FK": "55",
                                    "FELNOTT_SZAM": "2",
                                    "GYERMEK_SZAM": "1"
                                },
                                {
                                    "FOGLALAS_PK": "1387",
                                    "SZOBA_FK": "197",
                                    "FELNOTT_SZAM": "2",
                                    "GYERMEK_SZAM": "1"
                                },
                                {
                                    "FOGLALAS_PK": "1395",
                                    "SZOBA_FK": "97",
                                    "FELNOTT_SZAM": "3",
                                    "GYERMEK_SZAM": "0"
                                },
                                {
                                    "FOGLALAS_PK": "1396",
                                    "SZOBA_FK": "72",
                                    "FELNOTT_SZAM": "1",
                                    "GYERMEK_SZAM": "0"
                                },
                                {
                                    "FOGLALAS_PK": "1399",
                                    "SZOBA_FK": "89",
                                    "FELNOTT_SZAM": "3",
                                    "GYERMEK_SZAM": "0"
                                },
                                {
                                    "FOGLALAS_PK": "1401",
                                    "SZOBA_FK": "141",
                                    "FELNOTT_SZAM": "2",
                                    "GYERMEK_SZAM": "0"
                                },
                                {
                                    "FOGLALAS_PK": "1402",
                                    "SZOBA_FK": "98",
                                    "FELNOTT_SZAM": "2",
                                    "GYERMEK_SZAM": "0"
                                },
                                {
                                    "FOGLALAS_PK": "1403",
                                    "SZOBA_FK": "124",
                                    "FELNOTT_SZAM": "1",
                                    "GYERMEK_SZAM": "0"
                                },
                                {
                                    "FOGLALAS_PK": "1404",
                                    "SZOBA_FK": "187",
                                    "FELNOTT_SZAM": "2",
                                    "GYERMEK_SZAM": "1"
                                },
                                {
                                    "FOGLALAS_PK": "1405",
                                    "SZOBA_FK": "90",
                                    "FELNOTT_SZAM": "3",
                                    "GYERMEK_SZAM": "0"
                                },
                                {
                                    "FOGLALAS_PK": "1406",
                                    "SZOBA_FK": "82",
                                    "FELNOTT_SZAM": "2",
                                    "GYERMEK_SZAM": "1"
                                },
                                {
                                    "FOGLALAS_PK": "1407",
                                    "SZOBA_FK": "175",
                                    "FELNOTT_SZAM": "2",
                                    "GYERMEK_SZAM": "0"
                                },
                                {
                                    "FOGLALAS_PK": "1409",
                                    "SZOBA_FK": "133",
                                    "FELNOTT_SZAM": "3",
                                    "GYERMEK_SZAM": "0"
                                },
                                {
                                    "FOGLALAS_PK": "1410",
                                    "SZOBA_FK": "182",
                                    "FELNOTT_SZAM": "2",
                                    "GYERMEK_SZAM": "0"
                                },
                                {
                                    "FOGLALAS_PK": "1411",
                                    "SZOBA_FK": "35",
                                    "FELNOTT_SZAM": "2",
                                    "GYERMEK_SZAM": "1"
                                },
                                {
                                    "FOGLALAS_PK": "1413",
                                    "SZOBA_FK": "119",
                                    "FELNOTT_SZAM": "2",
                                    "GYERMEK_SZAM": "0"
                                },
                                {
                                    "FOGLALAS_PK": "1414",
                                    "SZOBA_FK": "167",
                                    "FELNOTT_SZAM": "3",
                                    "GYERMEK_SZAM": "0"
                                },
                                {
                                    "FOGLALAS_PK": "1415",
                                    "SZOBA_FK": "24",
                                    "FELNOTT_SZAM": "4",
                                    "GYERMEK_SZAM": "1"
                                },
                                {
                                    "FOGLALAS_PK": "1416",
                                    "SZOBA_FK": "38",
                                    "FELNOTT_SZAM": "2",
                                    "GYERMEK_SZAM": "0"
                                },
                                {
                                    "FOGLALAS_PK": "1417",
                                    "SZOBA_FK": "97",
                                    "FELNOTT_SZAM": "2",
                                    "GYERMEK_SZAM": "0"
                                },
                                {
                                    "FOGLALAS_PK": "1418",
                                    "SZOBA_FK": "15",
                                    "FELNOTT_SZAM": "2",
                                    "GYERMEK_SZAM": "1"
                                },
                                {
                                    "FOGLALAS_PK": "1420",
                                    "SZOBA_FK": "198",
                                    "FELNOTT_SZAM": "1",
                                    "GYERMEK_SZAM": "0"
                                },
                                {
                                    "FOGLALAS_PK": "1421",
                                    "SZOBA_FK": "172",
                                    "FELNOTT_SZAM": "2",
                                    "GYERMEK_SZAM": "0"
                                },
                                {
                                    "FOGLALAS_PK": "1422",
                                    "SZOBA_FK": "182",
                                    "FELNOTT_SZAM": "1",
                                    "GYERMEK_SZAM": "0"
                                },
                                {
                                    "FOGLALAS_PK": "1424",
                                    "SZOBA_FK": "110",
                                    "FELNOTT_SZAM": "2",
                                    "GYERMEK_SZAM": "0"
                                },
                                {
                                    "FOGLALAS_PK": "1425",
                                    "SZOBA_FK": "44",
                                    "FELNOTT_SZAM": "2",
                                    "GYERMEK_SZAM": "1"
                                },
                                {
                                    "FOGLALAS_PK": "1426",
                                    "SZOBA_FK": "62",
                                    "FELNOTT_SZAM": "2",
                                    "GYERMEK_SZAM": "0"
                                },
                                {
                                    "FOGLALAS_PK": "1428",
                                    "SZOBA_FK": "126",
                                    "FELNOTT_SZAM": "1",
                                    "GYERMEK_SZAM": "0"
                                },
                                {
                                    "FOGLALAS_PK": "1429",
                                    "SZOBA_FK": "173",
                                    "FELNOTT_SZAM": "2",
                                    "GYERMEK_SZAM": "0"
                                },
                                {
                                    "FOGLALAS_PK": "1430",
                                    "SZOBA_FK": "12",
                                    "FELNOTT_SZAM": "1",
                                    "GYERMEK_SZAM": "0"
                                },
                                {
                                    "FOGLALAS_PK": "1431",
                                    "SZOBA_FK": "52",
                                    "FELNOTT_SZAM": "2",
                                    "GYERMEK_SZAM": "0"
                                },
                                {
                                    "FOGLALAS_PK": "1432",
                                    "SZOBA_FK": "150",
                                    "FELNOTT_SZAM": "2",
                                    "GYERMEK_SZAM": "0"
                                },
                                {
                                    "FOGLALAS_PK": "1433",
                                    "SZOBA_FK": "139",
                                    "FELNOTT_SZAM": "2",
                                    "GYERMEK_SZAM": "1"
                                },
                                {
                                    "FOGLALAS_PK": "1434",
                                    "SZOBA_FK": "3",
                                    "FELNOTT_SZAM": "1",
                                    "GYERMEK_SZAM": "0"
                                },
                                {
                                    "FOGLALAS_PK": "1435",
                                    "SZOBA_FK": "39",
                                    "FELNOTT_SZAM": "2",
                                    "GYERMEK_SZAM": "0"
                                },
                                {
                                    "FOGLALAS_PK": "1436",
                                    "SZOBA_FK": "35",
                                    "FELNOTT_SZAM": "1",
                                    "GYERMEK_SZAM": "0"
                                },
                                {
                                    "FOGLALAS_PK": "1437",
                                    "SZOBA_FK": "183",
                                    "FELNOTT_SZAM": "3",
                                    "GYERMEK_SZAM": "0"
                                },
                                {
                                    "FOGLALAS_PK": "1438",
                                    "SZOBA_FK": "96",
                                    "FELNOTT_SZAM": "2",
                                    "GYERMEK_SZAM": "0"
                                },
                                {
                                    "FOGLALAS_PK": "1441",
                                    "SZOBA_FK": "185",
                                    "FELNOTT_SZAM": "2",
                                    "GYERMEK_SZAM": "1"
                                },
                                {
                                    "FOGLALAS_PK": "1443",
                                    "SZOBA_FK": "81",
                                    "FELNOTT_SZAM": "1",
                                    "GYERMEK_SZAM": "0"
                                },
                                {
                                    "FOGLALAS_PK": "1444",
                                    "SZOBA_FK": "42",
                                    "FELNOTT_SZAM": "2",
                                    "GYERMEK_SZAM": "0"
                                },
                                {
                                    "FOGLALAS_PK": "1445",
                                    "SZOBA_FK": "129",
                                    "FELNOTT_SZAM": "2",
                                    "GYERMEK_SZAM": "1"
                                },
                                {
                                    "FOGLALAS_PK": "1446",
                                    "SZOBA_FK": "64",
                                    "FELNOTT_SZAM": "2",
                                    "GYERMEK_SZAM": "0"
                                },
                                {
                                    "FOGLALAS_PK": "1448",
                                    "SZOBA_FK": "143",
                                    "FELNOTT_SZAM": "2",
                                    "GYERMEK_SZAM": "0"
                                },
                                {
                                    "FOGLALAS_PK": "1450",
                                    "SZOBA_FK": "139",
                                    "FELNOTT_SZAM": "1",
                                    "GYERMEK_SZAM": "0"
                                },
                                {
                                    "FOGLALAS_PK": "1451",
                                    "SZOBA_FK": "58",
                                    "FELNOTT_SZAM": "2",
                                    "GYERMEK_SZAM": "0"
                                },
                                {
                                    "FOGLALAS_PK": "1454",
                                    "SZOBA_FK": "39",
                                    "FELNOTT_SZAM": "2",
                                    "GYERMEK_SZAM": "0"
                                },
                                {
                                    "FOGLALAS_PK": "1456",
                                    "SZOBA_FK": "87",
                                    "FELNOTT_SZAM": "3",
                                    "GYERMEK_SZAM": "0"
                                },
                                {
                                    "FOGLALAS_PK": "1457",
                                    "SZOBA_FK": "70",
                                    "FELNOTT_SZAM": "2",
                                    "GYERMEK_SZAM": "0"
                                },
                                {
                                    "FOGLALAS_PK": "1458",
                                    "SZOBA_FK": "75",
                                    "FELNOTT_SZAM": "2",
                                    "GYERMEK_SZAM": "1"
                                },
                                {
                                    "FOGLALAS_PK": "1459",
                                    "SZOBA_FK": "28",
                                    "FELNOTT_SZAM": "2",
                                    "GYERMEK_SZAM": "0"
                                },
                                {
                                    "FOGLALAS_PK": "1461",
                                    "SZOBA_FK": "77",
                                    "FELNOTT_SZAM": "1",
                                    "GYERMEK_SZAM": "0"
                                },
                                {
                                    "FOGLALAS_PK": "1463",
                                    "SZOBA_FK": "185",
                                    "FELNOTT_SZAM": "3",
                                    "GYERMEK_SZAM": "0"
                                },
                                {
                                    "FOGLALAS_PK": "1464",
                                    "SZOBA_FK": "81",
                                    "FELNOTT_SZAM": "2",
                                    "GYERMEK_SZAM": "0"
                                },
                                {
                                    "FOGLALAS_PK": "1465",
                                    "SZOBA_FK": "64",
                                    "FELNOTT_SZAM": "2",
                                    "GYERMEK_SZAM": "0"
                                },
                                {
                                    "FOGLALAS_PK": "1466",
                                    "SZOBA_FK": "57",
                                    "FELNOTT_SZAM": "1",
                                    "GYERMEK_SZAM": "0"
                                },
                                {
                                    "FOGLALAS_PK": "1469",
                                    "SZOBA_FK": "13",
                                    "FELNOTT_SZAM": "1",
                                    "GYERMEK_SZAM": "0"
                                },
                                {
                                    "FOGLALAS_PK": "1470",
                                    "SZOBA_FK": "153",
                                    "FELNOTT_SZAM": "3",
                                    "GYERMEK_SZAM": "0"
                                },
                                {
                                    "FOGLALAS_PK": "1471",
                                    "SZOBA_FK": "145",
                                    "FELNOTT_SZAM": "2",
                                    "GYERMEK_SZAM": "1"
                                },
                                {
                                    "FOGLALAS_PK": "1473",
                                    "SZOBA_FK": "195",
                                    "FELNOTT_SZAM": "2",
                                    "GYERMEK_SZAM": "0"
                                },
                                {
                                    "FOGLALAS_PK": "1474",
                                    "SZOBA_FK": "131",
                                    "FELNOTT_SZAM": "2",
                                    "GYERMEK_SZAM": "0"
                                },
                                {
                                    "FOGLALAS_PK": "1475",
                                    "SZOBA_FK": "130",
                                    "FELNOTT_SZAM": "2",
                                    "GYERMEK_SZAM": "0"
                                },
                                {
                                    "FOGLALAS_PK": "1476",
                                    "SZOBA_FK": "27",
                                    "FELNOTT_SZAM": "2",
                                    "GYERMEK_SZAM": "1"
                                },
                                {
                                    "FOGLALAS_PK": "1478",
                                    "SZOBA_FK": "38",
                                    "FELNOTT_SZAM": "2",
                                    "GYERMEK_SZAM": "0"
                                },
                                {
                                    "FOGLALAS_PK": "1480",
                                    "SZOBA_FK": "35",
                                    "FELNOTT_SZAM": "1",
                                    "GYERMEK_SZAM": "0"
                                },
                                {
                                    "FOGLALAS_PK": "1483",
                                    "SZOBA_FK": "120",
                                    "FELNOTT_SZAM": "3",
                                    "GYERMEK_SZAM": "1"
                                },
                                {
                                    "FOGLALAS_PK": "1486",
                                    "SZOBA_FK": "99",
                                    "FELNOTT_SZAM": "2",
                                    "GYERMEK_SZAM": "0"
                                },
                                {
                                    "FOGLALAS_PK": "1488",
                                    "SZOBA_FK": "119",
                                    "FELNOTT_SZAM": "2",
                                    "GYERMEK_SZAM": "0"
                                },
                                {
                                    "FOGLALAS_PK": "1489",
                                    "SZOBA_FK": "110",
                                    "FELNOTT_SZAM": "2",
                                    "GYERMEK_SZAM": "0"
                                },
                                {
                                    "FOGLALAS_PK": "1490",
                                    "SZOBA_FK": "156",
                                    "FELNOTT_SZAM": "2",
                                    "GYERMEK_SZAM": "0"
                                },
                                {
                                    "FOGLALAS_PK": "1492",
                                    "SZOBA_FK": "4",
                                    "FELNOTT_SZAM": "2",
                                    "GYERMEK_SZAM": "0"
                                },
                                {
                                    "FOGLALAS_PK": "1494",
                                    "SZOBA_FK": "107",
                                    "FELNOTT_SZAM": "2",
                                    "GYERMEK_SZAM": "1"
                                },
                                {
                                    "FOGLALAS_PK": "1497",
                                    "SZOBA_FK": "179",
                                    "FELNOTT_SZAM": "2",
                                    "GYERMEK_SZAM": "1"
                                },
                                {
                                    "FOGLALAS_PK": "1498",
                                    "SZOBA_FK": "16",
                                    "FELNOTT_SZAM": "3",
                                    "GYERMEK_SZAM": "0"
                                },
                                {
                                    "FOGLALAS_PK": "1499",
                                    "SZOBA_FK": "113",
                                    "FELNOTT_SZAM": "3",
                                    "GYERMEK_SZAM": "1"
                                },
                                {
                                    "FOGLALAS_PK": "1502",
                                    "SZOBA_FK": "191",
                                    "FELNOTT_SZAM": "2",
                                    "GYERMEK_SZAM": "0"
                                },
                                {
                                    "FOGLALAS_PK": "1504",
                                    "SZOBA_FK": "57",
                                    "FELNOTT_SZAM": "1",
                                    "GYERMEK_SZAM": "0"
                                },
                                {
                                    "FOGLALAS_PK": "1507",
                                    "SZOBA_FK": "153",
                                    "FELNOTT_SZAM": "2",
                                    "GYERMEK_SZAM": "1"
                                },
                                {
                                    "FOGLALAS_PK": "1508",
                                    "SZOBA_FK": "191",
                                    "FELNOTT_SZAM": "1",
                                    "GYERMEK_SZAM": "0"
                                },
                                {
                                    "FOGLALAS_PK": "1509",
                                    "SZOBA_FK": "129",
                                    "FELNOTT_SZAM": "2",
                                    "GYERMEK_SZAM": "1"
                                },
                                {
                                    "FOGLALAS_PK": "1514",
                                    "SZOBA_FK": "149",
                                    "FELNOTT_SZAM": "2",
                                    "GYERMEK_SZAM": "0"
                                },
                                {
                                    "FOGLALAS_PK": "1517",
                                    "SZOBA_FK": "190",
                                    "FELNOTT_SZAM": "2",
                                    "GYERMEK_SZAM": "0"
                                },
                                {
                                    "FOGLALAS_PK": "1518",
                                    "SZOBA_FK": "94",
                                    "FELNOTT_SZAM": "2",
                                    "GYERMEK_SZAM": "0"
                                },
                                {
                                    "FOGLALAS_PK": "1519",
                                    "SZOBA_FK": "132",
                                    "FELNOTT_SZAM": "2",
                                    "GYERMEK_SZAM": "1"
                                },
                                {
                                    "FOGLALAS_PK": "1520",
                                    "SZOBA_FK": "55",
                                    "FELNOTT_SZAM": "2",
                                    "GYERMEK_SZAM": "1"
                                },
                                {
                                    "FOGLALAS_PK": "1521",
                                    "SZOBA_FK": "89",
                                    "FELNOTT_SZAM": "3",
                                    "GYERMEK_SZAM": "0"
                                },
                                {
                                    "FOGLALAS_PK": "1523",
                                    "SZOBA_FK": "11",
                                    "FELNOTT_SZAM": "1",
                                    "GYERMEK_SZAM": "0"
                                },
                                {
                                    "FOGLALAS_PK": "1524",
                                    "SZOBA_FK": "43",
                                    "FELNOTT_SZAM": "2",
                                    "GYERMEK_SZAM": "0"
                                },
                                {
                                    "FOGLALAS_PK": "1526",
                                    "SZOBA_FK": "166",
                                    "FELNOTT_SZAM": "2",
                                    "GYERMEK_SZAM": "1"
                                },
                                {
                                    "FOGLALAS_PK": "1528",
                                    "SZOBA_FK": "97",
                                    "FELNOTT_SZAM": "2",
                                    "GYERMEK_SZAM": "1"
                                },
                                {
                                    "FOGLALAS_PK": "1529",
                                    "SZOBA_FK": "35",
                                    "FELNOTT_SZAM": "1",
                                    "GYERMEK_SZAM": "0"
                                },
                                {
                                    "FOGLALAS_PK": "1530",
                                    "SZOBA_FK": "112",
                                    "FELNOTT_SZAM": "2",
                                    "GYERMEK_SZAM": "1"
                                },
                                {
                                    "FOGLALAS_PK": "1531",
                                    "SZOBA_FK": "124",
                                    "FELNOTT_SZAM": "3",
                                    "GYERMEK_SZAM": "0"
                                },
                                {
                                    "FOGLALAS_PK": "1532",
                                    "SZOBA_FK": "104",
                                    "FELNOTT_SZAM": "2",
                                    "GYERMEK_SZAM": "0"
                                },
                                {
                                    "FOGLALAS_PK": "1534",
                                    "SZOBA_FK": "52",
                                    "FELNOTT_SZAM": "2",
                                    "GYERMEK_SZAM": "1"
                                },
                                {
                                    "FOGLALAS_PK": "1535",
                                    "SZOBA_FK": "134",
                                    "FELNOTT_SZAM": "2",
                                    "GYERMEK_SZAM": "0"
                                },
                                {
                                    "FOGLALAS_PK": "1536",
                                    "SZOBA_FK": "49",
                                    "FELNOTT_SZAM": "2",
                                    "GYERMEK_SZAM": "0"
                                },
                                {
                                    "FOGLALAS_PK": "1537",
                                    "SZOBA_FK": "9",
                                    "FELNOTT_SZAM": "3",
                                    "GYERMEK_SZAM": "1"
                                },
                                {
                                    "FOGLALAS_PK": "1539",
                                    "SZOBA_FK": "154",
                                    "FELNOTT_SZAM": "2",
                                    "GYERMEK_SZAM": "0"
                                },
                                {
                                    "FOGLALAS_PK": "1540",
                                    "SZOBA_FK": "114",
                                    "FELNOTT_SZAM": "2",
                                    "GYERMEK_SZAM": "1"
                                },
                                {
                                    "FOGLALAS_PK": "1541",
                                    "SZOBA_FK": "155",
                                    "FELNOTT_SZAM": "1",
                                    "GYERMEK_SZAM": "0"
                                },
                                {
                                    "FOGLALAS_PK": "1542",
                                    "SZOBA_FK": "14",
                                    "FELNOTT_SZAM": "3",
                                    "GYERMEK_SZAM": "1"
                                },
                                {
                                    "FOGLALAS_PK": "1543",
                                    "SZOBA_FK": "95",
                                    "FELNOTT_SZAM": "1",
                                    "GYERMEK_SZAM": "0"
                                },
                                {
                                    "FOGLALAS_PK": "1544",
                                    "SZOBA_FK": "3",
                                    "FELNOTT_SZAM": "3",
                                    "GYERMEK_SZAM": "0"
                                },
                                {
                                    "FOGLALAS_PK": "1548",
                                    "SZOBA_FK": "88",
                                    "FELNOTT_SZAM": "2",
                                    "GYERMEK_SZAM": "1"
                                },
                                {
                                    "FOGLALAS_PK": "1550",
                                    "SZOBA_FK": "51",
                                    "FELNOTT_SZAM": "3",
                                    "GYERMEK_SZAM": "1"
                                },
                                {
                                    "FOGLALAS_PK": "1552",
                                    "SZOBA_FK": "44",
                                    "FELNOTT_SZAM": "3",
                                    "GYERMEK_SZAM": "0"
                                },
                                {
                                    "FOGLALAS_PK": "1555",
                                    "SZOBA_FK": "92",
                                    "FELNOTT_SZAM": "3",
                                    "GYERMEK_SZAM": "1"
                                },
                                {
                                    "FOGLALAS_PK": "1556",
                                    "SZOBA_FK": "38",
                                    "FELNOTT_SZAM": "2",
                                    "GYERMEK_SZAM": "1"
                                },
                                {
                                    "FOGLALAS_PK": "1557",
                                    "SZOBA_FK": "76",
                                    "FELNOTT_SZAM": "2",
                                    "GYERMEK_SZAM": "0"
                                },
                                {
                                    "FOGLALAS_PK": "1558",
                                    "SZOBA_FK": "152",
                                    "FELNOTT_SZAM": "2",
                                    "GYERMEK_SZAM": "0"
                                },
                                {
                                    "FOGLALAS_PK": "1559",
                                    "SZOBA_FK": "180",
                                    "FELNOTT_SZAM": "2",
                                    "GYERMEK_SZAM": "1"
                                },
                                {
                                    "FOGLALAS_PK": "1560",
                                    "SZOBA_FK": "109",
                                    "FELNOTT_SZAM": "2",
                                    "GYERMEK_SZAM": "0"
                                },
                                {
                                    "FOGLALAS_PK": "1565",
                                    "SZOBA_FK": "160",
                                    "FELNOTT_SZAM": "2",
                                    "GYERMEK_SZAM": "1"
                                },
                                {
                                    "FOGLALAS_PK": "1566",
                                    "SZOBA_FK": "115",
                                    "FELNOTT_SZAM": "3",
                                    "GYERMEK_SZAM": "0"
                                },
                                {
                                    "FOGLALAS_PK": "1567",
                                    "SZOBA_FK": "171",
                                    "FELNOTT_SZAM": "2",
                                    "GYERMEK_SZAM": "0"
                                },
                                {
                                    "FOGLALAS_PK": "1568",
                                    "SZOBA_FK": "29",
                                    "FELNOTT_SZAM": "1",
                                    "GYERMEK_SZAM": "0"
                                },
                                {
                                    "FOGLALAS_PK": "1569",
                                    "SZOBA_FK": "96",
                                    "FELNOTT_SZAM": "3",
                                    "GYERMEK_SZAM": "0"
                                },
                                {
                                    "FOGLALAS_PK": "1571",
                                    "SZOBA_FK": "161",
                                    "FELNOTT_SZAM": "2",
                                    "GYERMEK_SZAM": "1"
                                },
                                {
                                    "FOGLALAS_PK": "1573",
                                    "SZOBA_FK": "59",
                                    "FELNOTT_SZAM": "2",
                                    "GYERMEK_SZAM": "1"
                                },
                                {
                                    "FOGLALAS_PK": "1576",
                                    "SZOBA_FK": "189",
                                    "FELNOTT_SZAM": "1",
                                    "GYERMEK_SZAM": "0"
                                },
                                {
                                    "FOGLALAS_PK": "1577",
                                    "SZOBA_FK": "78",
                                    "FELNOTT_SZAM": "2",
                                    "GYERMEK_SZAM": "1"
                                },
                                {
                                    "FOGLALAS_PK": "1578",
                                    "SZOBA_FK": "148",
                                    "FELNOTT_SZAM": "1",
                                    "GYERMEK_SZAM": "0"
                                },
                                {
                                    "FOGLALAS_PK": "1579",
                                    "SZOBA_FK": "127",
                                    "FELNOTT_SZAM": "2",
                                    "GYERMEK_SZAM": "1"
                                },
                                {
                                    "FOGLALAS_PK": "1581",
                                    "SZOBA_FK": "48",
                                    "FELNOTT_SZAM": "1",
                                    "GYERMEK_SZAM": "0"
                                },
                                {
                                    "FOGLALAS_PK": "1582",
                                    "SZOBA_FK": "64",
                                    "FELNOTT_SZAM": "2",
                                    "GYERMEK_SZAM": "0"
                                }
                            ]
                        },
                        "text/html": [
                            "<table>",
                            "<tr><th>FOGLALAS_PK</th><th>SZOBA_FK</th><th>FELNOTT_SZAM</th><th>GYERMEK_SZAM</th></tr>",
                            "<tr><td>558</td><td>87</td><td>2</td><td>1</td></tr>",
                            "<tr><td>559</td><td>131</td><td>2</td><td>0</td></tr>",
                            "<tr><td>560</td><td>6</td><td>2</td><td>0</td></tr>",
                            "<tr><td>561</td><td>42</td><td>2</td><td>0</td></tr>",
                            "<tr><td>562</td><td>7</td><td>1</td><td>0</td></tr>",
                            "<tr><td>565</td><td>141</td><td>2</td><td>0</td></tr>",
                            "<tr><td>567</td><td>170</td><td>1</td><td>0</td></tr>",
                            "<tr><td>568</td><td>78</td><td>2</td><td>0</td></tr>",
                            "<tr><td>569</td><td>10</td><td>2</td><td>0</td></tr>",
                            "<tr><td>570</td><td>164</td><td>2</td><td>0</td></tr>",
                            "<tr><td>574</td><td>171</td><td>2</td><td>0</td></tr>",
                            "<tr><td>577</td><td>155</td><td>2</td><td>1</td></tr>",
                            "<tr><td>578</td><td>185</td><td>2</td><td>1</td></tr>",
                            "<tr><td>579</td><td>139</td><td>2</td><td>0</td></tr>",
                            "<tr><td>580</td><td>130</td><td>2</td><td>0</td></tr>",
                            "<tr><td>581</td><td>144</td><td>2</td><td>1</td></tr>",
                            "<tr><td>583</td><td>79</td><td>3</td><td>0</td></tr>",
                            "<tr><td>586</td><td>107</td><td>1</td><td>0</td></tr>",
                            "<tr><td>587</td><td>123</td><td>1</td><td>0</td></tr>",
                            "<tr><td>589</td><td>44</td><td>3</td><td>0</td></tr>",
                            "<tr><td>593</td><td>77</td><td>3</td><td>0</td></tr>",
                            "<tr><td>594</td><td>153</td><td>2</td><td>0</td></tr>",
                            "<tr><td>595</td><td>74</td><td>2</td><td>0</td></tr>",
                            "<tr><td>596</td><td>115</td><td>3</td><td>0</td></tr>",
                            "<tr><td>597</td><td>100</td><td>2</td><td>0</td></tr>",
                            "<tr><td>599</td><td>162</td><td>3</td><td>0</td></tr>",
                            "<tr><td>600</td><td>190</td><td>1</td><td>0</td></tr>",
                            "<tr><td>601</td><td>39</td><td>1</td><td>0</td></tr>",
                            "<tr><td>602</td><td>17</td><td>3</td><td>1</td></tr>",
                            "<tr><td>603</td><td>48</td><td>3</td><td>0</td></tr>",
                            "<tr><td>605</td><td>111</td><td>2</td><td>1</td></tr>",
                            "<tr><td>607</td><td>96</td><td>2</td><td>1</td></tr>",
                            "<tr><td>608</td><td>184</td><td>2</td><td>0</td></tr>",
                            "<tr><td>609</td><td>9</td><td>2</td><td>0</td></tr>",
                            "<tr><td>610</td><td>106</td><td>1</td><td>0</td></tr>",
                            "<tr><td>613</td><td>130</td><td>2</td><td>0</td></tr>",
                            "<tr><td>615</td><td>186</td><td>2</td><td>1</td></tr>",
                            "<tr><td>616</td><td>94</td><td>2</td><td>0</td></tr>",
                            "<tr><td>617</td><td>117</td><td>2</td><td>1</td></tr>",
                            "<tr><td>623</td><td>96</td><td>3</td><td>0</td></tr>",
                            "<tr><td>626</td><td>18</td><td>2</td><td>0</td></tr>",
                            "<tr><td>628</td><td>48</td><td>3</td><td>0</td></tr>",
                            "<tr><td>630</td><td>163</td><td>2</td><td>0</td></tr>",
                            "<tr><td>631</td><td>98</td><td>1</td><td>0</td></tr>",
                            "<tr><td>632</td><td>99</td><td>2</td><td>0</td></tr>",
                            "<tr><td>633</td><td>187</td><td>2</td><td>1</td></tr>",
                            "<tr><td>636</td><td>91</td><td>2</td><td>0</td></tr>",
                            "<tr><td>637</td><td>100</td><td>2</td><td>0</td></tr>",
                            "<tr><td>638</td><td>67</td><td>1</td><td>0</td></tr>",
                            "<tr><td>640</td><td>165</td><td>2</td><td>0</td></tr>",
                            "<tr><td>641</td><td>150</td><td>2</td><td>1</td></tr>",
                            "<tr><td>642</td><td>54</td><td>2</td><td>0</td></tr>",
                            "<tr><td>644</td><td>166</td><td>2</td><td>0</td></tr>",
                            "<tr><td>647</td><td>85</td><td>2</td><td>0</td></tr>",
                            "<tr><td>648</td><td>157</td><td>1</td><td>0</td></tr>",
                            "<tr><td>651</td><td>4</td><td>1</td><td>0</td></tr>",
                            "<tr><td>652</td><td>149</td><td>1</td><td>0</td></tr>",
                            "<tr><td>653</td><td>161</td><td>2</td><td>0</td></tr>",
                            "<tr><td>656</td><td>95</td><td>2</td><td>0</td></tr>",
                            "<tr><td>657</td><td>137</td><td>1</td><td>0</td></tr>",
                            "<tr><td>658</td><td>44</td><td>3</td><td>0</td></tr>",
                            "<tr><td>659</td><td>169</td><td>2</td><td>0</td></tr>",
                            "<tr><td>661</td><td>136</td><td>1</td><td>0</td></tr>",
                            "<tr><td>663</td><td>14</td><td>3</td><td>1</td></tr>",
                            "<tr><td>665</td><td>94</td><td>2</td><td>0</td></tr>",
                            "<tr><td>666</td><td>3</td><td>2</td><td>1</td></tr>",
                            "<tr><td>667</td><td>80</td><td>2</td><td>1</td></tr>",
                            "<tr><td>669</td><td>173</td><td>1</td><td>0</td></tr>",
                            "<tr><td>670</td><td>43</td><td>2</td><td>0</td></tr>",
                            "<tr><td>671</td><td>96</td><td>3</td><td>0</td></tr>",
                            "<tr><td>672</td><td>185</td><td>3</td><td>0</td></tr>",
                            "<tr><td>673</td><td>196</td><td>2</td><td>0</td></tr>",
                            "<tr><td>674</td><td>83</td><td>2</td><td>1</td></tr>",
                            "<tr><td>675</td><td>193</td><td>3</td><td>0</td></tr>",
                            "<tr><td>676</td><td>60</td><td>2</td><td>0</td></tr>",
                            "<tr><td>677</td><td>181</td><td>3</td><td>0</td></tr>",
                            "<tr><td>678</td><td>148</td><td>2</td><td>0</td></tr>",
                            "<tr><td>679</td><td>185</td><td>2</td><td>1</td></tr>",
                            "<tr><td>682</td><td>174</td><td>2</td><td>0</td></tr>",
                            "<tr><td>684</td><td>184</td><td>1</td><td>0</td></tr>",
                            "<tr><td>688</td><td>37</td><td>2</td><td>0</td></tr>",
                            "<tr><td>689</td><td>102</td><td>1</td><td>0</td></tr>",
                            "<tr><td>691</td><td>99</td><td>2</td><td>0</td></tr>",
                            "<tr><td>692</td><td>156</td><td>2</td><td>0</td></tr>",
                            "<tr><td>693</td><td>185</td><td>2</td><td>0</td></tr>",
                            "<tr><td>694</td><td>8</td><td>2</td><td>0</td></tr>",
                            "<tr><td>696</td><td>19</td><td>2</td><td>1</td></tr>",
                            "<tr><td>697</td><td>12</td><td>1</td><td>0</td></tr>",
                            "<tr><td>701</td><td>61</td><td>2</td><td>0</td></tr>",
                            "<tr><td>702</td><td>62</td><td>1</td><td>0</td></tr>",
                            "<tr><td>704</td><td>70</td><td>2</td><td>1</td></tr>",
                            "<tr><td>705</td><td>37</td><td>1</td><td>0</td></tr>",
                            "<tr><td>706</td><td>119</td><td>2</td><td>0</td></tr>",
                            "<tr><td>707</td><td>35</td><td>2</td><td>1</td></tr>",
                            "<tr><td>708</td><td>106</td><td>1</td><td>0</td></tr>",
                            "<tr><td>709</td><td>172</td><td>1</td><td>0</td></tr>",
                            "<tr><td>711</td><td>185</td><td>3</td><td>0</td></tr>",
                            "<tr><td>712</td><td>71</td><td>2</td><td>1</td></tr>",
                            "<tr><td>714</td><td>73</td><td>2</td><td>1</td></tr>",
                            "<tr><td>715</td><td>101</td><td>2</td><td>0</td></tr>",
                            "<tr><td>719</td><td>58</td><td>2</td><td>1</td></tr>",
                            "<tr><td>721</td><td>195</td><td>2</td><td>0</td></tr>",
                            "<tr><td>723</td><td>129</td><td>2</td><td>0</td></tr>",
                            "<tr><td>724</td><td>135</td><td>2</td><td>0</td></tr>",
                            "<tr><td>725</td><td>28</td><td>2</td><td>0</td></tr>",
                            "<tr><td>726</td><td>97</td><td>3</td><td>1</td></tr>",
                            "<tr><td>728</td><td>31</td><td>3</td><td>1</td></tr>",
                            "<tr><td>730</td><td>152</td><td>2</td><td>0</td></tr>",
                            "<tr><td>731</td><td>181</td><td>3</td><td>0</td></tr>",
                            "<tr><td>733</td><td>140</td><td>1</td><td>0</td></tr>",
                            "<tr><td>735</td><td>121</td><td>2</td><td>0</td></tr>",
                            "<tr><td>736</td><td>66</td><td>2</td><td>1</td></tr>",
                            "<tr><td>739</td><td>121</td><td>2</td><td>0</td></tr>",
                            "<tr><td>740</td><td>182</td><td>2</td><td>0</td></tr>",
                            "<tr><td>741</td><td>93</td><td>3</td><td>1</td></tr>",
                            "<tr><td>743</td><td>187</td><td>2</td><td>0</td></tr>",
                            "<tr><td>745</td><td>139</td><td>2</td><td>0</td></tr>",
                            "<tr><td>748</td><td>36</td><td>3</td><td>1</td></tr>",
                            "<tr><td>751</td><td>139</td><td>2</td><td>0</td></tr>",
                            "<tr><td>752</td><td>46</td><td>2</td><td>0</td></tr>",
                            "<tr><td>754</td><td>126</td><td>2</td><td>1</td></tr>",
                            "<tr><td>755</td><td>20</td><td>1</td><td>0</td></tr>",
                            "<tr><td>756</td><td>61</td><td>3</td><td>0</td></tr>",
                            "<tr><td>757</td><td>88</td><td>1</td><td>0</td></tr>",
                            "<tr><td>758</td><td>27</td><td>3</td><td>1</td></tr>",
                            "<tr><td>759</td><td>7</td><td>2</td><td>0</td></tr>",
                            "<tr><td>760</td><td>131</td><td>2</td><td>0</td></tr>",
                            "<tr><td>761</td><td>141</td><td>2</td><td>0</td></tr>",
                            "<tr><td>763</td><td>13</td><td>3</td><td>0</td></tr>",
                            "<tr><td>764</td><td>197</td><td>2</td><td>1</td></tr>",
                            "<tr><td>766</td><td>187</td><td>2</td><td>0</td></tr>",
                            "<tr><td>767</td><td>18</td><td>2</td><td>1</td></tr>",
                            "<tr><td>768</td><td>138</td><td>3</td><td>1</td></tr>",
                            "<tr><td>769</td><td>63</td><td>2</td><td>0</td></tr>",
                            "<tr><td>770</td><td>42</td><td>2</td><td>1</td></tr>",
                            "<tr><td>771</td><td>147</td><td>2</td><td>0</td></tr>",
                            "<tr><td>772</td><td>6</td><td>3</td><td>0</td></tr>",
                            "<tr><td>774</td><td>190</td><td>2</td><td>0</td></tr>",
                            "<tr><td>775</td><td>12</td><td>2</td><td>1</td></tr>",
                            "<tr><td>776</td><td>112</td><td>3</td><td>0</td></tr>",
                            "<tr><td>777</td><td>34</td><td>2</td><td>0</td></tr>",
                            "<tr><td>778</td><td>19</td><td>2</td><td>1</td></tr>",
                            "<tr><td>779</td><td>130</td><td>1</td><td>0</td></tr>",
                            "<tr><td>780</td><td>96</td><td>2</td><td>0</td></tr>",
                            "<tr><td>781</td><td>166</td><td>1</td><td>0</td></tr>",
                            "<tr><td>782</td><td>163</td><td>1</td><td>0</td></tr>",
                            "<tr><td>783</td><td>148</td><td>2</td><td>0</td></tr>",
                            "<tr><td>784</td><td>141</td><td>2</td><td>0</td></tr>",
                            "<tr><td>785</td><td>177</td><td>3</td><td>1</td></tr>",
                            "<tr><td>787</td><td>50</td><td>1</td><td>0</td></tr>",
                            "<tr><td>789</td><td>146</td><td>3</td><td>0</td></tr>",
                            "<tr><td>790</td><td>10</td><td>1</td><td>0</td></tr>",
                            "<tr><td>791</td><td>15</td><td>2</td><td>0</td></tr>",
                            "<tr><td>793</td><td>49</td><td>3</td><td>0</td></tr>",
                            "<tr><td>795</td><td>10</td><td>3</td><td>0</td></tr>",
                            "<tr><td>796</td><td>138</td><td>3</td><td>0</td></tr>",
                            "<tr><td>797</td><td>74</td><td>3</td><td>1</td></tr>",
                            "<tr><td>799</td><td>175</td><td>1</td><td>0</td></tr>",
                            "<tr><td>800</td><td>45</td><td>2</td><td>0</td></tr>",
                            "<tr><td>801</td><td>112</td><td>3</td><td>0</td></tr>",
                            "<tr><td>806</td><td>126</td><td>2</td><td>0</td></tr>",
                            "<tr><td>807</td><td>27</td><td>2</td><td>1</td></tr>",
                            "<tr><td>808</td><td>148</td><td>2</td><td>0</td></tr>",
                            "<tr><td>809</td><td>92</td><td>3</td><td>0</td></tr>",
                            "<tr><td>812</td><td>148</td><td>2</td><td>0</td></tr>",
                            "<tr><td>813</td><td>14</td><td>2</td><td>1</td></tr>",
                            "<tr><td>814</td><td>70</td><td>2</td><td>1</td></tr>",
                            "<tr><td>817</td><td>89</td><td>3</td><td>0</td></tr>",
                            "<tr><td>818</td><td>8</td><td>1</td><td>0</td></tr>",
                            "<tr><td>820</td><td>20</td><td>3</td><td>0</td></tr>",
                            "<tr><td>821</td><td>34</td><td>2</td><td>1</td></tr>",
                            "<tr><td>822</td><td>52</td><td>2</td><td>0</td></tr>",
                            "<tr><td>823</td><td>44</td><td>3</td><td>0</td></tr>",
                            "<tr><td>825</td><td>158</td><td>2</td><td>1</td></tr>",
                            "<tr><td>829</td><td>35</td><td>3</td><td>0</td></tr>",
                            "<tr><td>832</td><td>8</td><td>2</td><td>1</td></tr>",
                            "<tr><td>834</td><td>149</td><td>1</td><td>0</td></tr>",
                            "<tr><td>836</td><td>97</td><td>2</td><td>0</td></tr>",
                            "<tr><td>837</td><td>104</td><td>3</td><td>0</td></tr>",
                            "<tr><td>839</td><td>172</td><td>1</td><td>0</td></tr>",
                            "<tr><td>840</td><td>158</td><td>2</td><td>1</td></tr>",
                            "<tr><td>841</td><td>92</td><td>3</td><td>1</td></tr>",
                            "<tr><td>842</td><td>195</td><td>2</td><td>0</td></tr>",
                            "<tr><td>843</td><td>149</td><td>2</td><td>0</td></tr>",
                            "<tr><td>844</td><td>87</td><td>3</td><td>0</td></tr>",
                            "<tr><td>845</td><td>63</td><td>1</td><td>0</td></tr>",
                            "<tr><td>846</td><td>45</td><td>1</td><td>0</td></tr>",
                            "<tr><td>847</td><td>74</td><td>2</td><td>1</td></tr>",
                            "<tr><td>848</td><td>23</td><td>2</td><td>0</td></tr>",
                            "<tr><td>849</td><td>135</td><td>2</td><td>0</td></tr>",
                            "<tr><td>850</td><td>6</td><td>3</td><td>0</td></tr>",
                            "<tr><td>851</td><td>42</td><td>2</td><td>1</td></tr>",
                            "<tr><td>852</td><td>24</td><td>1</td><td>0</td></tr>",
                            "<tr><td>853</td><td>127</td><td>2</td><td>0</td></tr>",
                            "<tr><td>854</td><td>167</td><td>1</td><td>0</td></tr>",
                            "<tr><td>857</td><td>165</td><td>1</td><td>0</td></tr>",
                            "<tr><td>858</td><td>121</td><td>1</td><td>0</td></tr>",
                            "<tr><td>859</td><td>86</td><td>2</td><td>1</td></tr>",
                            "<tr><td>860</td><td>70</td><td>1</td><td>0</td></tr>",
                            "<tr><td>861</td><td>124</td><td>2</td><td>1</td></tr>",
                            "<tr><td>862</td><td>82</td><td>2</td><td>1</td></tr>",
                            "<tr><td>863</td><td>185</td><td>2</td><td>1</td></tr>",
                            "<tr><td>864</td><td>118</td><td>2</td><td>0</td></tr>",
                            "<tr><td>865</td><td>51</td><td>2</td><td>0</td></tr>",
                            "<tr><td>867</td><td>175</td><td>1</td><td>0</td></tr>",
                            "<tr><td>868</td><td>187</td><td>3</td><td>1</td></tr>",
                            "<tr><td>869</td><td>83</td><td>3</td><td>0</td></tr>",
                            "<tr><td>871</td><td>82</td><td>3</td><td>0</td></tr>",
                            "<tr><td>872</td><td>28</td><td>1</td><td>0</td></tr>",
                            "<tr><td>873</td><td>6</td><td>2</td><td>0</td></tr>",
                            "<tr><td>874</td><td>67</td><td>2</td><td>0</td></tr>",
                            "<tr><td>875</td><td>64</td><td>2</td><td>0</td></tr>",
                            "<tr><td>877</td><td>74</td><td>3</td><td>0</td></tr>",
                            "<tr><td>878</td><td>83</td><td>1</td><td>0</td></tr>",
                            "<tr><td>879</td><td>127</td><td>2</td><td>0</td></tr>",
                            "<tr><td>880</td><td>184</td><td>1</td><td>0</td></tr>",
                            "<tr><td>881</td><td>131</td><td>1</td><td>0</td></tr>",
                            "<tr><td>882</td><td>8</td><td>2</td><td>0</td></tr>",
                            "<tr><td>884</td><td>98</td><td>1</td><td>0</td></tr>",
                            "<tr><td>885</td><td>69</td><td>3</td><td>0</td></tr>",
                            "<tr><td>887</td><td>80</td><td>2</td><td>0</td></tr>",
                            "<tr><td>889</td><td>54</td><td>2</td><td>0</td></tr>",
                            "<tr><td>890</td><td>146</td><td>2</td><td>1</td></tr>",
                            "<tr><td>891</td><td>63</td><td>1</td><td>0</td></tr>",
                            "<tr><td>892</td><td>165</td><td>1</td><td>0</td></tr>",
                            "<tr><td>893</td><td>151</td><td>1</td><td>0</td></tr>",
                            "<tr><td>894</td><td>29</td><td>2</td><td>0</td></tr>",
                            "<tr><td>895</td><td>36</td><td>3</td><td>2</td></tr>",
                            "<tr><td>897</td><td>165</td><td>1</td><td>0</td></tr>",
                            "<tr><td>901</td><td>28</td><td>2</td><td>0</td></tr>",
                            "<tr><td>903</td><td>192</td><td>2</td><td>1</td></tr>",
                            "<tr><td>904</td><td>34</td><td>1</td><td>0</td></tr>",
                            "<tr><td>910</td><td>130</td><td>2</td><td>0</td></tr>",
                            "<tr><td>912</td><td>188</td><td>3</td><td>0</td></tr>",
                            "<tr><td>914</td><td>48</td><td>3</td><td>0</td></tr>",
                            "<tr><td>915</td><td>140</td><td>2</td><td>0</td></tr>",
                            "<tr><td>917</td><td>174</td><td>2</td><td>0</td></tr>",
                            "<tr><td>918</td><td>11</td><td>2</td><td>1</td></tr>",
                            "<tr><td>919</td><td>36</td><td>3</td><td>1</td></tr>",
                            "<tr><td>920</td><td>32</td><td>2</td><td>0</td></tr>",
                            "<tr><td>921</td><td>112</td><td>2</td><td>1</td></tr>",
                            "<tr><td>923</td><td>123</td><td>1</td><td>0</td></tr>",
                            "<tr><td>924</td><td>40</td><td>2</td><td>1</td></tr>",
                            "<tr><td>925</td><td>185</td><td>2</td><td>1</td></tr>",
                            "<tr><td>928</td><td>182</td><td>2</td><td>0</td></tr>",
                            "<tr><td>929</td><td>80</td><td>2</td><td>0</td></tr>",
                            "<tr><td>931</td><td>110</td><td>2</td><td>0</td></tr>",
                            "<tr><td>933</td><td>160</td><td>2</td><td>1</td></tr>",
                            "<tr><td>934</td><td>23</td><td>2</td><td>0</td></tr>",
                            "<tr><td>935</td><td>56</td><td>1</td><td>0</td></tr>",
                            "<tr><td>936</td><td>62</td><td>2</td><td>0</td></tr>",
                            "<tr><td>939</td><td>183</td><td>3</td><td>0</td></tr>",
                            "<tr><td>940</td><td>74</td><td>3</td><td>1</td></tr>",
                            "<tr><td>941</td><td>163</td><td>2</td><td>0</td></tr>",
                            "<tr><td>942</td><td>92</td><td>3</td><td>1</td></tr>",
                            "<tr><td>943</td><td>115</td><td>3</td><td>0</td></tr>",
                            "<tr><td>944</td><td>170</td><td>2</td><td>0</td></tr>",
                            "<tr><td>945</td><td>23</td><td>1</td><td>0</td></tr>",
                            "<tr><td>946</td><td>4</td><td>2</td><td>0</td></tr>",
                            "<tr><td>947</td><td>8</td><td>3</td><td>0</td></tr>",
                            "<tr><td>948</td><td>19</td><td>1</td><td>0</td></tr>",
                            "<tr><td>950</td><td>66</td><td>3</td><td>0</td></tr>",
                            "<tr><td>951</td><td>12</td><td>2</td><td>0</td></tr>",
                            "<tr><td>953</td><td>117</td><td>2</td><td>1</td></tr>",
                            "<tr><td>954</td><td>84</td><td>1</td><td>0</td></tr>",
                            "<tr><td>955</td><td>47</td><td>1</td><td>0</td></tr>",
                            "<tr><td>957</td><td>187</td><td>3</td><td>0</td></tr>",
                            "<tr><td>958</td><td>181</td><td>2</td><td>1</td></tr>",
                            "<tr><td>961</td><td>72</td><td>2</td><td>0</td></tr>",
                            "<tr><td>963</td><td>74</td><td>3</td><td>1</td></tr>",
                            "<tr><td>964</td><td>110</td><td>2</td><td>0</td></tr>",
                            "<tr><td>965</td><td>5</td><td>1</td><td>0</td></tr>",
                            "<tr><td>967</td><td>123</td><td>3</td><td>0</td></tr>",
                            "<tr><td>968</td><td>154</td><td>2</td><td>0</td></tr>",
                            "<tr><td>969</td><td>153</td><td>3</td><td>0</td></tr>",
                            "<tr><td>974</td><td>169</td><td>1</td><td>0</td></tr>",
                            "<tr><td>975</td><td>94</td><td>2</td><td>0</td></tr>",
                            "<tr><td>976</td><td>76</td><td>1</td><td>0</td></tr>",
                            "<tr><td>977</td><td>193</td><td>3</td><td>2</td></tr>",
                            "<tr><td>978</td><td>198</td><td>3</td><td>0</td></tr>",
                            "<tr><td>980</td><td>143</td><td>1</td><td>0</td></tr>",
                            "<tr><td>981</td><td>171</td><td>1</td><td>0</td></tr>",
                            "<tr><td>983</td><td>80</td><td>2</td><td>0</td></tr>",
                            "<tr><td>986</td><td>48</td><td>2</td><td>1</td></tr>",
                            "<tr><td>989</td><td>190</td><td>2</td><td>0</td></tr>",
                            "<tr><td>990</td><td>6</td><td>1</td><td>0</td></tr>",
                            "<tr><td>992</td><td>103</td><td>2</td><td>0</td></tr>",
                            "<tr><td>993</td><td>197</td><td>3</td><td>0</td></tr>",
                            "<tr><td>995</td><td>83</td><td>3</td><td>0</td></tr>",
                            "<tr><td>997</td><td>82</td><td>1</td><td>0</td></tr>",
                            "<tr><td>999</td><td>132</td><td>2</td><td>0</td></tr>",
                            "<tr><td>1000</td><td>73</td><td>2</td><td>0</td></tr>",
                            "<tr><td>1001</td><td>4</td><td>1</td><td>0</td></tr>",
                            "<tr><td>1003</td><td>36</td><td>2</td><td>0</td></tr>",
                            "<tr><td>1005</td><td>22</td><td>1</td><td>0</td></tr>",
                            "<tr><td>1006</td><td>70</td><td>1</td><td>0</td></tr>",
                            "<tr><td>1007</td><td>122</td><td>2</td><td>1</td></tr>",
                            "<tr><td>1008</td><td>182</td><td>2</td><td>0</td></tr>",
                            "<tr><td>1009</td><td>71</td><td>2</td><td>1</td></tr>",
                            "<tr><td>1010</td><td>164</td><td>2</td><td>0</td></tr>",
                            "<tr><td>1011</td><td>198</td><td>3</td><td>0</td></tr>",
                            "<tr><td>1012</td><td>33</td><td>2</td><td>1</td></tr>",
                            "<tr><td>1013</td><td>75</td><td>2</td><td>0</td></tr>",
                            "<tr><td>1014</td><td>137</td><td>2</td><td>0</td></tr>",
                            "<tr><td>1015</td><td>174</td><td>1</td><td>0</td></tr>",
                            "<tr><td>1016</td><td>92</td><td>3</td><td>0</td></tr>",
                            "<tr><td>1017</td><td>190</td><td>1</td><td>0</td></tr>",
                            "<tr><td>1018</td><td>40</td><td>1</td><td>0</td></tr>",
                            "<tr><td>1020</td><td>12</td><td>2</td><td>1</td></tr>",
                            "<tr><td>1021</td><td>179</td><td>3</td><td>1</td></tr>",
                            "<tr><td>1022</td><td>181</td><td>3</td><td>0</td></tr>",
                            "<tr><td>1023</td><td>30</td><td>3</td><td>0</td></tr>",
                            "<tr><td>1024</td><td>134</td><td>2</td><td>1</td></tr>",
                            "<tr><td>1026</td><td>119</td><td>1</td><td>0</td></tr>",
                            "<tr><td>1028</td><td>15</td><td>2</td><td>1</td></tr>",
                            "<tr><td>1030</td><td>188</td><td>3</td><td>0</td></tr>",
                            "<tr><td>1032</td><td>146</td><td>2</td><td>1</td></tr>",
                            "<tr><td>1034</td><td>127</td><td>1</td><td>0</td></tr>",
                            "<tr><td>1035</td><td>18</td><td>2</td><td>1</td></tr>",
                            "<tr><td>1036</td><td>122</td><td>3</td><td>1</td></tr>",
                            "<tr><td>1037</td><td>89</td><td>2</td><td>0</td></tr>",
                            "<tr><td>1044</td><td>13</td><td>3</td><td>0</td></tr>",
                            "<tr><td>1045</td><td>134</td><td>2</td><td>1</td></tr>",
                            "<tr><td>1046</td><td>136</td><td>2</td><td>0</td></tr>",
                            "<tr><td>1047</td><td>157</td><td>2</td><td>0</td></tr>",
                            "<tr><td>1048</td><td>95</td><td>1</td><td>0</td></tr>",
                            "<tr><td>1050</td><td>98</td><td>2</td><td>0</td></tr>",
                            "<tr><td>1054</td><td>79</td><td>3</td><td>0</td></tr>",
                            "<tr><td>1056</td><td>47</td><td>1</td><td>0</td></tr>",
                            "<tr><td>1057</td><td>86</td><td>1</td><td>0</td></tr>",
                            "<tr><td>1058</td><td>151</td><td>2</td><td>0</td></tr>",
                            "<tr><td>1063</td><td>50</td><td>2</td><td>0</td></tr>",
                            "<tr><td>1064</td><td>139</td><td>2</td><td>1</td></tr>",
                            "<tr><td>1065</td><td>198</td><td>3</td><td>0</td></tr>",
                            "<tr><td>1066</td><td>49</td><td>1</td><td>0</td></tr>",
                            "<tr><td>1067</td><td>183</td><td>2</td><td>0</td></tr>",
                            "<tr><td>1070</td><td>20</td><td>3</td><td>0</td></tr>",
                            "<tr><td>1072</td><td>99</td><td>2</td><td>0</td></tr>",
                            "<tr><td>1073</td><td>5</td><td>2</td><td>0</td></tr>",
                            "<tr><td>1074</td><td>195</td><td>1</td><td>0</td></tr>",
                            "<tr><td>1075</td><td>163</td><td>2</td><td>0</td></tr>",
                            "<tr><td>1076</td><td>29</td><td>2</td><td>0</td></tr>",
                            "<tr><td>1078</td><td>38</td><td>2</td><td>1</td></tr>",
                            "<tr><td>1079</td><td>86</td><td>1</td><td>0</td></tr>",
                            "<tr><td>1083</td><td>109</td><td>2</td><td>1</td></tr>",
                            "<tr><td>1084</td><td>59</td><td>2</td><td>0</td></tr>",
                            "<tr><td>1085</td><td>113</td><td>3</td><td>1</td></tr>",
                            "<tr><td>1087</td><td>144</td><td>3</td><td>0</td></tr>",
                            "<tr><td>1088</td><td>43</td><td>3</td><td>0</td></tr>",
                            "<tr><td>1091</td><td>197</td><td>3</td><td>0</td></tr>",
                            "<tr><td>1092</td><td>70</td><td>2</td><td>0</td></tr>",
                            "<tr><td>1093</td><td>74</td><td>2</td><td>1</td></tr>",
                            "<tr><td>1095</td><td>194</td><td>2</td><td>1</td></tr>",
                            "<tr><td>1096</td><td>54</td><td>2</td><td>0</td></tr>",
                            "<tr><td>1098</td><td>140</td><td>2</td><td>1</td></tr>",
                            "<tr><td>1100</td><td>150</td><td>2</td><td>0</td></tr>",
                            "<tr><td>1101</td><td>89</td><td>3</td><td>0</td></tr>",
                            "<tr><td>1102</td><td>108</td><td>1</td><td>0</td></tr>",
                            "<tr><td>1103</td><td>87</td><td>1</td><td>0</td></tr>",
                            "<tr><td>1104</td><td>77</td><td>2</td><td>0</td></tr>",
                            "<tr><td>1105</td><td>150</td><td>2</td><td>1</td></tr>",
                            "<tr><td>1106</td><td>20</td><td>2</td><td>1</td></tr>",
                            "<tr><td>1108</td><td>86</td><td>2</td><td>0</td></tr>",
                            "<tr><td>1109</td><td>110</td><td>1</td><td>0</td></tr>",
                            "<tr><td>1111</td><td>132</td><td>2</td><td>1</td></tr>",
                            "<tr><td>1112</td><td>155</td><td>1</td><td>0</td></tr>",
                            "<tr><td>1113</td><td>58</td><td>2</td><td>0</td></tr>",
                            "<tr><td>1114</td><td>20</td><td>2</td><td>1</td></tr>",
                            "<tr><td>1116</td><td>198</td><td>3</td><td>0</td></tr>",
                            "<tr><td>1117</td><td>158</td><td>2</td><td>1</td></tr>",
                            "<tr><td>1118</td><td>40</td><td>2</td><td>1</td></tr>",
                            "<tr><td>1122</td><td>64</td><td>2</td><td>0</td></tr>",
                            "<tr><td>1123</td><td>11</td><td>2</td><td>1</td></tr>",
                            "<tr><td>1125</td><td>185</td><td>3</td><td>0</td></tr>",
                            "<tr><td>1127</td><td>4</td><td>2</td><td>0</td></tr>",
                            "<tr><td>1130</td><td>22</td><td>3</td><td>1</td></tr>",
                            "<tr><td>1131</td><td>7</td><td>2</td><td>0</td></tr>",
                            "<tr><td>1134</td><td>126</td><td>1</td><td>0</td></tr>",
                            "<tr><td>1135</td><td>45</td><td>2</td><td>0</td></tr>",
                            "<tr><td>1136</td><td>30</td><td>1</td><td>0</td></tr>",
                            "<tr><td>1138</td><td>198</td><td>2</td><td>0</td></tr>",
                            "<tr><td>1140</td><td>12</td><td>2</td><td>1</td></tr>",
                            "<tr><td>1141</td><td>165</td><td>2</td><td>0</td></tr>",
                            "<tr><td>1142</td><td>172</td><td>2</td><td>0</td></tr>",
                            "<tr><td>1143</td><td>176</td><td>2</td><td>1</td></tr>",
                            "<tr><td>1144</td><td>41</td><td>3</td><td>0</td></tr>",
                            "<tr><td>1146</td><td>149</td><td>2</td><td>0</td></tr>",
                            "<tr><td>1148</td><td>61</td><td>2</td><td>1</td></tr>",
                            "<tr><td>1149</td><td>133</td><td>3</td><td>0</td></tr>",
                            "<tr><td>1150</td><td>28</td><td>2</td><td>1</td></tr>",
                            "<tr><td>1154</td><td>115</td><td>1</td><td>0</td></tr>",
                            "<tr><td>1155</td><td>143</td><td>2</td><td>1</td></tr>",
                            "<tr><td>1156</td><td>140</td><td>1</td><td>0</td></tr>",
                            "<tr><td>1157</td><td>9</td><td>3</td><td>0</td></tr>",
                            "<tr><td>1159</td><td>73</td><td>1</td><td>0</td></tr>",
                            "<tr><td>1161</td><td>198</td><td>3</td><td>0</td></tr>",
                            "<tr><td>1163</td><td>55</td><td>2</td><td>0</td></tr>",
                            "<tr><td>1164</td><td>12</td><td>2</td><td>0</td></tr>",
                            "<tr><td>1165</td><td>51</td><td>2</td><td>0</td></tr>",
                            "<tr><td>1167</td><td>24</td><td>3</td><td>1</td></tr>",
                            "<tr><td>1168</td><td>154</td><td>2</td><td>0</td></tr>",
                            "<tr><td>1169</td><td>93</td><td>1</td><td>0</td></tr>",
                            "<tr><td>1170</td><td>59</td><td>2</td><td>0</td></tr>",
                            "<tr><td>1171</td><td>172</td><td>1</td><td>0</td></tr>",
                            "<tr><td>1172</td><td>197</td><td>1</td><td>0</td></tr>",
                            "<tr><td>1174</td><td>90</td><td>3</td><td>0</td></tr>",
                            "<tr><td>1175</td><td>7</td><td>2</td><td>0</td></tr>",
                            "<tr><td>1177</td><td>150</td><td>1</td><td>0</td></tr>",
                            "<tr><td>1178</td><td>134</td><td>3</td><td>0</td></tr>",
                            "<tr><td>1179</td><td>74</td><td>2</td><td>1</td></tr>",
                            "<tr><td>1180</td><td>104</td><td>2</td><td>1</td></tr>",
                            "<tr><td>1181</td><td>171</td><td>2</td><td>1</td></tr>",
                            "<tr><td>1182</td><td>7</td><td>2</td><td>0</td></tr>",
                            "<tr><td>1184</td><td>195</td><td>2</td><td>0</td></tr>",
                            "<tr><td>1186</td><td>58</td><td>1</td><td>0</td></tr>",
                            "<tr><td>1187</td><td>46</td><td>1</td><td>0</td></tr>",
                            "<tr><td>1188</td><td>182</td><td>2</td><td>0</td></tr>",
                            "<tr><td>1189</td><td>89</td><td>3</td><td>0</td></tr>",
                            "<tr><td>1190</td><td>161</td><td>1</td><td>0</td></tr>",
                            "<tr><td>1191</td><td>59</td><td>2</td><td>1</td></tr>",
                            "<tr><td>1192</td><td>117</td><td>2</td><td>0</td></tr>",
                            "<tr><td>1193</td><td>143</td><td>2</td><td>1</td></tr>",
                            "<tr><td>1196</td><td>88</td><td>3</td><td>0</td></tr>",
                            "<tr><td>1197</td><td>152</td><td>2</td><td>0</td></tr>",
                            "<tr><td>1200</td><td>49</td><td>3</td><td>0</td></tr>",
                            "<tr><td>1202</td><td>52</td><td>1</td><td>0</td></tr>",
                            "<tr><td>1203</td><td>150</td><td>2</td><td>1</td></tr>",
                            "<tr><td>1205</td><td>162</td><td>3</td><td>0</td></tr>",
                            "<tr><td>1208</td><td>58</td><td>2</td><td>1</td></tr>",
                            "<tr><td>1209</td><td>122</td><td>3</td><td>1</td></tr>",
                            "<tr><td>1210</td><td>124</td><td>3</td><td>0</td></tr>",
                            "<tr><td>1211</td><td>178</td><td>2</td><td>1</td></tr>",
                            "<tr><td>1212</td><td>21</td><td>2</td><td>0</td></tr>",
                            "<tr><td>1213</td><td>91</td><td>1</td><td>0</td></tr>",
                            "<tr><td>1215</td><td>121</td><td>2</td><td>1</td></tr>",
                            "<tr><td>1218</td><td>61</td><td>3</td><td>0</td></tr>",
                            "<tr><td>1221</td><td>49</td><td>3</td><td>0</td></tr>",
                            "<tr><td>1222</td><td>143</td><td>3</td><td>0</td></tr>",
                            "<tr><td>1223</td><td>123</td><td>3</td><td>0</td></tr>",
                            "<tr><td>1224</td><td>50</td><td>1</td><td>0</td></tr>",
                            "<tr><td>1225</td><td>69</td><td>1</td><td>0</td></tr>",
                            "<tr><td>1227</td><td>43</td><td>2</td><td>0</td></tr>",
                            "<tr><td>1228</td><td>106</td><td>2</td><td>0</td></tr>",
                            "<tr><td>1229</td><td>79</td><td>3</td><td>0</td></tr>",
                            "<tr><td>1230</td><td>182</td><td>1</td><td>0</td></tr>",
                            "<tr><td>1231</td><td>182</td><td>2</td><td>0</td></tr>",
                            "<tr><td>1236</td><td>11</td><td>2</td><td>0</td></tr>",
                            "<tr><td>1237</td><td>19</td><td>2</td><td>0</td></tr>",
                            "<tr><td>1243</td><td>48</td><td>3</td><td>0</td></tr>",
                            "<tr><td>1244</td><td>15</td><td>2</td><td>0</td></tr>",
                            "<tr><td>1247</td><td>117</td><td>2</td><td>1</td></tr>",
                            "<tr><td>1250</td><td>107</td><td>1</td><td>0</td></tr>",
                            "<tr><td>1251</td><td>184</td><td>1</td><td>0</td></tr>",
                            "<tr><td>1252</td><td>7</td><td>1</td><td>0</td></tr>",
                            "<tr><td>1253</td><td>89</td><td>2</td><td>1</td></tr>",
                            "<tr><td>1255</td><td>58</td><td>2</td><td>0</td></tr>",
                            "<tr><td>1256</td><td>138</td><td>2</td><td>0</td></tr>",
                            "<tr><td>1258</td><td>52</td><td>1</td><td>0</td></tr>",
                            "<tr><td>1260</td><td>9</td><td>3</td><td>1</td></tr>",
                            "<tr><td>1264</td><td>66</td><td>2</td><td>1</td></tr>",
                            "<tr><td>1265</td><td>163</td><td>2</td><td>0</td></tr>",
                            "<tr><td>1266</td><td>168</td><td>2</td><td>0</td></tr>",
                            "<tr><td>1269</td><td>89</td><td>2</td><td>0</td></tr>",
                            "<tr><td>1273</td><td>88</td><td>2</td><td>1</td></tr>",
                            "<tr><td>1275</td><td>27</td><td>2</td><td>1</td></tr>",
                            "<tr><td>1276</td><td>174</td><td>2</td><td>0</td></tr>",
                            "<tr><td>1277</td><td>82</td><td>2</td><td>1</td></tr>",
                            "<tr><td>1278</td><td>176</td><td>2</td><td>1</td></tr>",
                            "<tr><td>1281</td><td>78</td><td>2</td><td>0</td></tr>",
                            "<tr><td>1282</td><td>123</td><td>3</td><td>0</td></tr>",
                            "<tr><td>1283</td><td>138</td><td>3</td><td>0</td></tr>",
                            "<tr><td>1284</td><td>164</td><td>2</td><td>0</td></tr>",
                            "<tr><td>1285</td><td>58</td><td>2</td><td>1</td></tr>",
                            "<tr><td>1286</td><td>127</td><td>2</td><td>1</td></tr>",
                            "<tr><td>1289</td><td>135</td><td>3</td><td>0</td></tr>",
                            "<tr><td>1291</td><td>46</td><td>2</td><td>0</td></tr>",
                            "<tr><td>1292</td><td>164</td><td>2</td><td>0</td></tr>",
                            "<tr><td>1293</td><td>58</td><td>2</td><td>0</td></tr>",
                            "<tr><td>1295</td><td>44</td><td>3</td><td>0</td></tr>",
                            "<tr><td>1299</td><td>90</td><td>2</td><td>0</td></tr>",
                            "<tr><td>1301</td><td>132</td><td>3</td><td>0</td></tr>",
                            "<tr><td>1303</td><td>45</td><td>2</td><td>0</td></tr>",
                            "<tr><td>1304</td><td>197</td><td>3</td><td>0</td></tr>",
                            "<tr><td>1306</td><td>133</td><td>1</td><td>0</td></tr>",
                            "<tr><td>1308</td><td>182</td><td>1</td><td>0</td></tr>",
                            "<tr><td>1309</td><td>42</td><td>2</td><td>0</td></tr>",
                            "<tr><td>1312</td><td>94</td><td>1</td><td>0</td></tr>",
                            "<tr><td>1314</td><td>196</td><td>2</td><td>0</td></tr>",
                            "<tr><td>1316</td><td>17</td><td>3</td><td>0</td></tr>",
                            "<tr><td>1317</td><td>182</td><td>2</td><td>0</td></tr>",
                            "<tr><td>1319</td><td>10</td><td>2</td><td>0</td></tr>",
                            "<tr><td>1320</td><td>85</td><td>2</td><td>1</td></tr>",
                            "<tr><td>1321</td><td>33</td><td>2</td><td>1</td></tr>",
                            "<tr><td>1323</td><td>191</td><td>2</td><td>1</td></tr>",
                            "<tr><td>1325</td><td>70</td><td>2</td><td>1</td></tr>",
                            "<tr><td>1326</td><td>182</td><td>2</td><td>0</td></tr>",
                            "<tr><td>1328</td><td>54</td><td>2</td><td>0</td></tr>",
                            "<tr><td>1329</td><td>171</td><td>1</td><td>0</td></tr>",
                            "<tr><td>1331</td><td>73</td><td>2</td><td>0</td></tr>",
                            "<tr><td>1333</td><td>70</td><td>2</td><td>1</td></tr>",
                            "<tr><td>1336</td><td>172</td><td>1</td><td>0</td></tr>",
                            "<tr><td>1338</td><td>145</td><td>1</td><td>0</td></tr>",
                            "<tr><td>1339</td><td>120</td><td>1</td><td>0</td></tr>",
                            "<tr><td>1342</td><td>170</td><td>1</td><td>0</td></tr>",
                            "<tr><td>1345</td><td>79</td><td>2</td><td>0</td></tr>",
                            "<tr><td>1346</td><td>181</td><td>2</td><td>1</td></tr>",
                            "<tr><td>1347</td><td>13</td><td>3</td><td>0</td></tr>",
                            "<tr><td>1348</td><td>57</td><td>2</td><td>0</td></tr>",
                            "<tr><td>1349</td><td>87</td><td>2</td><td>0</td></tr>",
                            "<tr><td>1350</td><td>173</td><td>1</td><td>0</td></tr>",
                            "<tr><td>1351</td><td>38</td><td>1</td><td>0</td></tr>",
                            "<tr><td>1352</td><td>115</td><td>2</td><td>1</td></tr>",
                            "<tr><td>1354</td><td>107</td><td>2</td><td>1</td></tr>",
                            "<tr><td>1355</td><td>93</td><td>3</td><td>2</td></tr>",
                            "<tr><td>1356</td><td>169</td><td>2</td><td>1</td></tr>",
                            "<tr><td>1357</td><td>140</td><td>2</td><td>1</td></tr>",
                            "<tr><td>1359</td><td>88</td><td>2</td><td>1</td></tr>",
                            "<tr><td>1362</td><td>25</td><td>3</td><td>1</td></tr>",
                            "<tr><td>1363</td><td>133</td><td>3</td><td>0</td></tr>",
                            "<tr><td>1366</td><td>81</td><td>1</td><td>0</td></tr>",
                            "<tr><td>1367</td><td>80</td><td>1</td><td>0</td></tr>",
                            "<tr><td>1368</td><td>94</td><td>2</td><td>0</td></tr>",
                            "<tr><td>1369</td><td>142</td><td>3</td><td>0</td></tr>",
                            "<tr><td>1370</td><td>138</td><td>3</td><td>1</td></tr>",
                            "<tr><td>1372</td><td>106</td><td>1</td><td>0</td></tr>",
                            "<tr><td>1373</td><td>121</td><td>2</td><td>0</td></tr>",
                            "<tr><td>1374</td><td>118</td><td>1</td><td>0</td></tr>",
                            "<tr><td>1376</td><td>84</td><td>3</td><td>0</td></tr>",
                            "<tr><td>1377</td><td>27</td><td>2</td><td>1</td></tr>",
                            "<tr><td>1379</td><td>83</td><td>1</td><td>0</td></tr>",
                            "<tr><td>1380</td><td>39</td><td>2</td><td>0</td></tr>",
                            "<tr><td>1381</td><td>33</td><td>2</td><td>0</td></tr>",
                            "<tr><td>1384</td><td>84</td><td>1</td><td>0</td></tr>",
                            "<tr><td>1386</td><td>55</td><td>2</td><td>1</td></tr>",
                            "<tr><td>1387</td><td>197</td><td>2</td><td>1</td></tr>",
                            "<tr><td>1395</td><td>97</td><td>3</td><td>0</td></tr>",
                            "<tr><td>1396</td><td>72</td><td>1</td><td>0</td></tr>",
                            "<tr><td>1399</td><td>89</td><td>3</td><td>0</td></tr>",
                            "<tr><td>1401</td><td>141</td><td>2</td><td>0</td></tr>",
                            "<tr><td>1402</td><td>98</td><td>2</td><td>0</td></tr>",
                            "<tr><td>1403</td><td>124</td><td>1</td><td>0</td></tr>",
                            "<tr><td>1404</td><td>187</td><td>2</td><td>1</td></tr>",
                            "<tr><td>1405</td><td>90</td><td>3</td><td>0</td></tr>",
                            "<tr><td>1406</td><td>82</td><td>2</td><td>1</td></tr>",
                            "<tr><td>1407</td><td>175</td><td>2</td><td>0</td></tr>",
                            "<tr><td>1409</td><td>133</td><td>3</td><td>0</td></tr>",
                            "<tr><td>1410</td><td>182</td><td>2</td><td>0</td></tr>",
                            "<tr><td>1411</td><td>35</td><td>2</td><td>1</td></tr>",
                            "<tr><td>1413</td><td>119</td><td>2</td><td>0</td></tr>",
                            "<tr><td>1414</td><td>167</td><td>3</td><td>0</td></tr>",
                            "<tr><td>1415</td><td>24</td><td>4</td><td>1</td></tr>",
                            "<tr><td>1416</td><td>38</td><td>2</td><td>0</td></tr>",
                            "<tr><td>1417</td><td>97</td><td>2</td><td>0</td></tr>",
                            "<tr><td>1418</td><td>15</td><td>2</td><td>1</td></tr>",
                            "<tr><td>1420</td><td>198</td><td>1</td><td>0</td></tr>",
                            "<tr><td>1421</td><td>172</td><td>2</td><td>0</td></tr>",
                            "<tr><td>1422</td><td>182</td><td>1</td><td>0</td></tr>",
                            "<tr><td>1424</td><td>110</td><td>2</td><td>0</td></tr>",
                            "<tr><td>1425</td><td>44</td><td>2</td><td>1</td></tr>",
                            "<tr><td>1426</td><td>62</td><td>2</td><td>0</td></tr>",
                            "<tr><td>1428</td><td>126</td><td>1</td><td>0</td></tr>",
                            "<tr><td>1429</td><td>173</td><td>2</td><td>0</td></tr>",
                            "<tr><td>1430</td><td>12</td><td>1</td><td>0</td></tr>",
                            "<tr><td>1431</td><td>52</td><td>2</td><td>0</td></tr>",
                            "<tr><td>1432</td><td>150</td><td>2</td><td>0</td></tr>",
                            "<tr><td>1433</td><td>139</td><td>2</td><td>1</td></tr>",
                            "<tr><td>1434</td><td>3</td><td>1</td><td>0</td></tr>",
                            "<tr><td>1435</td><td>39</td><td>2</td><td>0</td></tr>",
                            "<tr><td>1436</td><td>35</td><td>1</td><td>0</td></tr>",
                            "<tr><td>1437</td><td>183</td><td>3</td><td>0</td></tr>",
                            "<tr><td>1438</td><td>96</td><td>2</td><td>0</td></tr>",
                            "<tr><td>1441</td><td>185</td><td>2</td><td>1</td></tr>",
                            "<tr><td>1443</td><td>81</td><td>1</td><td>0</td></tr>",
                            "<tr><td>1444</td><td>42</td><td>2</td><td>0</td></tr>",
                            "<tr><td>1445</td><td>129</td><td>2</td><td>1</td></tr>",
                            "<tr><td>1446</td><td>64</td><td>2</td><td>0</td></tr>",
                            "<tr><td>1448</td><td>143</td><td>2</td><td>0</td></tr>",
                            "<tr><td>1450</td><td>139</td><td>1</td><td>0</td></tr>",
                            "<tr><td>1451</td><td>58</td><td>2</td><td>0</td></tr>",
                            "<tr><td>1454</td><td>39</td><td>2</td><td>0</td></tr>",
                            "<tr><td>1456</td><td>87</td><td>3</td><td>0</td></tr>",
                            "<tr><td>1457</td><td>70</td><td>2</td><td>0</td></tr>",
                            "<tr><td>1458</td><td>75</td><td>2</td><td>1</td></tr>",
                            "<tr><td>1459</td><td>28</td><td>2</td><td>0</td></tr>",
                            "<tr><td>1461</td><td>77</td><td>1</td><td>0</td></tr>",
                            "<tr><td>1463</td><td>185</td><td>3</td><td>0</td></tr>",
                            "<tr><td>1464</td><td>81</td><td>2</td><td>0</td></tr>",
                            "<tr><td>1465</td><td>64</td><td>2</td><td>0</td></tr>",
                            "<tr><td>1466</td><td>57</td><td>1</td><td>0</td></tr>",
                            "<tr><td>1469</td><td>13</td><td>1</td><td>0</td></tr>",
                            "<tr><td>1470</td><td>153</td><td>3</td><td>0</td></tr>",
                            "<tr><td>1471</td><td>145</td><td>2</td><td>1</td></tr>",
                            "<tr><td>1473</td><td>195</td><td>2</td><td>0</td></tr>",
                            "<tr><td>1474</td><td>131</td><td>2</td><td>0</td></tr>",
                            "<tr><td>1475</td><td>130</td><td>2</td><td>0</td></tr>",
                            "<tr><td>1476</td><td>27</td><td>2</td><td>1</td></tr>",
                            "<tr><td>1478</td><td>38</td><td>2</td><td>0</td></tr>",
                            "<tr><td>1480</td><td>35</td><td>1</td><td>0</td></tr>",
                            "<tr><td>1483</td><td>120</td><td>3</td><td>1</td></tr>",
                            "<tr><td>1486</td><td>99</td><td>2</td><td>0</td></tr>",
                            "<tr><td>1488</td><td>119</td><td>2</td><td>0</td></tr>",
                            "<tr><td>1489</td><td>110</td><td>2</td><td>0</td></tr>",
                            "<tr><td>1490</td><td>156</td><td>2</td><td>0</td></tr>",
                            "<tr><td>1492</td><td>4</td><td>2</td><td>0</td></tr>",
                            "<tr><td>1494</td><td>107</td><td>2</td><td>1</td></tr>",
                            "<tr><td>1497</td><td>179</td><td>2</td><td>1</td></tr>",
                            "<tr><td>1498</td><td>16</td><td>3</td><td>0</td></tr>",
                            "<tr><td>1499</td><td>113</td><td>3</td><td>1</td></tr>",
                            "<tr><td>1502</td><td>191</td><td>2</td><td>0</td></tr>",
                            "<tr><td>1504</td><td>57</td><td>1</td><td>0</td></tr>",
                            "<tr><td>1507</td><td>153</td><td>2</td><td>1</td></tr>",
                            "<tr><td>1508</td><td>191</td><td>1</td><td>0</td></tr>",
                            "<tr><td>1509</td><td>129</td><td>2</td><td>1</td></tr>",
                            "<tr><td>1514</td><td>149</td><td>2</td><td>0</td></tr>",
                            "<tr><td>1517</td><td>190</td><td>2</td><td>0</td></tr>",
                            "<tr><td>1518</td><td>94</td><td>2</td><td>0</td></tr>",
                            "<tr><td>1519</td><td>132</td><td>2</td><td>1</td></tr>",
                            "<tr><td>1520</td><td>55</td><td>2</td><td>1</td></tr>",
                            "<tr><td>1521</td><td>89</td><td>3</td><td>0</td></tr>",
                            "<tr><td>1523</td><td>11</td><td>1</td><td>0</td></tr>",
                            "<tr><td>1524</td><td>43</td><td>2</td><td>0</td></tr>",
                            "<tr><td>1526</td><td>166</td><td>2</td><td>1</td></tr>",
                            "<tr><td>1528</td><td>97</td><td>2</td><td>1</td></tr>",
                            "<tr><td>1529</td><td>35</td><td>1</td><td>0</td></tr>",
                            "<tr><td>1530</td><td>112</td><td>2</td><td>1</td></tr>",
                            "<tr><td>1531</td><td>124</td><td>3</td><td>0</td></tr>",
                            "<tr><td>1532</td><td>104</td><td>2</td><td>0</td></tr>",
                            "<tr><td>1534</td><td>52</td><td>2</td><td>1</td></tr>",
                            "<tr><td>1535</td><td>134</td><td>2</td><td>0</td></tr>",
                            "<tr><td>1536</td><td>49</td><td>2</td><td>0</td></tr>",
                            "<tr><td>1537</td><td>9</td><td>3</td><td>1</td></tr>",
                            "<tr><td>1539</td><td>154</td><td>2</td><td>0</td></tr>",
                            "<tr><td>1540</td><td>114</td><td>2</td><td>1</td></tr>",
                            "<tr><td>1541</td><td>155</td><td>1</td><td>0</td></tr>",
                            "<tr><td>1542</td><td>14</td><td>3</td><td>1</td></tr>",
                            "<tr><td>1543</td><td>95</td><td>1</td><td>0</td></tr>",
                            "<tr><td>1544</td><td>3</td><td>3</td><td>0</td></tr>",
                            "<tr><td>1548</td><td>88</td><td>2</td><td>1</td></tr>",
                            "<tr><td>1550</td><td>51</td><td>3</td><td>1</td></tr>",
                            "<tr><td>1552</td><td>44</td><td>3</td><td>0</td></tr>",
                            "<tr><td>1555</td><td>92</td><td>3</td><td>1</td></tr>",
                            "<tr><td>1556</td><td>38</td><td>2</td><td>1</td></tr>",
                            "<tr><td>1557</td><td>76</td><td>2</td><td>0</td></tr>",
                            "<tr><td>1558</td><td>152</td><td>2</td><td>0</td></tr>",
                            "<tr><td>1559</td><td>180</td><td>2</td><td>1</td></tr>",
                            "<tr><td>1560</td><td>109</td><td>2</td><td>0</td></tr>",
                            "<tr><td>1565</td><td>160</td><td>2</td><td>1</td></tr>",
                            "<tr><td>1566</td><td>115</td><td>3</td><td>0</td></tr>",
                            "<tr><td>1567</td><td>171</td><td>2</td><td>0</td></tr>",
                            "<tr><td>1568</td><td>29</td><td>1</td><td>0</td></tr>",
                            "<tr><td>1569</td><td>96</td><td>3</td><td>0</td></tr>",
                            "<tr><td>1571</td><td>161</td><td>2</td><td>1</td></tr>",
                            "<tr><td>1573</td><td>59</td><td>2</td><td>1</td></tr>",
                            "<tr><td>1576</td><td>189</td><td>1</td><td>0</td></tr>",
                            "<tr><td>1577</td><td>78</td><td>2</td><td>1</td></tr>",
                            "<tr><td>1578</td><td>148</td><td>1</td><td>0</td></tr>",
                            "<tr><td>1579</td><td>127</td><td>2</td><td>1</td></tr>",
                            "<tr><td>1581</td><td>48</td><td>1</td><td>0</td></tr>",
                            "<tr><td>1582</td><td>64</td><td>2</td><td>0</td></tr>",
                            "</table>"
                        ]
                    }
                }
            ],
            "execution_count": 10
        },
        {
            "cell_type": "code",
            "source": [
                "--2.feladat\r\n",
                "select sz.SZALLAS_NEV,  f.SZOBA_FK\r\n",
                "from Szallashely sz JOIN Szoba szo on sz.SZALLAS_ID= szo.SZALLAS_FK\r\n",
                "                    JOIN foglalas f on szo.SZOBA_ID= f.SZOBA_FK\r\n",
                "WHERE f.SZOBA_FK>0\r\n",
                "--GROUP BY f.\r\n",
                "\r\n",
                ""
            ],
            "metadata": {
                "azdata_cell_guid": "e4faa1e1-d690-4006-8084-e333f8b547f7",
                "language": "sql"
            },
            "outputs": [
                {
                    "output_type": "display_data",
                    "data": {
                        "text/html": "(1027 rows affected)"
                    },
                    "metadata": {}
                },
                {
                    "output_type": "display_data",
                    "data": {
                        "text/html": "Total execution time: 00:00:00.048"
                    },
                    "metadata": {}
                },
                {
                    "output_type": "execute_result",
                    "metadata": {},
                    "execution_count": 13,
                    "data": {
                        "application/vnd.dataresource+json": {
                            "schema": {
                                "fields": [
                                    {
                                        "name": "SZALLAS_NEV"
                                    },
                                    {
                                        "name": "SZOBA_FK"
                                    }
                                ]
                            },
                            "data": [
                                {
                                    "SZALLAS_NEV": "Szieszta Apartmanház",
                                    "SZOBA_FK": "87"
                                },
                                {
                                    "SZALLAS_NEV": "Jáde panzió",
                                    "SZOBA_FK": "131"
                                },
                                {
                                    "SZALLAS_NEV": "Sába-Ház",
                                    "SZOBA_FK": "6"
                                },
                                {
                                    "SZALLAS_NEV": "Fortuna Panzió",
                                    "SZOBA_FK": "42"
                                },
                                {
                                    "SZALLAS_NEV": "Sába-Ház",
                                    "SZOBA_FK": "7"
                                },
                                {
                                    "SZALLAS_NEV": "Kentaur Hotel",
                                    "SZOBA_FK": "68"
                                },
                                {
                                    "SZALLAS_NEV": "Sába-Ház",
                                    "SZOBA_FK": "5"
                                },
                                {
                                    "SZALLAS_NEV": "Lagúna Hotel",
                                    "SZOBA_FK": "141"
                                },
                                {
                                    "SZALLAS_NEV": "Fortuna Apartman",
                                    "SZOBA_FK": "21"
                                },
                                {
                                    "SZALLAS_NEV": "Gold Hotel",
                                    "SZOBA_FK": "170"
                                },
                                {
                                    "SZALLAS_NEV": "Kentaur Hotel",
                                    "SZOBA_FK": "78"
                                },
                                {
                                    "SZALLAS_NEV": "Sába-Ház",
                                    "SZOBA_FK": "10"
                                },
                                {
                                    "SZALLAS_NEV": "Partiszél Vendégház",
                                    "SZOBA_FK": "164"
                                },
                                {
                                    "SZALLAS_NEV": "Gold Hotel",
                                    "SZOBA_FK": "182"
                                },
                                {
                                    "SZALLAS_NEV": "Kentaur Hotel",
                                    "SZOBA_FK": "83"
                                },
                                {
                                    "SZALLAS_NEV": "Gold Hotel",
                                    "SZOBA_FK": "169"
                                },
                                {
                                    "SZALLAS_NEV": "Gold Hotel",
                                    "SZOBA_FK": "171"
                                },
                                {
                                    "SZALLAS_NEV": "Lagúna Hotel",
                                    "SZOBA_FK": "155"
                                },
                                {
                                    "SZALLAS_NEV": "Hotel Három Hattyú",
                                    "SZOBA_FK": "125"
                                },
                                {
                                    "SZALLAS_NEV": "Lagúna Hotel",
                                    "SZOBA_FK": "155"
                                },
                                {
                                    "SZALLAS_NEV": "Gold Hotel",
                                    "SZOBA_FK": "185"
                                },
                                {
                                    "SZALLAS_NEV": "Lagúna Hotel",
                                    "SZOBA_FK": "139"
                                },
                                {
                                    "SZALLAS_NEV": "Jáde panzió",
                                    "SZOBA_FK": "130"
                                },
                                {
                                    "SZALLAS_NEV": "Lagúna Hotel",
                                    "SZOBA_FK": "144"
                                },
                                {
                                    "SZALLAS_NEV": "Lagúna Hotel",
                                    "SZOBA_FK": "137"
                                },
                                {
                                    "SZALLAS_NEV": "Kentaur Hotel",
                                    "SZOBA_FK": "79"
                                },
                                {
                                    "SZALLAS_NEV": "Lagúna Hotel",
                                    "SZOBA_FK": "136"
                                },
                                {
                                    "SZALLAS_NEV": "Kentaur Hotel",
                                    "SZOBA_FK": "70"
                                },
                                {
                                    "SZALLAS_NEV": "Hotel Három Hattyú",
                                    "SZOBA_FK": "107"
                                },
                                {
                                    "SZALLAS_NEV": "Hotel Három Hattyú",
                                    "SZOBA_FK": "123"
                                },
                                {
                                    "SZALLAS_NEV": "Lagúna Hotel",
                                    "SZOBA_FK": "156"
                                },
                                {
                                    "SZALLAS_NEV": "Fortuna Panzió",
                                    "SZOBA_FK": "44"
                                },
                                {
                                    "SZALLAS_NEV": "Fortuna Panzió",
                                    "SZOBA_FK": "42"
                                },
                                {
                                    "SZALLAS_NEV": "Lagúna Hotel",
                                    "SZOBA_FK": "149"
                                },
                                {
                                    "SZALLAS_NEV": "Gold Hotel",
                                    "SZOBA_FK": "176"
                                },
                                {
                                    "SZALLAS_NEV": "Kentaur Hotel",
                                    "SZOBA_FK": "77"
                                },
                                {
                                    "SZALLAS_NEV": "Lagúna Hotel",
                                    "SZOBA_FK": "153"
                                },
                                {
                                    "SZALLAS_NEV": "Kentaur Hotel",
                                    "SZOBA_FK": "74"
                                },
                                {
                                    "SZALLAS_NEV": "Hotel Három Hattyú",
                                    "SZOBA_FK": "115"
                                },
                                {
                                    "SZALLAS_NEV": "Hotel Három Hattyú",
                                    "SZOBA_FK": "100"
                                },
                                {
                                    "SZALLAS_NEV": "Fortuna panzió",
                                    "SZOBA_FK": "31"
                                },
                                {
                                    "SZALLAS_NEV": "Partiszél Vendégház",
                                    "SZOBA_FK": "162"
                                },
                                {
                                    "SZALLAS_NEV": "Gold Hotel",
                                    "SZOBA_FK": "190"
                                },
                                {
                                    "SZALLAS_NEV": "Fortuna panzió",
                                    "SZOBA_FK": "39"
                                },
                                {
                                    "SZALLAS_NEV": "Fortuna Apartman",
                                    "SZOBA_FK": "17"
                                },
                                {
                                    "SZALLAS_NEV": "Fortuna Panzió",
                                    "SZOBA_FK": "48"
                                },
                                {
                                    "SZALLAS_NEV": "Fortuna panzió",
                                    "SZOBA_FK": "30"
                                },
                                {
                                    "SZALLAS_NEV": "Hotel Három Hattyú",
                                    "SZOBA_FK": "111"
                                },
                                {
                                    "SZALLAS_NEV": "Fortuna panzió",
                                    "SZOBA_FK": "31"
                                },
                                {
                                    "SZALLAS_NEV": "Hotel Három Hattyú",
                                    "SZOBA_FK": "96"
                                },
                                {
                                    "SZALLAS_NEV": "Gold Hotel",
                                    "SZOBA_FK": "184"
                                },
                                {
                                    "SZALLAS_NEV": "Sába-Ház",
                                    "SZOBA_FK": "9"
                                },
                                {
                                    "SZALLAS_NEV": "Hotel Három Hattyú",
                                    "SZOBA_FK": "106"
                                },
                                {
                                    "SZALLAS_NEV": "Fortuna panzió",
                                    "SZOBA_FK": "29"
                                },
                                {
                                    "SZALLAS_NEV": "Hotel Három Hattyú",
                                    "SZOBA_FK": "117"
                                },
                                {
                                    "SZALLAS_NEV": "Jáde panzió",
                                    "SZOBA_FK": "130"
                                },
                                {
                                    "SZALLAS_NEV": "Hotel Három Hattyú",
                                    "SZOBA_FK": "109"
                                },
                                {
                                    "SZALLAS_NEV": "Gold Hotel",
                                    "SZOBA_FK": "186"
                                },
                                {
                                    "SZALLAS_NEV": "Hotel Három Hattyú",
                                    "SZOBA_FK": "94"
                                },
                                {
                                    "SZALLAS_NEV": "Hotel Három Hattyú",
                                    "SZOBA_FK": "117"
                                },
                                {
                                    "SZALLAS_NEV": "Hotel Három Hattyú",
                                    "SZOBA_FK": "105"
                                },
                                {
                                    "SZALLAS_NEV": "Jáde panzió",
                                    "SZOBA_FK": "132"
                                },
                                {
                                    "SZALLAS_NEV": "Sába-Ház",
                                    "SZOBA_FK": "1"
                                },
                                {
                                    "SZALLAS_NEV": "Hotel Három Hattyú",
                                    "SZOBA_FK": "109"
                                },
                                {
                                    "SZALLAS_NEV": "Kentaur Hotel",
                                    "SZOBA_FK": "54"
                                },
                                {
                                    "SZALLAS_NEV": "Hotel Három Hattyú",
                                    "SZOBA_FK": "96"
                                },
                                {
                                    "SZALLAS_NEV": "Fortuna panzió",
                                    "SZOBA_FK": "33"
                                },
                                {
                                    "SZALLAS_NEV": "Kentaur Hotel",
                                    "SZOBA_FK": "63"
                                },
                                {
                                    "SZALLAS_NEV": "Fortuna Apartman",
                                    "SZOBA_FK": "18"
                                },
                                {
                                    "SZALLAS_NEV": "Fortuna panzió",
                                    "SZOBA_FK": "38"
                                },
                                {
                                    "SZALLAS_NEV": "Fortuna Panzió",
                                    "SZOBA_FK": "48"
                                },
                                {
                                    "SZALLAS_NEV": "Sába-Ház",
                                    "SZOBA_FK": "3"
                                },
                                {
                                    "SZALLAS_NEV": "Partiszél Vendégház",
                                    "SZOBA_FK": "163"
                                },
                                {
                                    "SZALLAS_NEV": "Hotel Három Hattyú",
                                    "SZOBA_FK": "98"
                                },
                                {
                                    "SZALLAS_NEV": "Hotel Három Hattyú",
                                    "SZOBA_FK": "99"
                                },
                                {
                                    "SZALLAS_NEV": "Gold Hotel",
                                    "SZOBA_FK": "187"
                                },
                                {
                                    "SZALLAS_NEV": "Gold Hotel",
                                    "SZOBA_FK": "193"
                                },
                                {
                                    "SZALLAS_NEV": "Hotel Három Hattyú",
                                    "SZOBA_FK": "97"
                                },
                                {
                                    "SZALLAS_NEV": "Hotel Három Hattyú",
                                    "SZOBA_FK": "91"
                                },
                                {
                                    "SZALLAS_NEV": "Hotel Három Hattyú",
                                    "SZOBA_FK": "100"
                                },
                                {
                                    "SZALLAS_NEV": "Kentaur Hotel",
                                    "SZOBA_FK": "67"
                                },
                                {
                                    "SZALLAS_NEV": "Partiszél Vendégház",
                                    "SZOBA_FK": "161"
                                },
                                {
                                    "SZALLAS_NEV": "Gold Hotel",
                                    "SZOBA_FK": "165"
                                },
                                {
                                    "SZALLAS_NEV": "Lagúna Hotel",
                                    "SZOBA_FK": "150"
                                },
                                {
                                    "SZALLAS_NEV": "Kentaur Hotel",
                                    "SZOBA_FK": "54"
                                },
                                {
                                    "SZALLAS_NEV": "Hotel Három Hattyú",
                                    "SZOBA_FK": "127"
                                },
                                {
                                    "SZALLAS_NEV": "Gold Hotel",
                                    "SZOBA_FK": "166"
                                },
                                {
                                    "SZALLAS_NEV": "Kentaur Hotel",
                                    "SZOBA_FK": "67"
                                },
                                {
                                    "SZALLAS_NEV": "Kentaur Hotel",
                                    "SZOBA_FK": "78"
                                },
                                {
                                    "SZALLAS_NEV": "Szieszta Apartmanház",
                                    "SZOBA_FK": "85"
                                },
                                {
                                    "SZALLAS_NEV": "Lagúna Hotel",
                                    "SZOBA_FK": "157"
                                },
                                {
                                    "SZALLAS_NEV": "Lagúna Hotel",
                                    "SZOBA_FK": "137"
                                },
                                {
                                    "SZALLAS_NEV": "Kentaur Hotel",
                                    "SZOBA_FK": "65"
                                },
                                {
                                    "SZALLAS_NEV": "Sába-Ház",
                                    "SZOBA_FK": "4"
                                },
                                {
                                    "SZALLAS_NEV": "Lagúna Hotel",
                                    "SZOBA_FK": "149"
                                },
                                {
                                    "SZALLAS_NEV": "Partiszél Vendégház",
                                    "SZOBA_FK": "161"
                                },
                                {
                                    "SZALLAS_NEV": "Hotel Három Hattyú",
                                    "SZOBA_FK": "109"
                                },
                                {
                                    "SZALLAS_NEV": "Jáde panzió",
                                    "SZOBA_FK": "131"
                                },
                                {
                                    "SZALLAS_NEV": "Hotel Három Hattyú",
                                    "SZOBA_FK": "95"
                                },
                                {
                                    "SZALLAS_NEV": "Lagúna Hotel",
                                    "SZOBA_FK": "137"
                                },
                                {
                                    "SZALLAS_NEV": "Fortuna Panzió",
                                    "SZOBA_FK": "44"
                                },
                                {
                                    "SZALLAS_NEV": "Gold Hotel",
                                    "SZOBA_FK": "169"
                                },
                                {
                                    "SZALLAS_NEV": "Fortuna Apartman",
                                    "SZOBA_FK": "21"
                                },
                                {
                                    "SZALLAS_NEV": "Lagúna Hotel",
                                    "SZOBA_FK": "136"
                                },
                                {
                                    "SZALLAS_NEV": "Gold Hotel",
                                    "SZOBA_FK": "179"
                                },
                                {
                                    "SZALLAS_NEV": "Családi Ház",
                                    "SZOBA_FK": "14"
                                },
                                {
                                    "SZALLAS_NEV": "Lagúna Hotel",
                                    "SZOBA_FK": "146"
                                },
                                {
                                    "SZALLAS_NEV": "Hotel Három Hattyú",
                                    "SZOBA_FK": "94"
                                },
                                {
                                    "SZALLAS_NEV": "Sába-Ház",
                                    "SZOBA_FK": "3"
                                },
                                {
                                    "SZALLAS_NEV": "Kentaur Hotel",
                                    "SZOBA_FK": "80"
                                },
                                {
                                    "SZALLAS_NEV": "Kentaur Hotel",
                                    "SZOBA_FK": "54"
                                },
                                {
                                    "SZALLAS_NEV": "Gold Hotel",
                                    "SZOBA_FK": "173"
                                },
                                {
                                    "SZALLAS_NEV": "Fortuna Panzió",
                                    "SZOBA_FK": "43"
                                },
                                {
                                    "SZALLAS_NEV": "Hotel Három Hattyú",
                                    "SZOBA_FK": "96"
                                },
                                {
                                    "SZALLAS_NEV": "Gold Hotel",
                                    "SZOBA_FK": "185"
                                },
                                {
                                    "SZALLAS_NEV": "Gold Hotel",
                                    "SZOBA_FK": "196"
                                },
                                {
                                    "SZALLAS_NEV": "Kentaur Hotel",
                                    "SZOBA_FK": "83"
                                },
                                {
                                    "SZALLAS_NEV": "Gold Hotel",
                                    "SZOBA_FK": "193"
                                },
                                {
                                    "SZALLAS_NEV": "Kentaur Hotel",
                                    "SZOBA_FK": "60"
                                },
                                {
                                    "SZALLAS_NEV": "Gold Hotel",
                                    "SZOBA_FK": "181"
                                },
                                {
                                    "SZALLAS_NEV": "Lagúna Hotel",
                                    "SZOBA_FK": "148"
                                },
                                {
                                    "SZALLAS_NEV": "Gold Hotel",
                                    "SZOBA_FK": "185"
                                },
                                {
                                    "SZALLAS_NEV": "Gold Hotel",
                                    "SZOBA_FK": "192"
                                },
                                {
                                    "SZALLAS_NEV": "Kentaur Hotel",
                                    "SZOBA_FK": "71"
                                },
                                {
                                    "SZALLAS_NEV": "Gold Hotel",
                                    "SZOBA_FK": "174"
                                },
                                {
                                    "SZALLAS_NEV": "Kentaur Hotel",
                                    "SZOBA_FK": "76"
                                },
                                {
                                    "SZALLAS_NEV": "Gold Hotel",
                                    "SZOBA_FK": "184"
                                },
                                {
                                    "SZALLAS_NEV": "Hotel Három Hattyú",
                                    "SZOBA_FK": "110"
                                },
                                {
                                    "SZALLAS_NEV": "Fortuna panzió",
                                    "SZOBA_FK": "35"
                                },
                                {
                                    "SZALLAS_NEV": "Családi Ház",
                                    "SZOBA_FK": "16"
                                },
                                {
                                    "SZALLAS_NEV": "Fortuna panzió",
                                    "SZOBA_FK": "37"
                                },
                                {
                                    "SZALLAS_NEV": "Hotel Három Hattyú",
                                    "SZOBA_FK": "102"
                                },
                                {
                                    "SZALLAS_NEV": "Gold Hotel",
                                    "SZOBA_FK": "188"
                                },
                                {
                                    "SZALLAS_NEV": "Hotel Három Hattyú",
                                    "SZOBA_FK": "99"
                                },
                                {
                                    "SZALLAS_NEV": "Lagúna Hotel",
                                    "SZOBA_FK": "156"
                                },
                                {
                                    "SZALLAS_NEV": "Gold Hotel",
                                    "SZOBA_FK": "185"
                                },
                                {
                                    "SZALLAS_NEV": "Sába-Ház",
                                    "SZOBA_FK": "8"
                                },
                                {
                                    "SZALLAS_NEV": "Gold Hotel",
                                    "SZOBA_FK": "187"
                                },
                                {
                                    "SZALLAS_NEV": "Fortuna Apartman",
                                    "SZOBA_FK": "19"
                                },
                                {
                                    "SZALLAS_NEV": "Sába-Ház",
                                    "SZOBA_FK": "12"
                                },
                                {
                                    "SZALLAS_NEV": "Kentaur Hotel",
                                    "SZOBA_FK": "77"
                                },
                                {
                                    "SZALLAS_NEV": "Gold Hotel",
                                    "SZOBA_FK": "189"
                                },
                                {
                                    "SZALLAS_NEV": "Kentaur Hotel",
                                    "SZOBA_FK": "78"
                                },
                                {
                                    "SZALLAS_NEV": "Kentaur Hotel",
                                    "SZOBA_FK": "61"
                                },
                                {
                                    "SZALLAS_NEV": "Kentaur Hotel",
                                    "SZOBA_FK": "62"
                                },
                                {
                                    "SZALLAS_NEV": "Lagúna Hotel",
                                    "SZOBA_FK": "145"
                                },
                                {
                                    "SZALLAS_NEV": "Kentaur Hotel",
                                    "SZOBA_FK": "70"
                                },
                                {
                                    "SZALLAS_NEV": "Fortuna panzió",
                                    "SZOBA_FK": "37"
                                },
                                {
                                    "SZALLAS_NEV": "Hotel Három Hattyú",
                                    "SZOBA_FK": "119"
                                },
                                {
                                    "SZALLAS_NEV": "Fortuna panzió",
                                    "SZOBA_FK": "35"
                                },
                                {
                                    "SZALLAS_NEV": "Hotel Három Hattyú",
                                    "SZOBA_FK": "106"
                                },
                                {
                                    "SZALLAS_NEV": "Gold Hotel",
                                    "SZOBA_FK": "172"
                                },
                                {
                                    "SZALLAS_NEV": "Gold Hotel",
                                    "SZOBA_FK": "188"
                                },
                                {
                                    "SZALLAS_NEV": "Gold Hotel",
                                    "SZOBA_FK": "185"
                                },
                                {
                                    "SZALLAS_NEV": "Kentaur Hotel",
                                    "SZOBA_FK": "71"
                                },
                                {
                                    "SZALLAS_NEV": "Fortuna Apartman",
                                    "SZOBA_FK": "17"
                                },
                                {
                                    "SZALLAS_NEV": "Kentaur Hotel",
                                    "SZOBA_FK": "73"
                                },
                                {
                                    "SZALLAS_NEV": "Hotel Három Hattyú",
                                    "SZOBA_FK": "101"
                                },
                                {
                                    "SZALLAS_NEV": "Hotel Három Hattyú",
                                    "SZOBA_FK": "118"
                                },
                                {
                                    "SZALLAS_NEV": "Hotel Három Hattyú",
                                    "SZOBA_FK": "128"
                                },
                                {
                                    "SZALLAS_NEV": "Hotel Három Hattyú",
                                    "SZOBA_FK": "97"
                                },
                                {
                                    "SZALLAS_NEV": "Kentaur Hotel",
                                    "SZOBA_FK": "58"
                                },
                                {
                                    "SZALLAS_NEV": "Partiszél Vendégház",
                                    "SZOBA_FK": "160"
                                },
                                {
                                    "SZALLAS_NEV": "Gold Hotel",
                                    "SZOBA_FK": "195"
                                },
                                {
                                    "SZALLAS_NEV": "Hotel Három Hattyú",
                                    "SZOBA_FK": "119"
                                },
                                {
                                    "SZALLAS_NEV": "Hotel Három Hattyú",
                                    "SZOBA_FK": "129"
                                },
                                {
                                    "SZALLAS_NEV": "Lagúna Hotel",
                                    "SZOBA_FK": "135"
                                },
                                {
                                    "SZALLAS_NEV": "Fortuna panzió",
                                    "SZOBA_FK": "28"
                                },
                                {
                                    "SZALLAS_NEV": "Hotel Három Hattyú",
                                    "SZOBA_FK": "97"
                                },
                                {
                                    "SZALLAS_NEV": "Hotel Három Hattyú",
                                    "SZOBA_FK": "94"
                                },
                                {
                                    "SZALLAS_NEV": "Fortuna panzió",
                                    "SZOBA_FK": "31"
                                },
                                {
                                    "SZALLAS_NEV": "Szieszta Apartmanház",
                                    "SZOBA_FK": "90"
                                },
                                {
                                    "SZALLAS_NEV": "Lagúna Hotel",
                                    "SZOBA_FK": "152"
                                },
                                {
                                    "SZALLAS_NEV": "Gold Hotel",
                                    "SZOBA_FK": "181"
                                },
                                {
                                    "SZALLAS_NEV": "Hotel Három Hattyú",
                                    "SZOBA_FK": "91"
                                },
                                {
                                    "SZALLAS_NEV": "Lagúna Hotel",
                                    "SZOBA_FK": "140"
                                },
                                {
                                    "SZALLAS_NEV": "Kentaur Hotel",
                                    "SZOBA_FK": "55"
                                },
                                {
                                    "SZALLAS_NEV": "Hotel Három Hattyú",
                                    "SZOBA_FK": "121"
                                },
                                {
                                    "SZALLAS_NEV": "Kentaur Hotel",
                                    "SZOBA_FK": "66"
                                },
                                {
                                    "SZALLAS_NEV": "Hotel Három Hattyú",
                                    "SZOBA_FK": "114"
                                },
                                {
                                    "SZALLAS_NEV": "Sába-Ház",
                                    "SZOBA_FK": "1"
                                },
                                {
                                    "SZALLAS_NEV": "Hotel Három Hattyú",
                                    "SZOBA_FK": "121"
                                },
                                {
                                    "SZALLAS_NEV": "Gold Hotel",
                                    "SZOBA_FK": "182"
                                },
                                {
                                    "SZALLAS_NEV": "Hotel Három Hattyú",
                                    "SZOBA_FK": "93"
                                },
                                {
                                    "SZALLAS_NEV": "Partiszél Vendégház",
                                    "SZOBA_FK": "164"
                                },
                                {
                                    "SZALLAS_NEV": "Gold Hotel",
                                    "SZOBA_FK": "187"
                                },
                                {
                                    "SZALLAS_NEV": "Fortuna Apartman",
                                    "SZOBA_FK": "17"
                                },
                                {
                                    "SZALLAS_NEV": "Lagúna Hotel",
                                    "SZOBA_FK": "139"
                                },
                                {
                                    "SZALLAS_NEV": "Gold Hotel",
                                    "SZOBA_FK": "169"
                                },
                                {
                                    "SZALLAS_NEV": "Gold Hotel",
                                    "SZOBA_FK": "188"
                                },
                                {
                                    "SZALLAS_NEV": "Fortuna panzió",
                                    "SZOBA_FK": "36"
                                },
                                {
                                    "SZALLAS_NEV": "Gold Hotel",
                                    "SZOBA_FK": "172"
                                },
                                {
                                    "SZALLAS_NEV": "Fortuna panzió",
                                    "SZOBA_FK": "36"
                                },
                                {
                                    "SZALLAS_NEV": "Lagúna Hotel",
                                    "SZOBA_FK": "139"
                                },
                                {
                                    "SZALLAS_NEV": "Fortuna Panzió",
                                    "SZOBA_FK": "46"
                                },
                                {
                                    "SZALLAS_NEV": "Gold Hotel",
                                    "SZOBA_FK": "189"
                                },
                                {
                                    "SZALLAS_NEV": "Hotel Három Hattyú",
                                    "SZOBA_FK": "126"
                                },
                                {
                                    "SZALLAS_NEV": "Fortuna Apartman",
                                    "SZOBA_FK": "20"
                                },
                                {
                                    "SZALLAS_NEV": "Kentaur Hotel",
                                    "SZOBA_FK": "61"
                                },
                                {
                                    "SZALLAS_NEV": "Szieszta Apartmanház",
                                    "SZOBA_FK": "88"
                                },
                                {
                                    "SZALLAS_NEV": "Fortuna panzió",
                                    "SZOBA_FK": "27"
                                },
                                {
                                    "SZALLAS_NEV": "Sába-Ház",
                                    "SZOBA_FK": "7"
                                },
                                {
                                    "SZALLAS_NEV": "Jáde panzió",
                                    "SZOBA_FK": "131"
                                },
                                {
                                    "SZALLAS_NEV": "Lagúna Hotel",
                                    "SZOBA_FK": "141"
                                },
                                {
                                    "SZALLAS_NEV": "Hotel Három Hattyú",
                                    "SZOBA_FK": "120"
                                },
                                {
                                    "SZALLAS_NEV": "Családi Ház",
                                    "SZOBA_FK": "13"
                                },
                                {
                                    "SZALLAS_NEV": "Gold Hotel",
                                    "SZOBA_FK": "197"
                                },
                                {
                                    "SZALLAS_NEV": "Lagúna Hotel",
                                    "SZOBA_FK": "148"
                                },
                                {
                                    "SZALLAS_NEV": "Gold Hotel",
                                    "SZOBA_FK": "187"
                                },
                                {
                                    "SZALLAS_NEV": "Fortuna Apartman",
                                    "SZOBA_FK": "18"
                                },
                                {
                                    "SZALLAS_NEV": "Lagúna Hotel",
                                    "SZOBA_FK": "138"
                                },
                                {
                                    "SZALLAS_NEV": "Kentaur Hotel",
                                    "SZOBA_FK": "63"
                                },
                                {
                                    "SZALLAS_NEV": "Fortuna Panzió",
                                    "SZOBA_FK": "42"
                                },
                                {
                                    "SZALLAS_NEV": "Lagúna Hotel",
                                    "SZOBA_FK": "147"
                                },
                                {
                                    "SZALLAS_NEV": "Sába-Ház",
                                    "SZOBA_FK": "6"
                                },
                                {
                                    "SZALLAS_NEV": "Kentaur Hotel",
                                    "SZOBA_FK": "58"
                                },
                                {
                                    "SZALLAS_NEV": "Gold Hotel",
                                    "SZOBA_FK": "190"
                                },
                                {
                                    "SZALLAS_NEV": "Sába-Ház",
                                    "SZOBA_FK": "12"
                                },
                                {
                                    "SZALLAS_NEV": "Hotel Három Hattyú",
                                    "SZOBA_FK": "112"
                                },
                                {
                                    "SZALLAS_NEV": "Fortuna panzió",
                                    "SZOBA_FK": "34"
                                },
                                {
                                    "SZALLAS_NEV": "Fortuna Apartman",
                                    "SZOBA_FK": "19"
                                },
                                {
                                    "SZALLAS_NEV": "Jáde panzió",
                                    "SZOBA_FK": "130"
                                },
                                {
                                    "SZALLAS_NEV": "Hotel Három Hattyú",
                                    "SZOBA_FK": "96"
                                },
                                {
                                    "SZALLAS_NEV": "Gold Hotel",
                                    "SZOBA_FK": "166"
                                },
                                {
                                    "SZALLAS_NEV": "Partiszél Vendégház",
                                    "SZOBA_FK": "163"
                                },
                                {
                                    "SZALLAS_NEV": "Lagúna Hotel",
                                    "SZOBA_FK": "148"
                                },
                                {
                                    "SZALLAS_NEV": "Lagúna Hotel",
                                    "SZOBA_FK": "141"
                                },
                                {
                                    "SZALLAS_NEV": "Gold Hotel",
                                    "SZOBA_FK": "177"
                                },
                                {
                                    "SZALLAS_NEV": "Hotel Három Hattyú",
                                    "SZOBA_FK": "111"
                                },
                                {
                                    "SZALLAS_NEV": "Kentaur Hotel",
                                    "SZOBA_FK": "50"
                                },
                                {
                                    "SZALLAS_NEV": "Sába-Ház",
                                    "SZOBA_FK": "3"
                                },
                                {
                                    "SZALLAS_NEV": "Lagúna Hotel",
                                    "SZOBA_FK": "146"
                                },
                                {
                                    "SZALLAS_NEV": "Sába-Ház",
                                    "SZOBA_FK": "10"
                                },
                                {
                                    "SZALLAS_NEV": "Családi Ház",
                                    "SZOBA_FK": "15"
                                },
                                {
                                    "SZALLAS_NEV": "Gold Hotel",
                                    "SZOBA_FK": "168"
                                },
                                {
                                    "SZALLAS_NEV": "Fortuna Panzió",
                                    "SZOBA_FK": "49"
                                },
                                {
                                    "SZALLAS_NEV": "Gold Hotel",
                                    "SZOBA_FK": "168"
                                },
                                {
                                    "SZALLAS_NEV": "Sába-Ház",
                                    "SZOBA_FK": "10"
                                },
                                {
                                    "SZALLAS_NEV": "Lagúna Hotel",
                                    "SZOBA_FK": "138"
                                },
                                {
                                    "SZALLAS_NEV": "Kentaur Hotel",
                                    "SZOBA_FK": "74"
                                },
                                {
                                    "SZALLAS_NEV": "Kentaur Hotel",
                                    "SZOBA_FK": "83"
                                },
                                {
                                    "SZALLAS_NEV": "Gold Hotel",
                                    "SZOBA_FK": "175"
                                },
                                {
                                    "SZALLAS_NEV": "Fortuna Panzió",
                                    "SZOBA_FK": "45"
                                },
                                {
                                    "SZALLAS_NEV": "Hotel Három Hattyú",
                                    "SZOBA_FK": "112"
                                },
                                {
                                    "SZALLAS_NEV": "Fortuna Panzió",
                                    "SZOBA_FK": "45"
                                },
                                {
                                    "SZALLAS_NEV": "Sába-Ház",
                                    "SZOBA_FK": "1"
                                },
                                {
                                    "SZALLAS_NEV": "Lagúna Hotel",
                                    "SZOBA_FK": "146"
                                },
                                {
                                    "SZALLAS_NEV": "Fortuna Apartman",
                                    "SZOBA_FK": "21"
                                },
                                {
                                    "SZALLAS_NEV": "Hotel Három Hattyú",
                                    "SZOBA_FK": "126"
                                },
                                {
                                    "SZALLAS_NEV": "Fortuna panzió",
                                    "SZOBA_FK": "27"
                                },
                                {
                                    "SZALLAS_NEV": "Lagúna Hotel",
                                    "SZOBA_FK": "148"
                                },
                                {
                                    "SZALLAS_NEV": "Hotel Három Hattyú",
                                    "SZOBA_FK": "92"
                                },
                                {
                                    "SZALLAS_NEV": "Hotel Három Hattyú",
                                    "SZOBA_FK": "109"
                                },
                                {
                                    "SZALLAS_NEV": "Kentaur Hotel",
                                    "SZOBA_FK": "51"
                                },
                                {
                                    "SZALLAS_NEV": "Lagúna Hotel",
                                    "SZOBA_FK": "148"
                                },
                                {
                                    "SZALLAS_NEV": "Családi Ház",
                                    "SZOBA_FK": "14"
                                },
                                {
                                    "SZALLAS_NEV": "Kentaur Hotel",
                                    "SZOBA_FK": "70"
                                },
                                {
                                    "SZALLAS_NEV": "Hotel Három Hattyú",
                                    "SZOBA_FK": "128"
                                },
                                {
                                    "SZALLAS_NEV": "Gold Hotel",
                                    "SZOBA_FK": "178"
                                },
                                {
                                    "SZALLAS_NEV": "Szieszta Apartmanház",
                                    "SZOBA_FK": "89"
                                },
                                {
                                    "SZALLAS_NEV": "Sába-Ház",
                                    "SZOBA_FK": "8"
                                },
                                {
                                    "SZALLAS_NEV": "Kentaur Hotel",
                                    "SZOBA_FK": "84"
                                },
                                {
                                    "SZALLAS_NEV": "Fortuna Apartman",
                                    "SZOBA_FK": "20"
                                },
                                {
                                    "SZALLAS_NEV": "Fortuna panzió",
                                    "SZOBA_FK": "34"
                                },
                                {
                                    "SZALLAS_NEV": "Kentaur Hotel",
                                    "SZOBA_FK": "52"
                                },
                                {
                                    "SZALLAS_NEV": "Fortuna Panzió",
                                    "SZOBA_FK": "44"
                                },
                                {
                                    "SZALLAS_NEV": "Fortuna Panzió",
                                    "SZOBA_FK": "48"
                                },
                                {
                                    "SZALLAS_NEV": "Lagúna Hotel",
                                    "SZOBA_FK": "158"
                                },
                                {
                                    "SZALLAS_NEV": "Fortuna Panzió",
                                    "SZOBA_FK": "49"
                                },
                                {
                                    "SZALLAS_NEV": "Hotel Három Hattyú",
                                    "SZOBA_FK": "114"
                                },
                                {
                                    "SZALLAS_NEV": "Sába-Ház",
                                    "SZOBA_FK": "2"
                                },
                                {
                                    "SZALLAS_NEV": "Fortuna panzió",
                                    "SZOBA_FK": "35"
                                },
                                {
                                    "SZALLAS_NEV": "Kentaur Hotel",
                                    "SZOBA_FK": "74"
                                },
                                {
                                    "SZALLAS_NEV": "Gold Hotel",
                                    "SZOBA_FK": "177"
                                },
                                {
                                    "SZALLAS_NEV": "Sába-Ház",
                                    "SZOBA_FK": "8"
                                },
                                {
                                    "SZALLAS_NEV": "Lagúna Hotel",
                                    "SZOBA_FK": "149"
                                },
                                {
                                    "SZALLAS_NEV": "Lagúna Hotel",
                                    "SZOBA_FK": "149"
                                },
                                {
                                    "SZALLAS_NEV": "Gold Hotel",
                                    "SZOBA_FK": "193"
                                },
                                {
                                    "SZALLAS_NEV": "Hotel Három Hattyú",
                                    "SZOBA_FK": "97"
                                },
                                {
                                    "SZALLAS_NEV": "Hotel Három Hattyú",
                                    "SZOBA_FK": "104"
                                },
                                {
                                    "SZALLAS_NEV": "Kentaur Hotel",
                                    "SZOBA_FK": "56"
                                },
                                {
                                    "SZALLAS_NEV": "Gold Hotel",
                                    "SZOBA_FK": "172"
                                },
                                {
                                    "SZALLAS_NEV": "Lagúna Hotel",
                                    "SZOBA_FK": "158"
                                },
                                {
                                    "SZALLAS_NEV": "Hotel Három Hattyú",
                                    "SZOBA_FK": "92"
                                },
                                {
                                    "SZALLAS_NEV": "Gold Hotel",
                                    "SZOBA_FK": "195"
                                },
                                {
                                    "SZALLAS_NEV": "Lagúna Hotel",
                                    "SZOBA_FK": "149"
                                },
                                {
                                    "SZALLAS_NEV": "Szieszta Apartmanház",
                                    "SZOBA_FK": "87"
                                },
                                {
                                    "SZALLAS_NEV": "Kentaur Hotel",
                                    "SZOBA_FK": "63"
                                },
                                {
                                    "SZALLAS_NEV": "Fortuna Panzió",
                                    "SZOBA_FK": "45"
                                },
                                {
                                    "SZALLAS_NEV": "Kentaur Hotel",
                                    "SZOBA_FK": "74"
                                },
                                {
                                    "SZALLAS_NEV": "Fortuna Apartman",
                                    "SZOBA_FK": "23"
                                },
                                {
                                    "SZALLAS_NEV": "Lagúna Hotel",
                                    "SZOBA_FK": "135"
                                },
                                {
                                    "SZALLAS_NEV": "Sába-Ház",
                                    "SZOBA_FK": "6"
                                },
                                {
                                    "SZALLAS_NEV": "Fortuna Panzió",
                                    "SZOBA_FK": "42"
                                },
                                {
                                    "SZALLAS_NEV": "Fortuna Apartman",
                                    "SZOBA_FK": "24"
                                },
                                {
                                    "SZALLAS_NEV": "Hotel Három Hattyú",
                                    "SZOBA_FK": "127"
                                },
                                {
                                    "SZALLAS_NEV": "Gold Hotel",
                                    "SZOBA_FK": "167"
                                },
                                {
                                    "SZALLAS_NEV": "Kentaur Hotel",
                                    "SZOBA_FK": "53"
                                },
                                {
                                    "SZALLAS_NEV": "Családi Ház",
                                    "SZOBA_FK": "16"
                                },
                                {
                                    "SZALLAS_NEV": "Gold Hotel",
                                    "SZOBA_FK": "165"
                                },
                                {
                                    "SZALLAS_NEV": "Hotel Három Hattyú",
                                    "SZOBA_FK": "121"
                                },
                                {
                                    "SZALLAS_NEV": "Szieszta Apartmanház",
                                    "SZOBA_FK": "86"
                                },
                                {
                                    "SZALLAS_NEV": "Kentaur Hotel",
                                    "SZOBA_FK": "70"
                                },
                                {
                                    "SZALLAS_NEV": "Hotel Három Hattyú",
                                    "SZOBA_FK": "124"
                                },
                                {
                                    "SZALLAS_NEV": "Kentaur Hotel",
                                    "SZOBA_FK": "82"
                                },
                                {
                                    "SZALLAS_NEV": "Gold Hotel",
                                    "SZOBA_FK": "185"
                                },
                                {
                                    "SZALLAS_NEV": "Hotel Három Hattyú",
                                    "SZOBA_FK": "118"
                                },
                                {
                                    "SZALLAS_NEV": "Kentaur Hotel",
                                    "SZOBA_FK": "51"
                                },
                                {
                                    "SZALLAS_NEV": "Szieszta Apartmanház",
                                    "SZOBA_FK": "88"
                                },
                                {
                                    "SZALLAS_NEV": "Gold Hotel",
                                    "SZOBA_FK": "175"
                                },
                                {
                                    "SZALLAS_NEV": "Gold Hotel",
                                    "SZOBA_FK": "187"
                                },
                                {
                                    "SZALLAS_NEV": "Kentaur Hotel",
                                    "SZOBA_FK": "83"
                                },
                                {
                                    "SZALLAS_NEV": "Fortuna panzió",
                                    "SZOBA_FK": "34"
                                },
                                {
                                    "SZALLAS_NEV": "Kentaur Hotel",
                                    "SZOBA_FK": "82"
                                },
                                {
                                    "SZALLAS_NEV": "Fortuna panzió",
                                    "SZOBA_FK": "28"
                                },
                                {
                                    "SZALLAS_NEV": "Sába-Ház",
                                    "SZOBA_FK": "6"
                                },
                                {
                                    "SZALLAS_NEV": "Kentaur Hotel",
                                    "SZOBA_FK": "67"
                                },
                                {
                                    "SZALLAS_NEV": "Kentaur Hotel",
                                    "SZOBA_FK": "64"
                                },
                                {
                                    "SZALLAS_NEV": "Sába-Ház",
                                    "SZOBA_FK": "12"
                                },
                                {
                                    "SZALLAS_NEV": "Kentaur Hotel",
                                    "SZOBA_FK": "74"
                                },
                                {
                                    "SZALLAS_NEV": "Kentaur Hotel",
                                    "SZOBA_FK": "83"
                                },
                                {
                                    "SZALLAS_NEV": "Hotel Három Hattyú",
                                    "SZOBA_FK": "127"
                                },
                                {
                                    "SZALLAS_NEV": "Gold Hotel",
                                    "SZOBA_FK": "184"
                                },
                                {
                                    "SZALLAS_NEV": "Jáde panzió",
                                    "SZOBA_FK": "131"
                                },
                                {
                                    "SZALLAS_NEV": "Sába-Ház",
                                    "SZOBA_FK": "8"
                                },
                                {
                                    "SZALLAS_NEV": "Kentaur Hotel",
                                    "SZOBA_FK": "58"
                                },
                                {
                                    "SZALLAS_NEV": "Hotel Három Hattyú",
                                    "SZOBA_FK": "98"
                                },
                                {
                                    "SZALLAS_NEV": "Kentaur Hotel",
                                    "SZOBA_FK": "69"
                                },
                                {
                                    "SZALLAS_NEV": "Fortuna panzió",
                                    "SZOBA_FK": "28"
                                },
                                {
                                    "SZALLAS_NEV": "Kentaur Hotel",
                                    "SZOBA_FK": "80"
                                },
                                {
                                    "SZALLAS_NEV": "Fortuna Panzió",
                                    "SZOBA_FK": "49"
                                },
                                {
                                    "SZALLAS_NEV": "Kentaur Hotel",
                                    "SZOBA_FK": "54"
                                },
                                {
                                    "SZALLAS_NEV": "Lagúna Hotel",
                                    "SZOBA_FK": "146"
                                },
                                {
                                    "SZALLAS_NEV": "Kentaur Hotel",
                                    "SZOBA_FK": "63"
                                },
                                {
                                    "SZALLAS_NEV": "Gold Hotel",
                                    "SZOBA_FK": "165"
                                },
                                {
                                    "SZALLAS_NEV": "Lagúna Hotel",
                                    "SZOBA_FK": "151"
                                },
                                {
                                    "SZALLAS_NEV": "Fortuna panzió",
                                    "SZOBA_FK": "29"
                                },
                                {
                                    "SZALLAS_NEV": "Fortuna panzió",
                                    "SZOBA_FK": "36"
                                },
                                {
                                    "SZALLAS_NEV": "Családi Ház",
                                    "SZOBA_FK": "16"
                                },
                                {
                                    "SZALLAS_NEV": "Gold Hotel",
                                    "SZOBA_FK": "165"
                                },
                                {
                                    "SZALLAS_NEV": "Gold Hotel",
                                    "SZOBA_FK": "185"
                                },
                                {
                                    "SZALLAS_NEV": "Fortuna panzió",
                                    "SZOBA_FK": "39"
                                },
                                {
                                    "SZALLAS_NEV": "Gold Hotel",
                                    "SZOBA_FK": "165"
                                },
                                {
                                    "SZALLAS_NEV": "Fortuna panzió",
                                    "SZOBA_FK": "28"
                                },
                                {
                                    "SZALLAS_NEV": "Kentaur Hotel",
                                    "SZOBA_FK": "72"
                                },
                                {
                                    "SZALLAS_NEV": "Gold Hotel",
                                    "SZOBA_FK": "192"
                                },
                                {
                                    "SZALLAS_NEV": "Fortuna panzió",
                                    "SZOBA_FK": "34"
                                },
                                {
                                    "SZALLAS_NEV": "Gold Hotel",
                                    "SZOBA_FK": "180"
                                },
                                {
                                    "SZALLAS_NEV": "Fortuna Apartman",
                                    "SZOBA_FK": "22"
                                },
                                {
                                    "SZALLAS_NEV": "Lagúna Hotel",
                                    "SZOBA_FK": "156"
                                },
                                {
                                    "SZALLAS_NEV": "Lagúna Hotel",
                                    "SZOBA_FK": "141"
                                },
                                {
                                    "SZALLAS_NEV": "Jáde panzió",
                                    "SZOBA_FK": "133"
                                },
                                {
                                    "SZALLAS_NEV": "Jáde panzió",
                                    "SZOBA_FK": "130"
                                },
                                {
                                    "SZALLAS_NEV": "Partiszél Vendégház",
                                    "SZOBA_FK": "161"
                                },
                                {
                                    "SZALLAS_NEV": "Gold Hotel",
                                    "SZOBA_FK": "188"
                                },
                                {
                                    "SZALLAS_NEV": "Gold Hotel",
                                    "SZOBA_FK": "173"
                                },
                                {
                                    "SZALLAS_NEV": "Fortuna Panzió",
                                    "SZOBA_FK": "48"
                                },
                                {
                                    "SZALLAS_NEV": "Lagúna Hotel",
                                    "SZOBA_FK": "140"
                                },
                                {
                                    "SZALLAS_NEV": "Fortuna Apartman",
                                    "SZOBA_FK": "17"
                                },
                                {
                                    "SZALLAS_NEV": "Gold Hotel",
                                    "SZOBA_FK": "174"
                                },
                                {
                                    "SZALLAS_NEV": "Sába-Ház",
                                    "SZOBA_FK": "11"
                                },
                                {
                                    "SZALLAS_NEV": "Fortuna panzió",
                                    "SZOBA_FK": "36"
                                },
                                {
                                    "SZALLAS_NEV": "Fortuna panzió",
                                    "SZOBA_FK": "32"
                                },
                                {
                                    "SZALLAS_NEV": "Hotel Három Hattyú",
                                    "SZOBA_FK": "112"
                                },
                                {
                                    "SZALLAS_NEV": "Partiszél Vendégház",
                                    "SZOBA_FK": "160"
                                },
                                {
                                    "SZALLAS_NEV": "Hotel Három Hattyú",
                                    "SZOBA_FK": "123"
                                },
                                {
                                    "SZALLAS_NEV": "Fortuna Panzió",
                                    "SZOBA_FK": "40"
                                },
                                {
                                    "SZALLAS_NEV": "Gold Hotel",
                                    "SZOBA_FK": "185"
                                },
                                {
                                    "SZALLAS_NEV": "Gold Hotel",
                                    "SZOBA_FK": "193"
                                },
                                {
                                    "SZALLAS_NEV": "Partiszél Vendégház",
                                    "SZOBA_FK": "160"
                                },
                                {
                                    "SZALLAS_NEV": "Gold Hotel",
                                    "SZOBA_FK": "182"
                                },
                                {
                                    "SZALLAS_NEV": "Kentaur Hotel",
                                    "SZOBA_FK": "80"
                                },
                                {
                                    "SZALLAS_NEV": "Gold Hotel",
                                    "SZOBA_FK": "168"
                                },
                                {
                                    "SZALLAS_NEV": "Hotel Három Hattyú",
                                    "SZOBA_FK": "110"
                                },
                                {
                                    "SZALLAS_NEV": "Fortuna Panzió",
                                    "SZOBA_FK": "40"
                                },
                                {
                                    "SZALLAS_NEV": "Partiszél Vendégház",
                                    "SZOBA_FK": "160"
                                },
                                {
                                    "SZALLAS_NEV": "Fortuna Apartman",
                                    "SZOBA_FK": "23"
                                },
                                {
                                    "SZALLAS_NEV": "Kentaur Hotel",
                                    "SZOBA_FK": "56"
                                },
                                {
                                    "SZALLAS_NEV": "Kentaur Hotel",
                                    "SZOBA_FK": "62"
                                },
                                {
                                    "SZALLAS_NEV": "Gold Hotel",
                                    "SZOBA_FK": "181"
                                },
                                {
                                    "SZALLAS_NEV": "Kentaur Hotel",
                                    "SZOBA_FK": "62"
                                },
                                {
                                    "SZALLAS_NEV": "Gold Hotel",
                                    "SZOBA_FK": "183"
                                },
                                {
                                    "SZALLAS_NEV": "Kentaur Hotel",
                                    "SZOBA_FK": "74"
                                },
                                {
                                    "SZALLAS_NEV": "Partiszél Vendégház",
                                    "SZOBA_FK": "163"
                                },
                                {
                                    "SZALLAS_NEV": "Hotel Három Hattyú",
                                    "SZOBA_FK": "92"
                                },
                                {
                                    "SZALLAS_NEV": "Hotel Három Hattyú",
                                    "SZOBA_FK": "115"
                                },
                                {
                                    "SZALLAS_NEV": "Gold Hotel",
                                    "SZOBA_FK": "170"
                                },
                                {
                                    "SZALLAS_NEV": "Fortuna Apartman",
                                    "SZOBA_FK": "23"
                                },
                                {
                                    "SZALLAS_NEV": "Sába-Ház",
                                    "SZOBA_FK": "4"
                                },
                                {
                                    "SZALLAS_NEV": "Sába-Ház",
                                    "SZOBA_FK": "8"
                                },
                                {
                                    "SZALLAS_NEV": "Fortuna Apartman",
                                    "SZOBA_FK": "19"
                                },
                                {
                                    "SZALLAS_NEV": "Sába-Ház",
                                    "SZOBA_FK": "1"
                                },
                                {
                                    "SZALLAS_NEV": "Kentaur Hotel",
                                    "SZOBA_FK": "66"
                                },
                                {
                                    "SZALLAS_NEV": "Sába-Ház",
                                    "SZOBA_FK": "12"
                                },
                                {
                                    "SZALLAS_NEV": "Gold Hotel",
                                    "SZOBA_FK": "196"
                                },
                                {
                                    "SZALLAS_NEV": "Hotel Három Hattyú",
                                    "SZOBA_FK": "117"
                                },
                                {
                                    "SZALLAS_NEV": "Kentaur Hotel",
                                    "SZOBA_FK": "84"
                                },
                                {
                                    "SZALLAS_NEV": "Fortuna Panzió",
                                    "SZOBA_FK": "47"
                                },
                                {
                                    "SZALLAS_NEV": "Lagúna Hotel",
                                    "SZOBA_FK": "156"
                                },
                                {
                                    "SZALLAS_NEV": "Gold Hotel",
                                    "SZOBA_FK": "187"
                                },
                                {
                                    "SZALLAS_NEV": "Gold Hotel",
                                    "SZOBA_FK": "181"
                                },
                                {
                                    "SZALLAS_NEV": "Hotel Három Hattyú",
                                    "SZOBA_FK": "111"
                                },
                                {
                                    "SZALLAS_NEV": "Fortuna Panzió",
                                    "SZOBA_FK": "41"
                                },
                                {
                                    "SZALLAS_NEV": "Kentaur Hotel",
                                    "SZOBA_FK": "72"
                                },
                                {
                                    "SZALLAS_NEV": "Hotel Három Hattyú",
                                    "SZOBA_FK": "117"
                                },
                                {
                                    "SZALLAS_NEV": "Kentaur Hotel",
                                    "SZOBA_FK": "74"
                                },
                                {
                                    "SZALLAS_NEV": "Hotel Három Hattyú",
                                    "SZOBA_FK": "110"
                                },
                                {
                                    "SZALLAS_NEV": "Sába-Ház",
                                    "SZOBA_FK": "5"
                                },
                                {
                                    "SZALLAS_NEV": "Hotel Három Hattyú",
                                    "SZOBA_FK": "114"
                                },
                                {
                                    "SZALLAS_NEV": "Hotel Három Hattyú",
                                    "SZOBA_FK": "123"
                                },
                                {
                                    "SZALLAS_NEV": "Lagúna Hotel",
                                    "SZOBA_FK": "154"
                                },
                                {
                                    "SZALLAS_NEV": "Lagúna Hotel",
                                    "SZOBA_FK": "153"
                                },
                                {
                                    "SZALLAS_NEV": "Sába-Ház",
                                    "SZOBA_FK": "12"
                                },
                                {
                                    "SZALLAS_NEV": "Fortuna panzió",
                                    "SZOBA_FK": "35"
                                },
                                {
                                    "SZALLAS_NEV": "Hotel Három Hattyú",
                                    "SZOBA_FK": "103"
                                },
                                {
                                    "SZALLAS_NEV": "Családi Ház",
                                    "SZOBA_FK": "16"
                                },
                                {
                                    "SZALLAS_NEV": "Gold Hotel",
                                    "SZOBA_FK": "169"
                                },
                                {
                                    "SZALLAS_NEV": "Hotel Három Hattyú",
                                    "SZOBA_FK": "94"
                                },
                                {
                                    "SZALLAS_NEV": "Kentaur Hotel",
                                    "SZOBA_FK": "76"
                                },
                                {
                                    "SZALLAS_NEV": "Gold Hotel",
                                    "SZOBA_FK": "193"
                                },
                                {
                                    "SZALLAS_NEV": "Gold Hotel",
                                    "SZOBA_FK": "198"
                                },
                                {
                                    "SZALLAS_NEV": "Fortuna panzió",
                                    "SZOBA_FK": "35"
                                },
                                {
                                    "SZALLAS_NEV": "Lagúna Hotel",
                                    "SZOBA_FK": "143"
                                },
                                {
                                    "SZALLAS_NEV": "Gold Hotel",
                                    "SZOBA_FK": "171"
                                },
                                {
                                    "SZALLAS_NEV": "Kentaur Hotel",
                                    "SZOBA_FK": "77"
                                },
                                {
                                    "SZALLAS_NEV": "Kentaur Hotel",
                                    "SZOBA_FK": "80"
                                },
                                {
                                    "SZALLAS_NEV": "Gold Hotel",
                                    "SZOBA_FK": "172"
                                },
                                {
                                    "SZALLAS_NEV": "Fortuna panzió",
                                    "SZOBA_FK": "36"
                                },
                                {
                                    "SZALLAS_NEV": "Fortuna Panzió",
                                    "SZOBA_FK": "48"
                                },
                                {
                                    "SZALLAS_NEV": "Kentaur Hotel",
                                    "SZOBA_FK": "53"
                                },
                                {
                                    "SZALLAS_NEV": "Jáde panzió",
                                    "SZOBA_FK": "133"
                                },
                                {
                                    "SZALLAS_NEV": "Gold Hotel",
                                    "SZOBA_FK": "190"
                                },
                                {
                                    "SZALLAS_NEV": "Sába-Ház",
                                    "SZOBA_FK": "6"
                                },
                                {
                                    "SZALLAS_NEV": "Gold Hotel",
                                    "SZOBA_FK": "178"
                                },
                                {
                                    "SZALLAS_NEV": "Hotel Három Hattyú",
                                    "SZOBA_FK": "103"
                                },
                                {
                                    "SZALLAS_NEV": "Gold Hotel",
                                    "SZOBA_FK": "197"
                                },
                                {
                                    "SZALLAS_NEV": "Hotel Három Hattyú",
                                    "SZOBA_FK": "118"
                                },
                                {
                                    "SZALLAS_NEV": "Kentaur Hotel",
                                    "SZOBA_FK": "83"
                                },
                                {
                                    "SZALLAS_NEV": "Hotel Három Hattyú",
                                    "SZOBA_FK": "118"
                                },
                                {
                                    "SZALLAS_NEV": "Kentaur Hotel",
                                    "SZOBA_FK": "82"
                                },
                                {
                                    "SZALLAS_NEV": "Hotel Három Hattyú",
                                    "SZOBA_FK": "120"
                                },
                                {
                                    "SZALLAS_NEV": "Jáde panzió",
                                    "SZOBA_FK": "132"
                                },
                                {
                                    "SZALLAS_NEV": "Kentaur Hotel",
                                    "SZOBA_FK": "73"
                                },
                                {
                                    "SZALLAS_NEV": "Sába-Ház",
                                    "SZOBA_FK": "4"
                                },
                                {
                                    "SZALLAS_NEV": "Hotel Három Hattyú",
                                    "SZOBA_FK": "117"
                                },
                                {
                                    "SZALLAS_NEV": "Fortuna panzió",
                                    "SZOBA_FK": "36"
                                },
                                {
                                    "SZALLAS_NEV": "Jáde panzió",
                                    "SZOBA_FK": "134"
                                },
                                {
                                    "SZALLAS_NEV": "Fortuna Apartman",
                                    "SZOBA_FK": "22"
                                },
                                {
                                    "SZALLAS_NEV": "Kentaur Hotel",
                                    "SZOBA_FK": "70"
                                },
                                {
                                    "SZALLAS_NEV": "Hotel Három Hattyú",
                                    "SZOBA_FK": "122"
                                },
                                {
                                    "SZALLAS_NEV": "Gold Hotel",
                                    "SZOBA_FK": "182"
                                },
                                {
                                    "SZALLAS_NEV": "Kentaur Hotel",
                                    "SZOBA_FK": "71"
                                },
                                {
                                    "SZALLAS_NEV": "Partiszél Vendégház",
                                    "SZOBA_FK": "164"
                                },
                                {
                                    "SZALLAS_NEV": "Gold Hotel",
                                    "SZOBA_FK": "198"
                                },
                                {
                                    "SZALLAS_NEV": "Fortuna panzió",
                                    "SZOBA_FK": "33"
                                },
                                {
                                    "SZALLAS_NEV": "Kentaur Hotel",
                                    "SZOBA_FK": "75"
                                },
                                {
                                    "SZALLAS_NEV": "Lagúna Hotel",
                                    "SZOBA_FK": "137"
                                },
                                {
                                    "SZALLAS_NEV": "Gold Hotel",
                                    "SZOBA_FK": "174"
                                },
                                {
                                    "SZALLAS_NEV": "Hotel Három Hattyú",
                                    "SZOBA_FK": "92"
                                },
                                {
                                    "SZALLAS_NEV": "Gold Hotel",
                                    "SZOBA_FK": "190"
                                },
                                {
                                    "SZALLAS_NEV": "Fortuna Panzió",
                                    "SZOBA_FK": "40"
                                },
                                {
                                    "SZALLAS_NEV": "Fortuna Panzió",
                                    "SZOBA_FK": "43"
                                },
                                {
                                    "SZALLAS_NEV": "Sába-Ház",
                                    "SZOBA_FK": "12"
                                },
                                {
                                    "SZALLAS_NEV": "Gold Hotel",
                                    "SZOBA_FK": "179"
                                },
                                {
                                    "SZALLAS_NEV": "Gold Hotel",
                                    "SZOBA_FK": "181"
                                },
                                {
                                    "SZALLAS_NEV": "Fortuna panzió",
                                    "SZOBA_FK": "30"
                                },
                                {
                                    "SZALLAS_NEV": "Jáde panzió",
                                    "SZOBA_FK": "134"
                                },
                                {
                                    "SZALLAS_NEV": "Lagúna Hotel",
                                    "SZOBA_FK": "157"
                                },
                                {
                                    "SZALLAS_NEV": "Hotel Három Hattyú",
                                    "SZOBA_FK": "119"
                                },
                                {
                                    "SZALLAS_NEV": "Kentaur Hotel",
                                    "SZOBA_FK": "68"
                                },
                                {
                                    "SZALLAS_NEV": "Családi Ház",
                                    "SZOBA_FK": "15"
                                },
                                {
                                    "SZALLAS_NEV": "Hotel Három Hattyú",
                                    "SZOBA_FK": "113"
                                },
                                {
                                    "SZALLAS_NEV": "Gold Hotel",
                                    "SZOBA_FK": "188"
                                },
                                {
                                    "SZALLAS_NEV": "Fortuna panzió",
                                    "SZOBA_FK": "27"
                                },
                                {
                                    "SZALLAS_NEV": "Lagúna Hotel",
                                    "SZOBA_FK": "146"
                                },
                                {
                                    "SZALLAS_NEV": "Fortuna panzió",
                                    "SZOBA_FK": "38"
                                },
                                {
                                    "SZALLAS_NEV": "Hotel Három Hattyú",
                                    "SZOBA_FK": "127"
                                },
                                {
                                    "SZALLAS_NEV": "Fortuna Apartman",
                                    "SZOBA_FK": "18"
                                },
                                {
                                    "SZALLAS_NEV": "Hotel Három Hattyú",
                                    "SZOBA_FK": "122"
                                },
                                {
                                    "SZALLAS_NEV": "Szieszta Apartmanház",
                                    "SZOBA_FK": "89"
                                },
                                {
                                    "SZALLAS_NEV": "Sába-Ház",
                                    "SZOBA_FK": "3"
                                },
                                {
                                    "SZALLAS_NEV": "Gold Hotel",
                                    "SZOBA_FK": "191"
                                },
                                {
                                    "SZALLAS_NEV": "Jáde panzió",
                                    "SZOBA_FK": "130"
                                },
                                {
                                    "SZALLAS_NEV": "Hotel Három Hattyú",
                                    "SZOBA_FK": "110"
                                },
                                {
                                    "SZALLAS_NEV": "Lagúna Hotel",
                                    "SZOBA_FK": "139"
                                },
                                {
                                    "SZALLAS_NEV": "Gold Hotel",
                                    "SZOBA_FK": "193"
                                },
                                {
                                    "SZALLAS_NEV": "Családi Ház",
                                    "SZOBA_FK": "13"
                                },
                                {
                                    "SZALLAS_NEV": "Jáde panzió",
                                    "SZOBA_FK": "134"
                                },
                                {
                                    "SZALLAS_NEV": "Lagúna Hotel",
                                    "SZOBA_FK": "136"
                                },
                                {
                                    "SZALLAS_NEV": "Lagúna Hotel",
                                    "SZOBA_FK": "157"
                                },
                                {
                                    "SZALLAS_NEV": "Hotel Három Hattyú",
                                    "SZOBA_FK": "95"
                                },
                                {
                                    "SZALLAS_NEV": "Hotel Három Hattyú",
                                    "SZOBA_FK": "121"
                                },
                                {
                                    "SZALLAS_NEV": "Hotel Három Hattyú",
                                    "SZOBA_FK": "98"
                                },
                                {
                                    "SZALLAS_NEV": "Sába-Ház",
                                    "SZOBA_FK": "2"
                                },
                                {
                                    "SZALLAS_NEV": "Fortuna panzió",
                                    "SZOBA_FK": "25"
                                },
                                {
                                    "SZALLAS_NEV": "Fortuna panzió",
                                    "SZOBA_FK": "33"
                                },
                                {
                                    "SZALLAS_NEV": "Kentaur Hotel",
                                    "SZOBA_FK": "79"
                                },
                                {
                                    "SZALLAS_NEV": "Kentaur Hotel",
                                    "SZOBA_FK": "69"
                                },
                                {
                                    "SZALLAS_NEV": "Fortuna Panzió",
                                    "SZOBA_FK": "47"
                                },
                                {
                                    "SZALLAS_NEV": "Szieszta Apartmanház",
                                    "SZOBA_FK": "86"
                                },
                                {
                                    "SZALLAS_NEV": "Lagúna Hotel",
                                    "SZOBA_FK": "151"
                                },
                                {
                                    "SZALLAS_NEV": "Szieszta Apartmanház",
                                    "SZOBA_FK": "85"
                                },
                                {
                                    "SZALLAS_NEV": "Fortuna panzió",
                                    "SZOBA_FK": "38"
                                },
                                {
                                    "SZALLAS_NEV": "Lagúna Hotel",
                                    "SZOBA_FK": "154"
                                },
                                {
                                    "SZALLAS_NEV": "Hotel Három Hattyú",
                                    "SZOBA_FK": "122"
                                },
                                {
                                    "SZALLAS_NEV": "Kentaur Hotel",
                                    "SZOBA_FK": "50"
                                },
                                {
                                    "SZALLAS_NEV": "Lagúna Hotel",
                                    "SZOBA_FK": "139"
                                },
                                {
                                    "SZALLAS_NEV": "Gold Hotel",
                                    "SZOBA_FK": "198"
                                },
                                {
                                    "SZALLAS_NEV": "Fortuna Panzió",
                                    "SZOBA_FK": "49"
                                },
                                {
                                    "SZALLAS_NEV": "Gold Hotel",
                                    "SZOBA_FK": "183"
                                },
                                {
                                    "SZALLAS_NEV": "Partiszél Vendégház",
                                    "SZOBA_FK": "161"
                                },
                                {
                                    "SZALLAS_NEV": "Sába-Ház",
                                    "SZOBA_FK": "2"
                                },
                                {
                                    "SZALLAS_NEV": "Fortuna Apartman",
                                    "SZOBA_FK": "20"
                                },
                                {
                                    "SZALLAS_NEV": "Kentaur Hotel",
                                    "SZOBA_FK": "80"
                                },
                                {
                                    "SZALLAS_NEV": "Hotel Három Hattyú",
                                    "SZOBA_FK": "99"
                                },
                                {
                                    "SZALLAS_NEV": "Sába-Ház",
                                    "SZOBA_FK": "5"
                                },
                                {
                                    "SZALLAS_NEV": "Gold Hotel",
                                    "SZOBA_FK": "195"
                                },
                                {
                                    "SZALLAS_NEV": "Partiszél Vendégház",
                                    "SZOBA_FK": "163"
                                },
                                {
                                    "SZALLAS_NEV": "Fortuna panzió",
                                    "SZOBA_FK": "29"
                                },
                                {
                                    "SZALLAS_NEV": "Lagúna Hotel",
                                    "SZOBA_FK": "145"
                                },
                                {
                                    "SZALLAS_NEV": "Fortuna panzió",
                                    "SZOBA_FK": "38"
                                },
                                {
                                    "SZALLAS_NEV": "Szieszta Apartmanház",
                                    "SZOBA_FK": "86"
                                },
                                {
                                    "SZALLAS_NEV": "Kentaur Hotel",
                                    "SZOBA_FK": "59"
                                },
                                {
                                    "SZALLAS_NEV": "Kentaur Hotel",
                                    "SZOBA_FK": "62"
                                },
                                {
                                    "SZALLAS_NEV": "Fortuna panzió",
                                    "SZOBA_FK": "27"
                                },
                                {
                                    "SZALLAS_NEV": "Hotel Három Hattyú",
                                    "SZOBA_FK": "109"
                                },
                                {
                                    "SZALLAS_NEV": "Kentaur Hotel",
                                    "SZOBA_FK": "59"
                                },
                                {
                                    "SZALLAS_NEV": "Hotel Három Hattyú",
                                    "SZOBA_FK": "113"
                                },
                                {
                                    "SZALLAS_NEV": "Kentaur Hotel",
                                    "SZOBA_FK": "55"
                                },
                                {
                                    "SZALLAS_NEV": "Lagúna Hotel",
                                    "SZOBA_FK": "144"
                                },
                                {
                                    "SZALLAS_NEV": "Fortuna Panzió",
                                    "SZOBA_FK": "43"
                                },
                                {
                                    "SZALLAS_NEV": "Hotel Három Hattyú",
                                    "SZOBA_FK": "120"
                                },
                                {
                                    "SZALLAS_NEV": "Jáde panzió",
                                    "SZOBA_FK": "132"
                                },
                                {
                                    "SZALLAS_NEV": "Gold Hotel",
                                    "SZOBA_FK": "197"
                                },
                                {
                                    "SZALLAS_NEV": "Kentaur Hotel",
                                    "SZOBA_FK": "70"
                                },
                                {
                                    "SZALLAS_NEV": "Kentaur Hotel",
                                    "SZOBA_FK": "74"
                                },
                                {
                                    "SZALLAS_NEV": "Gold Hotel",
                                    "SZOBA_FK": "175"
                                },
                                {
                                    "SZALLAS_NEV": "Gold Hotel",
                                    "SZOBA_FK": "194"
                                },
                                {
                                    "SZALLAS_NEV": "Kentaur Hotel",
                                    "SZOBA_FK": "54"
                                },
                                {
                                    "SZALLAS_NEV": "Hotel Három Hattyú",
                                    "SZOBA_FK": "95"
                                },
                                {
                                    "SZALLAS_NEV": "Lagúna Hotel",
                                    "SZOBA_FK": "140"
                                },
                                {
                                    "SZALLAS_NEV": "Sába-Ház",
                                    "SZOBA_FK": "6"
                                },
                                {
                                    "SZALLAS_NEV": "Lagúna Hotel",
                                    "SZOBA_FK": "150"
                                },
                                {
                                    "SZALLAS_NEV": "Szieszta Apartmanház",
                                    "SZOBA_FK": "89"
                                },
                                {
                                    "SZALLAS_NEV": "Hotel Három Hattyú",
                                    "SZOBA_FK": "108"
                                },
                                {
                                    "SZALLAS_NEV": "Szieszta Apartmanház",
                                    "SZOBA_FK": "87"
                                },
                                {
                                    "SZALLAS_NEV": "Kentaur Hotel",
                                    "SZOBA_FK": "77"
                                },
                                {
                                    "SZALLAS_NEV": "Lagúna Hotel",
                                    "SZOBA_FK": "150"
                                },
                                {
                                    "SZALLAS_NEV": "Fortuna Apartman",
                                    "SZOBA_FK": "20"
                                },
                                {
                                    "SZALLAS_NEV": "Partiszél Vendégház",
                                    "SZOBA_FK": "163"
                                },
                                {
                                    "SZALLAS_NEV": "Szieszta Apartmanház",
                                    "SZOBA_FK": "86"
                                },
                                {
                                    "SZALLAS_NEV": "Hotel Három Hattyú",
                                    "SZOBA_FK": "110"
                                },
                                {
                                    "SZALLAS_NEV": "Sába-Ház",
                                    "SZOBA_FK": "3"
                                },
                                {
                                    "SZALLAS_NEV": "Jáde panzió",
                                    "SZOBA_FK": "132"
                                },
                                {
                                    "SZALLAS_NEV": "Lagúna Hotel",
                                    "SZOBA_FK": "155"
                                },
                                {
                                    "SZALLAS_NEV": "Kentaur Hotel",
                                    "SZOBA_FK": "58"
                                },
                                {
                                    "SZALLAS_NEV": "Fortuna Apartman",
                                    "SZOBA_FK": "20"
                                },
                                {
                                    "SZALLAS_NEV": "Lagúna Hotel",
                                    "SZOBA_FK": "151"
                                },
                                {
                                    "SZALLAS_NEV": "Gold Hotel",
                                    "SZOBA_FK": "198"
                                },
                                {
                                    "SZALLAS_NEV": "Lagúna Hotel",
                                    "SZOBA_FK": "158"
                                },
                                {
                                    "SZALLAS_NEV": "Fortuna Panzió",
                                    "SZOBA_FK": "40"
                                },
                                {
                                    "SZALLAS_NEV": "Kentaur Hotel",
                                    "SZOBA_FK": "83"
                                },
                                {
                                    "SZALLAS_NEV": "Lagúna Hotel",
                                    "SZOBA_FK": "145"
                                },
                                {
                                    "SZALLAS_NEV": "Hotel Három Hattyú",
                                    "SZOBA_FK": "115"
                                },
                                {
                                    "SZALLAS_NEV": "Kentaur Hotel",
                                    "SZOBA_FK": "64"
                                },
                                {
                                    "SZALLAS_NEV": "Sába-Ház",
                                    "SZOBA_FK": "11"
                                },
                                {
                                    "SZALLAS_NEV": "Hotel Három Hattyú",
                                    "SZOBA_FK": "112"
                                },
                                {
                                    "SZALLAS_NEV": "Gold Hotel",
                                    "SZOBA_FK": "185"
                                },
                                {
                                    "SZALLAS_NEV": "Kentaur Hotel",
                                    "SZOBA_FK": "70"
                                },
                                {
                                    "SZALLAS_NEV": "Sába-Ház",
                                    "SZOBA_FK": "4"
                                },
                                {
                                    "SZALLAS_NEV": "Hotel Három Hattyú",
                                    "SZOBA_FK": "121"
                                },
                                {
                                    "SZALLAS_NEV": "Családi Ház",
                                    "SZOBA_FK": "15"
                                },
                                {
                                    "SZALLAS_NEV": "Fortuna Apartman",
                                    "SZOBA_FK": "22"
                                },
                                {
                                    "SZALLAS_NEV": "Sába-Ház",
                                    "SZOBA_FK": "7"
                                },
                                {
                                    "SZALLAS_NEV": "Sába-Ház",
                                    "SZOBA_FK": "4"
                                },
                                {
                                    "SZALLAS_NEV": "Gold Hotel",
                                    "SZOBA_FK": "175"
                                },
                                {
                                    "SZALLAS_NEV": "Hotel Három Hattyú",
                                    "SZOBA_FK": "126"
                                },
                                {
                                    "SZALLAS_NEV": "Fortuna Panzió",
                                    "SZOBA_FK": "45"
                                },
                                {
                                    "SZALLAS_NEV": "Fortuna panzió",
                                    "SZOBA_FK": "30"
                                },
                                {
                                    "SZALLAS_NEV": "Sába-Ház",
                                    "SZOBA_FK": "1"
                                },
                                {
                                    "SZALLAS_NEV": "Gold Hotel",
                                    "SZOBA_FK": "198"
                                },
                                {
                                    "SZALLAS_NEV": "Fortuna Apartman",
                                    "SZOBA_FK": "19"
                                },
                                {
                                    "SZALLAS_NEV": "Sába-Ház",
                                    "SZOBA_FK": "12"
                                },
                                {
                                    "SZALLAS_NEV": "Gold Hotel",
                                    "SZOBA_FK": "165"
                                },
                                {
                                    "SZALLAS_NEV": "Gold Hotel",
                                    "SZOBA_FK": "172"
                                },
                                {
                                    "SZALLAS_NEV": "Gold Hotel",
                                    "SZOBA_FK": "176"
                                },
                                {
                                    "SZALLAS_NEV": "Fortuna Panzió",
                                    "SZOBA_FK": "41"
                                },
                                {
                                    "SZALLAS_NEV": "Lagúna Hotel",
                                    "SZOBA_FK": "145"
                                },
                                {
                                    "SZALLAS_NEV": "Lagúna Hotel",
                                    "SZOBA_FK": "149"
                                },
                                {
                                    "SZALLAS_NEV": "Gold Hotel",
                                    "SZOBA_FK": "183"
                                },
                                {
                                    "SZALLAS_NEV": "Kentaur Hotel",
                                    "SZOBA_FK": "61"
                                },
                                {
                                    "SZALLAS_NEV": "Jáde panzió",
                                    "SZOBA_FK": "133"
                                },
                                {
                                    "SZALLAS_NEV": "Fortuna panzió",
                                    "SZOBA_FK": "28"
                                },
                                {
                                    "SZALLAS_NEV": "Sába-Ház",
                                    "SZOBA_FK": "3"
                                },
                                {
                                    "SZALLAS_NEV": "Sába-Ház",
                                    "SZOBA_FK": "1"
                                },
                                {
                                    "SZALLAS_NEV": "Gold Hotel",
                                    "SZOBA_FK": "186"
                                },
                                {
                                    "SZALLAS_NEV": "Hotel Három Hattyú",
                                    "SZOBA_FK": "115"
                                },
                                {
                                    "SZALLAS_NEV": "Lagúna Hotel",
                                    "SZOBA_FK": "143"
                                },
                                {
                                    "SZALLAS_NEV": "Lagúna Hotel",
                                    "SZOBA_FK": "140"
                                },
                                {
                                    "SZALLAS_NEV": "Sába-Ház",
                                    "SZOBA_FK": "9"
                                },
                                {
                                    "SZALLAS_NEV": "Fortuna panzió",
                                    "SZOBA_FK": "26"
                                },
                                {
                                    "SZALLAS_NEV": "Kentaur Hotel",
                                    "SZOBA_FK": "73"
                                },
                                {
                                    "SZALLAS_NEV": "Lagúna Hotel",
                                    "SZOBA_FK": "152"
                                },
                                {
                                    "SZALLAS_NEV": "Gold Hotel",
                                    "SZOBA_FK": "198"
                                },
                                {
                                    "SZALLAS_NEV": "Hotel Három Hattyú",
                                    "SZOBA_FK": "110"
                                },
                                {
                                    "SZALLAS_NEV": "Kentaur Hotel",
                                    "SZOBA_FK": "55"
                                },
                                {
                                    "SZALLAS_NEV": "Sába-Ház",
                                    "SZOBA_FK": "12"
                                },
                                {
                                    "SZALLAS_NEV": "Kentaur Hotel",
                                    "SZOBA_FK": "51"
                                },
                                {
                                    "SZALLAS_NEV": "Hotel Három Hattyú",
                                    "SZOBA_FK": "122"
                                },
                                {
                                    "SZALLAS_NEV": "Fortuna Apartman",
                                    "SZOBA_FK": "24"
                                },
                                {
                                    "SZALLAS_NEV": "Lagúna Hotel",
                                    "SZOBA_FK": "154"
                                },
                                {
                                    "SZALLAS_NEV": "Hotel Három Hattyú",
                                    "SZOBA_FK": "93"
                                },
                                {
                                    "SZALLAS_NEV": "Kentaur Hotel",
                                    "SZOBA_FK": "59"
                                },
                                {
                                    "SZALLAS_NEV": "Gold Hotel",
                                    "SZOBA_FK": "172"
                                },
                                {
                                    "SZALLAS_NEV": "Gold Hotel",
                                    "SZOBA_FK": "197"
                                },
                                {
                                    "SZALLAS_NEV": "Fortuna Apartman",
                                    "SZOBA_FK": "18"
                                },
                                {
                                    "SZALLAS_NEV": "Szieszta Apartmanház",
                                    "SZOBA_FK": "90"
                                },
                                {
                                    "SZALLAS_NEV": "Sába-Ház",
                                    "SZOBA_FK": "7"
                                },
                                {
                                    "SZALLAS_NEV": "Gold Hotel",
                                    "SZOBA_FK": "177"
                                },
                                {
                                    "SZALLAS_NEV": "Lagúna Hotel",
                                    "SZOBA_FK": "150"
                                },
                                {
                                    "SZALLAS_NEV": "Jáde panzió",
                                    "SZOBA_FK": "134"
                                },
                                {
                                    "SZALLAS_NEV": "Kentaur Hotel",
                                    "SZOBA_FK": "74"
                                },
                                {
                                    "SZALLAS_NEV": "Hotel Három Hattyú",
                                    "SZOBA_FK": "104"
                                },
                                {
                                    "SZALLAS_NEV": "Gold Hotel",
                                    "SZOBA_FK": "171"
                                },
                                {
                                    "SZALLAS_NEV": "Sába-Ház",
                                    "SZOBA_FK": "7"
                                },
                                {
                                    "SZALLAS_NEV": "Gold Hotel",
                                    "SZOBA_FK": "185"
                                },
                                {
                                    "SZALLAS_NEV": "Gold Hotel",
                                    "SZOBA_FK": "195"
                                },
                                {
                                    "SZALLAS_NEV": "Fortuna panzió",
                                    "SZOBA_FK": "29"
                                },
                                {
                                    "SZALLAS_NEV": "Kentaur Hotel",
                                    "SZOBA_FK": "58"
                                },
                                {
                                    "SZALLAS_NEV": "Fortuna Panzió",
                                    "SZOBA_FK": "46"
                                },
                                {
                                    "SZALLAS_NEV": "Gold Hotel",
                                    "SZOBA_FK": "182"
                                },
                                {
                                    "SZALLAS_NEV": "Szieszta Apartmanház",
                                    "SZOBA_FK": "89"
                                },
                                {
                                    "SZALLAS_NEV": "Partiszél Vendégház",
                                    "SZOBA_FK": "161"
                                },
                                {
                                    "SZALLAS_NEV": "Kentaur Hotel",
                                    "SZOBA_FK": "59"
                                },
                                {
                                    "SZALLAS_NEV": "Hotel Három Hattyú",
                                    "SZOBA_FK": "117"
                                },
                                {
                                    "SZALLAS_NEV": "Lagúna Hotel",
                                    "SZOBA_FK": "143"
                                },
                                {
                                    "SZALLAS_NEV": "Gold Hotel",
                                    "SZOBA_FK": "170"
                                },
                                {
                                    "SZALLAS_NEV": "Fortuna Apartman",
                                    "SZOBA_FK": "22"
                                },
                                {
                                    "SZALLAS_NEV": "Szieszta Apartmanház",
                                    "SZOBA_FK": "88"
                                },
                                {
                                    "SZALLAS_NEV": "Lagúna Hotel",
                                    "SZOBA_FK": "152"
                                },
                                {
                                    "SZALLAS_NEV": "Fortuna Apartman",
                                    "SZOBA_FK": "18"
                                },
                                {
                                    "SZALLAS_NEV": "Lagúna Hotel",
                                    "SZOBA_FK": "144"
                                },
                                {
                                    "SZALLAS_NEV": "Fortuna Panzió",
                                    "SZOBA_FK": "49"
                                },
                                {
                                    "SZALLAS_NEV": "Lagúna Hotel",
                                    "SZOBA_FK": "137"
                                },
                                {
                                    "SZALLAS_NEV": "Kentaur Hotel",
                                    "SZOBA_FK": "52"
                                },
                                {
                                    "SZALLAS_NEV": "Lagúna Hotel",
                                    "SZOBA_FK": "150"
                                },
                                {
                                    "SZALLAS_NEV": "Gold Hotel",
                                    "SZOBA_FK": "189"
                                },
                                {
                                    "SZALLAS_NEV": "Partiszél Vendégház",
                                    "SZOBA_FK": "162"
                                },
                                {
                                    "SZALLAS_NEV": "Fortuna Apartman",
                                    "SZOBA_FK": "22"
                                },
                                {
                                    "SZALLAS_NEV": "Fortuna Panzió",
                                    "SZOBA_FK": "43"
                                },
                                {
                                    "SZALLAS_NEV": "Kentaur Hotel",
                                    "SZOBA_FK": "58"
                                },
                                {
                                    "SZALLAS_NEV": "Hotel Három Hattyú",
                                    "SZOBA_FK": "122"
                                },
                                {
                                    "SZALLAS_NEV": "Hotel Három Hattyú",
                                    "SZOBA_FK": "124"
                                },
                                {
                                    "SZALLAS_NEV": "Gold Hotel",
                                    "SZOBA_FK": "178"
                                },
                                {
                                    "SZALLAS_NEV": "Fortuna Apartman",
                                    "SZOBA_FK": "21"
                                },
                                {
                                    "SZALLAS_NEV": "Hotel Három Hattyú",
                                    "SZOBA_FK": "91"
                                },
                                {
                                    "SZALLAS_NEV": "Fortuna panzió",
                                    "SZOBA_FK": "39"
                                },
                                {
                                    "SZALLAS_NEV": "Hotel Három Hattyú",
                                    "SZOBA_FK": "121"
                                },
                                {
                                    "SZALLAS_NEV": "Gold Hotel",
                                    "SZOBA_FK": "198"
                                },
                                {
                                    "SZALLAS_NEV": "Hotel Három Hattyú",
                                    "SZOBA_FK": "93"
                                },
                                {
                                    "SZALLAS_NEV": "Kentaur Hotel",
                                    "SZOBA_FK": "61"
                                },
                                {
                                    "SZALLAS_NEV": "Jáde panzió",
                                    "SZOBA_FK": "134"
                                },
                                {
                                    "SZALLAS_NEV": "Sába-Ház",
                                    "SZOBA_FK": "9"
                                },
                                {
                                    "SZALLAS_NEV": "Fortuna Panzió",
                                    "SZOBA_FK": "49"
                                },
                                {
                                    "SZALLAS_NEV": "Lagúna Hotel",
                                    "SZOBA_FK": "143"
                                },
                                {
                                    "SZALLAS_NEV": "Hotel Három Hattyú",
                                    "SZOBA_FK": "123"
                                },
                                {
                                    "SZALLAS_NEV": "Kentaur Hotel",
                                    "SZOBA_FK": "50"
                                },
                                {
                                    "SZALLAS_NEV": "Kentaur Hotel",
                                    "SZOBA_FK": "69"
                                },
                                {
                                    "SZALLAS_NEV": "Hotel Három Hattyú",
                                    "SZOBA_FK": "127"
                                },
                                {
                                    "SZALLAS_NEV": "Fortuna Panzió",
                                    "SZOBA_FK": "43"
                                },
                                {
                                    "SZALLAS_NEV": "Hotel Három Hattyú",
                                    "SZOBA_FK": "106"
                                },
                                {
                                    "SZALLAS_NEV": "Kentaur Hotel",
                                    "SZOBA_FK": "79"
                                },
                                {
                                    "SZALLAS_NEV": "Gold Hotel",
                                    "SZOBA_FK": "182"
                                },
                                {
                                    "SZALLAS_NEV": "Gold Hotel",
                                    "SZOBA_FK": "182"
                                },
                                {
                                    "SZALLAS_NEV": "Kentaur Hotel",
                                    "SZOBA_FK": "55"
                                },
                                {
                                    "SZALLAS_NEV": "Kentaur Hotel",
                                    "SZOBA_FK": "64"
                                },
                                {
                                    "SZALLAS_NEV": "Kentaur Hotel",
                                    "SZOBA_FK": "66"
                                },
                                {
                                    "SZALLAS_NEV": "Fortuna panzió",
                                    "SZOBA_FK": "29"
                                },
                                {
                                    "SZALLAS_NEV": "Sába-Ház",
                                    "SZOBA_FK": "11"
                                },
                                {
                                    "SZALLAS_NEV": "Fortuna Apartman",
                                    "SZOBA_FK": "19"
                                },
                                {
                                    "SZALLAS_NEV": "Gold Hotel",
                                    "SZOBA_FK": "193"
                                },
                                {
                                    "SZALLAS_NEV": "Kentaur Hotel",
                                    "SZOBA_FK": "59"
                                },
                                {
                                    "SZALLAS_NEV": "Lagúna Hotel",
                                    "SZOBA_FK": "157"
                                },
                                {
                                    "SZALLAS_NEV": "Hotel Három Hattyú",
                                    "SZOBA_FK": "94"
                                },
                                {
                                    "SZALLAS_NEV": "Gold Hotel",
                                    "SZOBA_FK": "178"
                                },
                                {
                                    "SZALLAS_NEV": "Fortuna Panzió",
                                    "SZOBA_FK": "48"
                                },
                                {
                                    "SZALLAS_NEV": "Családi Ház",
                                    "SZOBA_FK": "15"
                                },
                                {
                                    "SZALLAS_NEV": "Hotel Három Hattyú",
                                    "SZOBA_FK": "122"
                                },
                                {
                                    "SZALLAS_NEV": "Kentaur Hotel",
                                    "SZOBA_FK": "69"
                                },
                                {
                                    "SZALLAS_NEV": "Hotel Három Hattyú",
                                    "SZOBA_FK": "117"
                                },
                                {
                                    "SZALLAS_NEV": "Gold Hotel",
                                    "SZOBA_FK": "186"
                                },
                                {
                                    "SZALLAS_NEV": "Gold Hotel",
                                    "SZOBA_FK": "168"
                                },
                                {
                                    "SZALLAS_NEV": "Hotel Három Hattyú",
                                    "SZOBA_FK": "107"
                                },
                                {
                                    "SZALLAS_NEV": "Gold Hotel",
                                    "SZOBA_FK": "184"
                                },
                                {
                                    "SZALLAS_NEV": "Sába-Ház",
                                    "SZOBA_FK": "7"
                                },
                                {
                                    "SZALLAS_NEV": "Szieszta Apartmanház",
                                    "SZOBA_FK": "89"
                                },
                                {
                                    "SZALLAS_NEV": "Lagúna Hotel",
                                    "SZOBA_FK": "141"
                                },
                                {
                                    "SZALLAS_NEV": "Kentaur Hotel",
                                    "SZOBA_FK": "58"
                                },
                                {
                                    "SZALLAS_NEV": "Lagúna Hotel",
                                    "SZOBA_FK": "138"
                                },
                                {
                                    "SZALLAS_NEV": "Sába-Ház",
                                    "SZOBA_FK": "5"
                                },
                                {
                                    "SZALLAS_NEV": "Kentaur Hotel",
                                    "SZOBA_FK": "52"
                                },
                                {
                                    "SZALLAS_NEV": "Lagúna Hotel",
                                    "SZOBA_FK": "140"
                                },
                                {
                                    "SZALLAS_NEV": "Sába-Ház",
                                    "SZOBA_FK": "9"
                                },
                                {
                                    "SZALLAS_NEV": "Kentaur Hotel",
                                    "SZOBA_FK": "58"
                                },
                                {
                                    "SZALLAS_NEV": "Lagúna Hotel",
                                    "SZOBA_FK": "154"
                                },
                                {
                                    "SZALLAS_NEV": "Hotel Három Hattyú",
                                    "SZOBA_FK": "113"
                                },
                                {
                                    "SZALLAS_NEV": "Kentaur Hotel",
                                    "SZOBA_FK": "66"
                                },
                                {
                                    "SZALLAS_NEV": "Partiszél Vendégház",
                                    "SZOBA_FK": "163"
                                },
                                {
                                    "SZALLAS_NEV": "Gold Hotel",
                                    "SZOBA_FK": "168"
                                },
                                {
                                    "SZALLAS_NEV": "Gold Hotel",
                                    "SZOBA_FK": "170"
                                },
                                {
                                    "SZALLAS_NEV": "Kentaur Hotel",
                                    "SZOBA_FK": "78"
                                },
                                {
                                    "SZALLAS_NEV": "Szieszta Apartmanház",
                                    "SZOBA_FK": "89"
                                },
                                {
                                    "SZALLAS_NEV": "Fortuna Panzió",
                                    "SZOBA_FK": "43"
                                },
                                {
                                    "SZALLAS_NEV": "Hotel Három Hattyú",
                                    "SZOBA_FK": "106"
                                },
                                {
                                    "SZALLAS_NEV": "Kentaur Hotel",
                                    "SZOBA_FK": "50"
                                },
                                {
                                    "SZALLAS_NEV": "Szieszta Apartmanház",
                                    "SZOBA_FK": "88"
                                },
                                {
                                    "SZALLAS_NEV": "Sába-Ház",
                                    "SZOBA_FK": "1"
                                },
                                {
                                    "SZALLAS_NEV": "Fortuna panzió",
                                    "SZOBA_FK": "27"
                                },
                                {
                                    "SZALLAS_NEV": "Gold Hotel",
                                    "SZOBA_FK": "174"
                                },
                                {
                                    "SZALLAS_NEV": "Kentaur Hotel",
                                    "SZOBA_FK": "82"
                                },
                                {
                                    "SZALLAS_NEV": "Gold Hotel",
                                    "SZOBA_FK": "176"
                                },
                                {
                                    "SZALLAS_NEV": "Kentaur Hotel",
                                    "SZOBA_FK": "80"
                                },
                                {
                                    "SZALLAS_NEV": "Lagúna Hotel",
                                    "SZOBA_FK": "137"
                                },
                                {
                                    "SZALLAS_NEV": "Kentaur Hotel",
                                    "SZOBA_FK": "78"
                                },
                                {
                                    "SZALLAS_NEV": "Hotel Három Hattyú",
                                    "SZOBA_FK": "123"
                                },
                                {
                                    "SZALLAS_NEV": "Lagúna Hotel",
                                    "SZOBA_FK": "138"
                                },
                                {
                                    "SZALLAS_NEV": "Partiszél Vendégház",
                                    "SZOBA_FK": "164"
                                },
                                {
                                    "SZALLAS_NEV": "Kentaur Hotel",
                                    "SZOBA_FK": "58"
                                },
                                {
                                    "SZALLAS_NEV": "Hotel Három Hattyú",
                                    "SZOBA_FK": "127"
                                },
                                {
                                    "SZALLAS_NEV": "Fortuna Apartman",
                                    "SZOBA_FK": "22"
                                },
                                {
                                    "SZALLAS_NEV": "Kentaur Hotel",
                                    "SZOBA_FK": "59"
                                },
                                {
                                    "SZALLAS_NEV": "Lagúna Hotel",
                                    "SZOBA_FK": "135"
                                },
                                {
                                    "SZALLAS_NEV": "Hotel Három Hattyú",
                                    "SZOBA_FK": "128"
                                },
                                {
                                    "SZALLAS_NEV": "Fortuna Panzió",
                                    "SZOBA_FK": "46"
                                },
                                {
                                    "SZALLAS_NEV": "Partiszél Vendégház",
                                    "SZOBA_FK": "164"
                                },
                                {
                                    "SZALLAS_NEV": "Kentaur Hotel",
                                    "SZOBA_FK": "58"
                                },
                                {
                                    "SZALLAS_NEV": "Lagúna Hotel",
                                    "SZOBA_FK": "138"
                                },
                                {
                                    "SZALLAS_NEV": "Fortuna Panzió",
                                    "SZOBA_FK": "44"
                                },
                                {
                                    "SZALLAS_NEV": "Hotel Három Hattyú",
                                    "SZOBA_FK": "111"
                                },
                                {
                                    "SZALLAS_NEV": "Lagúna Hotel",
                                    "SZOBA_FK": "144"
                                },
                                {
                                    "SZALLAS_NEV": "Hotel Három Hattyú",
                                    "SZOBA_FK": "109"
                                },
                                {
                                    "SZALLAS_NEV": "Szieszta Apartmanház",
                                    "SZOBA_FK": "90"
                                },
                                {
                                    "SZALLAS_NEV": "Szieszta Apartmanház",
                                    "SZOBA_FK": "88"
                                },
                                {
                                    "SZALLAS_NEV": "Jáde panzió",
                                    "SZOBA_FK": "132"
                                },
                                {
                                    "SZALLAS_NEV": "Gold Hotel",
                                    "SZOBA_FK": "191"
                                },
                                {
                                    "SZALLAS_NEV": "Fortuna Panzió",
                                    "SZOBA_FK": "45"
                                },
                                {
                                    "SZALLAS_NEV": "Gold Hotel",
                                    "SZOBA_FK": "197"
                                },
                                {
                                    "SZALLAS_NEV": "Hotel Három Hattyú",
                                    "SZOBA_FK": "94"
                                },
                                {
                                    "SZALLAS_NEV": "Jáde panzió",
                                    "SZOBA_FK": "133"
                                },
                                {
                                    "SZALLAS_NEV": "Kentaur Hotel",
                                    "SZOBA_FK": "58"
                                },
                                {
                                    "SZALLAS_NEV": "Gold Hotel",
                                    "SZOBA_FK": "182"
                                },
                                {
                                    "SZALLAS_NEV": "Fortuna Panzió",
                                    "SZOBA_FK": "42"
                                },
                                {
                                    "SZALLAS_NEV": "Lagúna Hotel",
                                    "SZOBA_FK": "155"
                                },
                                {
                                    "SZALLAS_NEV": "Sába-Ház",
                                    "SZOBA_FK": "2"
                                },
                                {
                                    "SZALLAS_NEV": "Hotel Három Hattyú",
                                    "SZOBA_FK": "94"
                                },
                                {
                                    "SZALLAS_NEV": "Lagúna Hotel",
                                    "SZOBA_FK": "143"
                                },
                                {
                                    "SZALLAS_NEV": "Gold Hotel",
                                    "SZOBA_FK": "196"
                                },
                                {
                                    "SZALLAS_NEV": "Hotel Három Hattyú",
                                    "SZOBA_FK": "100"
                                },
                                {
                                    "SZALLAS_NEV": "Fortuna Apartman",
                                    "SZOBA_FK": "17"
                                },
                                {
                                    "SZALLAS_NEV": "Gold Hotel",
                                    "SZOBA_FK": "182"
                                },
                                {
                                    "SZALLAS_NEV": "Kentaur Hotel",
                                    "SZOBA_FK": "72"
                                },
                                {
                                    "SZALLAS_NEV": "Sába-Ház",
                                    "SZOBA_FK": "10"
                                },
                                {
                                    "SZALLAS_NEV": "Szieszta Apartmanház",
                                    "SZOBA_FK": "85"
                                },
                                {
                                    "SZALLAS_NEV": "Fortuna panzió",
                                    "SZOBA_FK": "33"
                                },
                                {
                                    "SZALLAS_NEV": "Kentaur Hotel",
                                    "SZOBA_FK": "58"
                                },
                                {
                                    "SZALLAS_NEV": "Gold Hotel",
                                    "SZOBA_FK": "191"
                                },
                                {
                                    "SZALLAS_NEV": "Kentaur Hotel",
                                    "SZOBA_FK": "68"
                                },
                                {
                                    "SZALLAS_NEV": "Kentaur Hotel",
                                    "SZOBA_FK": "70"
                                },
                                {
                                    "SZALLAS_NEV": "Gold Hotel",
                                    "SZOBA_FK": "182"
                                },
                                {
                                    "SZALLAS_NEV": "Kentaur Hotel",
                                    "SZOBA_FK": "55"
                                },
                                {
                                    "SZALLAS_NEV": "Kentaur Hotel",
                                    "SZOBA_FK": "54"
                                },
                                {
                                    "SZALLAS_NEV": "Gold Hotel",
                                    "SZOBA_FK": "171"
                                },
                                {
                                    "SZALLAS_NEV": "Hotel Három Hattyú",
                                    "SZOBA_FK": "124"
                                },
                                {
                                    "SZALLAS_NEV": "Kentaur Hotel",
                                    "SZOBA_FK": "73"
                                },
                                {
                                    "SZALLAS_NEV": "Hotel Három Hattyú",
                                    "SZOBA_FK": "101"
                                },
                                {
                                    "SZALLAS_NEV": "Kentaur Hotel",
                                    "SZOBA_FK": "70"
                                },
                                {
                                    "SZALLAS_NEV": "Sába-Ház",
                                    "SZOBA_FK": "1"
                                },
                                {
                                    "SZALLAS_NEV": "Fortuna panzió",
                                    "SZOBA_FK": "37"
                                },
                                {
                                    "SZALLAS_NEV": "Gold Hotel",
                                    "SZOBA_FK": "172"
                                },
                                {
                                    "SZALLAS_NEV": "Hotel Három Hattyú",
                                    "SZOBA_FK": "122"
                                },
                                {
                                    "SZALLAS_NEV": "Lagúna Hotel",
                                    "SZOBA_FK": "145"
                                },
                                {
                                    "SZALLAS_NEV": "Hotel Három Hattyú",
                                    "SZOBA_FK": "120"
                                },
                                {
                                    "SZALLAS_NEV": "Gold Hotel",
                                    "SZOBA_FK": "196"
                                },
                                {
                                    "SZALLAS_NEV": "Kentaur Hotel",
                                    "SZOBA_FK": "82"
                                },
                                {
                                    "SZALLAS_NEV": "Gold Hotel",
                                    "SZOBA_FK": "170"
                                },
                                {
                                    "SZALLAS_NEV": "Hotel Három Hattyú",
                                    "SZOBA_FK": "102"
                                },
                                {
                                    "SZALLAS_NEV": "Fortuna panzió",
                                    "SZOBA_FK": "33"
                                },
                                {
                                    "SZALLAS_NEV": "Kentaur Hotel",
                                    "SZOBA_FK": "79"
                                },
                                {
                                    "SZALLAS_NEV": "Gold Hotel",
                                    "SZOBA_FK": "181"
                                },
                                {
                                    "SZALLAS_NEV": "Családi Ház",
                                    "SZOBA_FK": "13"
                                },
                                {
                                    "SZALLAS_NEV": "Kentaur Hotel",
                                    "SZOBA_FK": "57"
                                },
                                {
                                    "SZALLAS_NEV": "Szieszta Apartmanház",
                                    "SZOBA_FK": "87"
                                },
                                {
                                    "SZALLAS_NEV": "Gold Hotel",
                                    "SZOBA_FK": "173"
                                },
                                {
                                    "SZALLAS_NEV": "Fortuna panzió",
                                    "SZOBA_FK": "38"
                                },
                                {
                                    "SZALLAS_NEV": "Hotel Három Hattyú",
                                    "SZOBA_FK": "115"
                                },
                                {
                                    "SZALLAS_NEV": "Hotel Három Hattyú",
                                    "SZOBA_FK": "111"
                                },
                                {
                                    "SZALLAS_NEV": "Hotel Három Hattyú",
                                    "SZOBA_FK": "107"
                                },
                                {
                                    "SZALLAS_NEV": "Hotel Három Hattyú",
                                    "SZOBA_FK": "93"
                                },
                                {
                                    "SZALLAS_NEV": "Gold Hotel",
                                    "SZOBA_FK": "169"
                                },
                                {
                                    "SZALLAS_NEV": "Lagúna Hotel",
                                    "SZOBA_FK": "140"
                                },
                                {
                                    "SZALLAS_NEV": "Lagúna Hotel",
                                    "SZOBA_FK": "138"
                                },
                                {
                                    "SZALLAS_NEV": "Szieszta Apartmanház",
                                    "SZOBA_FK": "88"
                                },
                                {
                                    "SZALLAS_NEV": "Hotel Három Hattyú",
                                    "SZOBA_FK": "129"
                                },
                                {
                                    "SZALLAS_NEV": "Lagúna Hotel",
                                    "SZOBA_FK": "140"
                                },
                                {
                                    "SZALLAS_NEV": "Fortuna panzió",
                                    "SZOBA_FK": "25"
                                },
                                {
                                    "SZALLAS_NEV": "Jáde panzió",
                                    "SZOBA_FK": "133"
                                },
                                {
                                    "SZALLAS_NEV": "Hotel Három Hattyú",
                                    "SZOBA_FK": "126"
                                },
                                {
                                    "SZALLAS_NEV": "Kentaur Hotel",
                                    "SZOBA_FK": "70"
                                },
                                {
                                    "SZALLAS_NEV": "Kentaur Hotel",
                                    "SZOBA_FK": "81"
                                },
                                {
                                    "SZALLAS_NEV": "Kentaur Hotel",
                                    "SZOBA_FK": "80"
                                },
                                {
                                    "SZALLAS_NEV": "Hotel Három Hattyú",
                                    "SZOBA_FK": "94"
                                },
                                {
                                    "SZALLAS_NEV": "Lagúna Hotel",
                                    "SZOBA_FK": "142"
                                },
                                {
                                    "SZALLAS_NEV": "Lagúna Hotel",
                                    "SZOBA_FK": "138"
                                },
                                {
                                    "SZALLAS_NEV": "Lagúna Hotel",
                                    "SZOBA_FK": "140"
                                },
                                {
                                    "SZALLAS_NEV": "Hotel Három Hattyú",
                                    "SZOBA_FK": "106"
                                },
                                {
                                    "SZALLAS_NEV": "Hotel Három Hattyú",
                                    "SZOBA_FK": "121"
                                },
                                {
                                    "SZALLAS_NEV": "Hotel Három Hattyú",
                                    "SZOBA_FK": "118"
                                },
                                {
                                    "SZALLAS_NEV": "Gold Hotel",
                                    "SZOBA_FK": "165"
                                },
                                {
                                    "SZALLAS_NEV": "Kentaur Hotel",
                                    "SZOBA_FK": "84"
                                },
                                {
                                    "SZALLAS_NEV": "Fortuna panzió",
                                    "SZOBA_FK": "27"
                                },
                                {
                                    "SZALLAS_NEV": "Hotel Három Hattyú",
                                    "SZOBA_FK": "96"
                                },
                                {
                                    "SZALLAS_NEV": "Kentaur Hotel",
                                    "SZOBA_FK": "83"
                                },
                                {
                                    "SZALLAS_NEV": "Fortuna panzió",
                                    "SZOBA_FK": "39"
                                },
                                {
                                    "SZALLAS_NEV": "Fortuna panzió",
                                    "SZOBA_FK": "33"
                                },
                                {
                                    "SZALLAS_NEV": "Kentaur Hotel",
                                    "SZOBA_FK": "67"
                                },
                                {
                                    "SZALLAS_NEV": "Gold Hotel",
                                    "SZOBA_FK": "176"
                                },
                                {
                                    "SZALLAS_NEV": "Kentaur Hotel",
                                    "SZOBA_FK": "84"
                                },
                                {
                                    "SZALLAS_NEV": "Hotel Három Hattyú",
                                    "SZOBA_FK": "122"
                                },
                                {
                                    "SZALLAS_NEV": "Kentaur Hotel",
                                    "SZOBA_FK": "55"
                                },
                                {
                                    "SZALLAS_NEV": "Gold Hotel",
                                    "SZOBA_FK": "197"
                                },
                                {
                                    "SZALLAS_NEV": "Fortuna panzió",
                                    "SZOBA_FK": "26"
                                },
                                {
                                    "SZALLAS_NEV": "Kentaur Hotel",
                                    "SZOBA_FK": "57"
                                },
                                {
                                    "SZALLAS_NEV": "Gold Hotel",
                                    "SZOBA_FK": "188"
                                },
                                {
                                    "SZALLAS_NEV": "Hotel Három Hattyú",
                                    "SZOBA_FK": "93"
                                },
                                {
                                    "SZALLAS_NEV": "Hotel Három Hattyú",
                                    "SZOBA_FK": "108"
                                },
                                {
                                    "SZALLAS_NEV": "Hotel Három Hattyú",
                                    "SZOBA_FK": "121"
                                },
                                {
                                    "SZALLAS_NEV": "Lagúna Hotel",
                                    "SZOBA_FK": "143"
                                },
                                {
                                    "SZALLAS_NEV": "Hotel Három Hattyú",
                                    "SZOBA_FK": "97"
                                },
                                {
                                    "SZALLAS_NEV": "Kentaur Hotel",
                                    "SZOBA_FK": "72"
                                },
                                {
                                    "SZALLAS_NEV": "Hotel Három Hattyú",
                                    "SZOBA_FK": "91"
                                },
                                {
                                    "SZALLAS_NEV": "Hotel Három Hattyú",
                                    "SZOBA_FK": "103"
                                },
                                {
                                    "SZALLAS_NEV": "Szieszta Apartmanház",
                                    "SZOBA_FK": "89"
                                },
                                {
                                    "SZALLAS_NEV": "Partiszél Vendégház",
                                    "SZOBA_FK": "162"
                                },
                                {
                                    "SZALLAS_NEV": "Lagúna Hotel",
                                    "SZOBA_FK": "141"
                                },
                                {
                                    "SZALLAS_NEV": "Hotel Három Hattyú",
                                    "SZOBA_FK": "98"
                                },
                                {
                                    "SZALLAS_NEV": "Hotel Három Hattyú",
                                    "SZOBA_FK": "124"
                                },
                                {
                                    "SZALLAS_NEV": "Gold Hotel",
                                    "SZOBA_FK": "187"
                                },
                                {
                                    "SZALLAS_NEV": "Szieszta Apartmanház",
                                    "SZOBA_FK": "90"
                                },
                                {
                                    "SZALLAS_NEV": "Kentaur Hotel",
                                    "SZOBA_FK": "82"
                                },
                                {
                                    "SZALLAS_NEV": "Gold Hotel",
                                    "SZOBA_FK": "175"
                                },
                                {
                                    "SZALLAS_NEV": "Hotel Három Hattyú",
                                    "SZOBA_FK": "99"
                                },
                                {
                                    "SZALLAS_NEV": "Jáde panzió",
                                    "SZOBA_FK": "133"
                                },
                                {
                                    "SZALLAS_NEV": "Gold Hotel",
                                    "SZOBA_FK": "182"
                                },
                                {
                                    "SZALLAS_NEV": "Fortuna panzió",
                                    "SZOBA_FK": "35"
                                },
                                {
                                    "SZALLAS_NEV": "Kentaur Hotel",
                                    "SZOBA_FK": "75"
                                },
                                {
                                    "SZALLAS_NEV": "Hotel Három Hattyú",
                                    "SZOBA_FK": "119"
                                },
                                {
                                    "SZALLAS_NEV": "Gold Hotel",
                                    "SZOBA_FK": "167"
                                },
                                {
                                    "SZALLAS_NEV": "Fortuna Apartman",
                                    "SZOBA_FK": "24"
                                },
                                {
                                    "SZALLAS_NEV": "Fortuna panzió",
                                    "SZOBA_FK": "38"
                                },
                                {
                                    "SZALLAS_NEV": "Hotel Három Hattyú",
                                    "SZOBA_FK": "97"
                                },
                                {
                                    "SZALLAS_NEV": "Családi Ház",
                                    "SZOBA_FK": "15"
                                },
                                {
                                    "SZALLAS_NEV": "Hotel Három Hattyú",
                                    "SZOBA_FK": "124"
                                },
                                {
                                    "SZALLAS_NEV": "Gold Hotel",
                                    "SZOBA_FK": "198"
                                },
                                {
                                    "SZALLAS_NEV": "Gold Hotel",
                                    "SZOBA_FK": "172"
                                },
                                {
                                    "SZALLAS_NEV": "Gold Hotel",
                                    "SZOBA_FK": "182"
                                },
                                {
                                    "SZALLAS_NEV": "Sába-Ház",
                                    "SZOBA_FK": "9"
                                },
                                {
                                    "SZALLAS_NEV": "Hotel Három Hattyú",
                                    "SZOBA_FK": "110"
                                },
                                {
                                    "SZALLAS_NEV": "Fortuna Panzió",
                                    "SZOBA_FK": "44"
                                },
                                {
                                    "SZALLAS_NEV": "Kentaur Hotel",
                                    "SZOBA_FK": "62"
                                },
                                {
                                    "SZALLAS_NEV": "Gold Hotel",
                                    "SZOBA_FK": "169"
                                },
                                {
                                    "SZALLAS_NEV": "Hotel Három Hattyú",
                                    "SZOBA_FK": "126"
                                },
                                {
                                    "SZALLAS_NEV": "Gold Hotel",
                                    "SZOBA_FK": "173"
                                },
                                {
                                    "SZALLAS_NEV": "Sába-Ház",
                                    "SZOBA_FK": "12"
                                },
                                {
                                    "SZALLAS_NEV": "Kentaur Hotel",
                                    "SZOBA_FK": "52"
                                },
                                {
                                    "SZALLAS_NEV": "Lagúna Hotel",
                                    "SZOBA_FK": "150"
                                },
                                {
                                    "SZALLAS_NEV": "Lagúna Hotel",
                                    "SZOBA_FK": "139"
                                },
                                {
                                    "SZALLAS_NEV": "Sába-Ház",
                                    "SZOBA_FK": "3"
                                },
                                {
                                    "SZALLAS_NEV": "Fortuna panzió",
                                    "SZOBA_FK": "39"
                                },
                                {
                                    "SZALLAS_NEV": "Fortuna panzió",
                                    "SZOBA_FK": "35"
                                },
                                {
                                    "SZALLAS_NEV": "Gold Hotel",
                                    "SZOBA_FK": "183"
                                },
                                {
                                    "SZALLAS_NEV": "Hotel Három Hattyú",
                                    "SZOBA_FK": "96"
                                },
                                {
                                    "SZALLAS_NEV": "Kentaur Hotel",
                                    "SZOBA_FK": "77"
                                },
                                {
                                    "SZALLAS_NEV": "Hotel Három Hattyú",
                                    "SZOBA_FK": "122"
                                },
                                {
                                    "SZALLAS_NEV": "Gold Hotel",
                                    "SZOBA_FK": "185"
                                },
                                {
                                    "SZALLAS_NEV": "Családi Ház",
                                    "SZOBA_FK": "15"
                                },
                                {
                                    "SZALLAS_NEV": "Kentaur Hotel",
                                    "SZOBA_FK": "81"
                                },
                                {
                                    "SZALLAS_NEV": "Fortuna Panzió",
                                    "SZOBA_FK": "42"
                                },
                                {
                                    "SZALLAS_NEV": "Hotel Három Hattyú",
                                    "SZOBA_FK": "129"
                                },
                                {
                                    "SZALLAS_NEV": "Kentaur Hotel",
                                    "SZOBA_FK": "64"
                                },
                                {
                                    "SZALLAS_NEV": "Kentaur Hotel",
                                    "SZOBA_FK": "79"
                                },
                                {
                                    "SZALLAS_NEV": "Lagúna Hotel",
                                    "SZOBA_FK": "143"
                                },
                                {
                                    "SZALLAS_NEV": "Gold Hotel",
                                    "SZOBA_FK": "189"
                                },
                                {
                                    "SZALLAS_NEV": "Lagúna Hotel",
                                    "SZOBA_FK": "139"
                                },
                                {
                                    "SZALLAS_NEV": "Kentaur Hotel",
                                    "SZOBA_FK": "58"
                                },
                                {
                                    "SZALLAS_NEV": "Hotel Három Hattyú",
                                    "SZOBA_FK": "107"
                                },
                                {
                                    "SZALLAS_NEV": "Szieszta Apartmanház",
                                    "SZOBA_FK": "86"
                                },
                                {
                                    "SZALLAS_NEV": "Fortuna panzió",
                                    "SZOBA_FK": "39"
                                },
                                {
                                    "SZALLAS_NEV": "Hotel Három Hattyú",
                                    "SZOBA_FK": "116"
                                },
                                {
                                    "SZALLAS_NEV": "Szieszta Apartmanház",
                                    "SZOBA_FK": "87"
                                },
                                {
                                    "SZALLAS_NEV": "Kentaur Hotel",
                                    "SZOBA_FK": "70"
                                },
                                {
                                    "SZALLAS_NEV": "Kentaur Hotel",
                                    "SZOBA_FK": "75"
                                },
                                {
                                    "SZALLAS_NEV": "Fortuna panzió",
                                    "SZOBA_FK": "28"
                                },
                                {
                                    "SZALLAS_NEV": "Lagúna Hotel",
                                    "SZOBA_FK": "153"
                                },
                                {
                                    "SZALLAS_NEV": "Kentaur Hotel",
                                    "SZOBA_FK": "77"
                                },
                                {
                                    "SZALLAS_NEV": "Lagúna Hotel",
                                    "SZOBA_FK": "156"
                                },
                                {
                                    "SZALLAS_NEV": "Gold Hotel",
                                    "SZOBA_FK": "185"
                                },
                                {
                                    "SZALLAS_NEV": "Kentaur Hotel",
                                    "SZOBA_FK": "81"
                                },
                                {
                                    "SZALLAS_NEV": "Kentaur Hotel",
                                    "SZOBA_FK": "64"
                                },
                                {
                                    "SZALLAS_NEV": "Kentaur Hotel",
                                    "SZOBA_FK": "57"
                                },
                                {
                                    "SZALLAS_NEV": "Gold Hotel",
                                    "SZOBA_FK": "186"
                                },
                                {
                                    "SZALLAS_NEV": "Hotel Három Hattyú",
                                    "SZOBA_FK": "117"
                                },
                                {
                                    "SZALLAS_NEV": "Családi Ház",
                                    "SZOBA_FK": "13"
                                },
                                {
                                    "SZALLAS_NEV": "Lagúna Hotel",
                                    "SZOBA_FK": "153"
                                },
                                {
                                    "SZALLAS_NEV": "Lagúna Hotel",
                                    "SZOBA_FK": "145"
                                },
                                {
                                    "SZALLAS_NEV": "Hotel Három Hattyú",
                                    "SZOBA_FK": "118"
                                },
                                {
                                    "SZALLAS_NEV": "Gold Hotel",
                                    "SZOBA_FK": "195"
                                },
                                {
                                    "SZALLAS_NEV": "Jáde panzió",
                                    "SZOBA_FK": "131"
                                },
                                {
                                    "SZALLAS_NEV": "Jáde panzió",
                                    "SZOBA_FK": "130"
                                },
                                {
                                    "SZALLAS_NEV": "Fortuna panzió",
                                    "SZOBA_FK": "27"
                                },
                                {
                                    "SZALLAS_NEV": "Kentaur Hotel",
                                    "SZOBA_FK": "51"
                                },
                                {
                                    "SZALLAS_NEV": "Fortuna panzió",
                                    "SZOBA_FK": "38"
                                },
                                {
                                    "SZALLAS_NEV": "Lagúna Hotel",
                                    "SZOBA_FK": "146"
                                },
                                {
                                    "SZALLAS_NEV": "Fortuna panzió",
                                    "SZOBA_FK": "35"
                                },
                                {
                                    "SZALLAS_NEV": "Hotel Három Hattyú",
                                    "SZOBA_FK": "118"
                                },
                                {
                                    "SZALLAS_NEV": "Hotel Három Hattyú",
                                    "SZOBA_FK": "100"
                                },
                                {
                                    "SZALLAS_NEV": "Hotel Három Hattyú",
                                    "SZOBA_FK": "120"
                                },
                                {
                                    "SZALLAS_NEV": "Gold Hotel",
                                    "SZOBA_FK": "195"
                                },
                                {
                                    "SZALLAS_NEV": "Hotel Három Hattyú",
                                    "SZOBA_FK": "103"
                                },
                                {
                                    "SZALLAS_NEV": "Hotel Három Hattyú",
                                    "SZOBA_FK": "99"
                                },
                                {
                                    "SZALLAS_NEV": "Partiszél Vendégház",
                                    "SZOBA_FK": "163"
                                },
                                {
                                    "SZALLAS_NEV": "Hotel Három Hattyú",
                                    "SZOBA_FK": "119"
                                },
                                {
                                    "SZALLAS_NEV": "Hotel Három Hattyú",
                                    "SZOBA_FK": "110"
                                },
                                {
                                    "SZALLAS_NEV": "Lagúna Hotel",
                                    "SZOBA_FK": "156"
                                },
                                {
                                    "SZALLAS_NEV": "Gold Hotel",
                                    "SZOBA_FK": "172"
                                },
                                {
                                    "SZALLAS_NEV": "Sába-Ház",
                                    "SZOBA_FK": "4"
                                },
                                {
                                    "SZALLAS_NEV": "Hotel Három Hattyú",
                                    "SZOBA_FK": "120"
                                },
                                {
                                    "SZALLAS_NEV": "Hotel Három Hattyú",
                                    "SZOBA_FK": "107"
                                },
                                {
                                    "SZALLAS_NEV": "Hotel Három Hattyú",
                                    "SZOBA_FK": "113"
                                },
                                {
                                    "SZALLAS_NEV": "Kentaur Hotel",
                                    "SZOBA_FK": "61"
                                },
                                {
                                    "SZALLAS_NEV": "Gold Hotel",
                                    "SZOBA_FK": "179"
                                },
                                {
                                    "SZALLAS_NEV": "Családi Ház",
                                    "SZOBA_FK": "16"
                                },
                                {
                                    "SZALLAS_NEV": "Hotel Három Hattyú",
                                    "SZOBA_FK": "113"
                                },
                                {
                                    "SZALLAS_NEV": "Hotel Három Hattyú",
                                    "SZOBA_FK": "126"
                                },
                                {
                                    "SZALLAS_NEV": "Hotel Három Hattyú",
                                    "SZOBA_FK": "116"
                                },
                                {
                                    "SZALLAS_NEV": "Gold Hotel",
                                    "SZOBA_FK": "191"
                                },
                                {
                                    "SZALLAS_NEV": "Gold Hotel",
                                    "SZOBA_FK": "177"
                                },
                                {
                                    "SZALLAS_NEV": "Kentaur Hotel",
                                    "SZOBA_FK": "57"
                                },
                                {
                                    "SZALLAS_NEV": "Fortuna Apartman",
                                    "SZOBA_FK": "18"
                                },
                                {
                                    "SZALLAS_NEV": "Kentaur Hotel",
                                    "SZOBA_FK": "81"
                                },
                                {
                                    "SZALLAS_NEV": "Lagúna Hotel",
                                    "SZOBA_FK": "153"
                                },
                                {
                                    "SZALLAS_NEV": "Gold Hotel",
                                    "SZOBA_FK": "191"
                                },
                                {
                                    "SZALLAS_NEV": "Hotel Három Hattyú",
                                    "SZOBA_FK": "129"
                                },
                                {
                                    "SZALLAS_NEV": "Hotel Három Hattyú",
                                    "SZOBA_FK": "106"
                                },
                                {
                                    "SZALLAS_NEV": "Gold Hotel",
                                    "SZOBA_FK": "176"
                                },
                                {
                                    "SZALLAS_NEV": "Kentaur Hotel",
                                    "SZOBA_FK": "55"
                                },
                                {
                                    "SZALLAS_NEV": "Szieszta Apartmanház",
                                    "SZOBA_FK": "85"
                                },
                                {
                                    "SZALLAS_NEV": "Lagúna Hotel",
                                    "SZOBA_FK": "149"
                                },
                                {
                                    "SZALLAS_NEV": "Fortuna Panzió",
                                    "SZOBA_FK": "46"
                                },
                                {
                                    "SZALLAS_NEV": "Hotel Három Hattyú",
                                    "SZOBA_FK": "101"
                                },
                                {
                                    "SZALLAS_NEV": "Gold Hotel",
                                    "SZOBA_FK": "190"
                                },
                                {
                                    "SZALLAS_NEV": "Hotel Három Hattyú",
                                    "SZOBA_FK": "94"
                                },
                                {
                                    "SZALLAS_NEV": "Jáde panzió",
                                    "SZOBA_FK": "132"
                                },
                                {
                                    "SZALLAS_NEV": "Kentaur Hotel",
                                    "SZOBA_FK": "55"
                                },
                                {
                                    "SZALLAS_NEV": "Szieszta Apartmanház",
                                    "SZOBA_FK": "89"
                                },
                                {
                                    "SZALLAS_NEV": "Hotel Három Hattyú",
                                    "SZOBA_FK": "104"
                                },
                                {
                                    "SZALLAS_NEV": "Sába-Ház",
                                    "SZOBA_FK": "11"
                                },
                                {
                                    "SZALLAS_NEV": "Fortuna Panzió",
                                    "SZOBA_FK": "43"
                                },
                                {
                                    "SZALLAS_NEV": "Hotel Három Hattyú",
                                    "SZOBA_FK": "105"
                                },
                                {
                                    "SZALLAS_NEV": "Gold Hotel",
                                    "SZOBA_FK": "166"
                                },
                                {
                                    "SZALLAS_NEV": "Hotel Három Hattyú",
                                    "SZOBA_FK": "92"
                                },
                                {
                                    "SZALLAS_NEV": "Hotel Három Hattyú",
                                    "SZOBA_FK": "97"
                                },
                                {
                                    "SZALLAS_NEV": "Fortuna panzió",
                                    "SZOBA_FK": "35"
                                },
                                {
                                    "SZALLAS_NEV": "Hotel Három Hattyú",
                                    "SZOBA_FK": "112"
                                },
                                {
                                    "SZALLAS_NEV": "Hotel Három Hattyú",
                                    "SZOBA_FK": "124"
                                },
                                {
                                    "SZALLAS_NEV": "Hotel Három Hattyú",
                                    "SZOBA_FK": "104"
                                },
                                {
                                    "SZALLAS_NEV": "Fortuna Apartman",
                                    "SZOBA_FK": "19"
                                },
                                {
                                    "SZALLAS_NEV": "Kentaur Hotel",
                                    "SZOBA_FK": "52"
                                },
                                {
                                    "SZALLAS_NEV": "Jáde panzió",
                                    "SZOBA_FK": "134"
                                },
                                {
                                    "SZALLAS_NEV": "Fortuna Panzió",
                                    "SZOBA_FK": "49"
                                },
                                {
                                    "SZALLAS_NEV": "Sába-Ház",
                                    "SZOBA_FK": "9"
                                },
                                {
                                    "SZALLAS_NEV": "Fortuna panzió",
                                    "SZOBA_FK": "39"
                                },
                                {
                                    "SZALLAS_NEV": "Lagúna Hotel",
                                    "SZOBA_FK": "154"
                                },
                                {
                                    "SZALLAS_NEV": "Hotel Három Hattyú",
                                    "SZOBA_FK": "114"
                                },
                                {
                                    "SZALLAS_NEV": "Lagúna Hotel",
                                    "SZOBA_FK": "155"
                                },
                                {
                                    "SZALLAS_NEV": "Családi Ház",
                                    "SZOBA_FK": "14"
                                },
                                {
                                    "SZALLAS_NEV": "Hotel Három Hattyú",
                                    "SZOBA_FK": "95"
                                },
                                {
                                    "SZALLAS_NEV": "Sába-Ház",
                                    "SZOBA_FK": "3"
                                },
                                {
                                    "SZALLAS_NEV": "Lagúna Hotel",
                                    "SZOBA_FK": "142"
                                },
                                {
                                    "SZALLAS_NEV": "Fortuna Panzió",
                                    "SZOBA_FK": "48"
                                },
                                {
                                    "SZALLAS_NEV": "Fortuna Panzió",
                                    "SZOBA_FK": "48"
                                },
                                {
                                    "SZALLAS_NEV": "Szieszta Apartmanház",
                                    "SZOBA_FK": "88"
                                },
                                {
                                    "SZALLAS_NEV": "Fortuna Apartman",
                                    "SZOBA_FK": "17"
                                },
                                {
                                    "SZALLAS_NEV": "Kentaur Hotel",
                                    "SZOBA_FK": "51"
                                },
                                {
                                    "SZALLAS_NEV": "Lagúna Hotel",
                                    "SZOBA_FK": "157"
                                },
                                {
                                    "SZALLAS_NEV": "Fortuna Panzió",
                                    "SZOBA_FK": "44"
                                },
                                {
                                    "SZALLAS_NEV": "Fortuna Panzió",
                                    "SZOBA_FK": "43"
                                },
                                {
                                    "SZALLAS_NEV": "Hotel Három Hattyú",
                                    "SZOBA_FK": "115"
                                },
                                {
                                    "SZALLAS_NEV": "Hotel Három Hattyú",
                                    "SZOBA_FK": "92"
                                },
                                {
                                    "SZALLAS_NEV": "Fortuna panzió",
                                    "SZOBA_FK": "38"
                                },
                                {
                                    "SZALLAS_NEV": "Kentaur Hotel",
                                    "SZOBA_FK": "76"
                                },
                                {
                                    "SZALLAS_NEV": "Lagúna Hotel",
                                    "SZOBA_FK": "152"
                                },
                                {
                                    "SZALLAS_NEV": "Gold Hotel",
                                    "SZOBA_FK": "180"
                                },
                                {
                                    "SZALLAS_NEV": "Hotel Három Hattyú",
                                    "SZOBA_FK": "109"
                                },
                                {
                                    "SZALLAS_NEV": "Lagúna Hotel",
                                    "SZOBA_FK": "156"
                                },
                                {
                                    "SZALLAS_NEV": "Kentaur Hotel",
                                    "SZOBA_FK": "81"
                                },
                                {
                                    "SZALLAS_NEV": "Gold Hotel",
                                    "SZOBA_FK": "180"
                                },
                                {
                                    "SZALLAS_NEV": "Hotel Három Hattyú",
                                    "SZOBA_FK": "94"
                                },
                                {
                                    "SZALLAS_NEV": "Partiszél Vendégház",
                                    "SZOBA_FK": "160"
                                },
                                {
                                    "SZALLAS_NEV": "Hotel Három Hattyú",
                                    "SZOBA_FK": "115"
                                },
                                {
                                    "SZALLAS_NEV": "Gold Hotel",
                                    "SZOBA_FK": "171"
                                },
                                {
                                    "SZALLAS_NEV": "Fortuna panzió",
                                    "SZOBA_FK": "29"
                                },
                                {
                                    "SZALLAS_NEV": "Hotel Három Hattyú",
                                    "SZOBA_FK": "96"
                                },
                                {
                                    "SZALLAS_NEV": "Gold Hotel",
                                    "SZOBA_FK": "176"
                                },
                                {
                                    "SZALLAS_NEV": "Partiszél Vendégház",
                                    "SZOBA_FK": "161"
                                },
                                {
                                    "SZALLAS_NEV": "Lagúna Hotel",
                                    "SZOBA_FK": "144"
                                },
                                {
                                    "SZALLAS_NEV": "Kentaur Hotel",
                                    "SZOBA_FK": "59"
                                },
                                {
                                    "SZALLAS_NEV": "Hotel Három Hattyú",
                                    "SZOBA_FK": "128"
                                },
                                {
                                    "SZALLAS_NEV": "Szieszta Apartmanház",
                                    "SZOBA_FK": "88"
                                },
                                {
                                    "SZALLAS_NEV": "Gold Hotel",
                                    "SZOBA_FK": "189"
                                },
                                {
                                    "SZALLAS_NEV": "Kentaur Hotel",
                                    "SZOBA_FK": "78"
                                },
                                {
                                    "SZALLAS_NEV": "Lagúna Hotel",
                                    "SZOBA_FK": "148"
                                },
                                {
                                    "SZALLAS_NEV": "Hotel Három Hattyú",
                                    "SZOBA_FK": "127"
                                },
                                {
                                    "SZALLAS_NEV": "Kentaur Hotel",
                                    "SZOBA_FK": "67"
                                },
                                {
                                    "SZALLAS_NEV": "Fortuna Panzió",
                                    "SZOBA_FK": "48"
                                },
                                {
                                    "SZALLAS_NEV": "Kentaur Hotel",
                                    "SZOBA_FK": "64"
                                },
                                {
                                    "SZALLAS_NEV": "Hotel Három Hattyú",
                                    "SZOBA_FK": "128"
                                },
                                {
                                    "SZALLAS_NEV": "Kentaur Hotel",
                                    "SZOBA_FK": "67"
                                }
                            ]
                        },
                        "text/html": [
                            "<table>",
                            "<tr><th>SZALLAS_NEV</th><th>SZOBA_FK</th></tr>",
                            "<tr><td>Szieszta Apartmanház</td><td>87</td></tr>",
                            "<tr><td>Jáde panzió</td><td>131</td></tr>",
                            "<tr><td>Sába-Ház</td><td>6</td></tr>",
                            "<tr><td>Fortuna Panzió</td><td>42</td></tr>",
                            "<tr><td>Sába-Ház</td><td>7</td></tr>",
                            "<tr><td>Kentaur Hotel</td><td>68</td></tr>",
                            "<tr><td>Sába-Ház</td><td>5</td></tr>",
                            "<tr><td>Lagúna Hotel</td><td>141</td></tr>",
                            "<tr><td>Fortuna Apartman</td><td>21</td></tr>",
                            "<tr><td>Gold Hotel</td><td>170</td></tr>",
                            "<tr><td>Kentaur Hotel</td><td>78</td></tr>",
                            "<tr><td>Sába-Ház</td><td>10</td></tr>",
                            "<tr><td>Partiszél Vendégház</td><td>164</td></tr>",
                            "<tr><td>Gold Hotel</td><td>182</td></tr>",
                            "<tr><td>Kentaur Hotel</td><td>83</td></tr>",
                            "<tr><td>Gold Hotel</td><td>169</td></tr>",
                            "<tr><td>Gold Hotel</td><td>171</td></tr>",
                            "<tr><td>Lagúna Hotel</td><td>155</td></tr>",
                            "<tr><td>Hotel Három Hattyú</td><td>125</td></tr>",
                            "<tr><td>Lagúna Hotel</td><td>155</td></tr>",
                            "<tr><td>Gold Hotel</td><td>185</td></tr>",
                            "<tr><td>Lagúna Hotel</td><td>139</td></tr>",
                            "<tr><td>Jáde panzió</td><td>130</td></tr>",
                            "<tr><td>Lagúna Hotel</td><td>144</td></tr>",
                            "<tr><td>Lagúna Hotel</td><td>137</td></tr>",
                            "<tr><td>Kentaur Hotel</td><td>79</td></tr>",
                            "<tr><td>Lagúna Hotel</td><td>136</td></tr>",
                            "<tr><td>Kentaur Hotel</td><td>70</td></tr>",
                            "<tr><td>Hotel Három Hattyú</td><td>107</td></tr>",
                            "<tr><td>Hotel Három Hattyú</td><td>123</td></tr>",
                            "<tr><td>Lagúna Hotel</td><td>156</td></tr>",
                            "<tr><td>Fortuna Panzió</td><td>44</td></tr>",
                            "<tr><td>Fortuna Panzió</td><td>42</td></tr>",
                            "<tr><td>Lagúna Hotel</td><td>149</td></tr>",
                            "<tr><td>Gold Hotel</td><td>176</td></tr>",
                            "<tr><td>Kentaur Hotel</td><td>77</td></tr>",
                            "<tr><td>Lagúna Hotel</td><td>153</td></tr>",
                            "<tr><td>Kentaur Hotel</td><td>74</td></tr>",
                            "<tr><td>Hotel Három Hattyú</td><td>115</td></tr>",
                            "<tr><td>Hotel Három Hattyú</td><td>100</td></tr>",
                            "<tr><td>Fortuna panzió</td><td>31</td></tr>",
                            "<tr><td>Partiszél Vendégház</td><td>162</td></tr>",
                            "<tr><td>Gold Hotel</td><td>190</td></tr>",
                            "<tr><td>Fortuna panzió</td><td>39</td></tr>",
                            "<tr><td>Fortuna Apartman</td><td>17</td></tr>",
                            "<tr><td>Fortuna Panzió</td><td>48</td></tr>",
                            "<tr><td>Fortuna panzió</td><td>30</td></tr>",
                            "<tr><td>Hotel Három Hattyú</td><td>111</td></tr>",
                            "<tr><td>Fortuna panzió</td><td>31</td></tr>",
                            "<tr><td>Hotel Három Hattyú</td><td>96</td></tr>",
                            "<tr><td>Gold Hotel</td><td>184</td></tr>",
                            "<tr><td>Sába-Ház</td><td>9</td></tr>",
                            "<tr><td>Hotel Három Hattyú</td><td>106</td></tr>",
                            "<tr><td>Fortuna panzió</td><td>29</td></tr>",
                            "<tr><td>Hotel Három Hattyú</td><td>117</td></tr>",
                            "<tr><td>Jáde panzió</td><td>130</td></tr>",
                            "<tr><td>Hotel Három Hattyú</td><td>109</td></tr>",
                            "<tr><td>Gold Hotel</td><td>186</td></tr>",
                            "<tr><td>Hotel Három Hattyú</td><td>94</td></tr>",
                            "<tr><td>Hotel Három Hattyú</td><td>117</td></tr>",
                            "<tr><td>Hotel Három Hattyú</td><td>105</td></tr>",
                            "<tr><td>Jáde panzió</td><td>132</td></tr>",
                            "<tr><td>Sába-Ház</td><td>1</td></tr>",
                            "<tr><td>Hotel Három Hattyú</td><td>109</td></tr>",
                            "<tr><td>Kentaur Hotel</td><td>54</td></tr>",
                            "<tr><td>Hotel Három Hattyú</td><td>96</td></tr>",
                            "<tr><td>Fortuna panzió</td><td>33</td></tr>",
                            "<tr><td>Kentaur Hotel</td><td>63</td></tr>",
                            "<tr><td>Fortuna Apartman</td><td>18</td></tr>",
                            "<tr><td>Fortuna panzió</td><td>38</td></tr>",
                            "<tr><td>Fortuna Panzió</td><td>48</td></tr>",
                            "<tr><td>Sába-Ház</td><td>3</td></tr>",
                            "<tr><td>Partiszél Vendégház</td><td>163</td></tr>",
                            "<tr><td>Hotel Három Hattyú</td><td>98</td></tr>",
                            "<tr><td>Hotel Három Hattyú</td><td>99</td></tr>",
                            "<tr><td>Gold Hotel</td><td>187</td></tr>",
                            "<tr><td>Gold Hotel</td><td>193</td></tr>",
                            "<tr><td>Hotel Három Hattyú</td><td>97</td></tr>",
                            "<tr><td>Hotel Három Hattyú</td><td>91</td></tr>",
                            "<tr><td>Hotel Három Hattyú</td><td>100</td></tr>",
                            "<tr><td>Kentaur Hotel</td><td>67</td></tr>",
                            "<tr><td>Partiszél Vendégház</td><td>161</td></tr>",
                            "<tr><td>Gold Hotel</td><td>165</td></tr>",
                            "<tr><td>Lagúna Hotel</td><td>150</td></tr>",
                            "<tr><td>Kentaur Hotel</td><td>54</td></tr>",
                            "<tr><td>Hotel Három Hattyú</td><td>127</td></tr>",
                            "<tr><td>Gold Hotel</td><td>166</td></tr>",
                            "<tr><td>Kentaur Hotel</td><td>67</td></tr>",
                            "<tr><td>Kentaur Hotel</td><td>78</td></tr>",
                            "<tr><td>Szieszta Apartmanház</td><td>85</td></tr>",
                            "<tr><td>Lagúna Hotel</td><td>157</td></tr>",
                            "<tr><td>Lagúna Hotel</td><td>137</td></tr>",
                            "<tr><td>Kentaur Hotel</td><td>65</td></tr>",
                            "<tr><td>Sába-Ház</td><td>4</td></tr>",
                            "<tr><td>Lagúna Hotel</td><td>149</td></tr>",
                            "<tr><td>Partiszél Vendégház</td><td>161</td></tr>",
                            "<tr><td>Hotel Három Hattyú</td><td>109</td></tr>",
                            "<tr><td>Jáde panzió</td><td>131</td></tr>",
                            "<tr><td>Hotel Három Hattyú</td><td>95</td></tr>",
                            "<tr><td>Lagúna Hotel</td><td>137</td></tr>",
                            "<tr><td>Fortuna Panzió</td><td>44</td></tr>",
                            "<tr><td>Gold Hotel</td><td>169</td></tr>",
                            "<tr><td>Fortuna Apartman</td><td>21</td></tr>",
                            "<tr><td>Lagúna Hotel</td><td>136</td></tr>",
                            "<tr><td>Gold Hotel</td><td>179</td></tr>",
                            "<tr><td>Családi Ház</td><td>14</td></tr>",
                            "<tr><td>Lagúna Hotel</td><td>146</td></tr>",
                            "<tr><td>Hotel Három Hattyú</td><td>94</td></tr>",
                            "<tr><td>Sába-Ház</td><td>3</td></tr>",
                            "<tr><td>Kentaur Hotel</td><td>80</td></tr>",
                            "<tr><td>Kentaur Hotel</td><td>54</td></tr>",
                            "<tr><td>Gold Hotel</td><td>173</td></tr>",
                            "<tr><td>Fortuna Panzió</td><td>43</td></tr>",
                            "<tr><td>Hotel Három Hattyú</td><td>96</td></tr>",
                            "<tr><td>Gold Hotel</td><td>185</td></tr>",
                            "<tr><td>Gold Hotel</td><td>196</td></tr>",
                            "<tr><td>Kentaur Hotel</td><td>83</td></tr>",
                            "<tr><td>Gold Hotel</td><td>193</td></tr>",
                            "<tr><td>Kentaur Hotel</td><td>60</td></tr>",
                            "<tr><td>Gold Hotel</td><td>181</td></tr>",
                            "<tr><td>Lagúna Hotel</td><td>148</td></tr>",
                            "<tr><td>Gold Hotel</td><td>185</td></tr>",
                            "<tr><td>Gold Hotel</td><td>192</td></tr>",
                            "<tr><td>Kentaur Hotel</td><td>71</td></tr>",
                            "<tr><td>Gold Hotel</td><td>174</td></tr>",
                            "<tr><td>Kentaur Hotel</td><td>76</td></tr>",
                            "<tr><td>Gold Hotel</td><td>184</td></tr>",
                            "<tr><td>Hotel Három Hattyú</td><td>110</td></tr>",
                            "<tr><td>Fortuna panzió</td><td>35</td></tr>",
                            "<tr><td>Családi Ház</td><td>16</td></tr>",
                            "<tr><td>Fortuna panzió</td><td>37</td></tr>",
                            "<tr><td>Hotel Három Hattyú</td><td>102</td></tr>",
                            "<tr><td>Gold Hotel</td><td>188</td></tr>",
                            "<tr><td>Hotel Három Hattyú</td><td>99</td></tr>",
                            "<tr><td>Lagúna Hotel</td><td>156</td></tr>",
                            "<tr><td>Gold Hotel</td><td>185</td></tr>",
                            "<tr><td>Sába-Ház</td><td>8</td></tr>",
                            "<tr><td>Gold Hotel</td><td>187</td></tr>",
                            "<tr><td>Fortuna Apartman</td><td>19</td></tr>",
                            "<tr><td>Sába-Ház</td><td>12</td></tr>",
                            "<tr><td>Kentaur Hotel</td><td>77</td></tr>",
                            "<tr><td>Gold Hotel</td><td>189</td></tr>",
                            "<tr><td>Kentaur Hotel</td><td>78</td></tr>",
                            "<tr><td>Kentaur Hotel</td><td>61</td></tr>",
                            "<tr><td>Kentaur Hotel</td><td>62</td></tr>",
                            "<tr><td>Lagúna Hotel</td><td>145</td></tr>",
                            "<tr><td>Kentaur Hotel</td><td>70</td></tr>",
                            "<tr><td>Fortuna panzió</td><td>37</td></tr>",
                            "<tr><td>Hotel Három Hattyú</td><td>119</td></tr>",
                            "<tr><td>Fortuna panzió</td><td>35</td></tr>",
                            "<tr><td>Hotel Három Hattyú</td><td>106</td></tr>",
                            "<tr><td>Gold Hotel</td><td>172</td></tr>",
                            "<tr><td>Gold Hotel</td><td>188</td></tr>",
                            "<tr><td>Gold Hotel</td><td>185</td></tr>",
                            "<tr><td>Kentaur Hotel</td><td>71</td></tr>",
                            "<tr><td>Fortuna Apartman</td><td>17</td></tr>",
                            "<tr><td>Kentaur Hotel</td><td>73</td></tr>",
                            "<tr><td>Hotel Három Hattyú</td><td>101</td></tr>",
                            "<tr><td>Hotel Három Hattyú</td><td>118</td></tr>",
                            "<tr><td>Hotel Három Hattyú</td><td>128</td></tr>",
                            "<tr><td>Hotel Három Hattyú</td><td>97</td></tr>",
                            "<tr><td>Kentaur Hotel</td><td>58</td></tr>",
                            "<tr><td>Partiszél Vendégház</td><td>160</td></tr>",
                            "<tr><td>Gold Hotel</td><td>195</td></tr>",
                            "<tr><td>Hotel Három Hattyú</td><td>119</td></tr>",
                            "<tr><td>Hotel Három Hattyú</td><td>129</td></tr>",
                            "<tr><td>Lagúna Hotel</td><td>135</td></tr>",
                            "<tr><td>Fortuna panzió</td><td>28</td></tr>",
                            "<tr><td>Hotel Három Hattyú</td><td>97</td></tr>",
                            "<tr><td>Hotel Három Hattyú</td><td>94</td></tr>",
                            "<tr><td>Fortuna panzió</td><td>31</td></tr>",
                            "<tr><td>Szieszta Apartmanház</td><td>90</td></tr>",
                            "<tr><td>Lagúna Hotel</td><td>152</td></tr>",
                            "<tr><td>Gold Hotel</td><td>181</td></tr>",
                            "<tr><td>Hotel Három Hattyú</td><td>91</td></tr>",
                            "<tr><td>Lagúna Hotel</td><td>140</td></tr>",
                            "<tr><td>Kentaur Hotel</td><td>55</td></tr>",
                            "<tr><td>Hotel Három Hattyú</td><td>121</td></tr>",
                            "<tr><td>Kentaur Hotel</td><td>66</td></tr>",
                            "<tr><td>Hotel Három Hattyú</td><td>114</td></tr>",
                            "<tr><td>Sába-Ház</td><td>1</td></tr>",
                            "<tr><td>Hotel Három Hattyú</td><td>121</td></tr>",
                            "<tr><td>Gold Hotel</td><td>182</td></tr>",
                            "<tr><td>Hotel Három Hattyú</td><td>93</td></tr>",
                            "<tr><td>Partiszél Vendégház</td><td>164</td></tr>",
                            "<tr><td>Gold Hotel</td><td>187</td></tr>",
                            "<tr><td>Fortuna Apartman</td><td>17</td></tr>",
                            "<tr><td>Lagúna Hotel</td><td>139</td></tr>",
                            "<tr><td>Gold Hotel</td><td>169</td></tr>",
                            "<tr><td>Gold Hotel</td><td>188</td></tr>",
                            "<tr><td>Fortuna panzió</td><td>36</td></tr>",
                            "<tr><td>Gold Hotel</td><td>172</td></tr>",
                            "<tr><td>Fortuna panzió</td><td>36</td></tr>",
                            "<tr><td>Lagúna Hotel</td><td>139</td></tr>",
                            "<tr><td>Fortuna Panzió</td><td>46</td></tr>",
                            "<tr><td>Gold Hotel</td><td>189</td></tr>",
                            "<tr><td>Hotel Három Hattyú</td><td>126</td></tr>",
                            "<tr><td>Fortuna Apartman</td><td>20</td></tr>",
                            "<tr><td>Kentaur Hotel</td><td>61</td></tr>",
                            "<tr><td>Szieszta Apartmanház</td><td>88</td></tr>",
                            "<tr><td>Fortuna panzió</td><td>27</td></tr>",
                            "<tr><td>Sába-Ház</td><td>7</td></tr>",
                            "<tr><td>Jáde panzió</td><td>131</td></tr>",
                            "<tr><td>Lagúna Hotel</td><td>141</td></tr>",
                            "<tr><td>Hotel Három Hattyú</td><td>120</td></tr>",
                            "<tr><td>Családi Ház</td><td>13</td></tr>",
                            "<tr><td>Gold Hotel</td><td>197</td></tr>",
                            "<tr><td>Lagúna Hotel</td><td>148</td></tr>",
                            "<tr><td>Gold Hotel</td><td>187</td></tr>",
                            "<tr><td>Fortuna Apartman</td><td>18</td></tr>",
                            "<tr><td>Lagúna Hotel</td><td>138</td></tr>",
                            "<tr><td>Kentaur Hotel</td><td>63</td></tr>",
                            "<tr><td>Fortuna Panzió</td><td>42</td></tr>",
                            "<tr><td>Lagúna Hotel</td><td>147</td></tr>",
                            "<tr><td>Sába-Ház</td><td>6</td></tr>",
                            "<tr><td>Kentaur Hotel</td><td>58</td></tr>",
                            "<tr><td>Gold Hotel</td><td>190</td></tr>",
                            "<tr><td>Sába-Ház</td><td>12</td></tr>",
                            "<tr><td>Hotel Három Hattyú</td><td>112</td></tr>",
                            "<tr><td>Fortuna panzió</td><td>34</td></tr>",
                            "<tr><td>Fortuna Apartman</td><td>19</td></tr>",
                            "<tr><td>Jáde panzió</td><td>130</td></tr>",
                            "<tr><td>Hotel Három Hattyú</td><td>96</td></tr>",
                            "<tr><td>Gold Hotel</td><td>166</td></tr>",
                            "<tr><td>Partiszél Vendégház</td><td>163</td></tr>",
                            "<tr><td>Lagúna Hotel</td><td>148</td></tr>",
                            "<tr><td>Lagúna Hotel</td><td>141</td></tr>",
                            "<tr><td>Gold Hotel</td><td>177</td></tr>",
                            "<tr><td>Hotel Három Hattyú</td><td>111</td></tr>",
                            "<tr><td>Kentaur Hotel</td><td>50</td></tr>",
                            "<tr><td>Sába-Ház</td><td>3</td></tr>",
                            "<tr><td>Lagúna Hotel</td><td>146</td></tr>",
                            "<tr><td>Sába-Ház</td><td>10</td></tr>",
                            "<tr><td>Családi Ház</td><td>15</td></tr>",
                            "<tr><td>Gold Hotel</td><td>168</td></tr>",
                            "<tr><td>Fortuna Panzió</td><td>49</td></tr>",
                            "<tr><td>Gold Hotel</td><td>168</td></tr>",
                            "<tr><td>Sába-Ház</td><td>10</td></tr>",
                            "<tr><td>Lagúna Hotel</td><td>138</td></tr>",
                            "<tr><td>Kentaur Hotel</td><td>74</td></tr>",
                            "<tr><td>Kentaur Hotel</td><td>83</td></tr>",
                            "<tr><td>Gold Hotel</td><td>175</td></tr>",
                            "<tr><td>Fortuna Panzió</td><td>45</td></tr>",
                            "<tr><td>Hotel Három Hattyú</td><td>112</td></tr>",
                            "<tr><td>Fortuna Panzió</td><td>45</td></tr>",
                            "<tr><td>Sába-Ház</td><td>1</td></tr>",
                            "<tr><td>Lagúna Hotel</td><td>146</td></tr>",
                            "<tr><td>Fortuna Apartman</td><td>21</td></tr>",
                            "<tr><td>Hotel Három Hattyú</td><td>126</td></tr>",
                            "<tr><td>Fortuna panzió</td><td>27</td></tr>",
                            "<tr><td>Lagúna Hotel</td><td>148</td></tr>",
                            "<tr><td>Hotel Három Hattyú</td><td>92</td></tr>",
                            "<tr><td>Hotel Három Hattyú</td><td>109</td></tr>",
                            "<tr><td>Kentaur Hotel</td><td>51</td></tr>",
                            "<tr><td>Lagúna Hotel</td><td>148</td></tr>",
                            "<tr><td>Családi Ház</td><td>14</td></tr>",
                            "<tr><td>Kentaur Hotel</td><td>70</td></tr>",
                            "<tr><td>Hotel Három Hattyú</td><td>128</td></tr>",
                            "<tr><td>Gold Hotel</td><td>178</td></tr>",
                            "<tr><td>Szieszta Apartmanház</td><td>89</td></tr>",
                            "<tr><td>Sába-Ház</td><td>8</td></tr>",
                            "<tr><td>Kentaur Hotel</td><td>84</td></tr>",
                            "<tr><td>Fortuna Apartman</td><td>20</td></tr>",
                            "<tr><td>Fortuna panzió</td><td>34</td></tr>",
                            "<tr><td>Kentaur Hotel</td><td>52</td></tr>",
                            "<tr><td>Fortuna Panzió</td><td>44</td></tr>",
                            "<tr><td>Fortuna Panzió</td><td>48</td></tr>",
                            "<tr><td>Lagúna Hotel</td><td>158</td></tr>",
                            "<tr><td>Fortuna Panzió</td><td>49</td></tr>",
                            "<tr><td>Hotel Három Hattyú</td><td>114</td></tr>",
                            "<tr><td>Sába-Ház</td><td>2</td></tr>",
                            "<tr><td>Fortuna panzió</td><td>35</td></tr>",
                            "<tr><td>Kentaur Hotel</td><td>74</td></tr>",
                            "<tr><td>Gold Hotel</td><td>177</td></tr>",
                            "<tr><td>Sába-Ház</td><td>8</td></tr>",
                            "<tr><td>Lagúna Hotel</td><td>149</td></tr>",
                            "<tr><td>Lagúna Hotel</td><td>149</td></tr>",
                            "<tr><td>Gold Hotel</td><td>193</td></tr>",
                            "<tr><td>Hotel Három Hattyú</td><td>97</td></tr>",
                            "<tr><td>Hotel Három Hattyú</td><td>104</td></tr>",
                            "<tr><td>Kentaur Hotel</td><td>56</td></tr>",
                            "<tr><td>Gold Hotel</td><td>172</td></tr>",
                            "<tr><td>Lagúna Hotel</td><td>158</td></tr>",
                            "<tr><td>Hotel Három Hattyú</td><td>92</td></tr>",
                            "<tr><td>Gold Hotel</td><td>195</td></tr>",
                            "<tr><td>Lagúna Hotel</td><td>149</td></tr>",
                            "<tr><td>Szieszta Apartmanház</td><td>87</td></tr>",
                            "<tr><td>Kentaur Hotel</td><td>63</td></tr>",
                            "<tr><td>Fortuna Panzió</td><td>45</td></tr>",
                            "<tr><td>Kentaur Hotel</td><td>74</td></tr>",
                            "<tr><td>Fortuna Apartman</td><td>23</td></tr>",
                            "<tr><td>Lagúna Hotel</td><td>135</td></tr>",
                            "<tr><td>Sába-Ház</td><td>6</td></tr>",
                            "<tr><td>Fortuna Panzió</td><td>42</td></tr>",
                            "<tr><td>Fortuna Apartman</td><td>24</td></tr>",
                            "<tr><td>Hotel Három Hattyú</td><td>127</td></tr>",
                            "<tr><td>Gold Hotel</td><td>167</td></tr>",
                            "<tr><td>Kentaur Hotel</td><td>53</td></tr>",
                            "<tr><td>Családi Ház</td><td>16</td></tr>",
                            "<tr><td>Gold Hotel</td><td>165</td></tr>",
                            "<tr><td>Hotel Három Hattyú</td><td>121</td></tr>",
                            "<tr><td>Szieszta Apartmanház</td><td>86</td></tr>",
                            "<tr><td>Kentaur Hotel</td><td>70</td></tr>",
                            "<tr><td>Hotel Három Hattyú</td><td>124</td></tr>",
                            "<tr><td>Kentaur Hotel</td><td>82</td></tr>",
                            "<tr><td>Gold Hotel</td><td>185</td></tr>",
                            "<tr><td>Hotel Három Hattyú</td><td>118</td></tr>",
                            "<tr><td>Kentaur Hotel</td><td>51</td></tr>",
                            "<tr><td>Szieszta Apartmanház</td><td>88</td></tr>",
                            "<tr><td>Gold Hotel</td><td>175</td></tr>",
                            "<tr><td>Gold Hotel</td><td>187</td></tr>",
                            "<tr><td>Kentaur Hotel</td><td>83</td></tr>",
                            "<tr><td>Fortuna panzió</td><td>34</td></tr>",
                            "<tr><td>Kentaur Hotel</td><td>82</td></tr>",
                            "<tr><td>Fortuna panzió</td><td>28</td></tr>",
                            "<tr><td>Sába-Ház</td><td>6</td></tr>",
                            "<tr><td>Kentaur Hotel</td><td>67</td></tr>",
                            "<tr><td>Kentaur Hotel</td><td>64</td></tr>",
                            "<tr><td>Sába-Ház</td><td>12</td></tr>",
                            "<tr><td>Kentaur Hotel</td><td>74</td></tr>",
                            "<tr><td>Kentaur Hotel</td><td>83</td></tr>",
                            "<tr><td>Hotel Három Hattyú</td><td>127</td></tr>",
                            "<tr><td>Gold Hotel</td><td>184</td></tr>",
                            "<tr><td>Jáde panzió</td><td>131</td></tr>",
                            "<tr><td>Sába-Ház</td><td>8</td></tr>",
                            "<tr><td>Kentaur Hotel</td><td>58</td></tr>",
                            "<tr><td>Hotel Három Hattyú</td><td>98</td></tr>",
                            "<tr><td>Kentaur Hotel</td><td>69</td></tr>",
                            "<tr><td>Fortuna panzió</td><td>28</td></tr>",
                            "<tr><td>Kentaur Hotel</td><td>80</td></tr>",
                            "<tr><td>Fortuna Panzió</td><td>49</td></tr>",
                            "<tr><td>Kentaur Hotel</td><td>54</td></tr>",
                            "<tr><td>Lagúna Hotel</td><td>146</td></tr>",
                            "<tr><td>Kentaur Hotel</td><td>63</td></tr>",
                            "<tr><td>Gold Hotel</td><td>165</td></tr>",
                            "<tr><td>Lagúna Hotel</td><td>151</td></tr>",
                            "<tr><td>Fortuna panzió</td><td>29</td></tr>",
                            "<tr><td>Fortuna panzió</td><td>36</td></tr>",
                            "<tr><td>Családi Ház</td><td>16</td></tr>",
                            "<tr><td>Gold Hotel</td><td>165</td></tr>",
                            "<tr><td>Gold Hotel</td><td>185</td></tr>",
                            "<tr><td>Fortuna panzió</td><td>39</td></tr>",
                            "<tr><td>Gold Hotel</td><td>165</td></tr>",
                            "<tr><td>Fortuna panzió</td><td>28</td></tr>",
                            "<tr><td>Kentaur Hotel</td><td>72</td></tr>",
                            "<tr><td>Gold Hotel</td><td>192</td></tr>",
                            "<tr><td>Fortuna panzió</td><td>34</td></tr>",
                            "<tr><td>Gold Hotel</td><td>180</td></tr>",
                            "<tr><td>Fortuna Apartman</td><td>22</td></tr>",
                            "<tr><td>Lagúna Hotel</td><td>156</td></tr>",
                            "<tr><td>Lagúna Hotel</td><td>141</td></tr>",
                            "<tr><td>Jáde panzió</td><td>133</td></tr>",
                            "<tr><td>Jáde panzió</td><td>130</td></tr>",
                            "<tr><td>Partiszél Vendégház</td><td>161</td></tr>",
                            "<tr><td>Gold Hotel</td><td>188</td></tr>",
                            "<tr><td>Gold Hotel</td><td>173</td></tr>",
                            "<tr><td>Fortuna Panzió</td><td>48</td></tr>",
                            "<tr><td>Lagúna Hotel</td><td>140</td></tr>",
                            "<tr><td>Fortuna Apartman</td><td>17</td></tr>",
                            "<tr><td>Gold Hotel</td><td>174</td></tr>",
                            "<tr><td>Sába-Ház</td><td>11</td></tr>",
                            "<tr><td>Fortuna panzió</td><td>36</td></tr>",
                            "<tr><td>Fortuna panzió</td><td>32</td></tr>",
                            "<tr><td>Hotel Három Hattyú</td><td>112</td></tr>",
                            "<tr><td>Partiszél Vendégház</td><td>160</td></tr>",
                            "<tr><td>Hotel Három Hattyú</td><td>123</td></tr>",
                            "<tr><td>Fortuna Panzió</td><td>40</td></tr>",
                            "<tr><td>Gold Hotel</td><td>185</td></tr>",
                            "<tr><td>Gold Hotel</td><td>193</td></tr>",
                            "<tr><td>Partiszél Vendégház</td><td>160</td></tr>",
                            "<tr><td>Gold Hotel</td><td>182</td></tr>",
                            "<tr><td>Kentaur Hotel</td><td>80</td></tr>",
                            "<tr><td>Gold Hotel</td><td>168</td></tr>",
                            "<tr><td>Hotel Három Hattyú</td><td>110</td></tr>",
                            "<tr><td>Fortuna Panzió</td><td>40</td></tr>",
                            "<tr><td>Partiszél Vendégház</td><td>160</td></tr>",
                            "<tr><td>Fortuna Apartman</td><td>23</td></tr>",
                            "<tr><td>Kentaur Hotel</td><td>56</td></tr>",
                            "<tr><td>Kentaur Hotel</td><td>62</td></tr>",
                            "<tr><td>Gold Hotel</td><td>181</td></tr>",
                            "<tr><td>Kentaur Hotel</td><td>62</td></tr>",
                            "<tr><td>Gold Hotel</td><td>183</td></tr>",
                            "<tr><td>Kentaur Hotel</td><td>74</td></tr>",
                            "<tr><td>Partiszél Vendégház</td><td>163</td></tr>",
                            "<tr><td>Hotel Három Hattyú</td><td>92</td></tr>",
                            "<tr><td>Hotel Három Hattyú</td><td>115</td></tr>",
                            "<tr><td>Gold Hotel</td><td>170</td></tr>",
                            "<tr><td>Fortuna Apartman</td><td>23</td></tr>",
                            "<tr><td>Sába-Ház</td><td>4</td></tr>",
                            "<tr><td>Sába-Ház</td><td>8</td></tr>",
                            "<tr><td>Fortuna Apartman</td><td>19</td></tr>",
                            "<tr><td>Sába-Ház</td><td>1</td></tr>",
                            "<tr><td>Kentaur Hotel</td><td>66</td></tr>",
                            "<tr><td>Sába-Ház</td><td>12</td></tr>",
                            "<tr><td>Gold Hotel</td><td>196</td></tr>",
                            "<tr><td>Hotel Három Hattyú</td><td>117</td></tr>",
                            "<tr><td>Kentaur Hotel</td><td>84</td></tr>",
                            "<tr><td>Fortuna Panzió</td><td>47</td></tr>",
                            "<tr><td>Lagúna Hotel</td><td>156</td></tr>",
                            "<tr><td>Gold Hotel</td><td>187</td></tr>",
                            "<tr><td>Gold Hotel</td><td>181</td></tr>",
                            "<tr><td>Hotel Három Hattyú</td><td>111</td></tr>",
                            "<tr><td>Fortuna Panzió</td><td>41</td></tr>",
                            "<tr><td>Kentaur Hotel</td><td>72</td></tr>",
                            "<tr><td>Hotel Három Hattyú</td><td>117</td></tr>",
                            "<tr><td>Kentaur Hotel</td><td>74</td></tr>",
                            "<tr><td>Hotel Három Hattyú</td><td>110</td></tr>",
                            "<tr><td>Sába-Ház</td><td>5</td></tr>",
                            "<tr><td>Hotel Három Hattyú</td><td>114</td></tr>",
                            "<tr><td>Hotel Három Hattyú</td><td>123</td></tr>",
                            "<tr><td>Lagúna Hotel</td><td>154</td></tr>",
                            "<tr><td>Lagúna Hotel</td><td>153</td></tr>",
                            "<tr><td>Sába-Ház</td><td>12</td></tr>",
                            "<tr><td>Fortuna panzió</td><td>35</td></tr>",
                            "<tr><td>Hotel Három Hattyú</td><td>103</td></tr>",
                            "<tr><td>Családi Ház</td><td>16</td></tr>",
                            "<tr><td>Gold Hotel</td><td>169</td></tr>",
                            "<tr><td>Hotel Három Hattyú</td><td>94</td></tr>",
                            "<tr><td>Kentaur Hotel</td><td>76</td></tr>",
                            "<tr><td>Gold Hotel</td><td>193</td></tr>",
                            "<tr><td>Gold Hotel</td><td>198</td></tr>",
                            "<tr><td>Fortuna panzió</td><td>35</td></tr>",
                            "<tr><td>Lagúna Hotel</td><td>143</td></tr>",
                            "<tr><td>Gold Hotel</td><td>171</td></tr>",
                            "<tr><td>Kentaur Hotel</td><td>77</td></tr>",
                            "<tr><td>Kentaur Hotel</td><td>80</td></tr>",
                            "<tr><td>Gold Hotel</td><td>172</td></tr>",
                            "<tr><td>Fortuna panzió</td><td>36</td></tr>",
                            "<tr><td>Fortuna Panzió</td><td>48</td></tr>",
                            "<tr><td>Kentaur Hotel</td><td>53</td></tr>",
                            "<tr><td>Jáde panzió</td><td>133</td></tr>",
                            "<tr><td>Gold Hotel</td><td>190</td></tr>",
                            "<tr><td>Sába-Ház</td><td>6</td></tr>",
                            "<tr><td>Gold Hotel</td><td>178</td></tr>",
                            "<tr><td>Hotel Három Hattyú</td><td>103</td></tr>",
                            "<tr><td>Gold Hotel</td><td>197</td></tr>",
                            "<tr><td>Hotel Három Hattyú</td><td>118</td></tr>",
                            "<tr><td>Kentaur Hotel</td><td>83</td></tr>",
                            "<tr><td>Hotel Három Hattyú</td><td>118</td></tr>",
                            "<tr><td>Kentaur Hotel</td><td>82</td></tr>",
                            "<tr><td>Hotel Három Hattyú</td><td>120</td></tr>",
                            "<tr><td>Jáde panzió</td><td>132</td></tr>",
                            "<tr><td>Kentaur Hotel</td><td>73</td></tr>",
                            "<tr><td>Sába-Ház</td><td>4</td></tr>",
                            "<tr><td>Hotel Három Hattyú</td><td>117</td></tr>",
                            "<tr><td>Fortuna panzió</td><td>36</td></tr>",
                            "<tr><td>Jáde panzió</td><td>134</td></tr>",
                            "<tr><td>Fortuna Apartman</td><td>22</td></tr>",
                            "<tr><td>Kentaur Hotel</td><td>70</td></tr>",
                            "<tr><td>Hotel Három Hattyú</td><td>122</td></tr>",
                            "<tr><td>Gold Hotel</td><td>182</td></tr>",
                            "<tr><td>Kentaur Hotel</td><td>71</td></tr>",
                            "<tr><td>Partiszél Vendégház</td><td>164</td></tr>",
                            "<tr><td>Gold Hotel</td><td>198</td></tr>",
                            "<tr><td>Fortuna panzió</td><td>33</td></tr>",
                            "<tr><td>Kentaur Hotel</td><td>75</td></tr>",
                            "<tr><td>Lagúna Hotel</td><td>137</td></tr>",
                            "<tr><td>Gold Hotel</td><td>174</td></tr>",
                            "<tr><td>Hotel Három Hattyú</td><td>92</td></tr>",
                            "<tr><td>Gold Hotel</td><td>190</td></tr>",
                            "<tr><td>Fortuna Panzió</td><td>40</td></tr>",
                            "<tr><td>Fortuna Panzió</td><td>43</td></tr>",
                            "<tr><td>Sába-Ház</td><td>12</td></tr>",
                            "<tr><td>Gold Hotel</td><td>179</td></tr>",
                            "<tr><td>Gold Hotel</td><td>181</td></tr>",
                            "<tr><td>Fortuna panzió</td><td>30</td></tr>",
                            "<tr><td>Jáde panzió</td><td>134</td></tr>",
                            "<tr><td>Lagúna Hotel</td><td>157</td></tr>",
                            "<tr><td>Hotel Három Hattyú</td><td>119</td></tr>",
                            "<tr><td>Kentaur Hotel</td><td>68</td></tr>",
                            "<tr><td>Családi Ház</td><td>15</td></tr>",
                            "<tr><td>Hotel Három Hattyú</td><td>113</td></tr>",
                            "<tr><td>Gold Hotel</td><td>188</td></tr>",
                            "<tr><td>Fortuna panzió</td><td>27</td></tr>",
                            "<tr><td>Lagúna Hotel</td><td>146</td></tr>",
                            "<tr><td>Fortuna panzió</td><td>38</td></tr>",
                            "<tr><td>Hotel Három Hattyú</td><td>127</td></tr>",
                            "<tr><td>Fortuna Apartman</td><td>18</td></tr>",
                            "<tr><td>Hotel Három Hattyú</td><td>122</td></tr>",
                            "<tr><td>Szieszta Apartmanház</td><td>89</td></tr>",
                            "<tr><td>Sába-Ház</td><td>3</td></tr>",
                            "<tr><td>Gold Hotel</td><td>191</td></tr>",
                            "<tr><td>Jáde panzió</td><td>130</td></tr>",
                            "<tr><td>Hotel Három Hattyú</td><td>110</td></tr>",
                            "<tr><td>Lagúna Hotel</td><td>139</td></tr>",
                            "<tr><td>Gold Hotel</td><td>193</td></tr>",
                            "<tr><td>Családi Ház</td><td>13</td></tr>",
                            "<tr><td>Jáde panzió</td><td>134</td></tr>",
                            "<tr><td>Lagúna Hotel</td><td>136</td></tr>",
                            "<tr><td>Lagúna Hotel</td><td>157</td></tr>",
                            "<tr><td>Hotel Három Hattyú</td><td>95</td></tr>",
                            "<tr><td>Hotel Három Hattyú</td><td>121</td></tr>",
                            "<tr><td>Hotel Három Hattyú</td><td>98</td></tr>",
                            "<tr><td>Sába-Ház</td><td>2</td></tr>",
                            "<tr><td>Fortuna panzió</td><td>25</td></tr>",
                            "<tr><td>Fortuna panzió</td><td>33</td></tr>",
                            "<tr><td>Kentaur Hotel</td><td>79</td></tr>",
                            "<tr><td>Kentaur Hotel</td><td>69</td></tr>",
                            "<tr><td>Fortuna Panzió</td><td>47</td></tr>",
                            "<tr><td>Szieszta Apartmanház</td><td>86</td></tr>",
                            "<tr><td>Lagúna Hotel</td><td>151</td></tr>",
                            "<tr><td>Szieszta Apartmanház</td><td>85</td></tr>",
                            "<tr><td>Fortuna panzió</td><td>38</td></tr>",
                            "<tr><td>Lagúna Hotel</td><td>154</td></tr>",
                            "<tr><td>Hotel Három Hattyú</td><td>122</td></tr>",
                            "<tr><td>Kentaur Hotel</td><td>50</td></tr>",
                            "<tr><td>Lagúna Hotel</td><td>139</td></tr>",
                            "<tr><td>Gold Hotel</td><td>198</td></tr>",
                            "<tr><td>Fortuna Panzió</td><td>49</td></tr>",
                            "<tr><td>Gold Hotel</td><td>183</td></tr>",
                            "<tr><td>Partiszél Vendégház</td><td>161</td></tr>",
                            "<tr><td>Sába-Ház</td><td>2</td></tr>",
                            "<tr><td>Fortuna Apartman</td><td>20</td></tr>",
                            "<tr><td>Kentaur Hotel</td><td>80</td></tr>",
                            "<tr><td>Hotel Három Hattyú</td><td>99</td></tr>",
                            "<tr><td>Sába-Ház</td><td>5</td></tr>",
                            "<tr><td>Gold Hotel</td><td>195</td></tr>",
                            "<tr><td>Partiszél Vendégház</td><td>163</td></tr>",
                            "<tr><td>Fortuna panzió</td><td>29</td></tr>",
                            "<tr><td>Lagúna Hotel</td><td>145</td></tr>",
                            "<tr><td>Fortuna panzió</td><td>38</td></tr>",
                            "<tr><td>Szieszta Apartmanház</td><td>86</td></tr>",
                            "<tr><td>Kentaur Hotel</td><td>59</td></tr>",
                            "<tr><td>Kentaur Hotel</td><td>62</td></tr>",
                            "<tr><td>Fortuna panzió</td><td>27</td></tr>",
                            "<tr><td>Hotel Három Hattyú</td><td>109</td></tr>",
                            "<tr><td>Kentaur Hotel</td><td>59</td></tr>",
                            "<tr><td>Hotel Három Hattyú</td><td>113</td></tr>",
                            "<tr><td>Kentaur Hotel</td><td>55</td></tr>",
                            "<tr><td>Lagúna Hotel</td><td>144</td></tr>",
                            "<tr><td>Fortuna Panzió</td><td>43</td></tr>",
                            "<tr><td>Hotel Három Hattyú</td><td>120</td></tr>",
                            "<tr><td>Jáde panzió</td><td>132</td></tr>",
                            "<tr><td>Gold Hotel</td><td>197</td></tr>",
                            "<tr><td>Kentaur Hotel</td><td>70</td></tr>",
                            "<tr><td>Kentaur Hotel</td><td>74</td></tr>",
                            "<tr><td>Gold Hotel</td><td>175</td></tr>",
                            "<tr><td>Gold Hotel</td><td>194</td></tr>",
                            "<tr><td>Kentaur Hotel</td><td>54</td></tr>",
                            "<tr><td>Hotel Három Hattyú</td><td>95</td></tr>",
                            "<tr><td>Lagúna Hotel</td><td>140</td></tr>",
                            "<tr><td>Sába-Ház</td><td>6</td></tr>",
                            "<tr><td>Lagúna Hotel</td><td>150</td></tr>",
                            "<tr><td>Szieszta Apartmanház</td><td>89</td></tr>",
                            "<tr><td>Hotel Három Hattyú</td><td>108</td></tr>",
                            "<tr><td>Szieszta Apartmanház</td><td>87</td></tr>",
                            "<tr><td>Kentaur Hotel</td><td>77</td></tr>",
                            "<tr><td>Lagúna Hotel</td><td>150</td></tr>",
                            "<tr><td>Fortuna Apartman</td><td>20</td></tr>",
                            "<tr><td>Partiszél Vendégház</td><td>163</td></tr>",
                            "<tr><td>Szieszta Apartmanház</td><td>86</td></tr>",
                            "<tr><td>Hotel Három Hattyú</td><td>110</td></tr>",
                            "<tr><td>Sába-Ház</td><td>3</td></tr>",
                            "<tr><td>Jáde panzió</td><td>132</td></tr>",
                            "<tr><td>Lagúna Hotel</td><td>155</td></tr>",
                            "<tr><td>Kentaur Hotel</td><td>58</td></tr>",
                            "<tr><td>Fortuna Apartman</td><td>20</td></tr>",
                            "<tr><td>Lagúna Hotel</td><td>151</td></tr>",
                            "<tr><td>Gold Hotel</td><td>198</td></tr>",
                            "<tr><td>Lagúna Hotel</td><td>158</td></tr>",
                            "<tr><td>Fortuna Panzió</td><td>40</td></tr>",
                            "<tr><td>Kentaur Hotel</td><td>83</td></tr>",
                            "<tr><td>Lagúna Hotel</td><td>145</td></tr>",
                            "<tr><td>Hotel Három Hattyú</td><td>115</td></tr>",
                            "<tr><td>Kentaur Hotel</td><td>64</td></tr>",
                            "<tr><td>Sába-Ház</td><td>11</td></tr>",
                            "<tr><td>Hotel Három Hattyú</td><td>112</td></tr>",
                            "<tr><td>Gold Hotel</td><td>185</td></tr>",
                            "<tr><td>Kentaur Hotel</td><td>70</td></tr>",
                            "<tr><td>Sába-Ház</td><td>4</td></tr>",
                            "<tr><td>Hotel Három Hattyú</td><td>121</td></tr>",
                            "<tr><td>Családi Ház</td><td>15</td></tr>",
                            "<tr><td>Fortuna Apartman</td><td>22</td></tr>",
                            "<tr><td>Sába-Ház</td><td>7</td></tr>",
                            "<tr><td>Sába-Ház</td><td>4</td></tr>",
                            "<tr><td>Gold Hotel</td><td>175</td></tr>",
                            "<tr><td>Hotel Három Hattyú</td><td>126</td></tr>",
                            "<tr><td>Fortuna Panzió</td><td>45</td></tr>",
                            "<tr><td>Fortuna panzió</td><td>30</td></tr>",
                            "<tr><td>Sába-Ház</td><td>1</td></tr>",
                            "<tr><td>Gold Hotel</td><td>198</td></tr>",
                            "<tr><td>Fortuna Apartman</td><td>19</td></tr>",
                            "<tr><td>Sába-Ház</td><td>12</td></tr>",
                            "<tr><td>Gold Hotel</td><td>165</td></tr>",
                            "<tr><td>Gold Hotel</td><td>172</td></tr>",
                            "<tr><td>Gold Hotel</td><td>176</td></tr>",
                            "<tr><td>Fortuna Panzió</td><td>41</td></tr>",
                            "<tr><td>Lagúna Hotel</td><td>145</td></tr>",
                            "<tr><td>Lagúna Hotel</td><td>149</td></tr>",
                            "<tr><td>Gold Hotel</td><td>183</td></tr>",
                            "<tr><td>Kentaur Hotel</td><td>61</td></tr>",
                            "<tr><td>Jáde panzió</td><td>133</td></tr>",
                            "<tr><td>Fortuna panzió</td><td>28</td></tr>",
                            "<tr><td>Sába-Ház</td><td>3</td></tr>",
                            "<tr><td>Sába-Ház</td><td>1</td></tr>",
                            "<tr><td>Gold Hotel</td><td>186</td></tr>",
                            "<tr><td>Hotel Három Hattyú</td><td>115</td></tr>",
                            "<tr><td>Lagúna Hotel</td><td>143</td></tr>",
                            "<tr><td>Lagúna Hotel</td><td>140</td></tr>",
                            "<tr><td>Sába-Ház</td><td>9</td></tr>",
                            "<tr><td>Fortuna panzió</td><td>26</td></tr>",
                            "<tr><td>Kentaur Hotel</td><td>73</td></tr>",
                            "<tr><td>Lagúna Hotel</td><td>152</td></tr>",
                            "<tr><td>Gold Hotel</td><td>198</td></tr>",
                            "<tr><td>Hotel Három Hattyú</td><td>110</td></tr>",
                            "<tr><td>Kentaur Hotel</td><td>55</td></tr>",
                            "<tr><td>Sába-Ház</td><td>12</td></tr>",
                            "<tr><td>Kentaur Hotel</td><td>51</td></tr>",
                            "<tr><td>Hotel Három Hattyú</td><td>122</td></tr>",
                            "<tr><td>Fortuna Apartman</td><td>24</td></tr>",
                            "<tr><td>Lagúna Hotel</td><td>154</td></tr>",
                            "<tr><td>Hotel Három Hattyú</td><td>93</td></tr>",
                            "<tr><td>Kentaur Hotel</td><td>59</td></tr>",
                            "<tr><td>Gold Hotel</td><td>172</td></tr>",
                            "<tr><td>Gold Hotel</td><td>197</td></tr>",
                            "<tr><td>Fortuna Apartman</td><td>18</td></tr>",
                            "<tr><td>Szieszta Apartmanház</td><td>90</td></tr>",
                            "<tr><td>Sába-Ház</td><td>7</td></tr>",
                            "<tr><td>Gold Hotel</td><td>177</td></tr>",
                            "<tr><td>Lagúna Hotel</td><td>150</td></tr>",
                            "<tr><td>Jáde panzió</td><td>134</td></tr>",
                            "<tr><td>Kentaur Hotel</td><td>74</td></tr>",
                            "<tr><td>Hotel Három Hattyú</td><td>104</td></tr>",
                            "<tr><td>Gold Hotel</td><td>171</td></tr>",
                            "<tr><td>Sába-Ház</td><td>7</td></tr>",
                            "<tr><td>Gold Hotel</td><td>185</td></tr>",
                            "<tr><td>Gold Hotel</td><td>195</td></tr>",
                            "<tr><td>Fortuna panzió</td><td>29</td></tr>",
                            "<tr><td>Kentaur Hotel</td><td>58</td></tr>",
                            "<tr><td>Fortuna Panzió</td><td>46</td></tr>",
                            "<tr><td>Gold Hotel</td><td>182</td></tr>",
                            "<tr><td>Szieszta Apartmanház</td><td>89</td></tr>",
                            "<tr><td>Partiszél Vendégház</td><td>161</td></tr>",
                            "<tr><td>Kentaur Hotel</td><td>59</td></tr>",
                            "<tr><td>Hotel Három Hattyú</td><td>117</td></tr>",
                            "<tr><td>Lagúna Hotel</td><td>143</td></tr>",
                            "<tr><td>Gold Hotel</td><td>170</td></tr>",
                            "<tr><td>Fortuna Apartman</td><td>22</td></tr>",
                            "<tr><td>Szieszta Apartmanház</td><td>88</td></tr>",
                            "<tr><td>Lagúna Hotel</td><td>152</td></tr>",
                            "<tr><td>Fortuna Apartman</td><td>18</td></tr>",
                            "<tr><td>Lagúna Hotel</td><td>144</td></tr>",
                            "<tr><td>Fortuna Panzió</td><td>49</td></tr>",
                            "<tr><td>Lagúna Hotel</td><td>137</td></tr>",
                            "<tr><td>Kentaur Hotel</td><td>52</td></tr>",
                            "<tr><td>Lagúna Hotel</td><td>150</td></tr>",
                            "<tr><td>Gold Hotel</td><td>189</td></tr>",
                            "<tr><td>Partiszél Vendégház</td><td>162</td></tr>",
                            "<tr><td>Fortuna Apartman</td><td>22</td></tr>",
                            "<tr><td>Fortuna Panzió</td><td>43</td></tr>",
                            "<tr><td>Kentaur Hotel</td><td>58</td></tr>",
                            "<tr><td>Hotel Három Hattyú</td><td>122</td></tr>",
                            "<tr><td>Hotel Három Hattyú</td><td>124</td></tr>",
                            "<tr><td>Gold Hotel</td><td>178</td></tr>",
                            "<tr><td>Fortuna Apartman</td><td>21</td></tr>",
                            "<tr><td>Hotel Három Hattyú</td><td>91</td></tr>",
                            "<tr><td>Fortuna panzió</td><td>39</td></tr>",
                            "<tr><td>Hotel Három Hattyú</td><td>121</td></tr>",
                            "<tr><td>Gold Hotel</td><td>198</td></tr>",
                            "<tr><td>Hotel Három Hattyú</td><td>93</td></tr>",
                            "<tr><td>Kentaur Hotel</td><td>61</td></tr>",
                            "<tr><td>Jáde panzió</td><td>134</td></tr>",
                            "<tr><td>Sába-Ház</td><td>9</td></tr>",
                            "<tr><td>Fortuna Panzió</td><td>49</td></tr>",
                            "<tr><td>Lagúna Hotel</td><td>143</td></tr>",
                            "<tr><td>Hotel Három Hattyú</td><td>123</td></tr>",
                            "<tr><td>Kentaur Hotel</td><td>50</td></tr>",
                            "<tr><td>Kentaur Hotel</td><td>69</td></tr>",
                            "<tr><td>Hotel Három Hattyú</td><td>127</td></tr>",
                            "<tr><td>Fortuna Panzió</td><td>43</td></tr>",
                            "<tr><td>Hotel Három Hattyú</td><td>106</td></tr>",
                            "<tr><td>Kentaur Hotel</td><td>79</td></tr>",
                            "<tr><td>Gold Hotel</td><td>182</td></tr>",
                            "<tr><td>Gold Hotel</td><td>182</td></tr>",
                            "<tr><td>Kentaur Hotel</td><td>55</td></tr>",
                            "<tr><td>Kentaur Hotel</td><td>64</td></tr>",
                            "<tr><td>Kentaur Hotel</td><td>66</td></tr>",
                            "<tr><td>Fortuna panzió</td><td>29</td></tr>",
                            "<tr><td>Sába-Ház</td><td>11</td></tr>",
                            "<tr><td>Fortuna Apartman</td><td>19</td></tr>",
                            "<tr><td>Gold Hotel</td><td>193</td></tr>",
                            "<tr><td>Kentaur Hotel</td><td>59</td></tr>",
                            "<tr><td>Lagúna Hotel</td><td>157</td></tr>",
                            "<tr><td>Hotel Három Hattyú</td><td>94</td></tr>",
                            "<tr><td>Gold Hotel</td><td>178</td></tr>",
                            "<tr><td>Fortuna Panzió</td><td>48</td></tr>",
                            "<tr><td>Családi Ház</td><td>15</td></tr>",
                            "<tr><td>Hotel Három Hattyú</td><td>122</td></tr>",
                            "<tr><td>Kentaur Hotel</td><td>69</td></tr>",
                            "<tr><td>Hotel Három Hattyú</td><td>117</td></tr>",
                            "<tr><td>Gold Hotel</td><td>186</td></tr>",
                            "<tr><td>Gold Hotel</td><td>168</td></tr>",
                            "<tr><td>Hotel Három Hattyú</td><td>107</td></tr>",
                            "<tr><td>Gold Hotel</td><td>184</td></tr>",
                            "<tr><td>Sába-Ház</td><td>7</td></tr>",
                            "<tr><td>Szieszta Apartmanház</td><td>89</td></tr>",
                            "<tr><td>Lagúna Hotel</td><td>141</td></tr>",
                            "<tr><td>Kentaur Hotel</td><td>58</td></tr>",
                            "<tr><td>Lagúna Hotel</td><td>138</td></tr>",
                            "<tr><td>Sába-Ház</td><td>5</td></tr>",
                            "<tr><td>Kentaur Hotel</td><td>52</td></tr>",
                            "<tr><td>Lagúna Hotel</td><td>140</td></tr>",
                            "<tr><td>Sába-Ház</td><td>9</td></tr>",
                            "<tr><td>Kentaur Hotel</td><td>58</td></tr>",
                            "<tr><td>Lagúna Hotel</td><td>154</td></tr>",
                            "<tr><td>Hotel Három Hattyú</td><td>113</td></tr>",
                            "<tr><td>Kentaur Hotel</td><td>66</td></tr>",
                            "<tr><td>Partiszél Vendégház</td><td>163</td></tr>",
                            "<tr><td>Gold Hotel</td><td>168</td></tr>",
                            "<tr><td>Gold Hotel</td><td>170</td></tr>",
                            "<tr><td>Kentaur Hotel</td><td>78</td></tr>",
                            "<tr><td>Szieszta Apartmanház</td><td>89</td></tr>",
                            "<tr><td>Fortuna Panzió</td><td>43</td></tr>",
                            "<tr><td>Hotel Három Hattyú</td><td>106</td></tr>",
                            "<tr><td>Kentaur Hotel</td><td>50</td></tr>",
                            "<tr><td>Szieszta Apartmanház</td><td>88</td></tr>",
                            "<tr><td>Sába-Ház</td><td>1</td></tr>",
                            "<tr><td>Fortuna panzió</td><td>27</td></tr>",
                            "<tr><td>Gold Hotel</td><td>174</td></tr>",
                            "<tr><td>Kentaur Hotel</td><td>82</td></tr>",
                            "<tr><td>Gold Hotel</td><td>176</td></tr>",
                            "<tr><td>Kentaur Hotel</td><td>80</td></tr>",
                            "<tr><td>Lagúna Hotel</td><td>137</td></tr>",
                            "<tr><td>Kentaur Hotel</td><td>78</td></tr>",
                            "<tr><td>Hotel Három Hattyú</td><td>123</td></tr>",
                            "<tr><td>Lagúna Hotel</td><td>138</td></tr>",
                            "<tr><td>Partiszél Vendégház</td><td>164</td></tr>",
                            "<tr><td>Kentaur Hotel</td><td>58</td></tr>",
                            "<tr><td>Hotel Három Hattyú</td><td>127</td></tr>",
                            "<tr><td>Fortuna Apartman</td><td>22</td></tr>",
                            "<tr><td>Kentaur Hotel</td><td>59</td></tr>",
                            "<tr><td>Lagúna Hotel</td><td>135</td></tr>",
                            "<tr><td>Hotel Három Hattyú</td><td>128</td></tr>",
                            "<tr><td>Fortuna Panzió</td><td>46</td></tr>",
                            "<tr><td>Partiszél Vendégház</td><td>164</td></tr>",
                            "<tr><td>Kentaur Hotel</td><td>58</td></tr>",
                            "<tr><td>Lagúna Hotel</td><td>138</td></tr>",
                            "<tr><td>Fortuna Panzió</td><td>44</td></tr>",
                            "<tr><td>Hotel Három Hattyú</td><td>111</td></tr>",
                            "<tr><td>Lagúna Hotel</td><td>144</td></tr>",
                            "<tr><td>Hotel Három Hattyú</td><td>109</td></tr>",
                            "<tr><td>Szieszta Apartmanház</td><td>90</td></tr>",
                            "<tr><td>Szieszta Apartmanház</td><td>88</td></tr>",
                            "<tr><td>Jáde panzió</td><td>132</td></tr>",
                            "<tr><td>Gold Hotel</td><td>191</td></tr>",
                            "<tr><td>Fortuna Panzió</td><td>45</td></tr>",
                            "<tr><td>Gold Hotel</td><td>197</td></tr>",
                            "<tr><td>Hotel Három Hattyú</td><td>94</td></tr>",
                            "<tr><td>Jáde panzió</td><td>133</td></tr>",
                            "<tr><td>Kentaur Hotel</td><td>58</td></tr>",
                            "<tr><td>Gold Hotel</td><td>182</td></tr>",
                            "<tr><td>Fortuna Panzió</td><td>42</td></tr>",
                            "<tr><td>Lagúna Hotel</td><td>155</td></tr>",
                            "<tr><td>Sába-Ház</td><td>2</td></tr>",
                            "<tr><td>Hotel Három Hattyú</td><td>94</td></tr>",
                            "<tr><td>Lagúna Hotel</td><td>143</td></tr>",
                            "<tr><td>Gold Hotel</td><td>196</td></tr>",
                            "<tr><td>Hotel Három Hattyú</td><td>100</td></tr>",
                            "<tr><td>Fortuna Apartman</td><td>17</td></tr>",
                            "<tr><td>Gold Hotel</td><td>182</td></tr>",
                            "<tr><td>Kentaur Hotel</td><td>72</td></tr>",
                            "<tr><td>Sába-Ház</td><td>10</td></tr>",
                            "<tr><td>Szieszta Apartmanház</td><td>85</td></tr>",
                            "<tr><td>Fortuna panzió</td><td>33</td></tr>",
                            "<tr><td>Kentaur Hotel</td><td>58</td></tr>",
                            "<tr><td>Gold Hotel</td><td>191</td></tr>",
                            "<tr><td>Kentaur Hotel</td><td>68</td></tr>",
                            "<tr><td>Kentaur Hotel</td><td>70</td></tr>",
                            "<tr><td>Gold Hotel</td><td>182</td></tr>",
                            "<tr><td>Kentaur Hotel</td><td>55</td></tr>",
                            "<tr><td>Kentaur Hotel</td><td>54</td></tr>",
                            "<tr><td>Gold Hotel</td><td>171</td></tr>",
                            "<tr><td>Hotel Három Hattyú</td><td>124</td></tr>",
                            "<tr><td>Kentaur Hotel</td><td>73</td></tr>",
                            "<tr><td>Hotel Három Hattyú</td><td>101</td></tr>",
                            "<tr><td>Kentaur Hotel</td><td>70</td></tr>",
                            "<tr><td>Sába-Ház</td><td>1</td></tr>",
                            "<tr><td>Fortuna panzió</td><td>37</td></tr>",
                            "<tr><td>Gold Hotel</td><td>172</td></tr>",
                            "<tr><td>Hotel Három Hattyú</td><td>122</td></tr>",
                            "<tr><td>Lagúna Hotel</td><td>145</td></tr>",
                            "<tr><td>Hotel Három Hattyú</td><td>120</td></tr>",
                            "<tr><td>Gold Hotel</td><td>196</td></tr>",
                            "<tr><td>Kentaur Hotel</td><td>82</td></tr>",
                            "<tr><td>Gold Hotel</td><td>170</td></tr>",
                            "<tr><td>Hotel Három Hattyú</td><td>102</td></tr>",
                            "<tr><td>Fortuna panzió</td><td>33</td></tr>",
                            "<tr><td>Kentaur Hotel</td><td>79</td></tr>",
                            "<tr><td>Gold Hotel</td><td>181</td></tr>",
                            "<tr><td>Családi Ház</td><td>13</td></tr>",
                            "<tr><td>Kentaur Hotel</td><td>57</td></tr>",
                            "<tr><td>Szieszta Apartmanház</td><td>87</td></tr>",
                            "<tr><td>Gold Hotel</td><td>173</td></tr>",
                            "<tr><td>Fortuna panzió</td><td>38</td></tr>",
                            "<tr><td>Hotel Három Hattyú</td><td>115</td></tr>",
                            "<tr><td>Hotel Három Hattyú</td><td>111</td></tr>",
                            "<tr><td>Hotel Három Hattyú</td><td>107</td></tr>",
                            "<tr><td>Hotel Három Hattyú</td><td>93</td></tr>",
                            "<tr><td>Gold Hotel</td><td>169</td></tr>",
                            "<tr><td>Lagúna Hotel</td><td>140</td></tr>",
                            "<tr><td>Lagúna Hotel</td><td>138</td></tr>",
                            "<tr><td>Szieszta Apartmanház</td><td>88</td></tr>",
                            "<tr><td>Hotel Három Hattyú</td><td>129</td></tr>",
                            "<tr><td>Lagúna Hotel</td><td>140</td></tr>",
                            "<tr><td>Fortuna panzió</td><td>25</td></tr>",
                            "<tr><td>Jáde panzió</td><td>133</td></tr>",
                            "<tr><td>Hotel Három Hattyú</td><td>126</td></tr>",
                            "<tr><td>Kentaur Hotel</td><td>70</td></tr>",
                            "<tr><td>Kentaur Hotel</td><td>81</td></tr>",
                            "<tr><td>Kentaur Hotel</td><td>80</td></tr>",
                            "<tr><td>Hotel Három Hattyú</td><td>94</td></tr>",
                            "<tr><td>Lagúna Hotel</td><td>142</td></tr>",
                            "<tr><td>Lagúna Hotel</td><td>138</td></tr>",
                            "<tr><td>Lagúna Hotel</td><td>140</td></tr>",
                            "<tr><td>Hotel Három Hattyú</td><td>106</td></tr>",
                            "<tr><td>Hotel Három Hattyú</td><td>121</td></tr>",
                            "<tr><td>Hotel Három Hattyú</td><td>118</td></tr>",
                            "<tr><td>Gold Hotel</td><td>165</td></tr>",
                            "<tr><td>Kentaur Hotel</td><td>84</td></tr>",
                            "<tr><td>Fortuna panzió</td><td>27</td></tr>",
                            "<tr><td>Hotel Három Hattyú</td><td>96</td></tr>",
                            "<tr><td>Kentaur Hotel</td><td>83</td></tr>",
                            "<tr><td>Fortuna panzió</td><td>39</td></tr>",
                            "<tr><td>Fortuna panzió</td><td>33</td></tr>",
                            "<tr><td>Kentaur Hotel</td><td>67</td></tr>",
                            "<tr><td>Gold Hotel</td><td>176</td></tr>",
                            "<tr><td>Kentaur Hotel</td><td>84</td></tr>",
                            "<tr><td>Hotel Három Hattyú</td><td>122</td></tr>",
                            "<tr><td>Kentaur Hotel</td><td>55</td></tr>",
                            "<tr><td>Gold Hotel</td><td>197</td></tr>",
                            "<tr><td>Fortuna panzió</td><td>26</td></tr>",
                            "<tr><td>Kentaur Hotel</td><td>57</td></tr>",
                            "<tr><td>Gold Hotel</td><td>188</td></tr>",
                            "<tr><td>Hotel Három Hattyú</td><td>93</td></tr>",
                            "<tr><td>Hotel Három Hattyú</td><td>108</td></tr>",
                            "<tr><td>Hotel Három Hattyú</td><td>121</td></tr>",
                            "<tr><td>Lagúna Hotel</td><td>143</td></tr>",
                            "<tr><td>Hotel Három Hattyú</td><td>97</td></tr>",
                            "<tr><td>Kentaur Hotel</td><td>72</td></tr>",
                            "<tr><td>Hotel Három Hattyú</td><td>91</td></tr>",
                            "<tr><td>Hotel Három Hattyú</td><td>103</td></tr>",
                            "<tr><td>Szieszta Apartmanház</td><td>89</td></tr>",
                            "<tr><td>Partiszél Vendégház</td><td>162</td></tr>",
                            "<tr><td>Lagúna Hotel</td><td>141</td></tr>",
                            "<tr><td>Hotel Három Hattyú</td><td>98</td></tr>",
                            "<tr><td>Hotel Három Hattyú</td><td>124</td></tr>",
                            "<tr><td>Gold Hotel</td><td>187</td></tr>",
                            "<tr><td>Szieszta Apartmanház</td><td>90</td></tr>",
                            "<tr><td>Kentaur Hotel</td><td>82</td></tr>",
                            "<tr><td>Gold Hotel</td><td>175</td></tr>",
                            "<tr><td>Hotel Három Hattyú</td><td>99</td></tr>",
                            "<tr><td>Jáde panzió</td><td>133</td></tr>",
                            "<tr><td>Gold Hotel</td><td>182</td></tr>",
                            "<tr><td>Fortuna panzió</td><td>35</td></tr>",
                            "<tr><td>Kentaur Hotel</td><td>75</td></tr>",
                            "<tr><td>Hotel Három Hattyú</td><td>119</td></tr>",
                            "<tr><td>Gold Hotel</td><td>167</td></tr>",
                            "<tr><td>Fortuna Apartman</td><td>24</td></tr>",
                            "<tr><td>Fortuna panzió</td><td>38</td></tr>",
                            "<tr><td>Hotel Három Hattyú</td><td>97</td></tr>",
                            "<tr><td>Családi Ház</td><td>15</td></tr>",
                            "<tr><td>Hotel Három Hattyú</td><td>124</td></tr>",
                            "<tr><td>Gold Hotel</td><td>198</td></tr>",
                            "<tr><td>Gold Hotel</td><td>172</td></tr>",
                            "<tr><td>Gold Hotel</td><td>182</td></tr>",
                            "<tr><td>Sába-Ház</td><td>9</td></tr>",
                            "<tr><td>Hotel Három Hattyú</td><td>110</td></tr>",
                            "<tr><td>Fortuna Panzió</td><td>44</td></tr>",
                            "<tr><td>Kentaur Hotel</td><td>62</td></tr>",
                            "<tr><td>Gold Hotel</td><td>169</td></tr>",
                            "<tr><td>Hotel Három Hattyú</td><td>126</td></tr>",
                            "<tr><td>Gold Hotel</td><td>173</td></tr>",
                            "<tr><td>Sába-Ház</td><td>12</td></tr>",
                            "<tr><td>Kentaur Hotel</td><td>52</td></tr>",
                            "<tr><td>Lagúna Hotel</td><td>150</td></tr>",
                            "<tr><td>Lagúna Hotel</td><td>139</td></tr>",
                            "<tr><td>Sába-Ház</td><td>3</td></tr>",
                            "<tr><td>Fortuna panzió</td><td>39</td></tr>",
                            "<tr><td>Fortuna panzió</td><td>35</td></tr>",
                            "<tr><td>Gold Hotel</td><td>183</td></tr>",
                            "<tr><td>Hotel Három Hattyú</td><td>96</td></tr>",
                            "<tr><td>Kentaur Hotel</td><td>77</td></tr>",
                            "<tr><td>Hotel Három Hattyú</td><td>122</td></tr>",
                            "<tr><td>Gold Hotel</td><td>185</td></tr>",
                            "<tr><td>Családi Ház</td><td>15</td></tr>",
                            "<tr><td>Kentaur Hotel</td><td>81</td></tr>",
                            "<tr><td>Fortuna Panzió</td><td>42</td></tr>",
                            "<tr><td>Hotel Három Hattyú</td><td>129</td></tr>",
                            "<tr><td>Kentaur Hotel</td><td>64</td></tr>",
                            "<tr><td>Kentaur Hotel</td><td>79</td></tr>",
                            "<tr><td>Lagúna Hotel</td><td>143</td></tr>",
                            "<tr><td>Gold Hotel</td><td>189</td></tr>",
                            "<tr><td>Lagúna Hotel</td><td>139</td></tr>",
                            "<tr><td>Kentaur Hotel</td><td>58</td></tr>",
                            "<tr><td>Hotel Három Hattyú</td><td>107</td></tr>",
                            "<tr><td>Szieszta Apartmanház</td><td>86</td></tr>",
                            "<tr><td>Fortuna panzió</td><td>39</td></tr>",
                            "<tr><td>Hotel Három Hattyú</td><td>116</td></tr>",
                            "<tr><td>Szieszta Apartmanház</td><td>87</td></tr>",
                            "<tr><td>Kentaur Hotel</td><td>70</td></tr>",
                            "<tr><td>Kentaur Hotel</td><td>75</td></tr>",
                            "<tr><td>Fortuna panzió</td><td>28</td></tr>",
                            "<tr><td>Lagúna Hotel</td><td>153</td></tr>",
                            "<tr><td>Kentaur Hotel</td><td>77</td></tr>",
                            "<tr><td>Lagúna Hotel</td><td>156</td></tr>",
                            "<tr><td>Gold Hotel</td><td>185</td></tr>",
                            "<tr><td>Kentaur Hotel</td><td>81</td></tr>",
                            "<tr><td>Kentaur Hotel</td><td>64</td></tr>",
                            "<tr><td>Kentaur Hotel</td><td>57</td></tr>",
                            "<tr><td>Gold Hotel</td><td>186</td></tr>",
                            "<tr><td>Hotel Három Hattyú</td><td>117</td></tr>",
                            "<tr><td>Családi Ház</td><td>13</td></tr>",
                            "<tr><td>Lagúna Hotel</td><td>153</td></tr>",
                            "<tr><td>Lagúna Hotel</td><td>145</td></tr>",
                            "<tr><td>Hotel Három Hattyú</td><td>118</td></tr>",
                            "<tr><td>Gold Hotel</td><td>195</td></tr>",
                            "<tr><td>Jáde panzió</td><td>131</td></tr>",
                            "<tr><td>Jáde panzió</td><td>130</td></tr>",
                            "<tr><td>Fortuna panzió</td><td>27</td></tr>",
                            "<tr><td>Kentaur Hotel</td><td>51</td></tr>",
                            "<tr><td>Fortuna panzió</td><td>38</td></tr>",
                            "<tr><td>Lagúna Hotel</td><td>146</td></tr>",
                            "<tr><td>Fortuna panzió</td><td>35</td></tr>",
                            "<tr><td>Hotel Három Hattyú</td><td>118</td></tr>",
                            "<tr><td>Hotel Három Hattyú</td><td>100</td></tr>",
                            "<tr><td>Hotel Három Hattyú</td><td>120</td></tr>",
                            "<tr><td>Gold Hotel</td><td>195</td></tr>",
                            "<tr><td>Hotel Három Hattyú</td><td>103</td></tr>",
                            "<tr><td>Hotel Három Hattyú</td><td>99</td></tr>",
                            "<tr><td>Partiszél Vendégház</td><td>163</td></tr>",
                            "<tr><td>Hotel Három Hattyú</td><td>119</td></tr>",
                            "<tr><td>Hotel Három Hattyú</td><td>110</td></tr>",
                            "<tr><td>Lagúna Hotel</td><td>156</td></tr>",
                            "<tr><td>Gold Hotel</td><td>172</td></tr>",
                            "<tr><td>Sába-Ház</td><td>4</td></tr>",
                            "<tr><td>Hotel Három Hattyú</td><td>120</td></tr>",
                            "<tr><td>Hotel Három Hattyú</td><td>107</td></tr>",
                            "<tr><td>Hotel Három Hattyú</td><td>113</td></tr>",
                            "<tr><td>Kentaur Hotel</td><td>61</td></tr>",
                            "<tr><td>Gold Hotel</td><td>179</td></tr>",
                            "<tr><td>Családi Ház</td><td>16</td></tr>",
                            "<tr><td>Hotel Három Hattyú</td><td>113</td></tr>",
                            "<tr><td>Hotel Három Hattyú</td><td>126</td></tr>",
                            "<tr><td>Hotel Három Hattyú</td><td>116</td></tr>",
                            "<tr><td>Gold Hotel</td><td>191</td></tr>",
                            "<tr><td>Gold Hotel</td><td>177</td></tr>",
                            "<tr><td>Kentaur Hotel</td><td>57</td></tr>",
                            "<tr><td>Fortuna Apartman</td><td>18</td></tr>",
                            "<tr><td>Kentaur Hotel</td><td>81</td></tr>",
                            "<tr><td>Lagúna Hotel</td><td>153</td></tr>",
                            "<tr><td>Gold Hotel</td><td>191</td></tr>",
                            "<tr><td>Hotel Három Hattyú</td><td>129</td></tr>",
                            "<tr><td>Hotel Három Hattyú</td><td>106</td></tr>",
                            "<tr><td>Gold Hotel</td><td>176</td></tr>",
                            "<tr><td>Kentaur Hotel</td><td>55</td></tr>",
                            "<tr><td>Szieszta Apartmanház</td><td>85</td></tr>",
                            "<tr><td>Lagúna Hotel</td><td>149</td></tr>",
                            "<tr><td>Fortuna Panzió</td><td>46</td></tr>",
                            "<tr><td>Hotel Három Hattyú</td><td>101</td></tr>",
                            "<tr><td>Gold Hotel</td><td>190</td></tr>",
                            "<tr><td>Hotel Három Hattyú</td><td>94</td></tr>",
                            "<tr><td>Jáde panzió</td><td>132</td></tr>",
                            "<tr><td>Kentaur Hotel</td><td>55</td></tr>",
                            "<tr><td>Szieszta Apartmanház</td><td>89</td></tr>",
                            "<tr><td>Hotel Három Hattyú</td><td>104</td></tr>",
                            "<tr><td>Sába-Ház</td><td>11</td></tr>",
                            "<tr><td>Fortuna Panzió</td><td>43</td></tr>",
                            "<tr><td>Hotel Három Hattyú</td><td>105</td></tr>",
                            "<tr><td>Gold Hotel</td><td>166</td></tr>",
                            "<tr><td>Hotel Három Hattyú</td><td>92</td></tr>",
                            "<tr><td>Hotel Három Hattyú</td><td>97</td></tr>",
                            "<tr><td>Fortuna panzió</td><td>35</td></tr>",
                            "<tr><td>Hotel Három Hattyú</td><td>112</td></tr>",
                            "<tr><td>Hotel Három Hattyú</td><td>124</td></tr>",
                            "<tr><td>Hotel Három Hattyú</td><td>104</td></tr>",
                            "<tr><td>Fortuna Apartman</td><td>19</td></tr>",
                            "<tr><td>Kentaur Hotel</td><td>52</td></tr>",
                            "<tr><td>Jáde panzió</td><td>134</td></tr>",
                            "<tr><td>Fortuna Panzió</td><td>49</td></tr>",
                            "<tr><td>Sába-Ház</td><td>9</td></tr>",
                            "<tr><td>Fortuna panzió</td><td>39</td></tr>",
                            "<tr><td>Lagúna Hotel</td><td>154</td></tr>",
                            "<tr><td>Hotel Három Hattyú</td><td>114</td></tr>",
                            "<tr><td>Lagúna Hotel</td><td>155</td></tr>",
                            "<tr><td>Családi Ház</td><td>14</td></tr>",
                            "<tr><td>Hotel Három Hattyú</td><td>95</td></tr>",
                            "<tr><td>Sába-Ház</td><td>3</td></tr>",
                            "<tr><td>Lagúna Hotel</td><td>142</td></tr>",
                            "<tr><td>Fortuna Panzió</td><td>48</td></tr>",
                            "<tr><td>Fortuna Panzió</td><td>48</td></tr>",
                            "<tr><td>Szieszta Apartmanház</td><td>88</td></tr>",
                            "<tr><td>Fortuna Apartman</td><td>17</td></tr>",
                            "<tr><td>Kentaur Hotel</td><td>51</td></tr>",
                            "<tr><td>Lagúna Hotel</td><td>157</td></tr>",
                            "<tr><td>Fortuna Panzió</td><td>44</td></tr>",
                            "<tr><td>Fortuna Panzió</td><td>43</td></tr>",
                            "<tr><td>Hotel Három Hattyú</td><td>115</td></tr>",
                            "<tr><td>Hotel Három Hattyú</td><td>92</td></tr>",
                            "<tr><td>Fortuna panzió</td><td>38</td></tr>",
                            "<tr><td>Kentaur Hotel</td><td>76</td></tr>",
                            "<tr><td>Lagúna Hotel</td><td>152</td></tr>",
                            "<tr><td>Gold Hotel</td><td>180</td></tr>",
                            "<tr><td>Hotel Három Hattyú</td><td>109</td></tr>",
                            "<tr><td>Lagúna Hotel</td><td>156</td></tr>",
                            "<tr><td>Kentaur Hotel</td><td>81</td></tr>",
                            "<tr><td>Gold Hotel</td><td>180</td></tr>",
                            "<tr><td>Hotel Három Hattyú</td><td>94</td></tr>",
                            "<tr><td>Partiszél Vendégház</td><td>160</td></tr>",
                            "<tr><td>Hotel Három Hattyú</td><td>115</td></tr>",
                            "<tr><td>Gold Hotel</td><td>171</td></tr>",
                            "<tr><td>Fortuna panzió</td><td>29</td></tr>",
                            "<tr><td>Hotel Három Hattyú</td><td>96</td></tr>",
                            "<tr><td>Gold Hotel</td><td>176</td></tr>",
                            "<tr><td>Partiszél Vendégház</td><td>161</td></tr>",
                            "<tr><td>Lagúna Hotel</td><td>144</td></tr>",
                            "<tr><td>Kentaur Hotel</td><td>59</td></tr>",
                            "<tr><td>Hotel Három Hattyú</td><td>128</td></tr>",
                            "<tr><td>Szieszta Apartmanház</td><td>88</td></tr>",
                            "<tr><td>Gold Hotel</td><td>189</td></tr>",
                            "<tr><td>Kentaur Hotel</td><td>78</td></tr>",
                            "<tr><td>Lagúna Hotel</td><td>148</td></tr>",
                            "<tr><td>Hotel Három Hattyú</td><td>127</td></tr>",
                            "<tr><td>Kentaur Hotel</td><td>67</td></tr>",
                            "<tr><td>Fortuna Panzió</td><td>48</td></tr>",
                            "<tr><td>Kentaur Hotel</td><td>64</td></tr>",
                            "<tr><td>Hotel Három Hattyú</td><td>128</td></tr>",
                            "<tr><td>Kentaur Hotel</td><td>67</td></tr>",
                            "</table>"
                        ]
                    }
                }
            ],
            "execution_count": 13
        }
    ]
}