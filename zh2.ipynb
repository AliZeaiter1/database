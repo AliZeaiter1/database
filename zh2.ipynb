{
    "metadata": {
        "kernelspec": {
            "name": "SQL",
            "display_name": "SQL",
            "language": "sql"
        },
        "language_info": {
            "name": "sql",
            "version": ""
        }
    },
    "nbformat_minor": 2,
    "nbformat": 4,
    "cells": [
        {
            "cell_type": "code",
            "source": [
                "--1. feladat\r\n",
                "\r\n",
                "SELECT SZALLAS_NEV,\r\n",
                "        HELY,\r\n",
                "        ROUND(avg(CSILLAGOK_SZAMA), 2) as 'átlagos csillagszám'\r\n",
                "FROM Szallashely\r\n",
                "WHERE SZALLAS_NEV not like '%-%'\r\n",
                "group BY SZALLAS_NEV, HELY\r\n",
                ""
            ],
            "metadata": {
                "azdata_cell_guid": "a3a110b2-b1fa-4542-b747-762fd0b3fcc6",
                "language": "sql"
            },
            "outputs": [
                {
                    "output_type": "display_data",
                    "data": {
                        "text/html": "(20 rows affected)"
                    },
                    "metadata": {}
                },
                {
                    "output_type": "display_data",
                    "data": {
                        "text/html": "Total execution time: 00:00:00.009"
                    },
                    "metadata": {}
                },
                {
                    "output_type": "execute_result",
                    "metadata": {},
                    "execution_count": 13,
                    "data": {
                        "application/vnd.dataresource+json": {
                            "schema": {
                                "fields": [
                                    {
                                        "name": "SZALLAS_NEV"
                                    },
                                    {
                                        "name": "HELY"
                                    },
                                    {
                                        "name": "átlagos csillagszám"
                                    }
                                ]
                            },
                            "data": [
                                {
                                    "SZALLAS_NEV": "Családi Ház",
                                    "HELY": "Balaton-dél",
                                    "átlagos csillagszám": "0"
                                },
                                {
                                    "SZALLAS_NEV": "Hotel Három Hattyú",
                                    "HELY": "Balaton-dél",
                                    "átlagos csillagszám": "4"
                                },
                                {
                                    "SZALLAS_NEV": "Jáde panzió",
                                    "HELY": "Balaton-dél",
                                    "átlagos csillagszám": "3"
                                },
                                {
                                    "SZALLAS_NEV": "Kentaur Hotel",
                                    "HELY": "Balaton-dél",
                                    "átlagos csillagszám": "3"
                                },
                                {
                                    "SZALLAS_NEV": "Szieszta Apartmanház",
                                    "HELY": "Balaton-dél",
                                    "átlagos csillagszám": "0"
                                },
                                {
                                    "SZALLAS_NEV": "Tímárház Panzió",
                                    "HELY": "Balaton-dél",
                                    "átlagos csillagszám": "3"
                                },
                                {
                                    "SZALLAS_NEV": "Partiszél Vendégház",
                                    "HELY": "Balaton-észak",
                                    "átlagos csillagszám": "0"
                                },
                                {
                                    "SZALLAS_NEV": "Fortuna Panzió",
                                    "HELY": "Békés megye",
                                    "átlagos csillagszám": "3"
                                },
                                {
                                    "SZALLAS_NEV": "Fortuna panzió",
                                    "HELY": "Budapest",
                                    "átlagos csillagszám": "3"
                                },
                                {
                                    "SZALLAS_NEV": "Gold Hotel",
                                    "HELY": "Budapest",
                                    "átlagos csillagszám": "3"
                                },
                                {
                                    "SZALLAS_NEV": "Kollégium",
                                    "HELY": "Budapest",
                                    "átlagos csillagszám": "0"
                                },
                                {
                                    "SZALLAS_NEV": "Lagúna Hotel",
                                    "HELY": "Budapest",
                                    "átlagos csillagszám": "4"
                                },
                                {
                                    "SZALLAS_NEV": "Nyárfás Vendégház",
                                    "HELY": "Csongrád megye",
                                    "átlagos csillagszám": "0"
                                },
                                {
                                    "SZALLAS_NEV": "Riviéra Panzió",
                                    "HELY": "Csongrád megye",
                                    "átlagos csillagszám": "3"
                                },
                                {
                                    "SZALLAS_NEV": "Fortuna Apartman",
                                    "HELY": "Dél-Somogy",
                                    "átlagos csillagszám": "0"
                                },
                                {
                                    "SZALLAS_NEV": "Müller Vendégház",
                                    "HELY": "Dél-Somogy",
                                    "átlagos csillagszám": "0"
                                },
                                {
                                    "SZALLAS_NEV": "Nyárfás Vendégház",
                                    "HELY": "Dél-Somogy",
                                    "átlagos csillagszám": "0"
                                },
                                {
                                    "SZALLAS_NEV": "Fortuna Apartman",
                                    "HELY": "Hajdúbihar megye",
                                    "átlagos csillagszám": "0"
                                },
                                {
                                    "SZALLAS_NEV": "Bagoly Hotel",
                                    "HELY": "Pest megye",
                                    "átlagos csillagszám": "3"
                                },
                                {
                                    "SZALLAS_NEV": "Szarvas Hotel",
                                    "HELY": "Tolna megye",
                                    "átlagos csillagszám": "4"
                                }
                            ]
                        },
                        "text/html": [
                            "<table>",
                            "<tr><th>SZALLAS_NEV</th><th>HELY</th><th>átlagos csillagszám</th></tr>",
                            "<tr><td>Családi Ház</td><td>Balaton-dél</td><td>0</td></tr>",
                            "<tr><td>Hotel Három Hattyú</td><td>Balaton-dél</td><td>4</td></tr>",
                            "<tr><td>Jáde panzió</td><td>Balaton-dél</td><td>3</td></tr>",
                            "<tr><td>Kentaur Hotel</td><td>Balaton-dél</td><td>3</td></tr>",
                            "<tr><td>Szieszta Apartmanház</td><td>Balaton-dél</td><td>0</td></tr>",
                            "<tr><td>Tímárház Panzió</td><td>Balaton-dél</td><td>3</td></tr>",
                            "<tr><td>Partiszél Vendégház</td><td>Balaton-észak</td><td>0</td></tr>",
                            "<tr><td>Fortuna Panzió</td><td>Békés megye</td><td>3</td></tr>",
                            "<tr><td>Fortuna panzió</td><td>Budapest</td><td>3</td></tr>",
                            "<tr><td>Gold Hotel</td><td>Budapest</td><td>3</td></tr>",
                            "<tr><td>Kollégium</td><td>Budapest</td><td>0</td></tr>",
                            "<tr><td>Lagúna Hotel</td><td>Budapest</td><td>4</td></tr>",
                            "<tr><td>Nyárfás Vendégház</td><td>Csongrád megye</td><td>0</td></tr>",
                            "<tr><td>Riviéra Panzió</td><td>Csongrád megye</td><td>3</td></tr>",
                            "<tr><td>Fortuna Apartman</td><td>Dél-Somogy</td><td>0</td></tr>",
                            "<tr><td>Müller Vendégház</td><td>Dél-Somogy</td><td>0</td></tr>",
                            "<tr><td>Nyárfás Vendégház</td><td>Dél-Somogy</td><td>0</td></tr>",
                            "<tr><td>Fortuna Apartman</td><td>Hajdúbihar megye</td><td>0</td></tr>",
                            "<tr><td>Bagoly Hotel</td><td>Pest megye</td><td>3</td></tr>",
                            "<tr><td>Szarvas Hotel</td><td>Tolna megye</td><td>4</td></tr>",
                            "</table>"
                        ]
                    }
                }
            ],
            "execution_count": 13
        },
        {
            "cell_type": "code",
            "source": [
                "SELECT (f.FELNOTT_SZAM + f.GYERMEK_SZAM) AS 'Össz főre foglalás', szall.SZALLAS_NEV\r\n",
                "FROM FOGLALAS f JOIN Szoba sz on f.SZOBA_FK = sz.SZOBA_ID\r\n",
                "                JOIN Szallashely szall on sz.SZALLAS_FK= szall.SZALLAS_ID\r\n",
                "\r\n",
                ""
            ],
            "metadata": {
                "azdata_cell_guid": "476d1c78-850c-4324-a75a-e768550bd2c2",
                "language": "sql"
            },
            "outputs": [
                {
                    "output_type": "display_data",
                    "data": {
                        "text/html": "(1027 rows affected)"
                    },
                    "metadata": {}
                },
                {
                    "output_type": "display_data",
                    "data": {
                        "text/html": "Total execution time: 00:00:00.030"
                    },
                    "metadata": {}
                },
                {
                    "output_type": "execute_result",
                    "metadata": {},
                    "execution_count": 18,
                    "data": {
                        "application/vnd.dataresource+json": {
                            "schema": {
                                "fields": [
                                    {
                                        "name": "Össz főre foglalás"
                                    },
                                    {
                                        "name": "SZALLAS_NEV"
                                    }
                                ]
                            },
                            "data": [
                                {
                                    "Össz főre foglalás": "3",
                                    "SZALLAS_NEV": "Szieszta Apartmanház"
                                },
                                {
                                    "Össz főre foglalás": "2",
                                    "SZALLAS_NEV": "Jáde panzió"
                                },
                                {
                                    "Össz főre foglalás": "2",
                                    "SZALLAS_NEV": "Sába-Ház"
                                },
                                {
                                    "Össz főre foglalás": "2",
                                    "SZALLAS_NEV": "Fortuna Panzió"
                                },
                                {
                                    "Össz főre foglalás": "1",
                                    "SZALLAS_NEV": "Sába-Ház"
                                },
                                {
                                    "Össz főre foglalás": "4",
                                    "SZALLAS_NEV": "Kentaur Hotel"
                                },
                                {
                                    "Össz főre foglalás": "2",
                                    "SZALLAS_NEV": "Sába-Ház"
                                },
                                {
                                    "Össz főre foglalás": "2",
                                    "SZALLAS_NEV": "Lagúna Hotel"
                                },
                                {
                                    "Össz főre foglalás": "2",
                                    "SZALLAS_NEV": "Fortuna Apartman"
                                },
                                {
                                    "Össz főre foglalás": "1",
                                    "SZALLAS_NEV": "Gold Hotel"
                                },
                                {
                                    "Össz főre foglalás": "2",
                                    "SZALLAS_NEV": "Kentaur Hotel"
                                },
                                {
                                    "Össz főre foglalás": "2",
                                    "SZALLAS_NEV": "Sába-Ház"
                                },
                                {
                                    "Össz főre foglalás": "2",
                                    "SZALLAS_NEV": "Partiszél Vendégház"
                                },
                                {
                                    "Össz főre foglalás": "2",
                                    "SZALLAS_NEV": "Gold Hotel"
                                },
                                {
                                    "Össz főre foglalás": "2",
                                    "SZALLAS_NEV": "Kentaur Hotel"
                                },
                                {
                                    "Össz főre foglalás": "2",
                                    "SZALLAS_NEV": "Gold Hotel"
                                },
                                {
                                    "Össz főre foglalás": "2",
                                    "SZALLAS_NEV": "Gold Hotel"
                                },
                                {
                                    "Össz főre foglalás": "4",
                                    "SZALLAS_NEV": "Lagúna Hotel"
                                },
                                {
                                    "Össz főre foglalás": "3",
                                    "SZALLAS_NEV": "Hotel Három Hattyú"
                                },
                                {
                                    "Össz főre foglalás": "3",
                                    "SZALLAS_NEV": "Lagúna Hotel"
                                },
                                {
                                    "Össz főre foglalás": "3",
                                    "SZALLAS_NEV": "Gold Hotel"
                                },
                                {
                                    "Össz főre foglalás": "2",
                                    "SZALLAS_NEV": "Lagúna Hotel"
                                },
                                {
                                    "Össz főre foglalás": "2",
                                    "SZALLAS_NEV": "Jáde panzió"
                                },
                                {
                                    "Össz főre foglalás": "3",
                                    "SZALLAS_NEV": "Lagúna Hotel"
                                },
                                {
                                    "Össz főre foglalás": "2",
                                    "SZALLAS_NEV": "Lagúna Hotel"
                                },
                                {
                                    "Össz főre foglalás": "3",
                                    "SZALLAS_NEV": "Kentaur Hotel"
                                },
                                {
                                    "Össz főre foglalás": "2",
                                    "SZALLAS_NEV": "Lagúna Hotel"
                                },
                                {
                                    "Össz főre foglalás": "3",
                                    "SZALLAS_NEV": "Kentaur Hotel"
                                },
                                {
                                    "Össz főre foglalás": "1",
                                    "SZALLAS_NEV": "Hotel Három Hattyú"
                                },
                                {
                                    "Össz főre foglalás": "1",
                                    "SZALLAS_NEV": "Hotel Három Hattyú"
                                },
                                {
                                    "Össz főre foglalás": "4",
                                    "SZALLAS_NEV": "Lagúna Hotel"
                                },
                                {
                                    "Össz főre foglalás": "3",
                                    "SZALLAS_NEV": "Fortuna Panzió"
                                },
                                {
                                    "Össz főre foglalás": "2",
                                    "SZALLAS_NEV": "Fortuna Panzió"
                                },
                                {
                                    "Össz főre foglalás": "2",
                                    "SZALLAS_NEV": "Lagúna Hotel"
                                },
                                {
                                    "Össz főre foglalás": "2",
                                    "SZALLAS_NEV": "Gold Hotel"
                                },
                                {
                                    "Össz főre foglalás": "3",
                                    "SZALLAS_NEV": "Kentaur Hotel"
                                },
                                {
                                    "Össz főre foglalás": "2",
                                    "SZALLAS_NEV": "Lagúna Hotel"
                                },
                                {
                                    "Össz főre foglalás": "2",
                                    "SZALLAS_NEV": "Kentaur Hotel"
                                },
                                {
                                    "Össz főre foglalás": "3",
                                    "SZALLAS_NEV": "Hotel Három Hattyú"
                                },
                                {
                                    "Össz főre foglalás": "2",
                                    "SZALLAS_NEV": "Hotel Három Hattyú"
                                },
                                {
                                    "Össz főre foglalás": "4",
                                    "SZALLAS_NEV": "Fortuna panzió"
                                },
                                {
                                    "Össz főre foglalás": "3",
                                    "SZALLAS_NEV": "Partiszél Vendégház"
                                },
                                {
                                    "Össz főre foglalás": "1",
                                    "SZALLAS_NEV": "Gold Hotel"
                                },
                                {
                                    "Össz főre foglalás": "1",
                                    "SZALLAS_NEV": "Fortuna panzió"
                                },
                                {
                                    "Össz főre foglalás": "4",
                                    "SZALLAS_NEV": "Fortuna Apartman"
                                },
                                {
                                    "Össz főre foglalás": "3",
                                    "SZALLAS_NEV": "Fortuna Panzió"
                                },
                                {
                                    "Össz főre foglalás": "2",
                                    "SZALLAS_NEV": "Fortuna panzió"
                                },
                                {
                                    "Össz főre foglalás": "3",
                                    "SZALLAS_NEV": "Hotel Három Hattyú"
                                },
                                {
                                    "Össz főre foglalás": "4",
                                    "SZALLAS_NEV": "Fortuna panzió"
                                },
                                {
                                    "Össz főre foglalás": "3",
                                    "SZALLAS_NEV": "Hotel Három Hattyú"
                                },
                                {
                                    "Össz főre foglalás": "2",
                                    "SZALLAS_NEV": "Gold Hotel"
                                },
                                {
                                    "Össz főre foglalás": "2",
                                    "SZALLAS_NEV": "Sába-Ház"
                                },
                                {
                                    "Össz főre foglalás": "1",
                                    "SZALLAS_NEV": "Hotel Három Hattyú"
                                },
                                {
                                    "Össz főre foglalás": "2",
                                    "SZALLAS_NEV": "Fortuna panzió"
                                },
                                {
                                    "Össz főre foglalás": "2",
                                    "SZALLAS_NEV": "Hotel Három Hattyú"
                                },
                                {
                                    "Össz főre foglalás": "2",
                                    "SZALLAS_NEV": "Jáde panzió"
                                },
                                {
                                    "Össz főre foglalás": "3",
                                    "SZALLAS_NEV": "Hotel Három Hattyú"
                                },
                                {
                                    "Össz főre foglalás": "3",
                                    "SZALLAS_NEV": "Gold Hotel"
                                },
                                {
                                    "Össz főre foglalás": "2",
                                    "SZALLAS_NEV": "Hotel Három Hattyú"
                                },
                                {
                                    "Össz főre foglalás": "3",
                                    "SZALLAS_NEV": "Hotel Három Hattyú"
                                },
                                {
                                    "Össz főre foglalás": "2",
                                    "SZALLAS_NEV": "Hotel Három Hattyú"
                                },
                                {
                                    "Össz főre foglalás": "2",
                                    "SZALLAS_NEV": "Jáde panzió"
                                },
                                {
                                    "Össz főre foglalás": "1",
                                    "SZALLAS_NEV": "Sába-Ház"
                                },
                                {
                                    "Össz főre foglalás": "2",
                                    "SZALLAS_NEV": "Hotel Három Hattyú"
                                },
                                {
                                    "Össz főre foglalás": "2",
                                    "SZALLAS_NEV": "Kentaur Hotel"
                                },
                                {
                                    "Össz főre foglalás": "3",
                                    "SZALLAS_NEV": "Hotel Három Hattyú"
                                },
                                {
                                    "Össz főre foglalás": "4",
                                    "SZALLAS_NEV": "Fortuna panzió"
                                },
                                {
                                    "Össz főre foglalás": "2",
                                    "SZALLAS_NEV": "Kentaur Hotel"
                                },
                                {
                                    "Össz főre foglalás": "2",
                                    "SZALLAS_NEV": "Fortuna Apartman"
                                },
                                {
                                    "Össz főre foglalás": "3",
                                    "SZALLAS_NEV": "Fortuna panzió"
                                },
                                {
                                    "Össz főre foglalás": "3",
                                    "SZALLAS_NEV": "Fortuna Panzió"
                                },
                                {
                                    "Össz főre foglalás": "3",
                                    "SZALLAS_NEV": "Sába-Ház"
                                },
                                {
                                    "Össz főre foglalás": "2",
                                    "SZALLAS_NEV": "Partiszél Vendégház"
                                },
                                {
                                    "Össz főre foglalás": "1",
                                    "SZALLAS_NEV": "Hotel Három Hattyú"
                                },
                                {
                                    "Össz főre foglalás": "2",
                                    "SZALLAS_NEV": "Hotel Három Hattyú"
                                },
                                {
                                    "Össz főre foglalás": "3",
                                    "SZALLAS_NEV": "Gold Hotel"
                                },
                                {
                                    "Össz főre foglalás": "2",
                                    "SZALLAS_NEV": "Gold Hotel"
                                },
                                {
                                    "Össz főre foglalás": "4",
                                    "SZALLAS_NEV": "Hotel Három Hattyú"
                                },
                                {
                                    "Össz főre foglalás": "2",
                                    "SZALLAS_NEV": "Hotel Három Hattyú"
                                },
                                {
                                    "Össz főre foglalás": "2",
                                    "SZALLAS_NEV": "Hotel Három Hattyú"
                                },
                                {
                                    "Össz főre foglalás": "1",
                                    "SZALLAS_NEV": "Kentaur Hotel"
                                },
                                {
                                    "Össz főre foglalás": "3",
                                    "SZALLAS_NEV": "Partiszél Vendégház"
                                },
                                {
                                    "Össz főre foglalás": "2",
                                    "SZALLAS_NEV": "Gold Hotel"
                                },
                                {
                                    "Össz főre foglalás": "3",
                                    "SZALLAS_NEV": "Lagúna Hotel"
                                },
                                {
                                    "Össz főre foglalás": "2",
                                    "SZALLAS_NEV": "Kentaur Hotel"
                                },
                                {
                                    "Össz főre foglalás": "2",
                                    "SZALLAS_NEV": "Hotel Három Hattyú"
                                },
                                {
                                    "Össz főre foglalás": "2",
                                    "SZALLAS_NEV": "Gold Hotel"
                                },
                                {
                                    "Össz főre foglalás": "4",
                                    "SZALLAS_NEV": "Kentaur Hotel"
                                },
                                {
                                    "Össz főre foglalás": "3",
                                    "SZALLAS_NEV": "Kentaur Hotel"
                                },
                                {
                                    "Össz főre foglalás": "2",
                                    "SZALLAS_NEV": "Szieszta Apartmanház"
                                },
                                {
                                    "Össz főre foglalás": "1",
                                    "SZALLAS_NEV": "Lagúna Hotel"
                                },
                                {
                                    "Össz főre foglalás": "2",
                                    "SZALLAS_NEV": "Lagúna Hotel"
                                },
                                {
                                    "Össz főre foglalás": "2",
                                    "SZALLAS_NEV": "Kentaur Hotel"
                                },
                                {
                                    "Össz főre foglalás": "1",
                                    "SZALLAS_NEV": "Sába-Ház"
                                },
                                {
                                    "Össz főre foglalás": "1",
                                    "SZALLAS_NEV": "Lagúna Hotel"
                                },
                                {
                                    "Össz főre foglalás": "2",
                                    "SZALLAS_NEV": "Partiszél Vendégház"
                                },
                                {
                                    "Össz főre foglalás": "2",
                                    "SZALLAS_NEV": "Hotel Három Hattyú"
                                },
                                {
                                    "Össz főre foglalás": "2",
                                    "SZALLAS_NEV": "Jáde panzió"
                                },
                                {
                                    "Össz főre foglalás": "2",
                                    "SZALLAS_NEV": "Hotel Három Hattyú"
                                },
                                {
                                    "Össz főre foglalás": "1",
                                    "SZALLAS_NEV": "Lagúna Hotel"
                                },
                                {
                                    "Össz főre foglalás": "3",
                                    "SZALLAS_NEV": "Fortuna Panzió"
                                },
                                {
                                    "Össz főre foglalás": "2",
                                    "SZALLAS_NEV": "Gold Hotel"
                                },
                                {
                                    "Össz főre foglalás": "3",
                                    "SZALLAS_NEV": "Fortuna Apartman"
                                },
                                {
                                    "Össz főre foglalás": "1",
                                    "SZALLAS_NEV": "Lagúna Hotel"
                                },
                                {
                                    "Össz főre foglalás": "4",
                                    "SZALLAS_NEV": "Gold Hotel"
                                },
                                {
                                    "Össz főre foglalás": "4",
                                    "SZALLAS_NEV": "Családi Ház"
                                },
                                {
                                    "Össz főre foglalás": "2",
                                    "SZALLAS_NEV": "Lagúna Hotel"
                                },
                                {
                                    "Össz főre foglalás": "2",
                                    "SZALLAS_NEV": "Hotel Három Hattyú"
                                },
                                {
                                    "Össz főre foglalás": "3",
                                    "SZALLAS_NEV": "Sába-Ház"
                                },
                                {
                                    "Össz főre foglalás": "3",
                                    "SZALLAS_NEV": "Kentaur Hotel"
                                },
                                {
                                    "Össz főre foglalás": "3",
                                    "SZALLAS_NEV": "Kentaur Hotel"
                                },
                                {
                                    "Össz főre foglalás": "1",
                                    "SZALLAS_NEV": "Gold Hotel"
                                },
                                {
                                    "Össz főre foglalás": "2",
                                    "SZALLAS_NEV": "Fortuna Panzió"
                                },
                                {
                                    "Össz főre foglalás": "3",
                                    "SZALLAS_NEV": "Hotel Három Hattyú"
                                },
                                {
                                    "Össz főre foglalás": "3",
                                    "SZALLAS_NEV": "Gold Hotel"
                                },
                                {
                                    "Össz főre foglalás": "2",
                                    "SZALLAS_NEV": "Gold Hotel"
                                },
                                {
                                    "Össz főre foglalás": "3",
                                    "SZALLAS_NEV": "Kentaur Hotel"
                                },
                                {
                                    "Össz főre foglalás": "3",
                                    "SZALLAS_NEV": "Gold Hotel"
                                },
                                {
                                    "Össz főre foglalás": "2",
                                    "SZALLAS_NEV": "Kentaur Hotel"
                                },
                                {
                                    "Össz főre foglalás": "3",
                                    "SZALLAS_NEV": "Gold Hotel"
                                },
                                {
                                    "Össz főre foglalás": "2",
                                    "SZALLAS_NEV": "Lagúna Hotel"
                                },
                                {
                                    "Össz főre foglalás": "3",
                                    "SZALLAS_NEV": "Gold Hotel"
                                },
                                {
                                    "Össz főre foglalás": "2",
                                    "SZALLAS_NEV": "Gold Hotel"
                                },
                                {
                                    "Össz főre foglalás": "2",
                                    "SZALLAS_NEV": "Kentaur Hotel"
                                },
                                {
                                    "Össz főre foglalás": "2",
                                    "SZALLAS_NEV": "Gold Hotel"
                                },
                                {
                                    "Össz főre foglalás": "2",
                                    "SZALLAS_NEV": "Kentaur Hotel"
                                },
                                {
                                    "Össz főre foglalás": "1",
                                    "SZALLAS_NEV": "Gold Hotel"
                                },
                                {
                                    "Össz főre foglalás": "2",
                                    "SZALLAS_NEV": "Hotel Három Hattyú"
                                },
                                {
                                    "Össz főre foglalás": "2",
                                    "SZALLAS_NEV": "Fortuna panzió"
                                },
                                {
                                    "Össz főre foglalás": "2",
                                    "SZALLAS_NEV": "Családi Ház"
                                },
                                {
                                    "Össz főre foglalás": "2",
                                    "SZALLAS_NEV": "Fortuna panzió"
                                },
                                {
                                    "Össz főre foglalás": "1",
                                    "SZALLAS_NEV": "Hotel Három Hattyú"
                                },
                                {
                                    "Össz főre foglalás": "2",
                                    "SZALLAS_NEV": "Gold Hotel"
                                },
                                {
                                    "Össz főre foglalás": "2",
                                    "SZALLAS_NEV": "Hotel Három Hattyú"
                                },
                                {
                                    "Össz főre foglalás": "2",
                                    "SZALLAS_NEV": "Lagúna Hotel"
                                },
                                {
                                    "Össz főre foglalás": "2",
                                    "SZALLAS_NEV": "Gold Hotel"
                                },
                                {
                                    "Össz főre foglalás": "2",
                                    "SZALLAS_NEV": "Sába-Ház"
                                },
                                {
                                    "Össz főre foglalás": "3",
                                    "SZALLAS_NEV": "Gold Hotel"
                                },
                                {
                                    "Össz főre foglalás": "3",
                                    "SZALLAS_NEV": "Fortuna Apartman"
                                },
                                {
                                    "Össz főre foglalás": "1",
                                    "SZALLAS_NEV": "Sába-Ház"
                                },
                                {
                                    "Össz főre foglalás": "3",
                                    "SZALLAS_NEV": "Kentaur Hotel"
                                },
                                {
                                    "Össz főre foglalás": "2",
                                    "SZALLAS_NEV": "Gold Hotel"
                                },
                                {
                                    "Össz főre foglalás": "3",
                                    "SZALLAS_NEV": "Kentaur Hotel"
                                },
                                {
                                    "Össz főre foglalás": "2",
                                    "SZALLAS_NEV": "Kentaur Hotel"
                                },
                                {
                                    "Össz főre foglalás": "1",
                                    "SZALLAS_NEV": "Kentaur Hotel"
                                },
                                {
                                    "Össz főre foglalás": "4",
                                    "SZALLAS_NEV": "Lagúna Hotel"
                                },
                                {
                                    "Össz főre foglalás": "3",
                                    "SZALLAS_NEV": "Kentaur Hotel"
                                },
                                {
                                    "Össz főre foglalás": "1",
                                    "SZALLAS_NEV": "Fortuna panzió"
                                },
                                {
                                    "Össz főre foglalás": "2",
                                    "SZALLAS_NEV": "Hotel Három Hattyú"
                                },
                                {
                                    "Össz főre foglalás": "3",
                                    "SZALLAS_NEV": "Fortuna panzió"
                                },
                                {
                                    "Össz főre foglalás": "1",
                                    "SZALLAS_NEV": "Hotel Három Hattyú"
                                },
                                {
                                    "Össz főre foglalás": "1",
                                    "SZALLAS_NEV": "Gold Hotel"
                                },
                                {
                                    "Össz főre foglalás": "2",
                                    "SZALLAS_NEV": "Gold Hotel"
                                },
                                {
                                    "Össz főre foglalás": "3",
                                    "SZALLAS_NEV": "Gold Hotel"
                                },
                                {
                                    "Össz főre foglalás": "3",
                                    "SZALLAS_NEV": "Kentaur Hotel"
                                },
                                {
                                    "Össz főre foglalás": "2",
                                    "SZALLAS_NEV": "Fortuna Apartman"
                                },
                                {
                                    "Össz főre foglalás": "3",
                                    "SZALLAS_NEV": "Kentaur Hotel"
                                },
                                {
                                    "Össz főre foglalás": "2",
                                    "SZALLAS_NEV": "Hotel Három Hattyú"
                                },
                                {
                                    "Össz főre foglalás": "3",
                                    "SZALLAS_NEV": "Hotel Három Hattyú"
                                },
                                {
                                    "Össz főre foglalás": "2",
                                    "SZALLAS_NEV": "Hotel Három Hattyú"
                                },
                                {
                                    "Össz főre foglalás": "5",
                                    "SZALLAS_NEV": "Hotel Három Hattyú"
                                },
                                {
                                    "Össz főre foglalás": "3",
                                    "SZALLAS_NEV": "Kentaur Hotel"
                                },
                                {
                                    "Össz főre foglalás": "4",
                                    "SZALLAS_NEV": "Partiszél Vendégház"
                                },
                                {
                                    "Össz főre foglalás": "2",
                                    "SZALLAS_NEV": "Gold Hotel"
                                },
                                {
                                    "Össz főre foglalás": "2",
                                    "SZALLAS_NEV": "Hotel Három Hattyú"
                                },
                                {
                                    "Össz főre foglalás": "2",
                                    "SZALLAS_NEV": "Hotel Három Hattyú"
                                },
                                {
                                    "Össz főre foglalás": "2",
                                    "SZALLAS_NEV": "Lagúna Hotel"
                                },
                                {
                                    "Össz főre foglalás": "2",
                                    "SZALLAS_NEV": "Fortuna panzió"
                                },
                                {
                                    "Össz főre foglalás": "4",
                                    "SZALLAS_NEV": "Hotel Három Hattyú"
                                },
                                {
                                    "Össz főre foglalás": "2",
                                    "SZALLAS_NEV": "Hotel Három Hattyú"
                                },
                                {
                                    "Össz főre foglalás": "4",
                                    "SZALLAS_NEV": "Fortuna panzió"
                                },
                                {
                                    "Össz főre foglalás": "2",
                                    "SZALLAS_NEV": "Szieszta Apartmanház"
                                },
                                {
                                    "Össz főre foglalás": "2",
                                    "SZALLAS_NEV": "Lagúna Hotel"
                                },
                                {
                                    "Össz főre foglalás": "3",
                                    "SZALLAS_NEV": "Gold Hotel"
                                },
                                {
                                    "Össz főre foglalás": "2",
                                    "SZALLAS_NEV": "Hotel Három Hattyú"
                                },
                                {
                                    "Össz főre foglalás": "1",
                                    "SZALLAS_NEV": "Lagúna Hotel"
                                },
                                {
                                    "Össz főre foglalás": "3",
                                    "SZALLAS_NEV": "Kentaur Hotel"
                                },
                                {
                                    "Össz főre foglalás": "2",
                                    "SZALLAS_NEV": "Hotel Három Hattyú"
                                },
                                {
                                    "Össz főre foglalás": "3",
                                    "SZALLAS_NEV": "Kentaur Hotel"
                                },
                                {
                                    "Össz főre foglalás": "2",
                                    "SZALLAS_NEV": "Hotel Három Hattyú"
                                },
                                {
                                    "Össz főre foglalás": "3",
                                    "SZALLAS_NEV": "Sába-Ház"
                                },
                                {
                                    "Össz főre foglalás": "2",
                                    "SZALLAS_NEV": "Hotel Három Hattyú"
                                },
                                {
                                    "Össz főre foglalás": "2",
                                    "SZALLAS_NEV": "Gold Hotel"
                                },
                                {
                                    "Össz főre foglalás": "4",
                                    "SZALLAS_NEV": "Hotel Három Hattyú"
                                },
                                {
                                    "Össz főre foglalás": "2",
                                    "SZALLAS_NEV": "Partiszél Vendégház"
                                },
                                {
                                    "Össz főre foglalás": "2",
                                    "SZALLAS_NEV": "Gold Hotel"
                                },
                                {
                                    "Össz főre foglalás": "2",
                                    "SZALLAS_NEV": "Fortuna Apartman"
                                },
                                {
                                    "Össz főre foglalás": "2",
                                    "SZALLAS_NEV": "Lagúna Hotel"
                                },
                                {
                                    "Össz főre foglalás": "3",
                                    "SZALLAS_NEV": "Gold Hotel"
                                },
                                {
                                    "Össz főre foglalás": "3",
                                    "SZALLAS_NEV": "Gold Hotel"
                                },
                                {
                                    "Össz főre foglalás": "4",
                                    "SZALLAS_NEV": "Fortuna panzió"
                                },
                                {
                                    "Össz főre foglalás": "4",
                                    "SZALLAS_NEV": "Gold Hotel"
                                },
                                {
                                    "Össz főre foglalás": "4",
                                    "SZALLAS_NEV": "Fortuna panzió"
                                },
                                {
                                    "Össz főre foglalás": "2",
                                    "SZALLAS_NEV": "Lagúna Hotel"
                                },
                                {
                                    "Össz főre foglalás": "2",
                                    "SZALLAS_NEV": "Fortuna Panzió"
                                },
                                {
                                    "Össz főre foglalás": "2",
                                    "SZALLAS_NEV": "Gold Hotel"
                                },
                                {
                                    "Össz főre foglalás": "3",
                                    "SZALLAS_NEV": "Hotel Három Hattyú"
                                },
                                {
                                    "Össz főre foglalás": "1",
                                    "SZALLAS_NEV": "Fortuna Apartman"
                                },
                                {
                                    "Össz főre foglalás": "3",
                                    "SZALLAS_NEV": "Kentaur Hotel"
                                },
                                {
                                    "Össz főre foglalás": "1",
                                    "SZALLAS_NEV": "Szieszta Apartmanház"
                                },
                                {
                                    "Össz főre foglalás": "4",
                                    "SZALLAS_NEV": "Fortuna panzió"
                                },
                                {
                                    "Össz főre foglalás": "2",
                                    "SZALLAS_NEV": "Sába-Ház"
                                },
                                {
                                    "Össz főre foglalás": "2",
                                    "SZALLAS_NEV": "Jáde panzió"
                                },
                                {
                                    "Össz főre foglalás": "2",
                                    "SZALLAS_NEV": "Lagúna Hotel"
                                },
                                {
                                    "Össz főre foglalás": "3",
                                    "SZALLAS_NEV": "Hotel Három Hattyú"
                                },
                                {
                                    "Össz főre foglalás": "3",
                                    "SZALLAS_NEV": "Családi Ház"
                                },
                                {
                                    "Össz főre foglalás": "3",
                                    "SZALLAS_NEV": "Gold Hotel"
                                },
                                {
                                    "Össz főre foglalás": "2",
                                    "SZALLAS_NEV": "Lagúna Hotel"
                                },
                                {
                                    "Össz főre foglalás": "2",
                                    "SZALLAS_NEV": "Gold Hotel"
                                },
                                {
                                    "Össz főre foglalás": "3",
                                    "SZALLAS_NEV": "Fortuna Apartman"
                                },
                                {
                                    "Össz főre foglalás": "4",
                                    "SZALLAS_NEV": "Lagúna Hotel"
                                },
                                {
                                    "Össz főre foglalás": "2",
                                    "SZALLAS_NEV": "Kentaur Hotel"
                                },
                                {
                                    "Össz főre foglalás": "3",
                                    "SZALLAS_NEV": "Fortuna Panzió"
                                },
                                {
                                    "Össz főre foglalás": "2",
                                    "SZALLAS_NEV": "Lagúna Hotel"
                                },
                                {
                                    "Össz főre foglalás": "3",
                                    "SZALLAS_NEV": "Sába-Ház"
                                },
                                {
                                    "Össz főre foglalás": "2",
                                    "SZALLAS_NEV": "Kentaur Hotel"
                                },
                                {
                                    "Össz főre foglalás": "2",
                                    "SZALLAS_NEV": "Gold Hotel"
                                },
                                {
                                    "Össz főre foglalás": "3",
                                    "SZALLAS_NEV": "Sába-Ház"
                                },
                                {
                                    "Össz főre foglalás": "3",
                                    "SZALLAS_NEV": "Hotel Három Hattyú"
                                },
                                {
                                    "Össz főre foglalás": "2",
                                    "SZALLAS_NEV": "Fortuna panzió"
                                },
                                {
                                    "Össz főre foglalás": "3",
                                    "SZALLAS_NEV": "Fortuna Apartman"
                                },
                                {
                                    "Össz főre foglalás": "1",
                                    "SZALLAS_NEV": "Jáde panzió"
                                },
                                {
                                    "Össz főre foglalás": "2",
                                    "SZALLAS_NEV": "Hotel Három Hattyú"
                                },
                                {
                                    "Össz főre foglalás": "1",
                                    "SZALLAS_NEV": "Gold Hotel"
                                },
                                {
                                    "Össz főre foglalás": "1",
                                    "SZALLAS_NEV": "Partiszél Vendégház"
                                },
                                {
                                    "Össz főre foglalás": "2",
                                    "SZALLAS_NEV": "Lagúna Hotel"
                                },
                                {
                                    "Össz főre foglalás": "2",
                                    "SZALLAS_NEV": "Lagúna Hotel"
                                },
                                {
                                    "Össz főre foglalás": "4",
                                    "SZALLAS_NEV": "Gold Hotel"
                                },
                                {
                                    "Össz főre foglalás": "2",
                                    "SZALLAS_NEV": "Hotel Három Hattyú"
                                },
                                {
                                    "Össz főre foglalás": "1",
                                    "SZALLAS_NEV": "Kentaur Hotel"
                                },
                                {
                                    "Össz főre foglalás": "4",
                                    "SZALLAS_NEV": "Sába-Ház"
                                },
                                {
                                    "Össz főre foglalás": "3",
                                    "SZALLAS_NEV": "Lagúna Hotel"
                                },
                                {
                                    "Össz főre foglalás": "1",
                                    "SZALLAS_NEV": "Sába-Ház"
                                },
                                {
                                    "Össz főre foglalás": "2",
                                    "SZALLAS_NEV": "Családi Ház"
                                },
                                {
                                    "Össz főre foglalás": "4",
                                    "SZALLAS_NEV": "Gold Hotel"
                                },
                                {
                                    "Össz főre foglalás": "3",
                                    "SZALLAS_NEV": "Fortuna Panzió"
                                },
                                {
                                    "Össz főre foglalás": "4",
                                    "SZALLAS_NEV": "Gold Hotel"
                                },
                                {
                                    "Össz főre foglalás": "3",
                                    "SZALLAS_NEV": "Sába-Ház"
                                },
                                {
                                    "Össz főre foglalás": "3",
                                    "SZALLAS_NEV": "Lagúna Hotel"
                                },
                                {
                                    "Össz főre foglalás": "4",
                                    "SZALLAS_NEV": "Kentaur Hotel"
                                },
                                {
                                    "Össz főre foglalás": "3",
                                    "SZALLAS_NEV": "Kentaur Hotel"
                                },
                                {
                                    "Össz főre foglalás": "1",
                                    "SZALLAS_NEV": "Gold Hotel"
                                },
                                {
                                    "Össz főre foglalás": "2",
                                    "SZALLAS_NEV": "Fortuna Panzió"
                                },
                                {
                                    "Össz főre foglalás": "3",
                                    "SZALLAS_NEV": "Hotel Három Hattyú"
                                },
                                {
                                    "Össz főre foglalás": "2",
                                    "SZALLAS_NEV": "Fortuna Panzió"
                                },
                                {
                                    "Össz főre foglalás": "1",
                                    "SZALLAS_NEV": "Sába-Ház"
                                },
                                {
                                    "Össz főre foglalás": "3",
                                    "SZALLAS_NEV": "Lagúna Hotel"
                                },
                                {
                                    "Össz főre foglalás": "3",
                                    "SZALLAS_NEV": "Fortuna Apartman"
                                },
                                {
                                    "Össz főre foglalás": "2",
                                    "SZALLAS_NEV": "Hotel Három Hattyú"
                                },
                                {
                                    "Össz főre foglalás": "3",
                                    "SZALLAS_NEV": "Fortuna panzió"
                                },
                                {
                                    "Össz főre foglalás": "2",
                                    "SZALLAS_NEV": "Lagúna Hotel"
                                },
                                {
                                    "Össz főre foglalás": "3",
                                    "SZALLAS_NEV": "Hotel Három Hattyú"
                                },
                                {
                                    "Össz főre foglalás": "3",
                                    "SZALLAS_NEV": "Hotel Három Hattyú"
                                },
                                {
                                    "Össz főre foglalás": "2",
                                    "SZALLAS_NEV": "Kentaur Hotel"
                                },
                                {
                                    "Össz főre foglalás": "2",
                                    "SZALLAS_NEV": "Lagúna Hotel"
                                },
                                {
                                    "Össz főre foglalás": "3",
                                    "SZALLAS_NEV": "Családi Ház"
                                },
                                {
                                    "Össz főre foglalás": "3",
                                    "SZALLAS_NEV": "Kentaur Hotel"
                                },
                                {
                                    "Össz főre foglalás": "3",
                                    "SZALLAS_NEV": "Hotel Három Hattyú"
                                },
                                {
                                    "Össz főre foglalás": "3",
                                    "SZALLAS_NEV": "Gold Hotel"
                                },
                                {
                                    "Össz főre foglalás": "3",
                                    "SZALLAS_NEV": "Szieszta Apartmanház"
                                },
                                {
                                    "Össz főre foglalás": "1",
                                    "SZALLAS_NEV": "Sába-Ház"
                                },
                                {
                                    "Össz főre foglalás": "2",
                                    "SZALLAS_NEV": "Kentaur Hotel"
                                },
                                {
                                    "Össz főre foglalás": "3",
                                    "SZALLAS_NEV": "Fortuna Apartman"
                                },
                                {
                                    "Össz főre foglalás": "3",
                                    "SZALLAS_NEV": "Fortuna panzió"
                                },
                                {
                                    "Össz főre foglalás": "2",
                                    "SZALLAS_NEV": "Kentaur Hotel"
                                },
                                {
                                    "Össz főre foglalás": "3",
                                    "SZALLAS_NEV": "Fortuna Panzió"
                                },
                                {
                                    "Össz főre foglalás": "3",
                                    "SZALLAS_NEV": "Fortuna Panzió"
                                },
                                {
                                    "Össz főre foglalás": "3",
                                    "SZALLAS_NEV": "Lagúna Hotel"
                                },
                                {
                                    "Össz főre foglalás": "2",
                                    "SZALLAS_NEV": "Fortuna Panzió"
                                },
                                {
                                    "Össz főre foglalás": "2",
                                    "SZALLAS_NEV": "Hotel Három Hattyú"
                                },
                                {
                                    "Össz főre foglalás": "4",
                                    "SZALLAS_NEV": "Sába-Ház"
                                },
                                {
                                    "Össz főre foglalás": "3",
                                    "SZALLAS_NEV": "Fortuna panzió"
                                },
                                {
                                    "Össz főre foglalás": "4",
                                    "SZALLAS_NEV": "Kentaur Hotel"
                                },
                                {
                                    "Össz főre foglalás": "2",
                                    "SZALLAS_NEV": "Gold Hotel"
                                },
                                {
                                    "Össz főre foglalás": "3",
                                    "SZALLAS_NEV": "Sába-Ház"
                                },
                                {
                                    "Össz főre foglalás": "2",
                                    "SZALLAS_NEV": "Lagúna Hotel"
                                },
                                {
                                    "Össz főre foglalás": "1",
                                    "SZALLAS_NEV": "Lagúna Hotel"
                                },
                                {
                                    "Össz főre foglalás": "5",
                                    "SZALLAS_NEV": "Gold Hotel"
                                },
                                {
                                    "Össz főre foglalás": "2",
                                    "SZALLAS_NEV": "Hotel Három Hattyú"
                                },
                                {
                                    "Össz főre foglalás": "3",
                                    "SZALLAS_NEV": "Hotel Három Hattyú"
                                },
                                {
                                    "Össz főre foglalás": "2",
                                    "SZALLAS_NEV": "Kentaur Hotel"
                                },
                                {
                                    "Össz főre foglalás": "1",
                                    "SZALLAS_NEV": "Gold Hotel"
                                },
                                {
                                    "Össz főre foglalás": "3",
                                    "SZALLAS_NEV": "Lagúna Hotel"
                                },
                                {
                                    "Össz főre foglalás": "4",
                                    "SZALLAS_NEV": "Hotel Három Hattyú"
                                },
                                {
                                    "Össz főre foglalás": "2",
                                    "SZALLAS_NEV": "Gold Hotel"
                                },
                                {
                                    "Össz főre foglalás": "2",
                                    "SZALLAS_NEV": "Lagúna Hotel"
                                },
                                {
                                    "Össz főre foglalás": "3",
                                    "SZALLAS_NEV": "Szieszta Apartmanház"
                                },
                                {
                                    "Össz főre foglalás": "1",
                                    "SZALLAS_NEV": "Kentaur Hotel"
                                },
                                {
                                    "Össz főre foglalás": "1",
                                    "SZALLAS_NEV": "Fortuna Panzió"
                                },
                                {
                                    "Össz főre foglalás": "3",
                                    "SZALLAS_NEV": "Kentaur Hotel"
                                },
                                {
                                    "Össz főre foglalás": "2",
                                    "SZALLAS_NEV": "Fortuna Apartman"
                                },
                                {
                                    "Össz főre foglalás": "2",
                                    "SZALLAS_NEV": "Lagúna Hotel"
                                },
                                {
                                    "Össz főre foglalás": "3",
                                    "SZALLAS_NEV": "Sába-Ház"
                                },
                                {
                                    "Össz főre foglalás": "3",
                                    "SZALLAS_NEV": "Fortuna Panzió"
                                },
                                {
                                    "Össz főre foglalás": "1",
                                    "SZALLAS_NEV": "Fortuna Apartman"
                                },
                                {
                                    "Össz főre foglalás": "2",
                                    "SZALLAS_NEV": "Hotel Három Hattyú"
                                },
                                {
                                    "Össz főre foglalás": "1",
                                    "SZALLAS_NEV": "Gold Hotel"
                                },
                                {
                                    "Össz főre foglalás": "3",
                                    "SZALLAS_NEV": "Kentaur Hotel"
                                },
                                {
                                    "Össz főre foglalás": "4",
                                    "SZALLAS_NEV": "Családi Ház"
                                },
                                {
                                    "Össz főre foglalás": "1",
                                    "SZALLAS_NEV": "Gold Hotel"
                                },
                                {
                                    "Össz főre foglalás": "1",
                                    "SZALLAS_NEV": "Hotel Három Hattyú"
                                },
                                {
                                    "Össz főre foglalás": "3",
                                    "SZALLAS_NEV": "Szieszta Apartmanház"
                                },
                                {
                                    "Össz főre foglalás": "1",
                                    "SZALLAS_NEV": "Kentaur Hotel"
                                },
                                {
                                    "Össz főre foglalás": "3",
                                    "SZALLAS_NEV": "Hotel Három Hattyú"
                                },
                                {
                                    "Össz főre foglalás": "3",
                                    "SZALLAS_NEV": "Kentaur Hotel"
                                },
                                {
                                    "Össz főre foglalás": "3",
                                    "SZALLAS_NEV": "Gold Hotel"
                                },
                                {
                                    "Össz főre foglalás": "2",
                                    "SZALLAS_NEV": "Hotel Három Hattyú"
                                },
                                {
                                    "Össz főre foglalás": "2",
                                    "SZALLAS_NEV": "Kentaur Hotel"
                                },
                                {
                                    "Össz főre foglalás": "2",
                                    "SZALLAS_NEV": "Szieszta Apartmanház"
                                },
                                {
                                    "Össz főre foglalás": "1",
                                    "SZALLAS_NEV": "Gold Hotel"
                                },
                                {
                                    "Össz főre foglalás": "4",
                                    "SZALLAS_NEV": "Gold Hotel"
                                },
                                {
                                    "Össz főre foglalás": "3",
                                    "SZALLAS_NEV": "Kentaur Hotel"
                                },
                                {
                                    "Össz főre foglalás": "2",
                                    "SZALLAS_NEV": "Fortuna panzió"
                                },
                                {
                                    "Össz főre foglalás": "3",
                                    "SZALLAS_NEV": "Kentaur Hotel"
                                },
                                {
                                    "Össz főre foglalás": "1",
                                    "SZALLAS_NEV": "Fortuna panzió"
                                },
                                {
                                    "Össz főre foglalás": "2",
                                    "SZALLAS_NEV": "Sába-Ház"
                                },
                                {
                                    "Össz főre foglalás": "2",
                                    "SZALLAS_NEV": "Kentaur Hotel"
                                },
                                {
                                    "Össz főre foglalás": "2",
                                    "SZALLAS_NEV": "Kentaur Hotel"
                                },
                                {
                                    "Össz főre foglalás": "3",
                                    "SZALLAS_NEV": "Sába-Ház"
                                },
                                {
                                    "Össz főre foglalás": "3",
                                    "SZALLAS_NEV": "Kentaur Hotel"
                                },
                                {
                                    "Össz főre foglalás": "1",
                                    "SZALLAS_NEV": "Kentaur Hotel"
                                },
                                {
                                    "Össz főre foglalás": "2",
                                    "SZALLAS_NEV": "Hotel Három Hattyú"
                                },
                                {
                                    "Össz főre foglalás": "1",
                                    "SZALLAS_NEV": "Gold Hotel"
                                },
                                {
                                    "Össz főre foglalás": "1",
                                    "SZALLAS_NEV": "Jáde panzió"
                                },
                                {
                                    "Össz főre foglalás": "2",
                                    "SZALLAS_NEV": "Sába-Ház"
                                },
                                {
                                    "Össz főre foglalás": "2",
                                    "SZALLAS_NEV": "Kentaur Hotel"
                                },
                                {
                                    "Össz főre foglalás": "1",
                                    "SZALLAS_NEV": "Hotel Három Hattyú"
                                },
                                {
                                    "Össz főre foglalás": "3",
                                    "SZALLAS_NEV": "Kentaur Hotel"
                                },
                                {
                                    "Össz főre foglalás": "2",
                                    "SZALLAS_NEV": "Fortuna panzió"
                                },
                                {
                                    "Össz főre foglalás": "2",
                                    "SZALLAS_NEV": "Kentaur Hotel"
                                },
                                {
                                    "Össz főre foglalás": "3",
                                    "SZALLAS_NEV": "Fortuna Panzió"
                                },
                                {
                                    "Össz főre foglalás": "2",
                                    "SZALLAS_NEV": "Kentaur Hotel"
                                },
                                {
                                    "Össz főre foglalás": "3",
                                    "SZALLAS_NEV": "Lagúna Hotel"
                                },
                                {
                                    "Össz főre foglalás": "1",
                                    "SZALLAS_NEV": "Kentaur Hotel"
                                },
                                {
                                    "Össz főre foglalás": "1",
                                    "SZALLAS_NEV": "Gold Hotel"
                                },
                                {
                                    "Össz főre foglalás": "1",
                                    "SZALLAS_NEV": "Lagúna Hotel"
                                },
                                {
                                    "Össz főre foglalás": "2",
                                    "SZALLAS_NEV": "Fortuna panzió"
                                },
                                {
                                    "Össz főre foglalás": "5",
                                    "SZALLAS_NEV": "Fortuna panzió"
                                },
                                {
                                    "Össz főre foglalás": "2",
                                    "SZALLAS_NEV": "Családi Ház"
                                },
                                {
                                    "Össz főre foglalás": "1",
                                    "SZALLAS_NEV": "Gold Hotel"
                                },
                                {
                                    "Össz főre foglalás": "3",
                                    "SZALLAS_NEV": "Gold Hotel"
                                },
                                {
                                    "Össz főre foglalás": "2",
                                    "SZALLAS_NEV": "Fortuna panzió"
                                },
                                {
                                    "Össz főre foglalás": "2",
                                    "SZALLAS_NEV": "Gold Hotel"
                                },
                                {
                                    "Össz főre foglalás": "2",
                                    "SZALLAS_NEV": "Fortuna panzió"
                                },
                                {
                                    "Össz főre foglalás": "2",
                                    "SZALLAS_NEV": "Kentaur Hotel"
                                },
                                {
                                    "Össz főre foglalás": "3",
                                    "SZALLAS_NEV": "Gold Hotel"
                                },
                                {
                                    "Össz főre foglalás": "1",
                                    "SZALLAS_NEV": "Fortuna panzió"
                                },
                                {
                                    "Össz főre foglalás": "4",
                                    "SZALLAS_NEV": "Gold Hotel"
                                },
                                {
                                    "Össz főre foglalás": "2",
                                    "SZALLAS_NEV": "Fortuna Apartman"
                                },
                                {
                                    "Össz főre foglalás": "2",
                                    "SZALLAS_NEV": "Lagúna Hotel"
                                },
                                {
                                    "Össz főre foglalás": "2",
                                    "SZALLAS_NEV": "Lagúna Hotel"
                                },
                                {
                                    "Össz főre foglalás": "3",
                                    "SZALLAS_NEV": "Jáde panzió"
                                },
                                {
                                    "Össz főre foglalás": "2",
                                    "SZALLAS_NEV": "Jáde panzió"
                                },
                                {
                                    "Össz főre foglalás": "2",
                                    "SZALLAS_NEV": "Partiszél Vendégház"
                                },
                                {
                                    "Össz főre foglalás": "3",
                                    "SZALLAS_NEV": "Gold Hotel"
                                },
                                {
                                    "Össz főre foglalás": "2",
                                    "SZALLAS_NEV": "Gold Hotel"
                                },
                                {
                                    "Össz főre foglalás": "3",
                                    "SZALLAS_NEV": "Fortuna Panzió"
                                },
                                {
                                    "Össz főre foglalás": "2",
                                    "SZALLAS_NEV": "Lagúna Hotel"
                                },
                                {
                                    "Össz főre foglalás": "3",
                                    "SZALLAS_NEV": "Fortuna Apartman"
                                },
                                {
                                    "Össz főre foglalás": "2",
                                    "SZALLAS_NEV": "Gold Hotel"
                                },
                                {
                                    "Össz főre foglalás": "3",
                                    "SZALLAS_NEV": "Sába-Ház"
                                },
                                {
                                    "Össz főre foglalás": "4",
                                    "SZALLAS_NEV": "Fortuna panzió"
                                },
                                {
                                    "Össz főre foglalás": "2",
                                    "SZALLAS_NEV": "Fortuna panzió"
                                },
                                {
                                    "Össz főre foglalás": "3",
                                    "SZALLAS_NEV": "Hotel Három Hattyú"
                                },
                                {
                                    "Össz főre foglalás": "4",
                                    "SZALLAS_NEV": "Partiszél Vendégház"
                                },
                                {
                                    "Össz főre foglalás": "1",
                                    "SZALLAS_NEV": "Hotel Három Hattyú"
                                },
                                {
                                    "Össz főre foglalás": "3",
                                    "SZALLAS_NEV": "Fortuna Panzió"
                                },
                                {
                                    "Össz főre foglalás": "3",
                                    "SZALLAS_NEV": "Gold Hotel"
                                },
                                {
                                    "Össz főre foglalás": "5",
                                    "SZALLAS_NEV": "Gold Hotel"
                                },
                                {
                                    "Össz főre foglalás": "3",
                                    "SZALLAS_NEV": "Partiszél Vendégház"
                                },
                                {
                                    "Össz főre foglalás": "2",
                                    "SZALLAS_NEV": "Gold Hotel"
                                },
                                {
                                    "Össz főre foglalás": "2",
                                    "SZALLAS_NEV": "Kentaur Hotel"
                                },
                                {
                                    "Össz főre foglalás": "4",
                                    "SZALLAS_NEV": "Gold Hotel"
                                },
                                {
                                    "Össz főre foglalás": "2",
                                    "SZALLAS_NEV": "Hotel Három Hattyú"
                                },
                                {
                                    "Össz főre foglalás": "3",
                                    "SZALLAS_NEV": "Fortuna Panzió"
                                },
                                {
                                    "Össz főre foglalás": "3",
                                    "SZALLAS_NEV": "Partiszél Vendégház"
                                },
                                {
                                    "Össz főre foglalás": "2",
                                    "SZALLAS_NEV": "Fortuna Apartman"
                                },
                                {
                                    "Össz főre foglalás": "1",
                                    "SZALLAS_NEV": "Kentaur Hotel"
                                },
                                {
                                    "Össz főre foglalás": "2",
                                    "SZALLAS_NEV": "Kentaur Hotel"
                                },
                                {
                                    "Össz főre foglalás": "3",
                                    "SZALLAS_NEV": "Gold Hotel"
                                },
                                {
                                    "Össz főre foglalás": "2",
                                    "SZALLAS_NEV": "Kentaur Hotel"
                                },
                                {
                                    "Össz főre foglalás": "3",
                                    "SZALLAS_NEV": "Gold Hotel"
                                },
                                {
                                    "Össz főre foglalás": "4",
                                    "SZALLAS_NEV": "Kentaur Hotel"
                                },
                                {
                                    "Össz főre foglalás": "2",
                                    "SZALLAS_NEV": "Partiszél Vendégház"
                                },
                                {
                                    "Össz főre foglalás": "4",
                                    "SZALLAS_NEV": "Hotel Három Hattyú"
                                },
                                {
                                    "Össz főre foglalás": "3",
                                    "SZALLAS_NEV": "Hotel Három Hattyú"
                                },
                                {
                                    "Össz főre foglalás": "2",
                                    "SZALLAS_NEV": "Gold Hotel"
                                },
                                {
                                    "Össz főre foglalás": "1",
                                    "SZALLAS_NEV": "Fortuna Apartman"
                                },
                                {
                                    "Össz főre foglalás": "2",
                                    "SZALLAS_NEV": "Sába-Ház"
                                },
                                {
                                    "Össz főre foglalás": "3",
                                    "SZALLAS_NEV": "Sába-Ház"
                                },
                                {
                                    "Össz főre foglalás": "1",
                                    "SZALLAS_NEV": "Fortuna Apartman"
                                },
                                {
                                    "Össz főre foglalás": "1",
                                    "SZALLAS_NEV": "Sába-Ház"
                                },
                                {
                                    "Össz főre foglalás": "3",
                                    "SZALLAS_NEV": "Kentaur Hotel"
                                },
                                {
                                    "Össz főre foglalás": "2",
                                    "SZALLAS_NEV": "Sába-Ház"
                                },
                                {
                                    "Össz főre foglalás": "3",
                                    "SZALLAS_NEV": "Gold Hotel"
                                },
                                {
                                    "Össz főre foglalás": "3",
                                    "SZALLAS_NEV": "Hotel Három Hattyú"
                                },
                                {
                                    "Össz főre foglalás": "1",
                                    "SZALLAS_NEV": "Kentaur Hotel"
                                },
                                {
                                    "Össz főre foglalás": "1",
                                    "SZALLAS_NEV": "Fortuna Panzió"
                                },
                                {
                                    "Össz főre foglalás": "4",
                                    "SZALLAS_NEV": "Lagúna Hotel"
                                },
                                {
                                    "Össz főre foglalás": "3",
                                    "SZALLAS_NEV": "Gold Hotel"
                                },
                                {
                                    "Össz főre foglalás": "3",
                                    "SZALLAS_NEV": "Gold Hotel"
                                },
                                {
                                    "Össz főre foglalás": "2",
                                    "SZALLAS_NEV": "Hotel Három Hattyú"
                                },
                                {
                                    "Össz főre foglalás": "3",
                                    "SZALLAS_NEV": "Fortuna Panzió"
                                },
                                {
                                    "Össz főre foglalás": "2",
                                    "SZALLAS_NEV": "Kentaur Hotel"
                                },
                                {
                                    "Össz főre foglalás": "3",
                                    "SZALLAS_NEV": "Hotel Három Hattyú"
                                },
                                {
                                    "Össz főre foglalás": "4",
                                    "SZALLAS_NEV": "Kentaur Hotel"
                                },
                                {
                                    "Össz főre foglalás": "2",
                                    "SZALLAS_NEV": "Hotel Három Hattyú"
                                },
                                {
                                    "Össz főre foglalás": "1",
                                    "SZALLAS_NEV": "Sába-Ház"
                                },
                                {
                                    "Össz főre foglalás": "2",
                                    "SZALLAS_NEV": "Hotel Három Hattyú"
                                },
                                {
                                    "Össz főre foglalás": "3",
                                    "SZALLAS_NEV": "Hotel Három Hattyú"
                                },
                                {
                                    "Össz főre foglalás": "2",
                                    "SZALLAS_NEV": "Lagúna Hotel"
                                },
                                {
                                    "Össz főre foglalás": "3",
                                    "SZALLAS_NEV": "Lagúna Hotel"
                                },
                                {
                                    "Össz főre foglalás": "2",
                                    "SZALLAS_NEV": "Sába-Ház"
                                },
                                {
                                    "Össz főre foglalás": "3",
                                    "SZALLAS_NEV": "Fortuna panzió"
                                },
                                {
                                    "Össz főre foglalás": "3",
                                    "SZALLAS_NEV": "Hotel Három Hattyú"
                                },
                                {
                                    "Össz főre foglalás": "4",
                                    "SZALLAS_NEV": "Családi Ház"
                                },
                                {
                                    "Össz főre foglalás": "1",
                                    "SZALLAS_NEV": "Gold Hotel"
                                },
                                {
                                    "Össz főre foglalás": "2",
                                    "SZALLAS_NEV": "Hotel Három Hattyú"
                                },
                                {
                                    "Össz főre foglalás": "1",
                                    "SZALLAS_NEV": "Kentaur Hotel"
                                },
                                {
                                    "Össz főre foglalás": "5",
                                    "SZALLAS_NEV": "Gold Hotel"
                                },
                                {
                                    "Össz főre foglalás": "3",
                                    "SZALLAS_NEV": "Gold Hotel"
                                },
                                {
                                    "Össz főre foglalás": "2",
                                    "SZALLAS_NEV": "Fortuna panzió"
                                },
                                {
                                    "Össz főre foglalás": "1",
                                    "SZALLAS_NEV": "Lagúna Hotel"
                                },
                                {
                                    "Össz főre foglalás": "1",
                                    "SZALLAS_NEV": "Gold Hotel"
                                },
                                {
                                    "Össz főre foglalás": "4",
                                    "SZALLAS_NEV": "Kentaur Hotel"
                                },
                                {
                                    "Össz főre foglalás": "2",
                                    "SZALLAS_NEV": "Kentaur Hotel"
                                },
                                {
                                    "Össz főre foglalás": "2",
                                    "SZALLAS_NEV": "Gold Hotel"
                                },
                                {
                                    "Össz főre foglalás": "5",
                                    "SZALLAS_NEV": "Fortuna panzió"
                                },
                                {
                                    "Össz főre foglalás": "3",
                                    "SZALLAS_NEV": "Fortuna Panzió"
                                },
                                {
                                    "Össz főre foglalás": "2",
                                    "SZALLAS_NEV": "Kentaur Hotel"
                                },
                                {
                                    "Össz főre foglalás": "2",
                                    "SZALLAS_NEV": "Jáde panzió"
                                },
                                {
                                    "Össz főre foglalás": "2",
                                    "SZALLAS_NEV": "Gold Hotel"
                                },
                                {
                                    "Össz főre foglalás": "1",
                                    "SZALLAS_NEV": "Sába-Ház"
                                },
                                {
                                    "Össz főre foglalás": "3",
                                    "SZALLAS_NEV": "Gold Hotel"
                                },
                                {
                                    "Össz főre foglalás": "2",
                                    "SZALLAS_NEV": "Hotel Három Hattyú"
                                },
                                {
                                    "Össz főre foglalás": "3",
                                    "SZALLAS_NEV": "Gold Hotel"
                                },
                                {
                                    "Össz főre foglalás": "2",
                                    "SZALLAS_NEV": "Hotel Három Hattyú"
                                },
                                {
                                    "Össz főre foglalás": "3",
                                    "SZALLAS_NEV": "Kentaur Hotel"
                                },
                                {
                                    "Össz főre foglalás": "3",
                                    "SZALLAS_NEV": "Hotel Három Hattyú"
                                },
                                {
                                    "Össz főre foglalás": "1",
                                    "SZALLAS_NEV": "Kentaur Hotel"
                                },
                                {
                                    "Össz főre foglalás": "4",
                                    "SZALLAS_NEV": "Hotel Három Hattyú"
                                },
                                {
                                    "Össz főre foglalás": "2",
                                    "SZALLAS_NEV": "Jáde panzió"
                                },
                                {
                                    "Össz főre foglalás": "2",
                                    "SZALLAS_NEV": "Kentaur Hotel"
                                },
                                {
                                    "Össz főre foglalás": "1",
                                    "SZALLAS_NEV": "Sába-Ház"
                                },
                                {
                                    "Össz főre foglalás": "4",
                                    "SZALLAS_NEV": "Hotel Három Hattyú"
                                },
                                {
                                    "Össz főre foglalás": "2",
                                    "SZALLAS_NEV": "Fortuna panzió"
                                },
                                {
                                    "Össz főre foglalás": "2",
                                    "SZALLAS_NEV": "Jáde panzió"
                                },
                                {
                                    "Össz főre foglalás": "1",
                                    "SZALLAS_NEV": "Fortuna Apartman"
                                },
                                {
                                    "Össz főre foglalás": "1",
                                    "SZALLAS_NEV": "Kentaur Hotel"
                                },
                                {
                                    "Össz főre foglalás": "3",
                                    "SZALLAS_NEV": "Hotel Három Hattyú"
                                },
                                {
                                    "Össz főre foglalás": "2",
                                    "SZALLAS_NEV": "Gold Hotel"
                                },
                                {
                                    "Össz főre foglalás": "3",
                                    "SZALLAS_NEV": "Kentaur Hotel"
                                },
                                {
                                    "Össz főre foglalás": "2",
                                    "SZALLAS_NEV": "Partiszél Vendégház"
                                },
                                {
                                    "Össz főre foglalás": "3",
                                    "SZALLAS_NEV": "Gold Hotel"
                                },
                                {
                                    "Össz főre foglalás": "3",
                                    "SZALLAS_NEV": "Fortuna panzió"
                                },
                                {
                                    "Össz főre foglalás": "2",
                                    "SZALLAS_NEV": "Kentaur Hotel"
                                },
                                {
                                    "Össz főre foglalás": "2",
                                    "SZALLAS_NEV": "Lagúna Hotel"
                                },
                                {
                                    "Össz főre foglalás": "1",
                                    "SZALLAS_NEV": "Gold Hotel"
                                },
                                {
                                    "Össz főre foglalás": "3",
                                    "SZALLAS_NEV": "Hotel Három Hattyú"
                                },
                                {
                                    "Össz főre foglalás": "1",
                                    "SZALLAS_NEV": "Gold Hotel"
                                },
                                {
                                    "Össz főre foglalás": "1",
                                    "SZALLAS_NEV": "Fortuna Panzió"
                                },
                                {
                                    "Össz főre foglalás": "3",
                                    "SZALLAS_NEV": "Fortuna Panzió"
                                },
                                {
                                    "Össz főre foglalás": "3",
                                    "SZALLAS_NEV": "Sába-Ház"
                                },
                                {
                                    "Össz főre foglalás": "4",
                                    "SZALLAS_NEV": "Gold Hotel"
                                },
                                {
                                    "Össz főre foglalás": "3",
                                    "SZALLAS_NEV": "Gold Hotel"
                                },
                                {
                                    "Össz főre foglalás": "3",
                                    "SZALLAS_NEV": "Fortuna panzió"
                                },
                                {
                                    "Össz főre foglalás": "3",
                                    "SZALLAS_NEV": "Jáde panzió"
                                },
                                {
                                    "Össz főre foglalás": "2",
                                    "SZALLAS_NEV": "Lagúna Hotel"
                                },
                                {
                                    "Össz főre foglalás": "1",
                                    "SZALLAS_NEV": "Hotel Három Hattyú"
                                },
                                {
                                    "Össz főre foglalás": "4",
                                    "SZALLAS_NEV": "Kentaur Hotel"
                                },
                                {
                                    "Össz főre foglalás": "3",
                                    "SZALLAS_NEV": "Családi Ház"
                                },
                                {
                                    "Össz főre foglalás": "4",
                                    "SZALLAS_NEV": "Hotel Három Hattyú"
                                },
                                {
                                    "Össz főre foglalás": "3",
                                    "SZALLAS_NEV": "Gold Hotel"
                                },
                                {
                                    "Össz főre foglalás": "4",
                                    "SZALLAS_NEV": "Fortuna panzió"
                                },
                                {
                                    "Össz főre foglalás": "3",
                                    "SZALLAS_NEV": "Lagúna Hotel"
                                },
                                {
                                    "Össz főre foglalás": "3",
                                    "SZALLAS_NEV": "Fortuna panzió"
                                },
                                {
                                    "Össz főre foglalás": "1",
                                    "SZALLAS_NEV": "Hotel Három Hattyú"
                                },
                                {
                                    "Össz főre foglalás": "3",
                                    "SZALLAS_NEV": "Fortuna Apartman"
                                },
                                {
                                    "Össz főre foglalás": "4",
                                    "SZALLAS_NEV": "Hotel Három Hattyú"
                                },
                                {
                                    "Össz főre foglalás": "2",
                                    "SZALLAS_NEV": "Szieszta Apartmanház"
                                },
                                {
                                    "Össz főre foglalás": "4",
                                    "SZALLAS_NEV": "Sába-Ház"
                                },
                                {
                                    "Össz főre foglalás": "2",
                                    "SZALLAS_NEV": "Gold Hotel"
                                },
                                {
                                    "Össz főre foglalás": "2",
                                    "SZALLAS_NEV": "Jáde panzió"
                                },
                                {
                                    "Össz főre foglalás": "2",
                                    "SZALLAS_NEV": "Hotel Három Hattyú"
                                },
                                {
                                    "Össz főre foglalás": "2",
                                    "SZALLAS_NEV": "Lagúna Hotel"
                                },
                                {
                                    "Össz főre foglalás": "4",
                                    "SZALLAS_NEV": "Gold Hotel"
                                },
                                {
                                    "Össz főre foglalás": "3",
                                    "SZALLAS_NEV": "Családi Ház"
                                },
                                {
                                    "Össz főre foglalás": "3",
                                    "SZALLAS_NEV": "Jáde panzió"
                                },
                                {
                                    "Össz főre foglalás": "2",
                                    "SZALLAS_NEV": "Lagúna Hotel"
                                },
                                {
                                    "Össz főre foglalás": "2",
                                    "SZALLAS_NEV": "Lagúna Hotel"
                                },
                                {
                                    "Össz főre foglalás": "1",
                                    "SZALLAS_NEV": "Hotel Három Hattyú"
                                },
                                {
                                    "Össz főre foglalás": "2",
                                    "SZALLAS_NEV": "Hotel Három Hattyú"
                                },
                                {
                                    "Össz főre foglalás": "2",
                                    "SZALLAS_NEV": "Hotel Három Hattyú"
                                },
                                {
                                    "Össz főre foglalás": "3",
                                    "SZALLAS_NEV": "Sába-Ház"
                                },
                                {
                                    "Össz főre foglalás": "3",
                                    "SZALLAS_NEV": "Fortuna panzió"
                                },
                                {
                                    "Össz főre foglalás": "2",
                                    "SZALLAS_NEV": "Fortuna panzió"
                                },
                                {
                                    "Össz főre foglalás": "3",
                                    "SZALLAS_NEV": "Kentaur Hotel"
                                },
                                {
                                    "Össz főre foglalás": "3",
                                    "SZALLAS_NEV": "Kentaur Hotel"
                                },
                                {
                                    "Össz főre foglalás": "1",
                                    "SZALLAS_NEV": "Fortuna Panzió"
                                },
                                {
                                    "Össz főre foglalás": "1",
                                    "SZALLAS_NEV": "Szieszta Apartmanház"
                                },
                                {
                                    "Össz főre foglalás": "2",
                                    "SZALLAS_NEV": "Lagúna Hotel"
                                },
                                {
                                    "Össz főre foglalás": "2",
                                    "SZALLAS_NEV": "Szieszta Apartmanház"
                                },
                                {
                                    "Össz főre foglalás": "3",
                                    "SZALLAS_NEV": "Fortuna panzió"
                                },
                                {
                                    "Össz főre foglalás": "2",
                                    "SZALLAS_NEV": "Lagúna Hotel"
                                },
                                {
                                    "Össz főre foglalás": "3",
                                    "SZALLAS_NEV": "Hotel Három Hattyú"
                                },
                                {
                                    "Össz főre foglalás": "2",
                                    "SZALLAS_NEV": "Kentaur Hotel"
                                },
                                {
                                    "Össz főre foglalás": "3",
                                    "SZALLAS_NEV": "Lagúna Hotel"
                                },
                                {
                                    "Össz főre foglalás": "3",
                                    "SZALLAS_NEV": "Gold Hotel"
                                },
                                {
                                    "Össz főre foglalás": "1",
                                    "SZALLAS_NEV": "Fortuna Panzió"
                                },
                                {
                                    "Össz főre foglalás": "2",
                                    "SZALLAS_NEV": "Gold Hotel"
                                },
                                {
                                    "Össz főre foglalás": "4",
                                    "SZALLAS_NEV": "Partiszél Vendégház"
                                },
                                {
                                    "Össz főre foglalás": "4",
                                    "SZALLAS_NEV": "Sába-Ház"
                                },
                                {
                                    "Össz főre foglalás": "3",
                                    "SZALLAS_NEV": "Fortuna Apartman"
                                },
                                {
                                    "Össz főre foglalás": "3",
                                    "SZALLAS_NEV": "Kentaur Hotel"
                                },
                                {
                                    "Össz főre foglalás": "2",
                                    "SZALLAS_NEV": "Hotel Három Hattyú"
                                },
                                {
                                    "Össz főre foglalás": "2",
                                    "SZALLAS_NEV": "Sába-Ház"
                                },
                                {
                                    "Össz főre foglalás": "1",
                                    "SZALLAS_NEV": "Gold Hotel"
                                },
                                {
                                    "Össz főre foglalás": "2",
                                    "SZALLAS_NEV": "Partiszél Vendégház"
                                },
                                {
                                    "Össz főre foglalás": "2",
                                    "SZALLAS_NEV": "Fortuna panzió"
                                },
                                {
                                    "Össz főre foglalás": "3",
                                    "SZALLAS_NEV": "Lagúna Hotel"
                                },
                                {
                                    "Össz főre foglalás": "3",
                                    "SZALLAS_NEV": "Fortuna panzió"
                                },
                                {
                                    "Össz főre foglalás": "1",
                                    "SZALLAS_NEV": "Szieszta Apartmanház"
                                },
                                {
                                    "Össz főre foglalás": "3",
                                    "SZALLAS_NEV": "Kentaur Hotel"
                                },
                                {
                                    "Össz főre foglalás": "2",
                                    "SZALLAS_NEV": "Kentaur Hotel"
                                },
                                {
                                    "Össz főre foglalás": "4",
                                    "SZALLAS_NEV": "Fortuna panzió"
                                },
                                {
                                    "Össz főre foglalás": "3",
                                    "SZALLAS_NEV": "Hotel Három Hattyú"
                                },
                                {
                                    "Össz főre foglalás": "2",
                                    "SZALLAS_NEV": "Kentaur Hotel"
                                },
                                {
                                    "Össz főre foglalás": "4",
                                    "SZALLAS_NEV": "Hotel Három Hattyú"
                                },
                                {
                                    "Össz főre foglalás": "2",
                                    "SZALLAS_NEV": "Kentaur Hotel"
                                },
                                {
                                    "Össz főre foglalás": "3",
                                    "SZALLAS_NEV": "Lagúna Hotel"
                                },
                                {
                                    "Össz főre foglalás": "3",
                                    "SZALLAS_NEV": "Fortuna Panzió"
                                },
                                {
                                    "Össz főre foglalás": "2",
                                    "SZALLAS_NEV": "Hotel Három Hattyú"
                                },
                                {
                                    "Össz főre foglalás": "3",
                                    "SZALLAS_NEV": "Jáde panzió"
                                },
                                {
                                    "Össz főre foglalás": "3",
                                    "SZALLAS_NEV": "Gold Hotel"
                                },
                                {
                                    "Össz főre foglalás": "2",
                                    "SZALLAS_NEV": "Kentaur Hotel"
                                },
                                {
                                    "Össz főre foglalás": "3",
                                    "SZALLAS_NEV": "Kentaur Hotel"
                                },
                                {
                                    "Össz főre foglalás": "2",
                                    "SZALLAS_NEV": "Gold Hotel"
                                },
                                {
                                    "Össz főre foglalás": "3",
                                    "SZALLAS_NEV": "Gold Hotel"
                                },
                                {
                                    "Össz főre foglalás": "2",
                                    "SZALLAS_NEV": "Kentaur Hotel"
                                },
                                {
                                    "Össz főre foglalás": "3",
                                    "SZALLAS_NEV": "Hotel Három Hattyú"
                                },
                                {
                                    "Össz főre foglalás": "3",
                                    "SZALLAS_NEV": "Lagúna Hotel"
                                },
                                {
                                    "Össz főre foglalás": "3",
                                    "SZALLAS_NEV": "Sába-Ház"
                                },
                                {
                                    "Össz főre foglalás": "2",
                                    "SZALLAS_NEV": "Lagúna Hotel"
                                },
                                {
                                    "Össz főre foglalás": "3",
                                    "SZALLAS_NEV": "Szieszta Apartmanház"
                                },
                                {
                                    "Össz főre foglalás": "1",
                                    "SZALLAS_NEV": "Hotel Három Hattyú"
                                },
                                {
                                    "Össz főre foglalás": "1",
                                    "SZALLAS_NEV": "Szieszta Apartmanház"
                                },
                                {
                                    "Össz főre foglalás": "2",
                                    "SZALLAS_NEV": "Kentaur Hotel"
                                },
                                {
                                    "Össz főre foglalás": "3",
                                    "SZALLAS_NEV": "Lagúna Hotel"
                                },
                                {
                                    "Össz főre foglalás": "3",
                                    "SZALLAS_NEV": "Fortuna Apartman"
                                },
                                {
                                    "Össz főre foglalás": "2",
                                    "SZALLAS_NEV": "Partiszél Vendégház"
                                },
                                {
                                    "Össz főre foglalás": "2",
                                    "SZALLAS_NEV": "Szieszta Apartmanház"
                                },
                                {
                                    "Össz főre foglalás": "1",
                                    "SZALLAS_NEV": "Hotel Három Hattyú"
                                },
                                {
                                    "Össz főre foglalás": "3",
                                    "SZALLAS_NEV": "Sába-Ház"
                                },
                                {
                                    "Össz főre foglalás": "3",
                                    "SZALLAS_NEV": "Jáde panzió"
                                },
                                {
                                    "Össz főre foglalás": "1",
                                    "SZALLAS_NEV": "Lagúna Hotel"
                                },
                                {
                                    "Össz főre foglalás": "2",
                                    "SZALLAS_NEV": "Kentaur Hotel"
                                },
                                {
                                    "Össz főre foglalás": "3",
                                    "SZALLAS_NEV": "Fortuna Apartman"
                                },
                                {
                                    "Össz főre foglalás": "2",
                                    "SZALLAS_NEV": "Lagúna Hotel"
                                },
                                {
                                    "Össz főre foglalás": "3",
                                    "SZALLAS_NEV": "Gold Hotel"
                                },
                                {
                                    "Össz főre foglalás": "3",
                                    "SZALLAS_NEV": "Lagúna Hotel"
                                },
                                {
                                    "Össz főre foglalás": "3",
                                    "SZALLAS_NEV": "Fortuna Panzió"
                                },
                                {
                                    "Össz főre foglalás": "3",
                                    "SZALLAS_NEV": "Kentaur Hotel"
                                },
                                {
                                    "Össz főre foglalás": "2",
                                    "SZALLAS_NEV": "Lagúna Hotel"
                                },
                                {
                                    "Össz főre foglalás": "3",
                                    "SZALLAS_NEV": "Hotel Három Hattyú"
                                },
                                {
                                    "Össz főre foglalás": "2",
                                    "SZALLAS_NEV": "Kentaur Hotel"
                                },
                                {
                                    "Össz főre foglalás": "3",
                                    "SZALLAS_NEV": "Sába-Ház"
                                },
                                {
                                    "Össz főre foglalás": "3",
                                    "SZALLAS_NEV": "Hotel Három Hattyú"
                                },
                                {
                                    "Össz főre foglalás": "3",
                                    "SZALLAS_NEV": "Gold Hotel"
                                },
                                {
                                    "Össz főre foglalás": "3",
                                    "SZALLAS_NEV": "Kentaur Hotel"
                                },
                                {
                                    "Össz főre foglalás": "2",
                                    "SZALLAS_NEV": "Sába-Ház"
                                },
                                {
                                    "Össz főre foglalás": "3",
                                    "SZALLAS_NEV": "Hotel Három Hattyú"
                                },
                                {
                                    "Össz főre foglalás": "3",
                                    "SZALLAS_NEV": "Családi Ház"
                                },
                                {
                                    "Össz főre foglalás": "4",
                                    "SZALLAS_NEV": "Fortuna Apartman"
                                },
                                {
                                    "Össz főre foglalás": "2",
                                    "SZALLAS_NEV": "Sába-Ház"
                                },
                                {
                                    "Össz főre foglalás": "2",
                                    "SZALLAS_NEV": "Sába-Ház"
                                },
                                {
                                    "Össz főre foglalás": "2",
                                    "SZALLAS_NEV": "Gold Hotel"
                                },
                                {
                                    "Össz főre foglalás": "1",
                                    "SZALLAS_NEV": "Hotel Három Hattyú"
                                },
                                {
                                    "Össz főre foglalás": "2",
                                    "SZALLAS_NEV": "Fortuna Panzió"
                                },
                                {
                                    "Össz főre foglalás": "1",
                                    "SZALLAS_NEV": "Fortuna panzió"
                                },
                                {
                                    "Össz főre foglalás": "2",
                                    "SZALLAS_NEV": "Sába-Ház"
                                },
                                {
                                    "Össz főre foglalás": "2",
                                    "SZALLAS_NEV": "Gold Hotel"
                                },
                                {
                                    "Össz főre foglalás": "3",
                                    "SZALLAS_NEV": "Fortuna Apartman"
                                },
                                {
                                    "Össz főre foglalás": "3",
                                    "SZALLAS_NEV": "Sába-Ház"
                                },
                                {
                                    "Össz főre foglalás": "2",
                                    "SZALLAS_NEV": "Gold Hotel"
                                },
                                {
                                    "Össz főre foglalás": "2",
                                    "SZALLAS_NEV": "Gold Hotel"
                                },
                                {
                                    "Össz főre foglalás": "3",
                                    "SZALLAS_NEV": "Gold Hotel"
                                },
                                {
                                    "Össz főre foglalás": "3",
                                    "SZALLAS_NEV": "Fortuna Panzió"
                                },
                                {
                                    "Össz főre foglalás": "2",
                                    "SZALLAS_NEV": "Lagúna Hotel"
                                },
                                {
                                    "Össz főre foglalás": "2",
                                    "SZALLAS_NEV": "Lagúna Hotel"
                                },
                                {
                                    "Össz főre foglalás": "2",
                                    "SZALLAS_NEV": "Gold Hotel"
                                },
                                {
                                    "Össz főre foglalás": "3",
                                    "SZALLAS_NEV": "Kentaur Hotel"
                                },
                                {
                                    "Össz főre foglalás": "3",
                                    "SZALLAS_NEV": "Jáde panzió"
                                },
                                {
                                    "Össz főre foglalás": "3",
                                    "SZALLAS_NEV": "Fortuna panzió"
                                },
                                {
                                    "Össz főre foglalás": "3",
                                    "SZALLAS_NEV": "Sába-Ház"
                                },
                                {
                                    "Össz főre foglalás": "3",
                                    "SZALLAS_NEV": "Sába-Ház"
                                },
                                {
                                    "Össz főre foglalás": "3",
                                    "SZALLAS_NEV": "Gold Hotel"
                                },
                                {
                                    "Össz főre foglalás": "1",
                                    "SZALLAS_NEV": "Hotel Három Hattyú"
                                },
                                {
                                    "Össz főre foglalás": "3",
                                    "SZALLAS_NEV": "Lagúna Hotel"
                                },
                                {
                                    "Össz főre foglalás": "1",
                                    "SZALLAS_NEV": "Lagúna Hotel"
                                },
                                {
                                    "Össz főre foglalás": "3",
                                    "SZALLAS_NEV": "Sába-Ház"
                                },
                                {
                                    "Össz főre foglalás": "3",
                                    "SZALLAS_NEV": "Fortuna panzió"
                                },
                                {
                                    "Össz főre foglalás": "1",
                                    "SZALLAS_NEV": "Kentaur Hotel"
                                },
                                {
                                    "Össz főre foglalás": "2",
                                    "SZALLAS_NEV": "Lagúna Hotel"
                                },
                                {
                                    "Össz főre foglalás": "3",
                                    "SZALLAS_NEV": "Gold Hotel"
                                },
                                {
                                    "Össz főre foglalás": "2",
                                    "SZALLAS_NEV": "Hotel Három Hattyú"
                                },
                                {
                                    "Össz főre foglalás": "2",
                                    "SZALLAS_NEV": "Kentaur Hotel"
                                },
                                {
                                    "Össz főre foglalás": "2",
                                    "SZALLAS_NEV": "Sába-Ház"
                                },
                                {
                                    "Össz főre foglalás": "2",
                                    "SZALLAS_NEV": "Kentaur Hotel"
                                },
                                {
                                    "Össz főre foglalás": "2",
                                    "SZALLAS_NEV": "Hotel Három Hattyú"
                                },
                                {
                                    "Össz főre foglalás": "4",
                                    "SZALLAS_NEV": "Fortuna Apartman"
                                },
                                {
                                    "Össz főre foglalás": "2",
                                    "SZALLAS_NEV": "Lagúna Hotel"
                                },
                                {
                                    "Össz főre foglalás": "1",
                                    "SZALLAS_NEV": "Hotel Három Hattyú"
                                },
                                {
                                    "Össz főre foglalás": "2",
                                    "SZALLAS_NEV": "Kentaur Hotel"
                                },
                                {
                                    "Össz főre foglalás": "1",
                                    "SZALLAS_NEV": "Gold Hotel"
                                },
                                {
                                    "Össz főre foglalás": "1",
                                    "SZALLAS_NEV": "Gold Hotel"
                                },
                                {
                                    "Össz főre foglalás": "4",
                                    "SZALLAS_NEV": "Fortuna Apartman"
                                },
                                {
                                    "Össz főre foglalás": "3",
                                    "SZALLAS_NEV": "Szieszta Apartmanház"
                                },
                                {
                                    "Össz főre foglalás": "2",
                                    "SZALLAS_NEV": "Sába-Ház"
                                },
                                {
                                    "Össz főre foglalás": "5",
                                    "SZALLAS_NEV": "Gold Hotel"
                                },
                                {
                                    "Össz főre foglalás": "1",
                                    "SZALLAS_NEV": "Lagúna Hotel"
                                },
                                {
                                    "Össz főre foglalás": "3",
                                    "SZALLAS_NEV": "Jáde panzió"
                                },
                                {
                                    "Össz főre foglalás": "3",
                                    "SZALLAS_NEV": "Kentaur Hotel"
                                },
                                {
                                    "Össz főre foglalás": "3",
                                    "SZALLAS_NEV": "Hotel Három Hattyú"
                                },
                                {
                                    "Össz főre foglalás": "3",
                                    "SZALLAS_NEV": "Gold Hotel"
                                },
                                {
                                    "Össz főre foglalás": "2",
                                    "SZALLAS_NEV": "Sába-Ház"
                                },
                                {
                                    "Össz főre foglalás": "3",
                                    "SZALLAS_NEV": "Gold Hotel"
                                },
                                {
                                    "Össz főre foglalás": "2",
                                    "SZALLAS_NEV": "Gold Hotel"
                                },
                                {
                                    "Össz főre foglalás": "2",
                                    "SZALLAS_NEV": "Fortuna panzió"
                                },
                                {
                                    "Össz főre foglalás": "1",
                                    "SZALLAS_NEV": "Kentaur Hotel"
                                },
                                {
                                    "Össz főre foglalás": "1",
                                    "SZALLAS_NEV": "Fortuna Panzió"
                                },
                                {
                                    "Össz főre foglalás": "2",
                                    "SZALLAS_NEV": "Gold Hotel"
                                },
                                {
                                    "Össz főre foglalás": "3",
                                    "SZALLAS_NEV": "Szieszta Apartmanház"
                                },
                                {
                                    "Össz főre foglalás": "1",
                                    "SZALLAS_NEV": "Partiszél Vendégház"
                                },
                                {
                                    "Össz főre foglalás": "3",
                                    "SZALLAS_NEV": "Kentaur Hotel"
                                },
                                {
                                    "Össz főre foglalás": "2",
                                    "SZALLAS_NEV": "Hotel Három Hattyú"
                                },
                                {
                                    "Össz főre foglalás": "3",
                                    "SZALLAS_NEV": "Lagúna Hotel"
                                },
                                {
                                    "Össz főre foglalás": "2",
                                    "SZALLAS_NEV": "Gold Hotel"
                                },
                                {
                                    "Össz főre foglalás": "5",
                                    "SZALLAS_NEV": "Fortuna Apartman"
                                },
                                {
                                    "Össz főre foglalás": "3",
                                    "SZALLAS_NEV": "Szieszta Apartmanház"
                                },
                                {
                                    "Össz főre foglalás": "2",
                                    "SZALLAS_NEV": "Lagúna Hotel"
                                },
                                {
                                    "Össz főre foglalás": "2",
                                    "SZALLAS_NEV": "Fortuna Apartman"
                                },
                                {
                                    "Össz főre foglalás": "4",
                                    "SZALLAS_NEV": "Lagúna Hotel"
                                },
                                {
                                    "Össz főre foglalás": "3",
                                    "SZALLAS_NEV": "Fortuna Panzió"
                                },
                                {
                                    "Össz főre foglalás": "3",
                                    "SZALLAS_NEV": "Lagúna Hotel"
                                },
                                {
                                    "Össz főre foglalás": "1",
                                    "SZALLAS_NEV": "Kentaur Hotel"
                                },
                                {
                                    "Össz főre foglalás": "3",
                                    "SZALLAS_NEV": "Lagúna Hotel"
                                },
                                {
                                    "Össz főre foglalás": "4",
                                    "SZALLAS_NEV": "Gold Hotel"
                                },
                                {
                                    "Össz főre foglalás": "3",
                                    "SZALLAS_NEV": "Partiszél Vendégház"
                                },
                                {
                                    "Össz főre foglalás": "4",
                                    "SZALLAS_NEV": "Fortuna Apartman"
                                },
                                {
                                    "Össz főre foglalás": "2",
                                    "SZALLAS_NEV": "Fortuna Panzió"
                                },
                                {
                                    "Össz főre foglalás": "3",
                                    "SZALLAS_NEV": "Kentaur Hotel"
                                },
                                {
                                    "Össz főre foglalás": "4",
                                    "SZALLAS_NEV": "Hotel Három Hattyú"
                                },
                                {
                                    "Össz főre foglalás": "3",
                                    "SZALLAS_NEV": "Hotel Három Hattyú"
                                },
                                {
                                    "Össz főre foglalás": "3",
                                    "SZALLAS_NEV": "Gold Hotel"
                                },
                                {
                                    "Össz főre foglalás": "2",
                                    "SZALLAS_NEV": "Fortuna Apartman"
                                },
                                {
                                    "Össz főre foglalás": "1",
                                    "SZALLAS_NEV": "Hotel Három Hattyú"
                                },
                                {
                                    "Össz főre foglalás": "2",
                                    "SZALLAS_NEV": "Fortuna panzió"
                                },
                                {
                                    "Össz főre foglalás": "3",
                                    "SZALLAS_NEV": "Hotel Három Hattyú"
                                },
                                {
                                    "Össz főre foglalás": "3",
                                    "SZALLAS_NEV": "Gold Hotel"
                                },
                                {
                                    "Össz főre foglalás": "4",
                                    "SZALLAS_NEV": "Hotel Három Hattyú"
                                },
                                {
                                    "Össz főre foglalás": "3",
                                    "SZALLAS_NEV": "Kentaur Hotel"
                                },
                                {
                                    "Össz főre foglalás": "2",
                                    "SZALLAS_NEV": "Jáde panzió"
                                },
                                {
                                    "Össz főre foglalás": "4",
                                    "SZALLAS_NEV": "Sába-Ház"
                                },
                                {
                                    "Össz főre foglalás": "3",
                                    "SZALLAS_NEV": "Fortuna Panzió"
                                },
                                {
                                    "Össz főre foglalás": "3",
                                    "SZALLAS_NEV": "Lagúna Hotel"
                                },
                                {
                                    "Össz főre foglalás": "3",
                                    "SZALLAS_NEV": "Hotel Három Hattyú"
                                },
                                {
                                    "Össz főre foglalás": "1",
                                    "SZALLAS_NEV": "Kentaur Hotel"
                                },
                                {
                                    "Össz főre foglalás": "1",
                                    "SZALLAS_NEV": "Kentaur Hotel"
                                },
                                {
                                    "Össz főre foglalás": "3",
                                    "SZALLAS_NEV": "Hotel Három Hattyú"
                                },
                                {
                                    "Össz főre foglalás": "2",
                                    "SZALLAS_NEV": "Fortuna Panzió"
                                },
                                {
                                    "Össz főre foglalás": "2",
                                    "SZALLAS_NEV": "Hotel Három Hattyú"
                                },
                                {
                                    "Össz főre foglalás": "3",
                                    "SZALLAS_NEV": "Kentaur Hotel"
                                },
                                {
                                    "Össz főre foglalás": "1",
                                    "SZALLAS_NEV": "Gold Hotel"
                                },
                                {
                                    "Össz főre foglalás": "2",
                                    "SZALLAS_NEV": "Gold Hotel"
                                },
                                {
                                    "Össz főre foglalás": "3",
                                    "SZALLAS_NEV": "Kentaur Hotel"
                                },
                                {
                                    "Össz főre foglalás": "2",
                                    "SZALLAS_NEV": "Kentaur Hotel"
                                },
                                {
                                    "Össz főre foglalás": "3",
                                    "SZALLAS_NEV": "Kentaur Hotel"
                                },
                                {
                                    "Össz főre foglalás": "2",
                                    "SZALLAS_NEV": "Fortuna panzió"
                                },
                                {
                                    "Össz főre foglalás": "2",
                                    "SZALLAS_NEV": "Sába-Ház"
                                },
                                {
                                    "Össz főre foglalás": "2",
                                    "SZALLAS_NEV": "Fortuna Apartman"
                                },
                                {
                                    "Össz főre foglalás": "4",
                                    "SZALLAS_NEV": "Gold Hotel"
                                },
                                {
                                    "Össz főre foglalás": "3",
                                    "SZALLAS_NEV": "Kentaur Hotel"
                                },
                                {
                                    "Össz főre foglalás": "2",
                                    "SZALLAS_NEV": "Lagúna Hotel"
                                },
                                {
                                    "Össz főre foglalás": "2",
                                    "SZALLAS_NEV": "Hotel Három Hattyú"
                                },
                                {
                                    "Össz főre foglalás": "3",
                                    "SZALLAS_NEV": "Gold Hotel"
                                },
                                {
                                    "Össz főre foglalás": "3",
                                    "SZALLAS_NEV": "Fortuna Panzió"
                                },
                                {
                                    "Össz főre foglalás": "2",
                                    "SZALLAS_NEV": "Családi Ház"
                                },
                                {
                                    "Össz főre foglalás": "4",
                                    "SZALLAS_NEV": "Hotel Három Hattyú"
                                },
                                {
                                    "Össz főre foglalás": "4",
                                    "SZALLAS_NEV": "Kentaur Hotel"
                                },
                                {
                                    "Össz főre foglalás": "3",
                                    "SZALLAS_NEV": "Hotel Három Hattyú"
                                },
                                {
                                    "Össz főre foglalás": "2",
                                    "SZALLAS_NEV": "Gold Hotel"
                                },
                                {
                                    "Össz főre foglalás": "2",
                                    "SZALLAS_NEV": "Gold Hotel"
                                },
                                {
                                    "Össz főre foglalás": "1",
                                    "SZALLAS_NEV": "Hotel Három Hattyú"
                                },
                                {
                                    "Össz főre foglalás": "1",
                                    "SZALLAS_NEV": "Gold Hotel"
                                },
                                {
                                    "Össz főre foglalás": "1",
                                    "SZALLAS_NEV": "Sába-Ház"
                                },
                                {
                                    "Össz főre foglalás": "3",
                                    "SZALLAS_NEV": "Szieszta Apartmanház"
                                },
                                {
                                    "Össz főre foglalás": "2",
                                    "SZALLAS_NEV": "Lagúna Hotel"
                                },
                                {
                                    "Össz főre foglalás": "2",
                                    "SZALLAS_NEV": "Kentaur Hotel"
                                },
                                {
                                    "Össz főre foglalás": "2",
                                    "SZALLAS_NEV": "Lagúna Hotel"
                                },
                                {
                                    "Össz főre foglalás": "2",
                                    "SZALLAS_NEV": "Sába-Ház"
                                },
                                {
                                    "Össz főre foglalás": "1",
                                    "SZALLAS_NEV": "Kentaur Hotel"
                                },
                                {
                                    "Össz főre foglalás": "3",
                                    "SZALLAS_NEV": "Lagúna Hotel"
                                },
                                {
                                    "Össz főre foglalás": "4",
                                    "SZALLAS_NEV": "Sába-Ház"
                                },
                                {
                                    "Össz főre foglalás": "2",
                                    "SZALLAS_NEV": "Kentaur Hotel"
                                },
                                {
                                    "Össz főre foglalás": "3",
                                    "SZALLAS_NEV": "Lagúna Hotel"
                                },
                                {
                                    "Össz főre foglalás": "4",
                                    "SZALLAS_NEV": "Hotel Három Hattyú"
                                },
                                {
                                    "Össz főre foglalás": "3",
                                    "SZALLAS_NEV": "Kentaur Hotel"
                                },
                                {
                                    "Össz főre foglalás": "2",
                                    "SZALLAS_NEV": "Partiszél Vendégház"
                                },
                                {
                                    "Össz főre foglalás": "2",
                                    "SZALLAS_NEV": "Gold Hotel"
                                },
                                {
                                    "Össz főre foglalás": "2",
                                    "SZALLAS_NEV": "Gold Hotel"
                                },
                                {
                                    "Össz főre foglalás": "2",
                                    "SZALLAS_NEV": "Kentaur Hotel"
                                },
                                {
                                    "Össz főre foglalás": "2",
                                    "SZALLAS_NEV": "Szieszta Apartmanház"
                                },
                                {
                                    "Össz főre foglalás": "2",
                                    "SZALLAS_NEV": "Fortuna Panzió"
                                },
                                {
                                    "Össz főre foglalás": "2",
                                    "SZALLAS_NEV": "Hotel Három Hattyú"
                                },
                                {
                                    "Össz főre foglalás": "2",
                                    "SZALLAS_NEV": "Kentaur Hotel"
                                },
                                {
                                    "Össz főre foglalás": "3",
                                    "SZALLAS_NEV": "Szieszta Apartmanház"
                                },
                                {
                                    "Össz főre foglalás": "3",
                                    "SZALLAS_NEV": "Sába-Ház"
                                },
                                {
                                    "Össz főre foglalás": "3",
                                    "SZALLAS_NEV": "Fortuna panzió"
                                },
                                {
                                    "Össz főre foglalás": "2",
                                    "SZALLAS_NEV": "Gold Hotel"
                                },
                                {
                                    "Össz főre foglalás": "3",
                                    "SZALLAS_NEV": "Kentaur Hotel"
                                },
                                {
                                    "Össz főre foglalás": "3",
                                    "SZALLAS_NEV": "Gold Hotel"
                                },
                                {
                                    "Össz főre foglalás": "2",
                                    "SZALLAS_NEV": "Kentaur Hotel"
                                },
                                {
                                    "Össz főre foglalás": "2",
                                    "SZALLAS_NEV": "Lagúna Hotel"
                                },
                                {
                                    "Össz főre foglalás": "2",
                                    "SZALLAS_NEV": "Kentaur Hotel"
                                },
                                {
                                    "Össz főre foglalás": "3",
                                    "SZALLAS_NEV": "Hotel Három Hattyú"
                                },
                                {
                                    "Össz főre foglalás": "3",
                                    "SZALLAS_NEV": "Lagúna Hotel"
                                },
                                {
                                    "Össz főre foglalás": "2",
                                    "SZALLAS_NEV": "Partiszél Vendégház"
                                },
                                {
                                    "Össz főre foglalás": "3",
                                    "SZALLAS_NEV": "Kentaur Hotel"
                                },
                                {
                                    "Össz főre foglalás": "3",
                                    "SZALLAS_NEV": "Hotel Három Hattyú"
                                },
                                {
                                    "Össz főre foglalás": "2",
                                    "SZALLAS_NEV": "Fortuna Apartman"
                                },
                                {
                                    "Össz főre foglalás": "2",
                                    "SZALLAS_NEV": "Kentaur Hotel"
                                },
                                {
                                    "Össz főre foglalás": "3",
                                    "SZALLAS_NEV": "Lagúna Hotel"
                                },
                                {
                                    "Össz főre foglalás": "3",
                                    "SZALLAS_NEV": "Hotel Három Hattyú"
                                },
                                {
                                    "Össz főre foglalás": "2",
                                    "SZALLAS_NEV": "Fortuna Panzió"
                                },
                                {
                                    "Össz főre foglalás": "2",
                                    "SZALLAS_NEV": "Partiszél Vendégház"
                                },
                                {
                                    "Össz főre foglalás": "2",
                                    "SZALLAS_NEV": "Kentaur Hotel"
                                },
                                {
                                    "Össz főre foglalás": "2",
                                    "SZALLAS_NEV": "Lagúna Hotel"
                                },
                                {
                                    "Össz főre foglalás": "3",
                                    "SZALLAS_NEV": "Fortuna Panzió"
                                },
                                {
                                    "Össz főre foglalás": "2",
                                    "SZALLAS_NEV": "Hotel Három Hattyú"
                                },
                                {
                                    "Össz főre foglalás": "4",
                                    "SZALLAS_NEV": "Lagúna Hotel"
                                },
                                {
                                    "Össz főre foglalás": "3",
                                    "SZALLAS_NEV": "Hotel Három Hattyú"
                                },
                                {
                                    "Össz főre foglalás": "2",
                                    "SZALLAS_NEV": "Szieszta Apartmanház"
                                },
                                {
                                    "Össz főre foglalás": "3",
                                    "SZALLAS_NEV": "Szieszta Apartmanház"
                                },
                                {
                                    "Össz főre foglalás": "3",
                                    "SZALLAS_NEV": "Jáde panzió"
                                },
                                {
                                    "Össz főre foglalás": "2",
                                    "SZALLAS_NEV": "Gold Hotel"
                                },
                                {
                                    "Össz főre foglalás": "2",
                                    "SZALLAS_NEV": "Fortuna Panzió"
                                },
                                {
                                    "Össz főre foglalás": "3",
                                    "SZALLAS_NEV": "Gold Hotel"
                                },
                                {
                                    "Össz főre foglalás": "2",
                                    "SZALLAS_NEV": "Hotel Három Hattyú"
                                },
                                {
                                    "Össz főre foglalás": "1",
                                    "SZALLAS_NEV": "Jáde panzió"
                                },
                                {
                                    "Össz főre foglalás": "3",
                                    "SZALLAS_NEV": "Kentaur Hotel"
                                },
                                {
                                    "Össz főre foglalás": "1",
                                    "SZALLAS_NEV": "Gold Hotel"
                                },
                                {
                                    "Össz főre foglalás": "2",
                                    "SZALLAS_NEV": "Fortuna Panzió"
                                },
                                {
                                    "Össz főre foglalás": "4",
                                    "SZALLAS_NEV": "Lagúna Hotel"
                                },
                                {
                                    "Össz főre foglalás": "4",
                                    "SZALLAS_NEV": "Sába-Ház"
                                },
                                {
                                    "Össz főre foglalás": "1",
                                    "SZALLAS_NEV": "Hotel Három Hattyú"
                                },
                                {
                                    "Össz főre foglalás": "4",
                                    "SZALLAS_NEV": "Lagúna Hotel"
                                },
                                {
                                    "Össz főre foglalás": "2",
                                    "SZALLAS_NEV": "Gold Hotel"
                                },
                                {
                                    "Össz főre foglalás": "3",
                                    "SZALLAS_NEV": "Hotel Három Hattyú"
                                },
                                {
                                    "Össz főre foglalás": "3",
                                    "SZALLAS_NEV": "Fortuna Apartman"
                                },
                                {
                                    "Össz főre foglalás": "2",
                                    "SZALLAS_NEV": "Gold Hotel"
                                },
                                {
                                    "Össz főre foglalás": "2",
                                    "SZALLAS_NEV": "Kentaur Hotel"
                                },
                                {
                                    "Össz főre foglalás": "2",
                                    "SZALLAS_NEV": "Sába-Ház"
                                },
                                {
                                    "Össz főre foglalás": "3",
                                    "SZALLAS_NEV": "Szieszta Apartmanház"
                                },
                                {
                                    "Össz főre foglalás": "3",
                                    "SZALLAS_NEV": "Fortuna panzió"
                                },
                                {
                                    "Össz főre foglalás": "3",
                                    "SZALLAS_NEV": "Kentaur Hotel"
                                },
                                {
                                    "Össz főre foglalás": "3",
                                    "SZALLAS_NEV": "Gold Hotel"
                                },
                                {
                                    "Össz főre foglalás": "4",
                                    "SZALLAS_NEV": "Kentaur Hotel"
                                },
                                {
                                    "Össz főre foglalás": "3",
                                    "SZALLAS_NEV": "Kentaur Hotel"
                                },
                                {
                                    "Össz főre foglalás": "2",
                                    "SZALLAS_NEV": "Gold Hotel"
                                },
                                {
                                    "Össz főre foglalás": "3",
                                    "SZALLAS_NEV": "Kentaur Hotel"
                                },
                                {
                                    "Össz főre foglalás": "2",
                                    "SZALLAS_NEV": "Kentaur Hotel"
                                },
                                {
                                    "Össz főre foglalás": "1",
                                    "SZALLAS_NEV": "Gold Hotel"
                                },
                                {
                                    "Össz főre foglalás": "3",
                                    "SZALLAS_NEV": "Hotel Három Hattyú"
                                },
                                {
                                    "Össz főre foglalás": "2",
                                    "SZALLAS_NEV": "Kentaur Hotel"
                                },
                                {
                                    "Össz főre foglalás": "2",
                                    "SZALLAS_NEV": "Hotel Három Hattyú"
                                },
                                {
                                    "Össz főre foglalás": "3",
                                    "SZALLAS_NEV": "Kentaur Hotel"
                                },
                                {
                                    "Össz főre foglalás": "3",
                                    "SZALLAS_NEV": "Sába-Ház"
                                },
                                {
                                    "Össz főre foglalás": "2",
                                    "SZALLAS_NEV": "Fortuna panzió"
                                },
                                {
                                    "Össz főre foglalás": "1",
                                    "SZALLAS_NEV": "Gold Hotel"
                                },
                                {
                                    "Össz főre foglalás": "3",
                                    "SZALLAS_NEV": "Hotel Három Hattyú"
                                },
                                {
                                    "Össz főre foglalás": "1",
                                    "SZALLAS_NEV": "Lagúna Hotel"
                                },
                                {
                                    "Össz főre foglalás": "1",
                                    "SZALLAS_NEV": "Hotel Három Hattyú"
                                },
                                {
                                    "Össz főre foglalás": "3",
                                    "SZALLAS_NEV": "Gold Hotel"
                                },
                                {
                                    "Össz főre foglalás": "3",
                                    "SZALLAS_NEV": "Kentaur Hotel"
                                },
                                {
                                    "Össz főre foglalás": "1",
                                    "SZALLAS_NEV": "Gold Hotel"
                                },
                                {
                                    "Össz főre foglalás": "2",
                                    "SZALLAS_NEV": "Hotel Három Hattyú"
                                },
                                {
                                    "Össz főre foglalás": "2",
                                    "SZALLAS_NEV": "Fortuna panzió"
                                },
                                {
                                    "Össz főre foglalás": "2",
                                    "SZALLAS_NEV": "Kentaur Hotel"
                                },
                                {
                                    "Össz főre foglalás": "3",
                                    "SZALLAS_NEV": "Gold Hotel"
                                },
                                {
                                    "Össz főre foglalás": "3",
                                    "SZALLAS_NEV": "Családi Ház"
                                },
                                {
                                    "Össz főre foglalás": "2",
                                    "SZALLAS_NEV": "Kentaur Hotel"
                                },
                                {
                                    "Össz főre foglalás": "2",
                                    "SZALLAS_NEV": "Szieszta Apartmanház"
                                },
                                {
                                    "Össz főre foglalás": "1",
                                    "SZALLAS_NEV": "Gold Hotel"
                                },
                                {
                                    "Össz főre foglalás": "1",
                                    "SZALLAS_NEV": "Fortuna panzió"
                                },
                                {
                                    "Össz főre foglalás": "3",
                                    "SZALLAS_NEV": "Hotel Három Hattyú"
                                },
                                {
                                    "Össz főre foglalás": "3",
                                    "SZALLAS_NEV": "Hotel Három Hattyú"
                                },
                                {
                                    "Össz főre foglalás": "3",
                                    "SZALLAS_NEV": "Hotel Három Hattyú"
                                },
                                {
                                    "Össz főre foglalás": "5",
                                    "SZALLAS_NEV": "Hotel Három Hattyú"
                                },
                                {
                                    "Össz főre foglalás": "3",
                                    "SZALLAS_NEV": "Gold Hotel"
                                },
                                {
                                    "Össz főre foglalás": "3",
                                    "SZALLAS_NEV": "Lagúna Hotel"
                                },
                                {
                                    "Össz főre foglalás": "2",
                                    "SZALLAS_NEV": "Lagúna Hotel"
                                },
                                {
                                    "Össz főre foglalás": "3",
                                    "SZALLAS_NEV": "Szieszta Apartmanház"
                                },
                                {
                                    "Össz főre foglalás": "2",
                                    "SZALLAS_NEV": "Hotel Három Hattyú"
                                },
                                {
                                    "Össz főre foglalás": "3",
                                    "SZALLAS_NEV": "Lagúna Hotel"
                                },
                                {
                                    "Össz főre foglalás": "4",
                                    "SZALLAS_NEV": "Fortuna panzió"
                                },
                                {
                                    "Össz főre foglalás": "3",
                                    "SZALLAS_NEV": "Jáde panzió"
                                },
                                {
                                    "Össz főre foglalás": "2",
                                    "SZALLAS_NEV": "Hotel Három Hattyú"
                                },
                                {
                                    "Össz főre foglalás": "2",
                                    "SZALLAS_NEV": "Kentaur Hotel"
                                },
                                {
                                    "Össz főre foglalás": "1",
                                    "SZALLAS_NEV": "Kentaur Hotel"
                                },
                                {
                                    "Össz főre foglalás": "1",
                                    "SZALLAS_NEV": "Kentaur Hotel"
                                },
                                {
                                    "Össz főre foglalás": "2",
                                    "SZALLAS_NEV": "Hotel Három Hattyú"
                                },
                                {
                                    "Össz főre foglalás": "3",
                                    "SZALLAS_NEV": "Lagúna Hotel"
                                },
                                {
                                    "Össz főre foglalás": "4",
                                    "SZALLAS_NEV": "Lagúna Hotel"
                                },
                                {
                                    "Össz főre foglalás": "2",
                                    "SZALLAS_NEV": "Lagúna Hotel"
                                },
                                {
                                    "Össz főre foglalás": "1",
                                    "SZALLAS_NEV": "Hotel Három Hattyú"
                                },
                                {
                                    "Össz főre foglalás": "2",
                                    "SZALLAS_NEV": "Hotel Három Hattyú"
                                },
                                {
                                    "Össz főre foglalás": "1",
                                    "SZALLAS_NEV": "Hotel Három Hattyú"
                                },
                                {
                                    "Össz főre foglalás": "2",
                                    "SZALLAS_NEV": "Gold Hotel"
                                },
                                {
                                    "Össz főre foglalás": "3",
                                    "SZALLAS_NEV": "Kentaur Hotel"
                                },
                                {
                                    "Össz főre foglalás": "3",
                                    "SZALLAS_NEV": "Fortuna panzió"
                                },
                                {
                                    "Össz főre foglalás": "2",
                                    "SZALLAS_NEV": "Hotel Három Hattyú"
                                },
                                {
                                    "Össz főre foglalás": "1",
                                    "SZALLAS_NEV": "Kentaur Hotel"
                                },
                                {
                                    "Össz főre foglalás": "2",
                                    "SZALLAS_NEV": "Fortuna panzió"
                                },
                                {
                                    "Össz főre foglalás": "2",
                                    "SZALLAS_NEV": "Fortuna panzió"
                                },
                                {
                                    "Össz főre foglalás": "2",
                                    "SZALLAS_NEV": "Kentaur Hotel"
                                },
                                {
                                    "Össz főre foglalás": "2",
                                    "SZALLAS_NEV": "Gold Hotel"
                                },
                                {
                                    "Össz főre foglalás": "1",
                                    "SZALLAS_NEV": "Kentaur Hotel"
                                },
                                {
                                    "Össz főre foglalás": "2",
                                    "SZALLAS_NEV": "Hotel Három Hattyú"
                                },
                                {
                                    "Össz főre foglalás": "3",
                                    "SZALLAS_NEV": "Kentaur Hotel"
                                },
                                {
                                    "Össz főre foglalás": "3",
                                    "SZALLAS_NEV": "Gold Hotel"
                                },
                                {
                                    "Össz főre foglalás": "2",
                                    "SZALLAS_NEV": "Fortuna panzió"
                                },
                                {
                                    "Össz főre foglalás": "2",
                                    "SZALLAS_NEV": "Kentaur Hotel"
                                },
                                {
                                    "Össz főre foglalás": "2",
                                    "SZALLAS_NEV": "Gold Hotel"
                                },
                                {
                                    "Össz főre foglalás": "5",
                                    "SZALLAS_NEV": "Hotel Három Hattyú"
                                },
                                {
                                    "Össz főre foglalás": "2",
                                    "SZALLAS_NEV": "Hotel Három Hattyú"
                                },
                                {
                                    "Össz főre foglalás": "3",
                                    "SZALLAS_NEV": "Hotel Három Hattyú"
                                },
                                {
                                    "Össz főre foglalás": "4",
                                    "SZALLAS_NEV": "Lagúna Hotel"
                                },
                                {
                                    "Össz főre foglalás": "3",
                                    "SZALLAS_NEV": "Hotel Három Hattyú"
                                },
                                {
                                    "Össz főre foglalás": "1",
                                    "SZALLAS_NEV": "Kentaur Hotel"
                                },
                                {
                                    "Össz főre foglalás": "2",
                                    "SZALLAS_NEV": "Hotel Három Hattyú"
                                },
                                {
                                    "Össz főre foglalás": "2",
                                    "SZALLAS_NEV": "Hotel Három Hattyú"
                                },
                                {
                                    "Össz főre foglalás": "3",
                                    "SZALLAS_NEV": "Szieszta Apartmanház"
                                },
                                {
                                    "Össz főre foglalás": "2",
                                    "SZALLAS_NEV": "Partiszél Vendégház"
                                },
                                {
                                    "Össz főre foglalás": "2",
                                    "SZALLAS_NEV": "Lagúna Hotel"
                                },
                                {
                                    "Össz főre foglalás": "2",
                                    "SZALLAS_NEV": "Hotel Három Hattyú"
                                },
                                {
                                    "Össz főre foglalás": "1",
                                    "SZALLAS_NEV": "Hotel Három Hattyú"
                                },
                                {
                                    "Össz főre foglalás": "3",
                                    "SZALLAS_NEV": "Gold Hotel"
                                },
                                {
                                    "Össz főre foglalás": "3",
                                    "SZALLAS_NEV": "Szieszta Apartmanház"
                                },
                                {
                                    "Össz főre foglalás": "3",
                                    "SZALLAS_NEV": "Kentaur Hotel"
                                },
                                {
                                    "Össz főre foglalás": "2",
                                    "SZALLAS_NEV": "Gold Hotel"
                                },
                                {
                                    "Össz főre foglalás": "2",
                                    "SZALLAS_NEV": "Hotel Három Hattyú"
                                },
                                {
                                    "Össz főre foglalás": "3",
                                    "SZALLAS_NEV": "Jáde panzió"
                                },
                                {
                                    "Össz főre foglalás": "2",
                                    "SZALLAS_NEV": "Gold Hotel"
                                },
                                {
                                    "Össz főre foglalás": "3",
                                    "SZALLAS_NEV": "Fortuna panzió"
                                },
                                {
                                    "Össz főre foglalás": "2",
                                    "SZALLAS_NEV": "Kentaur Hotel"
                                },
                                {
                                    "Össz főre foglalás": "2",
                                    "SZALLAS_NEV": "Hotel Három Hattyú"
                                },
                                {
                                    "Össz főre foglalás": "3",
                                    "SZALLAS_NEV": "Gold Hotel"
                                },
                                {
                                    "Össz főre foglalás": "5",
                                    "SZALLAS_NEV": "Fortuna Apartman"
                                },
                                {
                                    "Össz főre foglalás": "2",
                                    "SZALLAS_NEV": "Fortuna panzió"
                                },
                                {
                                    "Össz főre foglalás": "2",
                                    "SZALLAS_NEV": "Hotel Három Hattyú"
                                },
                                {
                                    "Össz főre foglalás": "3",
                                    "SZALLAS_NEV": "Családi Ház"
                                },
                                {
                                    "Össz főre foglalás": "3",
                                    "SZALLAS_NEV": "Hotel Három Hattyú"
                                },
                                {
                                    "Össz főre foglalás": "1",
                                    "SZALLAS_NEV": "Gold Hotel"
                                },
                                {
                                    "Össz főre foglalás": "2",
                                    "SZALLAS_NEV": "Gold Hotel"
                                },
                                {
                                    "Össz főre foglalás": "1",
                                    "SZALLAS_NEV": "Gold Hotel"
                                },
                                {
                                    "Össz főre foglalás": "4",
                                    "SZALLAS_NEV": "Sába-Ház"
                                },
                                {
                                    "Össz főre foglalás": "2",
                                    "SZALLAS_NEV": "Hotel Három Hattyú"
                                },
                                {
                                    "Össz főre foglalás": "3",
                                    "SZALLAS_NEV": "Fortuna Panzió"
                                },
                                {
                                    "Össz főre foglalás": "2",
                                    "SZALLAS_NEV": "Kentaur Hotel"
                                },
                                {
                                    "Össz főre foglalás": "2",
                                    "SZALLAS_NEV": "Gold Hotel"
                                },
                                {
                                    "Össz főre foglalás": "1",
                                    "SZALLAS_NEV": "Hotel Három Hattyú"
                                },
                                {
                                    "Össz főre foglalás": "2",
                                    "SZALLAS_NEV": "Gold Hotel"
                                },
                                {
                                    "Össz főre foglalás": "1",
                                    "SZALLAS_NEV": "Sába-Ház"
                                },
                                {
                                    "Össz főre foglalás": "2",
                                    "SZALLAS_NEV": "Kentaur Hotel"
                                },
                                {
                                    "Össz főre foglalás": "2",
                                    "SZALLAS_NEV": "Lagúna Hotel"
                                },
                                {
                                    "Össz főre foglalás": "3",
                                    "SZALLAS_NEV": "Lagúna Hotel"
                                },
                                {
                                    "Össz főre foglalás": "1",
                                    "SZALLAS_NEV": "Sába-Ház"
                                },
                                {
                                    "Össz főre foglalás": "2",
                                    "SZALLAS_NEV": "Fortuna panzió"
                                },
                                {
                                    "Össz főre foglalás": "1",
                                    "SZALLAS_NEV": "Fortuna panzió"
                                },
                                {
                                    "Össz főre foglalás": "3",
                                    "SZALLAS_NEV": "Gold Hotel"
                                },
                                {
                                    "Össz főre foglalás": "2",
                                    "SZALLAS_NEV": "Hotel Három Hattyú"
                                },
                                {
                                    "Össz főre foglalás": "3",
                                    "SZALLAS_NEV": "Kentaur Hotel"
                                },
                                {
                                    "Össz főre foglalás": "4",
                                    "SZALLAS_NEV": "Hotel Három Hattyú"
                                },
                                {
                                    "Össz főre foglalás": "3",
                                    "SZALLAS_NEV": "Gold Hotel"
                                },
                                {
                                    "Össz főre foglalás": "3",
                                    "SZALLAS_NEV": "Családi Ház"
                                },
                                {
                                    "Össz főre foglalás": "1",
                                    "SZALLAS_NEV": "Kentaur Hotel"
                                },
                                {
                                    "Össz főre foglalás": "2",
                                    "SZALLAS_NEV": "Fortuna Panzió"
                                },
                                {
                                    "Össz főre foglalás": "3",
                                    "SZALLAS_NEV": "Hotel Három Hattyú"
                                },
                                {
                                    "Össz főre foglalás": "2",
                                    "SZALLAS_NEV": "Kentaur Hotel"
                                },
                                {
                                    "Össz főre foglalás": "2",
                                    "SZALLAS_NEV": "Kentaur Hotel"
                                },
                                {
                                    "Össz főre foglalás": "2",
                                    "SZALLAS_NEV": "Lagúna Hotel"
                                },
                                {
                                    "Össz főre foglalás": "2",
                                    "SZALLAS_NEV": "Gold Hotel"
                                },
                                {
                                    "Össz főre foglalás": "1",
                                    "SZALLAS_NEV": "Lagúna Hotel"
                                },
                                {
                                    "Össz főre foglalás": "2",
                                    "SZALLAS_NEV": "Kentaur Hotel"
                                },
                                {
                                    "Össz főre foglalás": "3",
                                    "SZALLAS_NEV": "Hotel Három Hattyú"
                                },
                                {
                                    "Össz főre foglalás": "3",
                                    "SZALLAS_NEV": "Szieszta Apartmanház"
                                },
                                {
                                    "Össz főre foglalás": "2",
                                    "SZALLAS_NEV": "Fortuna panzió"
                                },
                                {
                                    "Össz főre foglalás": "2",
                                    "SZALLAS_NEV": "Hotel Három Hattyú"
                                },
                                {
                                    "Össz főre foglalás": "3",
                                    "SZALLAS_NEV": "Szieszta Apartmanház"
                                },
                                {
                                    "Össz főre foglalás": "2",
                                    "SZALLAS_NEV": "Kentaur Hotel"
                                },
                                {
                                    "Össz főre foglalás": "3",
                                    "SZALLAS_NEV": "Kentaur Hotel"
                                },
                                {
                                    "Össz főre foglalás": "2",
                                    "SZALLAS_NEV": "Fortuna panzió"
                                },
                                {
                                    "Össz főre foglalás": "2",
                                    "SZALLAS_NEV": "Lagúna Hotel"
                                },
                                {
                                    "Össz főre foglalás": "1",
                                    "SZALLAS_NEV": "Kentaur Hotel"
                                },
                                {
                                    "Össz főre foglalás": "4",
                                    "SZALLAS_NEV": "Lagúna Hotel"
                                },
                                {
                                    "Össz főre foglalás": "3",
                                    "SZALLAS_NEV": "Gold Hotel"
                                },
                                {
                                    "Össz főre foglalás": "2",
                                    "SZALLAS_NEV": "Kentaur Hotel"
                                },
                                {
                                    "Össz főre foglalás": "2",
                                    "SZALLAS_NEV": "Kentaur Hotel"
                                },
                                {
                                    "Össz főre foglalás": "1",
                                    "SZALLAS_NEV": "Kentaur Hotel"
                                },
                                {
                                    "Össz főre foglalás": "4",
                                    "SZALLAS_NEV": "Gold Hotel"
                                },
                                {
                                    "Össz főre foglalás": "4",
                                    "SZALLAS_NEV": "Hotel Három Hattyú"
                                },
                                {
                                    "Össz főre foglalás": "1",
                                    "SZALLAS_NEV": "Családi Ház"
                                },
                                {
                                    "Össz főre foglalás": "3",
                                    "SZALLAS_NEV": "Lagúna Hotel"
                                },
                                {
                                    "Össz főre foglalás": "3",
                                    "SZALLAS_NEV": "Lagúna Hotel"
                                },
                                {
                                    "Össz főre foglalás": "3",
                                    "SZALLAS_NEV": "Hotel Három Hattyú"
                                },
                                {
                                    "Össz főre foglalás": "2",
                                    "SZALLAS_NEV": "Gold Hotel"
                                },
                                {
                                    "Össz főre foglalás": "2",
                                    "SZALLAS_NEV": "Jáde panzió"
                                },
                                {
                                    "Össz főre foglalás": "2",
                                    "SZALLAS_NEV": "Jáde panzió"
                                },
                                {
                                    "Össz főre foglalás": "3",
                                    "SZALLAS_NEV": "Fortuna panzió"
                                },
                                {
                                    "Össz főre foglalás": "2",
                                    "SZALLAS_NEV": "Kentaur Hotel"
                                },
                                {
                                    "Össz főre foglalás": "2",
                                    "SZALLAS_NEV": "Fortuna panzió"
                                },
                                {
                                    "Össz főre foglalás": "2",
                                    "SZALLAS_NEV": "Lagúna Hotel"
                                },
                                {
                                    "Össz főre foglalás": "1",
                                    "SZALLAS_NEV": "Fortuna panzió"
                                },
                                {
                                    "Össz főre foglalás": "2",
                                    "SZALLAS_NEV": "Hotel Három Hattyú"
                                },
                                {
                                    "Össz főre foglalás": "3",
                                    "SZALLAS_NEV": "Hotel Három Hattyú"
                                },
                                {
                                    "Össz főre foglalás": "4",
                                    "SZALLAS_NEV": "Hotel Három Hattyú"
                                },
                                {
                                    "Össz főre foglalás": "2",
                                    "SZALLAS_NEV": "Gold Hotel"
                                },
                                {
                                    "Össz főre foglalás": "2",
                                    "SZALLAS_NEV": "Hotel Három Hattyú"
                                },
                                {
                                    "Össz főre foglalás": "2",
                                    "SZALLAS_NEV": "Hotel Három Hattyú"
                                },
                                {
                                    "Össz főre foglalás": "2",
                                    "SZALLAS_NEV": "Partiszél Vendégház"
                                },
                                {
                                    "Össz főre foglalás": "2",
                                    "SZALLAS_NEV": "Hotel Három Hattyú"
                                },
                                {
                                    "Össz főre foglalás": "2",
                                    "SZALLAS_NEV": "Hotel Három Hattyú"
                                },
                                {
                                    "Össz főre foglalás": "2",
                                    "SZALLAS_NEV": "Lagúna Hotel"
                                },
                                {
                                    "Össz főre foglalás": "2",
                                    "SZALLAS_NEV": "Gold Hotel"
                                },
                                {
                                    "Össz főre foglalás": "2",
                                    "SZALLAS_NEV": "Sába-Ház"
                                },
                                {
                                    "Össz főre foglalás": "4",
                                    "SZALLAS_NEV": "Hotel Három Hattyú"
                                },
                                {
                                    "Össz főre foglalás": "3",
                                    "SZALLAS_NEV": "Hotel Három Hattyú"
                                },
                                {
                                    "Össz főre foglalás": "5",
                                    "SZALLAS_NEV": "Hotel Három Hattyú"
                                },
                                {
                                    "Össz főre foglalás": "3",
                                    "SZALLAS_NEV": "Kentaur Hotel"
                                },
                                {
                                    "Össz főre foglalás": "3",
                                    "SZALLAS_NEV": "Gold Hotel"
                                },
                                {
                                    "Össz főre foglalás": "3",
                                    "SZALLAS_NEV": "Családi Ház"
                                },
                                {
                                    "Össz főre foglalás": "4",
                                    "SZALLAS_NEV": "Hotel Három Hattyú"
                                },
                                {
                                    "Össz főre foglalás": "3",
                                    "SZALLAS_NEV": "Hotel Három Hattyú"
                                },
                                {
                                    "Össz főre foglalás": "3",
                                    "SZALLAS_NEV": "Hotel Három Hattyú"
                                },
                                {
                                    "Össz főre foglalás": "2",
                                    "SZALLAS_NEV": "Gold Hotel"
                                },
                                {
                                    "Össz főre foglalás": "3",
                                    "SZALLAS_NEV": "Gold Hotel"
                                },
                                {
                                    "Össz főre foglalás": "1",
                                    "SZALLAS_NEV": "Kentaur Hotel"
                                },
                                {
                                    "Össz főre foglalás": "4",
                                    "SZALLAS_NEV": "Fortuna Apartman"
                                },
                                {
                                    "Össz főre foglalás": "2",
                                    "SZALLAS_NEV": "Kentaur Hotel"
                                },
                                {
                                    "Össz főre foglalás": "3",
                                    "SZALLAS_NEV": "Lagúna Hotel"
                                },
                                {
                                    "Össz főre foglalás": "1",
                                    "SZALLAS_NEV": "Gold Hotel"
                                },
                                {
                                    "Össz főre foglalás": "3",
                                    "SZALLAS_NEV": "Hotel Három Hattyú"
                                },
                                {
                                    "Össz főre foglalás": "2",
                                    "SZALLAS_NEV": "Hotel Három Hattyú"
                                },
                                {
                                    "Össz főre foglalás": "4",
                                    "SZALLAS_NEV": "Gold Hotel"
                                },
                                {
                                    "Össz főre foglalás": "3",
                                    "SZALLAS_NEV": "Kentaur Hotel"
                                },
                                {
                                    "Össz főre foglalás": "2",
                                    "SZALLAS_NEV": "Szieszta Apartmanház"
                                },
                                {
                                    "Össz főre foglalás": "2",
                                    "SZALLAS_NEV": "Lagúna Hotel"
                                },
                                {
                                    "Össz főre foglalás": "3",
                                    "SZALLAS_NEV": "Fortuna Panzió"
                                },
                                {
                                    "Össz főre foglalás": "2",
                                    "SZALLAS_NEV": "Hotel Három Hattyú"
                                },
                                {
                                    "Össz főre foglalás": "2",
                                    "SZALLAS_NEV": "Gold Hotel"
                                },
                                {
                                    "Össz főre foglalás": "2",
                                    "SZALLAS_NEV": "Hotel Három Hattyú"
                                },
                                {
                                    "Össz főre foglalás": "3",
                                    "SZALLAS_NEV": "Jáde panzió"
                                },
                                {
                                    "Össz főre foglalás": "3",
                                    "SZALLAS_NEV": "Kentaur Hotel"
                                },
                                {
                                    "Össz főre foglalás": "3",
                                    "SZALLAS_NEV": "Szieszta Apartmanház"
                                },
                                {
                                    "Össz főre foglalás": "3",
                                    "SZALLAS_NEV": "Hotel Három Hattyú"
                                },
                                {
                                    "Össz főre foglalás": "1",
                                    "SZALLAS_NEV": "Sába-Ház"
                                },
                                {
                                    "Össz főre foglalás": "2",
                                    "SZALLAS_NEV": "Fortuna Panzió"
                                },
                                {
                                    "Össz főre foglalás": "2",
                                    "SZALLAS_NEV": "Hotel Három Hattyú"
                                },
                                {
                                    "Össz főre foglalás": "3",
                                    "SZALLAS_NEV": "Gold Hotel"
                                },
                                {
                                    "Össz főre foglalás": "2",
                                    "SZALLAS_NEV": "Hotel Három Hattyú"
                                },
                                {
                                    "Össz főre foglalás": "3",
                                    "SZALLAS_NEV": "Hotel Három Hattyú"
                                },
                                {
                                    "Össz főre foglalás": "1",
                                    "SZALLAS_NEV": "Fortuna panzió"
                                },
                                {
                                    "Össz főre foglalás": "3",
                                    "SZALLAS_NEV": "Hotel Három Hattyú"
                                },
                                {
                                    "Össz főre foglalás": "3",
                                    "SZALLAS_NEV": "Hotel Három Hattyú"
                                },
                                {
                                    "Össz főre foglalás": "2",
                                    "SZALLAS_NEV": "Hotel Három Hattyú"
                                },
                                {
                                    "Össz főre foglalás": "3",
                                    "SZALLAS_NEV": "Fortuna Apartman"
                                },
                                {
                                    "Össz főre foglalás": "3",
                                    "SZALLAS_NEV": "Kentaur Hotel"
                                },
                                {
                                    "Össz főre foglalás": "2",
                                    "SZALLAS_NEV": "Jáde panzió"
                                },
                                {
                                    "Össz főre foglalás": "2",
                                    "SZALLAS_NEV": "Fortuna Panzió"
                                },
                                {
                                    "Össz főre foglalás": "4",
                                    "SZALLAS_NEV": "Sába-Ház"
                                },
                                {
                                    "Össz főre foglalás": "2",
                                    "SZALLAS_NEV": "Fortuna panzió"
                                },
                                {
                                    "Össz főre foglalás": "2",
                                    "SZALLAS_NEV": "Lagúna Hotel"
                                },
                                {
                                    "Össz főre foglalás": "3",
                                    "SZALLAS_NEV": "Hotel Három Hattyú"
                                },
                                {
                                    "Össz főre foglalás": "1",
                                    "SZALLAS_NEV": "Lagúna Hotel"
                                },
                                {
                                    "Össz főre foglalás": "4",
                                    "SZALLAS_NEV": "Családi Ház"
                                },
                                {
                                    "Össz főre foglalás": "1",
                                    "SZALLAS_NEV": "Hotel Három Hattyú"
                                },
                                {
                                    "Össz főre foglalás": "3",
                                    "SZALLAS_NEV": "Sába-Ház"
                                },
                                {
                                    "Össz főre foglalás": "2",
                                    "SZALLAS_NEV": "Lagúna Hotel"
                                },
                                {
                                    "Össz főre foglalás": "3",
                                    "SZALLAS_NEV": "Fortuna Panzió"
                                },
                                {
                                    "Össz főre foglalás": "3",
                                    "SZALLAS_NEV": "Fortuna Panzió"
                                },
                                {
                                    "Össz főre foglalás": "3",
                                    "SZALLAS_NEV": "Szieszta Apartmanház"
                                },
                                {
                                    "Össz főre foglalás": "3",
                                    "SZALLAS_NEV": "Fortuna Apartman"
                                },
                                {
                                    "Össz főre foglalás": "4",
                                    "SZALLAS_NEV": "Kentaur Hotel"
                                },
                                {
                                    "Össz főre foglalás": "2",
                                    "SZALLAS_NEV": "Lagúna Hotel"
                                },
                                {
                                    "Össz főre foglalás": "3",
                                    "SZALLAS_NEV": "Fortuna Panzió"
                                },
                                {
                                    "Össz főre foglalás": "2",
                                    "SZALLAS_NEV": "Fortuna Panzió"
                                },
                                {
                                    "Össz főre foglalás": "3",
                                    "SZALLAS_NEV": "Hotel Három Hattyú"
                                },
                                {
                                    "Össz főre foglalás": "4",
                                    "SZALLAS_NEV": "Hotel Három Hattyú"
                                },
                                {
                                    "Össz főre foglalás": "3",
                                    "SZALLAS_NEV": "Fortuna panzió"
                                },
                                {
                                    "Össz főre foglalás": "2",
                                    "SZALLAS_NEV": "Kentaur Hotel"
                                },
                                {
                                    "Össz főre foglalás": "2",
                                    "SZALLAS_NEV": "Lagúna Hotel"
                                },
                                {
                                    "Össz főre foglalás": "3",
                                    "SZALLAS_NEV": "Gold Hotel"
                                },
                                {
                                    "Össz főre foglalás": "2",
                                    "SZALLAS_NEV": "Hotel Három Hattyú"
                                },
                                {
                                    "Össz főre foglalás": "3",
                                    "SZALLAS_NEV": "Lagúna Hotel"
                                },
                                {
                                    "Össz főre foglalás": "2",
                                    "SZALLAS_NEV": "Kentaur Hotel"
                                },
                                {
                                    "Össz főre foglalás": "4",
                                    "SZALLAS_NEV": "Gold Hotel"
                                },
                                {
                                    "Össz főre foglalás": "2",
                                    "SZALLAS_NEV": "Hotel Három Hattyú"
                                },
                                {
                                    "Össz főre foglalás": "3",
                                    "SZALLAS_NEV": "Partiszél Vendégház"
                                },
                                {
                                    "Össz főre foglalás": "3",
                                    "SZALLAS_NEV": "Hotel Három Hattyú"
                                },
                                {
                                    "Össz főre foglalás": "2",
                                    "SZALLAS_NEV": "Gold Hotel"
                                },
                                {
                                    "Össz főre foglalás": "1",
                                    "SZALLAS_NEV": "Fortuna panzió"
                                },
                                {
                                    "Össz főre foglalás": "3",
                                    "SZALLAS_NEV": "Hotel Három Hattyú"
                                },
                                {
                                    "Össz főre foglalás": "3",
                                    "SZALLAS_NEV": "Gold Hotel"
                                },
                                {
                                    "Össz főre foglalás": "3",
                                    "SZALLAS_NEV": "Partiszél Vendégház"
                                },
                                {
                                    "Össz főre foglalás": "4",
                                    "SZALLAS_NEV": "Lagúna Hotel"
                                },
                                {
                                    "Össz főre foglalás": "3",
                                    "SZALLAS_NEV": "Kentaur Hotel"
                                },
                                {
                                    "Össz főre foglalás": "3",
                                    "SZALLAS_NEV": "Hotel Három Hattyú"
                                },
                                {
                                    "Össz főre foglalás": "2",
                                    "SZALLAS_NEV": "Szieszta Apartmanház"
                                },
                                {
                                    "Össz főre foglalás": "1",
                                    "SZALLAS_NEV": "Gold Hotel"
                                },
                                {
                                    "Össz főre foglalás": "3",
                                    "SZALLAS_NEV": "Kentaur Hotel"
                                },
                                {
                                    "Össz főre foglalás": "1",
                                    "SZALLAS_NEV": "Lagúna Hotel"
                                },
                                {
                                    "Össz főre foglalás": "3",
                                    "SZALLAS_NEV": "Hotel Három Hattyú"
                                },
                                {
                                    "Össz főre foglalás": "4",
                                    "SZALLAS_NEV": "Kentaur Hotel"
                                },
                                {
                                    "Össz főre foglalás": "1",
                                    "SZALLAS_NEV": "Fortuna Panzió"
                                },
                                {
                                    "Össz főre foglalás": "2",
                                    "SZALLAS_NEV": "Kentaur Hotel"
                                },
                                {
                                    "Össz főre foglalás": "2",
                                    "SZALLAS_NEV": "Hotel Három Hattyú"
                                },
                                {
                                    "Össz főre foglalás": "3",
                                    "SZALLAS_NEV": "Kentaur Hotel"
                                }
                            ]
                        },
                        "text/html": [
                            "<table>",
                            "<tr><th>Össz főre foglalás</th><th>SZALLAS_NEV</th></tr>",
                            "<tr><td>3</td><td>Szieszta Apartmanház</td></tr>",
                            "<tr><td>2</td><td>Jáde panzió</td></tr>",
                            "<tr><td>2</td><td>Sába-Ház</td></tr>",
                            "<tr><td>2</td><td>Fortuna Panzió</td></tr>",
                            "<tr><td>1</td><td>Sába-Ház</td></tr>",
                            "<tr><td>4</td><td>Kentaur Hotel</td></tr>",
                            "<tr><td>2</td><td>Sába-Ház</td></tr>",
                            "<tr><td>2</td><td>Lagúna Hotel</td></tr>",
                            "<tr><td>2</td><td>Fortuna Apartman</td></tr>",
                            "<tr><td>1</td><td>Gold Hotel</td></tr>",
                            "<tr><td>2</td><td>Kentaur Hotel</td></tr>",
                            "<tr><td>2</td><td>Sába-Ház</td></tr>",
                            "<tr><td>2</td><td>Partiszél Vendégház</td></tr>",
                            "<tr><td>2</td><td>Gold Hotel</td></tr>",
                            "<tr><td>2</td><td>Kentaur Hotel</td></tr>",
                            "<tr><td>2</td><td>Gold Hotel</td></tr>",
                            "<tr><td>2</td><td>Gold Hotel</td></tr>",
                            "<tr><td>4</td><td>Lagúna Hotel</td></tr>",
                            "<tr><td>3</td><td>Hotel Három Hattyú</td></tr>",
                            "<tr><td>3</td><td>Lagúna Hotel</td></tr>",
                            "<tr><td>3</td><td>Gold Hotel</td></tr>",
                            "<tr><td>2</td><td>Lagúna Hotel</td></tr>",
                            "<tr><td>2</td><td>Jáde panzió</td></tr>",
                            "<tr><td>3</td><td>Lagúna Hotel</td></tr>",
                            "<tr><td>2</td><td>Lagúna Hotel</td></tr>",
                            "<tr><td>3</td><td>Kentaur Hotel</td></tr>",
                            "<tr><td>2</td><td>Lagúna Hotel</td></tr>",
                            "<tr><td>3</td><td>Kentaur Hotel</td></tr>",
                            "<tr><td>1</td><td>Hotel Három Hattyú</td></tr>",
                            "<tr><td>1</td><td>Hotel Három Hattyú</td></tr>",
                            "<tr><td>4</td><td>Lagúna Hotel</td></tr>",
                            "<tr><td>3</td><td>Fortuna Panzió</td></tr>",
                            "<tr><td>2</td><td>Fortuna Panzió</td></tr>",
                            "<tr><td>2</td><td>Lagúna Hotel</td></tr>",
                            "<tr><td>2</td><td>Gold Hotel</td></tr>",
                            "<tr><td>3</td><td>Kentaur Hotel</td></tr>",
                            "<tr><td>2</td><td>Lagúna Hotel</td></tr>",
                            "<tr><td>2</td><td>Kentaur Hotel</td></tr>",
                            "<tr><td>3</td><td>Hotel Három Hattyú</td></tr>",
                            "<tr><td>2</td><td>Hotel Három Hattyú</td></tr>",
                            "<tr><td>4</td><td>Fortuna panzió</td></tr>",
                            "<tr><td>3</td><td>Partiszél Vendégház</td></tr>",
                            "<tr><td>1</td><td>Gold Hotel</td></tr>",
                            "<tr><td>1</td><td>Fortuna panzió</td></tr>",
                            "<tr><td>4</td><td>Fortuna Apartman</td></tr>",
                            "<tr><td>3</td><td>Fortuna Panzió</td></tr>",
                            "<tr><td>2</td><td>Fortuna panzió</td></tr>",
                            "<tr><td>3</td><td>Hotel Három Hattyú</td></tr>",
                            "<tr><td>4</td><td>Fortuna panzió</td></tr>",
                            "<tr><td>3</td><td>Hotel Három Hattyú</td></tr>",
                            "<tr><td>2</td><td>Gold Hotel</td></tr>",
                            "<tr><td>2</td><td>Sába-Ház</td></tr>",
                            "<tr><td>1</td><td>Hotel Három Hattyú</td></tr>",
                            "<tr><td>2</td><td>Fortuna panzió</td></tr>",
                            "<tr><td>2</td><td>Hotel Három Hattyú</td></tr>",
                            "<tr><td>2</td><td>Jáde panzió</td></tr>",
                            "<tr><td>3</td><td>Hotel Három Hattyú</td></tr>",
                            "<tr><td>3</td><td>Gold Hotel</td></tr>",
                            "<tr><td>2</td><td>Hotel Három Hattyú</td></tr>",
                            "<tr><td>3</td><td>Hotel Három Hattyú</td></tr>",
                            "<tr><td>2</td><td>Hotel Három Hattyú</td></tr>",
                            "<tr><td>2</td><td>Jáde panzió</td></tr>",
                            "<tr><td>1</td><td>Sába-Ház</td></tr>",
                            "<tr><td>2</td><td>Hotel Három Hattyú</td></tr>",
                            "<tr><td>2</td><td>Kentaur Hotel</td></tr>",
                            "<tr><td>3</td><td>Hotel Három Hattyú</td></tr>",
                            "<tr><td>4</td><td>Fortuna panzió</td></tr>",
                            "<tr><td>2</td><td>Kentaur Hotel</td></tr>",
                            "<tr><td>2</td><td>Fortuna Apartman</td></tr>",
                            "<tr><td>3</td><td>Fortuna panzió</td></tr>",
                            "<tr><td>3</td><td>Fortuna Panzió</td></tr>",
                            "<tr><td>3</td><td>Sába-Ház</td></tr>",
                            "<tr><td>2</td><td>Partiszél Vendégház</td></tr>",
                            "<tr><td>1</td><td>Hotel Három Hattyú</td></tr>",
                            "<tr><td>2</td><td>Hotel Három Hattyú</td></tr>",
                            "<tr><td>3</td><td>Gold Hotel</td></tr>",
                            "<tr><td>2</td><td>Gold Hotel</td></tr>",
                            "<tr><td>4</td><td>Hotel Három Hattyú</td></tr>",
                            "<tr><td>2</td><td>Hotel Három Hattyú</td></tr>",
                            "<tr><td>2</td><td>Hotel Három Hattyú</td></tr>",
                            "<tr><td>1</td><td>Kentaur Hotel</td></tr>",
                            "<tr><td>3</td><td>Partiszél Vendégház</td></tr>",
                            "<tr><td>2</td><td>Gold Hotel</td></tr>",
                            "<tr><td>3</td><td>Lagúna Hotel</td></tr>",
                            "<tr><td>2</td><td>Kentaur Hotel</td></tr>",
                            "<tr><td>2</td><td>Hotel Három Hattyú</td></tr>",
                            "<tr><td>2</td><td>Gold Hotel</td></tr>",
                            "<tr><td>4</td><td>Kentaur Hotel</td></tr>",
                            "<tr><td>3</td><td>Kentaur Hotel</td></tr>",
                            "<tr><td>2</td><td>Szieszta Apartmanház</td></tr>",
                            "<tr><td>1</td><td>Lagúna Hotel</td></tr>",
                            "<tr><td>2</td><td>Lagúna Hotel</td></tr>",
                            "<tr><td>2</td><td>Kentaur Hotel</td></tr>",
                            "<tr><td>1</td><td>Sába-Ház</td></tr>",
                            "<tr><td>1</td><td>Lagúna Hotel</td></tr>",
                            "<tr><td>2</td><td>Partiszél Vendégház</td></tr>",
                            "<tr><td>2</td><td>Hotel Három Hattyú</td></tr>",
                            "<tr><td>2</td><td>Jáde panzió</td></tr>",
                            "<tr><td>2</td><td>Hotel Három Hattyú</td></tr>",
                            "<tr><td>1</td><td>Lagúna Hotel</td></tr>",
                            "<tr><td>3</td><td>Fortuna Panzió</td></tr>",
                            "<tr><td>2</td><td>Gold Hotel</td></tr>",
                            "<tr><td>3</td><td>Fortuna Apartman</td></tr>",
                            "<tr><td>1</td><td>Lagúna Hotel</td></tr>",
                            "<tr><td>4</td><td>Gold Hotel</td></tr>",
                            "<tr><td>4</td><td>Családi Ház</td></tr>",
                            "<tr><td>2</td><td>Lagúna Hotel</td></tr>",
                            "<tr><td>2</td><td>Hotel Három Hattyú</td></tr>",
                            "<tr><td>3</td><td>Sába-Ház</td></tr>",
                            "<tr><td>3</td><td>Kentaur Hotel</td></tr>",
                            "<tr><td>3</td><td>Kentaur Hotel</td></tr>",
                            "<tr><td>1</td><td>Gold Hotel</td></tr>",
                            "<tr><td>2</td><td>Fortuna Panzió</td></tr>",
                            "<tr><td>3</td><td>Hotel Három Hattyú</td></tr>",
                            "<tr><td>3</td><td>Gold Hotel</td></tr>",
                            "<tr><td>2</td><td>Gold Hotel</td></tr>",
                            "<tr><td>3</td><td>Kentaur Hotel</td></tr>",
                            "<tr><td>3</td><td>Gold Hotel</td></tr>",
                            "<tr><td>2</td><td>Kentaur Hotel</td></tr>",
                            "<tr><td>3</td><td>Gold Hotel</td></tr>",
                            "<tr><td>2</td><td>Lagúna Hotel</td></tr>",
                            "<tr><td>3</td><td>Gold Hotel</td></tr>",
                            "<tr><td>2</td><td>Gold Hotel</td></tr>",
                            "<tr><td>2</td><td>Kentaur Hotel</td></tr>",
                            "<tr><td>2</td><td>Gold Hotel</td></tr>",
                            "<tr><td>2</td><td>Kentaur Hotel</td></tr>",
                            "<tr><td>1</td><td>Gold Hotel</td></tr>",
                            "<tr><td>2</td><td>Hotel Három Hattyú</td></tr>",
                            "<tr><td>2</td><td>Fortuna panzió</td></tr>",
                            "<tr><td>2</td><td>Családi Ház</td></tr>",
                            "<tr><td>2</td><td>Fortuna panzió</td></tr>",
                            "<tr><td>1</td><td>Hotel Három Hattyú</td></tr>",
                            "<tr><td>2</td><td>Gold Hotel</td></tr>",
                            "<tr><td>2</td><td>Hotel Három Hattyú</td></tr>",
                            "<tr><td>2</td><td>Lagúna Hotel</td></tr>",
                            "<tr><td>2</td><td>Gold Hotel</td></tr>",
                            "<tr><td>2</td><td>Sába-Ház</td></tr>",
                            "<tr><td>3</td><td>Gold Hotel</td></tr>",
                            "<tr><td>3</td><td>Fortuna Apartman</td></tr>",
                            "<tr><td>1</td><td>Sába-Ház</td></tr>",
                            "<tr><td>3</td><td>Kentaur Hotel</td></tr>",
                            "<tr><td>2</td><td>Gold Hotel</td></tr>",
                            "<tr><td>3</td><td>Kentaur Hotel</td></tr>",
                            "<tr><td>2</td><td>Kentaur Hotel</td></tr>",
                            "<tr><td>1</td><td>Kentaur Hotel</td></tr>",
                            "<tr><td>4</td><td>Lagúna Hotel</td></tr>",
                            "<tr><td>3</td><td>Kentaur Hotel</td></tr>",
                            "<tr><td>1</td><td>Fortuna panzió</td></tr>",
                            "<tr><td>2</td><td>Hotel Három Hattyú</td></tr>",
                            "<tr><td>3</td><td>Fortuna panzió</td></tr>",
                            "<tr><td>1</td><td>Hotel Három Hattyú</td></tr>",
                            "<tr><td>1</td><td>Gold Hotel</td></tr>",
                            "<tr><td>2</td><td>Gold Hotel</td></tr>",
                            "<tr><td>3</td><td>Gold Hotel</td></tr>",
                            "<tr><td>3</td><td>Kentaur Hotel</td></tr>",
                            "<tr><td>2</td><td>Fortuna Apartman</td></tr>",
                            "<tr><td>3</td><td>Kentaur Hotel</td></tr>",
                            "<tr><td>2</td><td>Hotel Három Hattyú</td></tr>",
                            "<tr><td>3</td><td>Hotel Három Hattyú</td></tr>",
                            "<tr><td>2</td><td>Hotel Három Hattyú</td></tr>",
                            "<tr><td>5</td><td>Hotel Három Hattyú</td></tr>",
                            "<tr><td>3</td><td>Kentaur Hotel</td></tr>",
                            "<tr><td>4</td><td>Partiszél Vendégház</td></tr>",
                            "<tr><td>2</td><td>Gold Hotel</td></tr>",
                            "<tr><td>2</td><td>Hotel Három Hattyú</td></tr>",
                            "<tr><td>2</td><td>Hotel Három Hattyú</td></tr>",
                            "<tr><td>2</td><td>Lagúna Hotel</td></tr>",
                            "<tr><td>2</td><td>Fortuna panzió</td></tr>",
                            "<tr><td>4</td><td>Hotel Három Hattyú</td></tr>",
                            "<tr><td>2</td><td>Hotel Három Hattyú</td></tr>",
                            "<tr><td>4</td><td>Fortuna panzió</td></tr>",
                            "<tr><td>2</td><td>Szieszta Apartmanház</td></tr>",
                            "<tr><td>2</td><td>Lagúna Hotel</td></tr>",
                            "<tr><td>3</td><td>Gold Hotel</td></tr>",
                            "<tr><td>2</td><td>Hotel Három Hattyú</td></tr>",
                            "<tr><td>1</td><td>Lagúna Hotel</td></tr>",
                            "<tr><td>3</td><td>Kentaur Hotel</td></tr>",
                            "<tr><td>2</td><td>Hotel Három Hattyú</td></tr>",
                            "<tr><td>3</td><td>Kentaur Hotel</td></tr>",
                            "<tr><td>2</td><td>Hotel Három Hattyú</td></tr>",
                            "<tr><td>3</td><td>Sába-Ház</td></tr>",
                            "<tr><td>2</td><td>Hotel Három Hattyú</td></tr>",
                            "<tr><td>2</td><td>Gold Hotel</td></tr>",
                            "<tr><td>4</td><td>Hotel Három Hattyú</td></tr>",
                            "<tr><td>2</td><td>Partiszél Vendégház</td></tr>",
                            "<tr><td>2</td><td>Gold Hotel</td></tr>",
                            "<tr><td>2</td><td>Fortuna Apartman</td></tr>",
                            "<tr><td>2</td><td>Lagúna Hotel</td></tr>",
                            "<tr><td>3</td><td>Gold Hotel</td></tr>",
                            "<tr><td>3</td><td>Gold Hotel</td></tr>",
                            "<tr><td>4</td><td>Fortuna panzió</td></tr>",
                            "<tr><td>4</td><td>Gold Hotel</td></tr>",
                            "<tr><td>4</td><td>Fortuna panzió</td></tr>",
                            "<tr><td>2</td><td>Lagúna Hotel</td></tr>",
                            "<tr><td>2</td><td>Fortuna Panzió</td></tr>",
                            "<tr><td>2</td><td>Gold Hotel</td></tr>",
                            "<tr><td>3</td><td>Hotel Három Hattyú</td></tr>",
                            "<tr><td>1</td><td>Fortuna Apartman</td></tr>",
                            "<tr><td>3</td><td>Kentaur Hotel</td></tr>",
                            "<tr><td>1</td><td>Szieszta Apartmanház</td></tr>",
                            "<tr><td>4</td><td>Fortuna panzió</td></tr>",
                            "<tr><td>2</td><td>Sába-Ház</td></tr>",
                            "<tr><td>2</td><td>Jáde panzió</td></tr>",
                            "<tr><td>2</td><td>Lagúna Hotel</td></tr>",
                            "<tr><td>3</td><td>Hotel Három Hattyú</td></tr>",
                            "<tr><td>3</td><td>Családi Ház</td></tr>",
                            "<tr><td>3</td><td>Gold Hotel</td></tr>",
                            "<tr><td>2</td><td>Lagúna Hotel</td></tr>",
                            "<tr><td>2</td><td>Gold Hotel</td></tr>",
                            "<tr><td>3</td><td>Fortuna Apartman</td></tr>",
                            "<tr><td>4</td><td>Lagúna Hotel</td></tr>",
                            "<tr><td>2</td><td>Kentaur Hotel</td></tr>",
                            "<tr><td>3</td><td>Fortuna Panzió</td></tr>",
                            "<tr><td>2</td><td>Lagúna Hotel</td></tr>",
                            "<tr><td>3</td><td>Sába-Ház</td></tr>",
                            "<tr><td>2</td><td>Kentaur Hotel</td></tr>",
                            "<tr><td>2</td><td>Gold Hotel</td></tr>",
                            "<tr><td>3</td><td>Sába-Ház</td></tr>",
                            "<tr><td>3</td><td>Hotel Három Hattyú</td></tr>",
                            "<tr><td>2</td><td>Fortuna panzió</td></tr>",
                            "<tr><td>3</td><td>Fortuna Apartman</td></tr>",
                            "<tr><td>1</td><td>Jáde panzió</td></tr>",
                            "<tr><td>2</td><td>Hotel Három Hattyú</td></tr>",
                            "<tr><td>1</td><td>Gold Hotel</td></tr>",
                            "<tr><td>1</td><td>Partiszél Vendégház</td></tr>",
                            "<tr><td>2</td><td>Lagúna Hotel</td></tr>",
                            "<tr><td>2</td><td>Lagúna Hotel</td></tr>",
                            "<tr><td>4</td><td>Gold Hotel</td></tr>",
                            "<tr><td>2</td><td>Hotel Három Hattyú</td></tr>",
                            "<tr><td>1</td><td>Kentaur Hotel</td></tr>",
                            "<tr><td>4</td><td>Sába-Ház</td></tr>",
                            "<tr><td>3</td><td>Lagúna Hotel</td></tr>",
                            "<tr><td>1</td><td>Sába-Ház</td></tr>",
                            "<tr><td>2</td><td>Családi Ház</td></tr>",
                            "<tr><td>4</td><td>Gold Hotel</td></tr>",
                            "<tr><td>3</td><td>Fortuna Panzió</td></tr>",
                            "<tr><td>4</td><td>Gold Hotel</td></tr>",
                            "<tr><td>3</td><td>Sába-Ház</td></tr>",
                            "<tr><td>3</td><td>Lagúna Hotel</td></tr>",
                            "<tr><td>4</td><td>Kentaur Hotel</td></tr>",
                            "<tr><td>3</td><td>Kentaur Hotel</td></tr>",
                            "<tr><td>1</td><td>Gold Hotel</td></tr>",
                            "<tr><td>2</td><td>Fortuna Panzió</td></tr>",
                            "<tr><td>3</td><td>Hotel Három Hattyú</td></tr>",
                            "<tr><td>2</td><td>Fortuna Panzió</td></tr>",
                            "<tr><td>1</td><td>Sába-Ház</td></tr>",
                            "<tr><td>3</td><td>Lagúna Hotel</td></tr>",
                            "<tr><td>3</td><td>Fortuna Apartman</td></tr>",
                            "<tr><td>2</td><td>Hotel Három Hattyú</td></tr>",
                            "<tr><td>3</td><td>Fortuna panzió</td></tr>",
                            "<tr><td>2</td><td>Lagúna Hotel</td></tr>",
                            "<tr><td>3</td><td>Hotel Három Hattyú</td></tr>",
                            "<tr><td>3</td><td>Hotel Három Hattyú</td></tr>",
                            "<tr><td>2</td><td>Kentaur Hotel</td></tr>",
                            "<tr><td>2</td><td>Lagúna Hotel</td></tr>",
                            "<tr><td>3</td><td>Családi Ház</td></tr>",
                            "<tr><td>3</td><td>Kentaur Hotel</td></tr>",
                            "<tr><td>3</td><td>Hotel Három Hattyú</td></tr>",
                            "<tr><td>3</td><td>Gold Hotel</td></tr>",
                            "<tr><td>3</td><td>Szieszta Apartmanház</td></tr>",
                            "<tr><td>1</td><td>Sába-Ház</td></tr>",
                            "<tr><td>2</td><td>Kentaur Hotel</td></tr>",
                            "<tr><td>3</td><td>Fortuna Apartman</td></tr>",
                            "<tr><td>3</td><td>Fortuna panzió</td></tr>",
                            "<tr><td>2</td><td>Kentaur Hotel</td></tr>",
                            "<tr><td>3</td><td>Fortuna Panzió</td></tr>",
                            "<tr><td>3</td><td>Fortuna Panzió</td></tr>",
                            "<tr><td>3</td><td>Lagúna Hotel</td></tr>",
                            "<tr><td>2</td><td>Fortuna Panzió</td></tr>",
                            "<tr><td>2</td><td>Hotel Három Hattyú</td></tr>",
                            "<tr><td>4</td><td>Sába-Ház</td></tr>",
                            "<tr><td>3</td><td>Fortuna panzió</td></tr>",
                            "<tr><td>4</td><td>Kentaur Hotel</td></tr>",
                            "<tr><td>2</td><td>Gold Hotel</td></tr>",
                            "<tr><td>3</td><td>Sába-Ház</td></tr>",
                            "<tr><td>2</td><td>Lagúna Hotel</td></tr>",
                            "<tr><td>1</td><td>Lagúna Hotel</td></tr>",
                            "<tr><td>5</td><td>Gold Hotel</td></tr>",
                            "<tr><td>2</td><td>Hotel Három Hattyú</td></tr>",
                            "<tr><td>3</td><td>Hotel Három Hattyú</td></tr>",
                            "<tr><td>2</td><td>Kentaur Hotel</td></tr>",
                            "<tr><td>1</td><td>Gold Hotel</td></tr>",
                            "<tr><td>3</td><td>Lagúna Hotel</td></tr>",
                            "<tr><td>4</td><td>Hotel Három Hattyú</td></tr>",
                            "<tr><td>2</td><td>Gold Hotel</td></tr>",
                            "<tr><td>2</td><td>Lagúna Hotel</td></tr>",
                            "<tr><td>3</td><td>Szieszta Apartmanház</td></tr>",
                            "<tr><td>1</td><td>Kentaur Hotel</td></tr>",
                            "<tr><td>1</td><td>Fortuna Panzió</td></tr>",
                            "<tr><td>3</td><td>Kentaur Hotel</td></tr>",
                            "<tr><td>2</td><td>Fortuna Apartman</td></tr>",
                            "<tr><td>2</td><td>Lagúna Hotel</td></tr>",
                            "<tr><td>3</td><td>Sába-Ház</td></tr>",
                            "<tr><td>3</td><td>Fortuna Panzió</td></tr>",
                            "<tr><td>1</td><td>Fortuna Apartman</td></tr>",
                            "<tr><td>2</td><td>Hotel Három Hattyú</td></tr>",
                            "<tr><td>1</td><td>Gold Hotel</td></tr>",
                            "<tr><td>3</td><td>Kentaur Hotel</td></tr>",
                            "<tr><td>4</td><td>Családi Ház</td></tr>",
                            "<tr><td>1</td><td>Gold Hotel</td></tr>",
                            "<tr><td>1</td><td>Hotel Három Hattyú</td></tr>",
                            "<tr><td>3</td><td>Szieszta Apartmanház</td></tr>",
                            "<tr><td>1</td><td>Kentaur Hotel</td></tr>",
                            "<tr><td>3</td><td>Hotel Három Hattyú</td></tr>",
                            "<tr><td>3</td><td>Kentaur Hotel</td></tr>",
                            "<tr><td>3</td><td>Gold Hotel</td></tr>",
                            "<tr><td>2</td><td>Hotel Három Hattyú</td></tr>",
                            "<tr><td>2</td><td>Kentaur Hotel</td></tr>",
                            "<tr><td>2</td><td>Szieszta Apartmanház</td></tr>",
                            "<tr><td>1</td><td>Gold Hotel</td></tr>",
                            "<tr><td>4</td><td>Gold Hotel</td></tr>",
                            "<tr><td>3</td><td>Kentaur Hotel</td></tr>",
                            "<tr><td>2</td><td>Fortuna panzió</td></tr>",
                            "<tr><td>3</td><td>Kentaur Hotel</td></tr>",
                            "<tr><td>1</td><td>Fortuna panzió</td></tr>",
                            "<tr><td>2</td><td>Sába-Ház</td></tr>",
                            "<tr><td>2</td><td>Kentaur Hotel</td></tr>",
                            "<tr><td>2</td><td>Kentaur Hotel</td></tr>",
                            "<tr><td>3</td><td>Sába-Ház</td></tr>",
                            "<tr><td>3</td><td>Kentaur Hotel</td></tr>",
                            "<tr><td>1</td><td>Kentaur Hotel</td></tr>",
                            "<tr><td>2</td><td>Hotel Három Hattyú</td></tr>",
                            "<tr><td>1</td><td>Gold Hotel</td></tr>",
                            "<tr><td>1</td><td>Jáde panzió</td></tr>",
                            "<tr><td>2</td><td>Sába-Ház</td></tr>",
                            "<tr><td>2</td><td>Kentaur Hotel</td></tr>",
                            "<tr><td>1</td><td>Hotel Három Hattyú</td></tr>",
                            "<tr><td>3</td><td>Kentaur Hotel</td></tr>",
                            "<tr><td>2</td><td>Fortuna panzió</td></tr>",
                            "<tr><td>2</td><td>Kentaur Hotel</td></tr>",
                            "<tr><td>3</td><td>Fortuna Panzió</td></tr>",
                            "<tr><td>2</td><td>Kentaur Hotel</td></tr>",
                            "<tr><td>3</td><td>Lagúna Hotel</td></tr>",
                            "<tr><td>1</td><td>Kentaur Hotel</td></tr>",
                            "<tr><td>1</td><td>Gold Hotel</td></tr>",
                            "<tr><td>1</td><td>Lagúna Hotel</td></tr>",
                            "<tr><td>2</td><td>Fortuna panzió</td></tr>",
                            "<tr><td>5</td><td>Fortuna panzió</td></tr>",
                            "<tr><td>2</td><td>Családi Ház</td></tr>",
                            "<tr><td>1</td><td>Gold Hotel</td></tr>",
                            "<tr><td>3</td><td>Gold Hotel</td></tr>",
                            "<tr><td>2</td><td>Fortuna panzió</td></tr>",
                            "<tr><td>2</td><td>Gold Hotel</td></tr>",
                            "<tr><td>2</td><td>Fortuna panzió</td></tr>",
                            "<tr><td>2</td><td>Kentaur Hotel</td></tr>",
                            "<tr><td>3</td><td>Gold Hotel</td></tr>",
                            "<tr><td>1</td><td>Fortuna panzió</td></tr>",
                            "<tr><td>4</td><td>Gold Hotel</td></tr>",
                            "<tr><td>2</td><td>Fortuna Apartman</td></tr>",
                            "<tr><td>2</td><td>Lagúna Hotel</td></tr>",
                            "<tr><td>2</td><td>Lagúna Hotel</td></tr>",
                            "<tr><td>3</td><td>Jáde panzió</td></tr>",
                            "<tr><td>2</td><td>Jáde panzió</td></tr>",
                            "<tr><td>2</td><td>Partiszél Vendégház</td></tr>",
                            "<tr><td>3</td><td>Gold Hotel</td></tr>",
                            "<tr><td>2</td><td>Gold Hotel</td></tr>",
                            "<tr><td>3</td><td>Fortuna Panzió</td></tr>",
                            "<tr><td>2</td><td>Lagúna Hotel</td></tr>",
                            "<tr><td>3</td><td>Fortuna Apartman</td></tr>",
                            "<tr><td>2</td><td>Gold Hotel</td></tr>",
                            "<tr><td>3</td><td>Sába-Ház</td></tr>",
                            "<tr><td>4</td><td>Fortuna panzió</td></tr>",
                            "<tr><td>2</td><td>Fortuna panzió</td></tr>",
                            "<tr><td>3</td><td>Hotel Három Hattyú</td></tr>",
                            "<tr><td>4</td><td>Partiszél Vendégház</td></tr>",
                            "<tr><td>1</td><td>Hotel Három Hattyú</td></tr>",
                            "<tr><td>3</td><td>Fortuna Panzió</td></tr>",
                            "<tr><td>3</td><td>Gold Hotel</td></tr>",
                            "<tr><td>5</td><td>Gold Hotel</td></tr>",
                            "<tr><td>3</td><td>Partiszél Vendégház</td></tr>",
                            "<tr><td>2</td><td>Gold Hotel</td></tr>",
                            "<tr><td>2</td><td>Kentaur Hotel</td></tr>",
                            "<tr><td>4</td><td>Gold Hotel</td></tr>",
                            "<tr><td>2</td><td>Hotel Három Hattyú</td></tr>",
                            "<tr><td>3</td><td>Fortuna Panzió</td></tr>",
                            "<tr><td>3</td><td>Partiszél Vendégház</td></tr>",
                            "<tr><td>2</td><td>Fortuna Apartman</td></tr>",
                            "<tr><td>1</td><td>Kentaur Hotel</td></tr>",
                            "<tr><td>2</td><td>Kentaur Hotel</td></tr>",
                            "<tr><td>3</td><td>Gold Hotel</td></tr>",
                            "<tr><td>2</td><td>Kentaur Hotel</td></tr>",
                            "<tr><td>3</td><td>Gold Hotel</td></tr>",
                            "<tr><td>4</td><td>Kentaur Hotel</td></tr>",
                            "<tr><td>2</td><td>Partiszél Vendégház</td></tr>",
                            "<tr><td>4</td><td>Hotel Három Hattyú</td></tr>",
                            "<tr><td>3</td><td>Hotel Három Hattyú</td></tr>",
                            "<tr><td>2</td><td>Gold Hotel</td></tr>",
                            "<tr><td>1</td><td>Fortuna Apartman</td></tr>",
                            "<tr><td>2</td><td>Sába-Ház</td></tr>",
                            "<tr><td>3</td><td>Sába-Ház</td></tr>",
                            "<tr><td>1</td><td>Fortuna Apartman</td></tr>",
                            "<tr><td>1</td><td>Sába-Ház</td></tr>",
                            "<tr><td>3</td><td>Kentaur Hotel</td></tr>",
                            "<tr><td>2</td><td>Sába-Ház</td></tr>",
                            "<tr><td>3</td><td>Gold Hotel</td></tr>",
                            "<tr><td>3</td><td>Hotel Három Hattyú</td></tr>",
                            "<tr><td>1</td><td>Kentaur Hotel</td></tr>",
                            "<tr><td>1</td><td>Fortuna Panzió</td></tr>",
                            "<tr><td>4</td><td>Lagúna Hotel</td></tr>",
                            "<tr><td>3</td><td>Gold Hotel</td></tr>",
                            "<tr><td>3</td><td>Gold Hotel</td></tr>",
                            "<tr><td>2</td><td>Hotel Három Hattyú</td></tr>",
                            "<tr><td>3</td><td>Fortuna Panzió</td></tr>",
                            "<tr><td>2</td><td>Kentaur Hotel</td></tr>",
                            "<tr><td>3</td><td>Hotel Három Hattyú</td></tr>",
                            "<tr><td>4</td><td>Kentaur Hotel</td></tr>",
                            "<tr><td>2</td><td>Hotel Három Hattyú</td></tr>",
                            "<tr><td>1</td><td>Sába-Ház</td></tr>",
                            "<tr><td>2</td><td>Hotel Három Hattyú</td></tr>",
                            "<tr><td>3</td><td>Hotel Három Hattyú</td></tr>",
                            "<tr><td>2</td><td>Lagúna Hotel</td></tr>",
                            "<tr><td>3</td><td>Lagúna Hotel</td></tr>",
                            "<tr><td>2</td><td>Sába-Ház</td></tr>",
                            "<tr><td>3</td><td>Fortuna panzió</td></tr>",
                            "<tr><td>3</td><td>Hotel Három Hattyú</td></tr>",
                            "<tr><td>4</td><td>Családi Ház</td></tr>",
                            "<tr><td>1</td><td>Gold Hotel</td></tr>",
                            "<tr><td>2</td><td>Hotel Három Hattyú</td></tr>",
                            "<tr><td>1</td><td>Kentaur Hotel</td></tr>",
                            "<tr><td>5</td><td>Gold Hotel</td></tr>",
                            "<tr><td>3</td><td>Gold Hotel</td></tr>",
                            "<tr><td>2</td><td>Fortuna panzió</td></tr>",
                            "<tr><td>1</td><td>Lagúna Hotel</td></tr>",
                            "<tr><td>1</td><td>Gold Hotel</td></tr>",
                            "<tr><td>4</td><td>Kentaur Hotel</td></tr>",
                            "<tr><td>2</td><td>Kentaur Hotel</td></tr>",
                            "<tr><td>2</td><td>Gold Hotel</td></tr>",
                            "<tr><td>5</td><td>Fortuna panzió</td></tr>",
                            "<tr><td>3</td><td>Fortuna Panzió</td></tr>",
                            "<tr><td>2</td><td>Kentaur Hotel</td></tr>",
                            "<tr><td>2</td><td>Jáde panzió</td></tr>",
                            "<tr><td>2</td><td>Gold Hotel</td></tr>",
                            "<tr><td>1</td><td>Sába-Ház</td></tr>",
                            "<tr><td>3</td><td>Gold Hotel</td></tr>",
                            "<tr><td>2</td><td>Hotel Három Hattyú</td></tr>",
                            "<tr><td>3</td><td>Gold Hotel</td></tr>",
                            "<tr><td>2</td><td>Hotel Három Hattyú</td></tr>",
                            "<tr><td>3</td><td>Kentaur Hotel</td></tr>",
                            "<tr><td>3</td><td>Hotel Három Hattyú</td></tr>",
                            "<tr><td>1</td><td>Kentaur Hotel</td></tr>",
                            "<tr><td>4</td><td>Hotel Három Hattyú</td></tr>",
                            "<tr><td>2</td><td>Jáde panzió</td></tr>",
                            "<tr><td>2</td><td>Kentaur Hotel</td></tr>",
                            "<tr><td>1</td><td>Sába-Ház</td></tr>",
                            "<tr><td>4</td><td>Hotel Három Hattyú</td></tr>",
                            "<tr><td>2</td><td>Fortuna panzió</td></tr>",
                            "<tr><td>2</td><td>Jáde panzió</td></tr>",
                            "<tr><td>1</td><td>Fortuna Apartman</td></tr>",
                            "<tr><td>1</td><td>Kentaur Hotel</td></tr>",
                            "<tr><td>3</td><td>Hotel Három Hattyú</td></tr>",
                            "<tr><td>2</td><td>Gold Hotel</td></tr>",
                            "<tr><td>3</td><td>Kentaur Hotel</td></tr>",
                            "<tr><td>2</td><td>Partiszél Vendégház</td></tr>",
                            "<tr><td>3</td><td>Gold Hotel</td></tr>",
                            "<tr><td>3</td><td>Fortuna panzió</td></tr>",
                            "<tr><td>2</td><td>Kentaur Hotel</td></tr>",
                            "<tr><td>2</td><td>Lagúna Hotel</td></tr>",
                            "<tr><td>1</td><td>Gold Hotel</td></tr>",
                            "<tr><td>3</td><td>Hotel Három Hattyú</td></tr>",
                            "<tr><td>1</td><td>Gold Hotel</td></tr>",
                            "<tr><td>1</td><td>Fortuna Panzió</td></tr>",
                            "<tr><td>3</td><td>Fortuna Panzió</td></tr>",
                            "<tr><td>3</td><td>Sába-Ház</td></tr>",
                            "<tr><td>4</td><td>Gold Hotel</td></tr>",
                            "<tr><td>3</td><td>Gold Hotel</td></tr>",
                            "<tr><td>3</td><td>Fortuna panzió</td></tr>",
                            "<tr><td>3</td><td>Jáde panzió</td></tr>",
                            "<tr><td>2</td><td>Lagúna Hotel</td></tr>",
                            "<tr><td>1</td><td>Hotel Három Hattyú</td></tr>",
                            "<tr><td>4</td><td>Kentaur Hotel</td></tr>",
                            "<tr><td>3</td><td>Családi Ház</td></tr>",
                            "<tr><td>4</td><td>Hotel Három Hattyú</td></tr>",
                            "<tr><td>3</td><td>Gold Hotel</td></tr>",
                            "<tr><td>4</td><td>Fortuna panzió</td></tr>",
                            "<tr><td>3</td><td>Lagúna Hotel</td></tr>",
                            "<tr><td>3</td><td>Fortuna panzió</td></tr>",
                            "<tr><td>1</td><td>Hotel Három Hattyú</td></tr>",
                            "<tr><td>3</td><td>Fortuna Apartman</td></tr>",
                            "<tr><td>4</td><td>Hotel Három Hattyú</td></tr>",
                            "<tr><td>2</td><td>Szieszta Apartmanház</td></tr>",
                            "<tr><td>4</td><td>Sába-Ház</td></tr>",
                            "<tr><td>2</td><td>Gold Hotel</td></tr>",
                            "<tr><td>2</td><td>Jáde panzió</td></tr>",
                            "<tr><td>2</td><td>Hotel Három Hattyú</td></tr>",
                            "<tr><td>2</td><td>Lagúna Hotel</td></tr>",
                            "<tr><td>4</td><td>Gold Hotel</td></tr>",
                            "<tr><td>3</td><td>Családi Ház</td></tr>",
                            "<tr><td>3</td><td>Jáde panzió</td></tr>",
                            "<tr><td>2</td><td>Lagúna Hotel</td></tr>",
                            "<tr><td>2</td><td>Lagúna Hotel</td></tr>",
                            "<tr><td>1</td><td>Hotel Három Hattyú</td></tr>",
                            "<tr><td>2</td><td>Hotel Három Hattyú</td></tr>",
                            "<tr><td>2</td><td>Hotel Három Hattyú</td></tr>",
                            "<tr><td>3</td><td>Sába-Ház</td></tr>",
                            "<tr><td>3</td><td>Fortuna panzió</td></tr>",
                            "<tr><td>2</td><td>Fortuna panzió</td></tr>",
                            "<tr><td>3</td><td>Kentaur Hotel</td></tr>",
                            "<tr><td>3</td><td>Kentaur Hotel</td></tr>",
                            "<tr><td>1</td><td>Fortuna Panzió</td></tr>",
                            "<tr><td>1</td><td>Szieszta Apartmanház</td></tr>",
                            "<tr><td>2</td><td>Lagúna Hotel</td></tr>",
                            "<tr><td>2</td><td>Szieszta Apartmanház</td></tr>",
                            "<tr><td>3</td><td>Fortuna panzió</td></tr>",
                            "<tr><td>2</td><td>Lagúna Hotel</td></tr>",
                            "<tr><td>3</td><td>Hotel Három Hattyú</td></tr>",
                            "<tr><td>2</td><td>Kentaur Hotel</td></tr>",
                            "<tr><td>3</td><td>Lagúna Hotel</td></tr>",
                            "<tr><td>3</td><td>Gold Hotel</td></tr>",
                            "<tr><td>1</td><td>Fortuna Panzió</td></tr>",
                            "<tr><td>2</td><td>Gold Hotel</td></tr>",
                            "<tr><td>4</td><td>Partiszél Vendégház</td></tr>",
                            "<tr><td>4</td><td>Sába-Ház</td></tr>",
                            "<tr><td>3</td><td>Fortuna Apartman</td></tr>",
                            "<tr><td>3</td><td>Kentaur Hotel</td></tr>",
                            "<tr><td>2</td><td>Hotel Három Hattyú</td></tr>",
                            "<tr><td>2</td><td>Sába-Ház</td></tr>",
                            "<tr><td>1</td><td>Gold Hotel</td></tr>",
                            "<tr><td>2</td><td>Partiszél Vendégház</td></tr>",
                            "<tr><td>2</td><td>Fortuna panzió</td></tr>",
                            "<tr><td>3</td><td>Lagúna Hotel</td></tr>",
                            "<tr><td>3</td><td>Fortuna panzió</td></tr>",
                            "<tr><td>1</td><td>Szieszta Apartmanház</td></tr>",
                            "<tr><td>3</td><td>Kentaur Hotel</td></tr>",
                            "<tr><td>2</td><td>Kentaur Hotel</td></tr>",
                            "<tr><td>4</td><td>Fortuna panzió</td></tr>",
                            "<tr><td>3</td><td>Hotel Három Hattyú</td></tr>",
                            "<tr><td>2</td><td>Kentaur Hotel</td></tr>",
                            "<tr><td>4</td><td>Hotel Három Hattyú</td></tr>",
                            "<tr><td>2</td><td>Kentaur Hotel</td></tr>",
                            "<tr><td>3</td><td>Lagúna Hotel</td></tr>",
                            "<tr><td>3</td><td>Fortuna Panzió</td></tr>",
                            "<tr><td>2</td><td>Hotel Három Hattyú</td></tr>",
                            "<tr><td>3</td><td>Jáde panzió</td></tr>",
                            "<tr><td>3</td><td>Gold Hotel</td></tr>",
                            "<tr><td>2</td><td>Kentaur Hotel</td></tr>",
                            "<tr><td>3</td><td>Kentaur Hotel</td></tr>",
                            "<tr><td>2</td><td>Gold Hotel</td></tr>",
                            "<tr><td>3</td><td>Gold Hotel</td></tr>",
                            "<tr><td>2</td><td>Kentaur Hotel</td></tr>",
                            "<tr><td>3</td><td>Hotel Három Hattyú</td></tr>",
                            "<tr><td>3</td><td>Lagúna Hotel</td></tr>",
                            "<tr><td>3</td><td>Sába-Ház</td></tr>",
                            "<tr><td>2</td><td>Lagúna Hotel</td></tr>",
                            "<tr><td>3</td><td>Szieszta Apartmanház</td></tr>",
                            "<tr><td>1</td><td>Hotel Három Hattyú</td></tr>",
                            "<tr><td>1</td><td>Szieszta Apartmanház</td></tr>",
                            "<tr><td>2</td><td>Kentaur Hotel</td></tr>",
                            "<tr><td>3</td><td>Lagúna Hotel</td></tr>",
                            "<tr><td>3</td><td>Fortuna Apartman</td></tr>",
                            "<tr><td>2</td><td>Partiszél Vendégház</td></tr>",
                            "<tr><td>2</td><td>Szieszta Apartmanház</td></tr>",
                            "<tr><td>1</td><td>Hotel Három Hattyú</td></tr>",
                            "<tr><td>3</td><td>Sába-Ház</td></tr>",
                            "<tr><td>3</td><td>Jáde panzió</td></tr>",
                            "<tr><td>1</td><td>Lagúna Hotel</td></tr>",
                            "<tr><td>2</td><td>Kentaur Hotel</td></tr>",
                            "<tr><td>3</td><td>Fortuna Apartman</td></tr>",
                            "<tr><td>2</td><td>Lagúna Hotel</td></tr>",
                            "<tr><td>3</td><td>Gold Hotel</td></tr>",
                            "<tr><td>3</td><td>Lagúna Hotel</td></tr>",
                            "<tr><td>3</td><td>Fortuna Panzió</td></tr>",
                            "<tr><td>3</td><td>Kentaur Hotel</td></tr>",
                            "<tr><td>2</td><td>Lagúna Hotel</td></tr>",
                            "<tr><td>3</td><td>Hotel Három Hattyú</td></tr>",
                            "<tr><td>2</td><td>Kentaur Hotel</td></tr>",
                            "<tr><td>3</td><td>Sába-Ház</td></tr>",
                            "<tr><td>3</td><td>Hotel Három Hattyú</td></tr>",
                            "<tr><td>3</td><td>Gold Hotel</td></tr>",
                            "<tr><td>3</td><td>Kentaur Hotel</td></tr>",
                            "<tr><td>2</td><td>Sába-Ház</td></tr>",
                            "<tr><td>3</td><td>Hotel Három Hattyú</td></tr>",
                            "<tr><td>3</td><td>Családi Ház</td></tr>",
                            "<tr><td>4</td><td>Fortuna Apartman</td></tr>",
                            "<tr><td>2</td><td>Sába-Ház</td></tr>",
                            "<tr><td>2</td><td>Sába-Ház</td></tr>",
                            "<tr><td>2</td><td>Gold Hotel</td></tr>",
                            "<tr><td>1</td><td>Hotel Három Hattyú</td></tr>",
                            "<tr><td>2</td><td>Fortuna Panzió</td></tr>",
                            "<tr><td>1</td><td>Fortuna panzió</td></tr>",
                            "<tr><td>2</td><td>Sába-Ház</td></tr>",
                            "<tr><td>2</td><td>Gold Hotel</td></tr>",
                            "<tr><td>3</td><td>Fortuna Apartman</td></tr>",
                            "<tr><td>3</td><td>Sába-Ház</td></tr>",
                            "<tr><td>2</td><td>Gold Hotel</td></tr>",
                            "<tr><td>2</td><td>Gold Hotel</td></tr>",
                            "<tr><td>3</td><td>Gold Hotel</td></tr>",
                            "<tr><td>3</td><td>Fortuna Panzió</td></tr>",
                            "<tr><td>2</td><td>Lagúna Hotel</td></tr>",
                            "<tr><td>2</td><td>Lagúna Hotel</td></tr>",
                            "<tr><td>2</td><td>Gold Hotel</td></tr>",
                            "<tr><td>3</td><td>Kentaur Hotel</td></tr>",
                            "<tr><td>3</td><td>Jáde panzió</td></tr>",
                            "<tr><td>3</td><td>Fortuna panzió</td></tr>",
                            "<tr><td>3</td><td>Sába-Ház</td></tr>",
                            "<tr><td>3</td><td>Sába-Ház</td></tr>",
                            "<tr><td>3</td><td>Gold Hotel</td></tr>",
                            "<tr><td>1</td><td>Hotel Három Hattyú</td></tr>",
                            "<tr><td>3</td><td>Lagúna Hotel</td></tr>",
                            "<tr><td>1</td><td>Lagúna Hotel</td></tr>",
                            "<tr><td>3</td><td>Sába-Ház</td></tr>",
                            "<tr><td>3</td><td>Fortuna panzió</td></tr>",
                            "<tr><td>1</td><td>Kentaur Hotel</td></tr>",
                            "<tr><td>2</td><td>Lagúna Hotel</td></tr>",
                            "<tr><td>3</td><td>Gold Hotel</td></tr>",
                            "<tr><td>2</td><td>Hotel Három Hattyú</td></tr>",
                            "<tr><td>2</td><td>Kentaur Hotel</td></tr>",
                            "<tr><td>2</td><td>Sába-Ház</td></tr>",
                            "<tr><td>2</td><td>Kentaur Hotel</td></tr>",
                            "<tr><td>2</td><td>Hotel Három Hattyú</td></tr>",
                            "<tr><td>4</td><td>Fortuna Apartman</td></tr>",
                            "<tr><td>2</td><td>Lagúna Hotel</td></tr>",
                            "<tr><td>1</td><td>Hotel Három Hattyú</td></tr>",
                            "<tr><td>2</td><td>Kentaur Hotel</td></tr>",
                            "<tr><td>1</td><td>Gold Hotel</td></tr>",
                            "<tr><td>1</td><td>Gold Hotel</td></tr>",
                            "<tr><td>4</td><td>Fortuna Apartman</td></tr>",
                            "<tr><td>3</td><td>Szieszta Apartmanház</td></tr>",
                            "<tr><td>2</td><td>Sába-Ház</td></tr>",
                            "<tr><td>5</td><td>Gold Hotel</td></tr>",
                            "<tr><td>1</td><td>Lagúna Hotel</td></tr>",
                            "<tr><td>3</td><td>Jáde panzió</td></tr>",
                            "<tr><td>3</td><td>Kentaur Hotel</td></tr>",
                            "<tr><td>3</td><td>Hotel Három Hattyú</td></tr>",
                            "<tr><td>3</td><td>Gold Hotel</td></tr>",
                            "<tr><td>2</td><td>Sába-Ház</td></tr>",
                            "<tr><td>3</td><td>Gold Hotel</td></tr>",
                            "<tr><td>2</td><td>Gold Hotel</td></tr>",
                            "<tr><td>2</td><td>Fortuna panzió</td></tr>",
                            "<tr><td>1</td><td>Kentaur Hotel</td></tr>",
                            "<tr><td>1</td><td>Fortuna Panzió</td></tr>",
                            "<tr><td>2</td><td>Gold Hotel</td></tr>",
                            "<tr><td>3</td><td>Szieszta Apartmanház</td></tr>",
                            "<tr><td>1</td><td>Partiszél Vendégház</td></tr>",
                            "<tr><td>3</td><td>Kentaur Hotel</td></tr>",
                            "<tr><td>2</td><td>Hotel Három Hattyú</td></tr>",
                            "<tr><td>3</td><td>Lagúna Hotel</td></tr>",
                            "<tr><td>2</td><td>Gold Hotel</td></tr>",
                            "<tr><td>5</td><td>Fortuna Apartman</td></tr>",
                            "<tr><td>3</td><td>Szieszta Apartmanház</td></tr>",
                            "<tr><td>2</td><td>Lagúna Hotel</td></tr>",
                            "<tr><td>2</td><td>Fortuna Apartman</td></tr>",
                            "<tr><td>4</td><td>Lagúna Hotel</td></tr>",
                            "<tr><td>3</td><td>Fortuna Panzió</td></tr>",
                            "<tr><td>3</td><td>Lagúna Hotel</td></tr>",
                            "<tr><td>1</td><td>Kentaur Hotel</td></tr>",
                            "<tr><td>3</td><td>Lagúna Hotel</td></tr>",
                            "<tr><td>4</td><td>Gold Hotel</td></tr>",
                            "<tr><td>3</td><td>Partiszél Vendégház</td></tr>",
                            "<tr><td>4</td><td>Fortuna Apartman</td></tr>",
                            "<tr><td>2</td><td>Fortuna Panzió</td></tr>",
                            "<tr><td>3</td><td>Kentaur Hotel</td></tr>",
                            "<tr><td>4</td><td>Hotel Három Hattyú</td></tr>",
                            "<tr><td>3</td><td>Hotel Három Hattyú</td></tr>",
                            "<tr><td>3</td><td>Gold Hotel</td></tr>",
                            "<tr><td>2</td><td>Fortuna Apartman</td></tr>",
                            "<tr><td>1</td><td>Hotel Három Hattyú</td></tr>",
                            "<tr><td>2</td><td>Fortuna panzió</td></tr>",
                            "<tr><td>3</td><td>Hotel Három Hattyú</td></tr>",
                            "<tr><td>3</td><td>Gold Hotel</td></tr>",
                            "<tr><td>4</td><td>Hotel Három Hattyú</td></tr>",
                            "<tr><td>3</td><td>Kentaur Hotel</td></tr>",
                            "<tr><td>2</td><td>Jáde panzió</td></tr>",
                            "<tr><td>4</td><td>Sába-Ház</td></tr>",
                            "<tr><td>3</td><td>Fortuna Panzió</td></tr>",
                            "<tr><td>3</td><td>Lagúna Hotel</td></tr>",
                            "<tr><td>3</td><td>Hotel Három Hattyú</td></tr>",
                            "<tr><td>1</td><td>Kentaur Hotel</td></tr>",
                            "<tr><td>1</td><td>Kentaur Hotel</td></tr>",
                            "<tr><td>3</td><td>Hotel Három Hattyú</td></tr>",
                            "<tr><td>2</td><td>Fortuna Panzió</td></tr>",
                            "<tr><td>2</td><td>Hotel Három Hattyú</td></tr>",
                            "<tr><td>3</td><td>Kentaur Hotel</td></tr>",
                            "<tr><td>1</td><td>Gold Hotel</td></tr>",
                            "<tr><td>2</td><td>Gold Hotel</td></tr>",
                            "<tr><td>3</td><td>Kentaur Hotel</td></tr>",
                            "<tr><td>2</td><td>Kentaur Hotel</td></tr>",
                            "<tr><td>3</td><td>Kentaur Hotel</td></tr>",
                            "<tr><td>2</td><td>Fortuna panzió</td></tr>",
                            "<tr><td>2</td><td>Sába-Ház</td></tr>",
                            "<tr><td>2</td><td>Fortuna Apartman</td></tr>",
                            "<tr><td>4</td><td>Gold Hotel</td></tr>",
                            "<tr><td>3</td><td>Kentaur Hotel</td></tr>",
                            "<tr><td>2</td><td>Lagúna Hotel</td></tr>",
                            "<tr><td>2</td><td>Hotel Három Hattyú</td></tr>",
                            "<tr><td>3</td><td>Gold Hotel</td></tr>",
                            "<tr><td>3</td><td>Fortuna Panzió</td></tr>",
                            "<tr><td>2</td><td>Családi Ház</td></tr>",
                            "<tr><td>4</td><td>Hotel Három Hattyú</td></tr>",
                            "<tr><td>4</td><td>Kentaur Hotel</td></tr>",
                            "<tr><td>3</td><td>Hotel Három Hattyú</td></tr>",
                            "<tr><td>2</td><td>Gold Hotel</td></tr>",
                            "<tr><td>2</td><td>Gold Hotel</td></tr>",
                            "<tr><td>1</td><td>Hotel Három Hattyú</td></tr>",
                            "<tr><td>1</td><td>Gold Hotel</td></tr>",
                            "<tr><td>1</td><td>Sába-Ház</td></tr>",
                            "<tr><td>3</td><td>Szieszta Apartmanház</td></tr>",
                            "<tr><td>2</td><td>Lagúna Hotel</td></tr>",
                            "<tr><td>2</td><td>Kentaur Hotel</td></tr>",
                            "<tr><td>2</td><td>Lagúna Hotel</td></tr>",
                            "<tr><td>2</td><td>Sába-Ház</td></tr>",
                            "<tr><td>1</td><td>Kentaur Hotel</td></tr>",
                            "<tr><td>3</td><td>Lagúna Hotel</td></tr>",
                            "<tr><td>4</td><td>Sába-Ház</td></tr>",
                            "<tr><td>2</td><td>Kentaur Hotel</td></tr>",
                            "<tr><td>3</td><td>Lagúna Hotel</td></tr>",
                            "<tr><td>4</td><td>Hotel Három Hattyú</td></tr>",
                            "<tr><td>3</td><td>Kentaur Hotel</td></tr>",
                            "<tr><td>2</td><td>Partiszél Vendégház</td></tr>",
                            "<tr><td>2</td><td>Gold Hotel</td></tr>",
                            "<tr><td>2</td><td>Gold Hotel</td></tr>",
                            "<tr><td>2</td><td>Kentaur Hotel</td></tr>",
                            "<tr><td>2</td><td>Szieszta Apartmanház</td></tr>",
                            "<tr><td>2</td><td>Fortuna Panzió</td></tr>",
                            "<tr><td>2</td><td>Hotel Három Hattyú</td></tr>",
                            "<tr><td>2</td><td>Kentaur Hotel</td></tr>",
                            "<tr><td>3</td><td>Szieszta Apartmanház</td></tr>",
                            "<tr><td>3</td><td>Sába-Ház</td></tr>",
                            "<tr><td>3</td><td>Fortuna panzió</td></tr>",
                            "<tr><td>2</td><td>Gold Hotel</td></tr>",
                            "<tr><td>3</td><td>Kentaur Hotel</td></tr>",
                            "<tr><td>3</td><td>Gold Hotel</td></tr>",
                            "<tr><td>2</td><td>Kentaur Hotel</td></tr>",
                            "<tr><td>2</td><td>Lagúna Hotel</td></tr>",
                            "<tr><td>2</td><td>Kentaur Hotel</td></tr>",
                            "<tr><td>3</td><td>Hotel Három Hattyú</td></tr>",
                            "<tr><td>3</td><td>Lagúna Hotel</td></tr>",
                            "<tr><td>2</td><td>Partiszél Vendégház</td></tr>",
                            "<tr><td>3</td><td>Kentaur Hotel</td></tr>",
                            "<tr><td>3</td><td>Hotel Három Hattyú</td></tr>",
                            "<tr><td>2</td><td>Fortuna Apartman</td></tr>",
                            "<tr><td>2</td><td>Kentaur Hotel</td></tr>",
                            "<tr><td>3</td><td>Lagúna Hotel</td></tr>",
                            "<tr><td>3</td><td>Hotel Három Hattyú</td></tr>",
                            "<tr><td>2</td><td>Fortuna Panzió</td></tr>",
                            "<tr><td>2</td><td>Partiszél Vendégház</td></tr>",
                            "<tr><td>2</td><td>Kentaur Hotel</td></tr>",
                            "<tr><td>2</td><td>Lagúna Hotel</td></tr>",
                            "<tr><td>3</td><td>Fortuna Panzió</td></tr>",
                            "<tr><td>2</td><td>Hotel Három Hattyú</td></tr>",
                            "<tr><td>4</td><td>Lagúna Hotel</td></tr>",
                            "<tr><td>3</td><td>Hotel Három Hattyú</td></tr>",
                            "<tr><td>2</td><td>Szieszta Apartmanház</td></tr>",
                            "<tr><td>3</td><td>Szieszta Apartmanház</td></tr>",
                            "<tr><td>3</td><td>Jáde panzió</td></tr>",
                            "<tr><td>2</td><td>Gold Hotel</td></tr>",
                            "<tr><td>2</td><td>Fortuna Panzió</td></tr>",
                            "<tr><td>3</td><td>Gold Hotel</td></tr>",
                            "<tr><td>2</td><td>Hotel Három Hattyú</td></tr>",
                            "<tr><td>1</td><td>Jáde panzió</td></tr>",
                            "<tr><td>3</td><td>Kentaur Hotel</td></tr>",
                            "<tr><td>1</td><td>Gold Hotel</td></tr>",
                            "<tr><td>2</td><td>Fortuna Panzió</td></tr>",
                            "<tr><td>4</td><td>Lagúna Hotel</td></tr>",
                            "<tr><td>4</td><td>Sába-Ház</td></tr>",
                            "<tr><td>1</td><td>Hotel Három Hattyú</td></tr>",
                            "<tr><td>4</td><td>Lagúna Hotel</td></tr>",
                            "<tr><td>2</td><td>Gold Hotel</td></tr>",
                            "<tr><td>3</td><td>Hotel Három Hattyú</td></tr>",
                            "<tr><td>3</td><td>Fortuna Apartman</td></tr>",
                            "<tr><td>2</td><td>Gold Hotel</td></tr>",
                            "<tr><td>2</td><td>Kentaur Hotel</td></tr>",
                            "<tr><td>2</td><td>Sába-Ház</td></tr>",
                            "<tr><td>3</td><td>Szieszta Apartmanház</td></tr>",
                            "<tr><td>3</td><td>Fortuna panzió</td></tr>",
                            "<tr><td>3</td><td>Kentaur Hotel</td></tr>",
                            "<tr><td>3</td><td>Gold Hotel</td></tr>",
                            "<tr><td>4</td><td>Kentaur Hotel</td></tr>",
                            "<tr><td>3</td><td>Kentaur Hotel</td></tr>",
                            "<tr><td>2</td><td>Gold Hotel</td></tr>",
                            "<tr><td>3</td><td>Kentaur Hotel</td></tr>",
                            "<tr><td>2</td><td>Kentaur Hotel</td></tr>",
                            "<tr><td>1</td><td>Gold Hotel</td></tr>",
                            "<tr><td>3</td><td>Hotel Három Hattyú</td></tr>",
                            "<tr><td>2</td><td>Kentaur Hotel</td></tr>",
                            "<tr><td>2</td><td>Hotel Három Hattyú</td></tr>",
                            "<tr><td>3</td><td>Kentaur Hotel</td></tr>",
                            "<tr><td>3</td><td>Sába-Ház</td></tr>",
                            "<tr><td>2</td><td>Fortuna panzió</td></tr>",
                            "<tr><td>1</td><td>Gold Hotel</td></tr>",
                            "<tr><td>3</td><td>Hotel Három Hattyú</td></tr>",
                            "<tr><td>1</td><td>Lagúna Hotel</td></tr>",
                            "<tr><td>1</td><td>Hotel Három Hattyú</td></tr>",
                            "<tr><td>3</td><td>Gold Hotel</td></tr>",
                            "<tr><td>3</td><td>Kentaur Hotel</td></tr>",
                            "<tr><td>1</td><td>Gold Hotel</td></tr>",
                            "<tr><td>2</td><td>Hotel Három Hattyú</td></tr>",
                            "<tr><td>2</td><td>Fortuna panzió</td></tr>",
                            "<tr><td>2</td><td>Kentaur Hotel</td></tr>",
                            "<tr><td>3</td><td>Gold Hotel</td></tr>",
                            "<tr><td>3</td><td>Családi Ház</td></tr>",
                            "<tr><td>2</td><td>Kentaur Hotel</td></tr>",
                            "<tr><td>2</td><td>Szieszta Apartmanház</td></tr>",
                            "<tr><td>1</td><td>Gold Hotel</td></tr>",
                            "<tr><td>1</td><td>Fortuna panzió</td></tr>",
                            "<tr><td>3</td><td>Hotel Három Hattyú</td></tr>",
                            "<tr><td>3</td><td>Hotel Három Hattyú</td></tr>",
                            "<tr><td>3</td><td>Hotel Három Hattyú</td></tr>",
                            "<tr><td>5</td><td>Hotel Három Hattyú</td></tr>",
                            "<tr><td>3</td><td>Gold Hotel</td></tr>",
                            "<tr><td>3</td><td>Lagúna Hotel</td></tr>",
                            "<tr><td>2</td><td>Lagúna Hotel</td></tr>",
                            "<tr><td>3</td><td>Szieszta Apartmanház</td></tr>",
                            "<tr><td>2</td><td>Hotel Három Hattyú</td></tr>",
                            "<tr><td>3</td><td>Lagúna Hotel</td></tr>",
                            "<tr><td>4</td><td>Fortuna panzió</td></tr>",
                            "<tr><td>3</td><td>Jáde panzió</td></tr>",
                            "<tr><td>2</td><td>Hotel Három Hattyú</td></tr>",
                            "<tr><td>2</td><td>Kentaur Hotel</td></tr>",
                            "<tr><td>1</td><td>Kentaur Hotel</td></tr>",
                            "<tr><td>1</td><td>Kentaur Hotel</td></tr>",
                            "<tr><td>2</td><td>Hotel Három Hattyú</td></tr>",
                            "<tr><td>3</td><td>Lagúna Hotel</td></tr>",
                            "<tr><td>4</td><td>Lagúna Hotel</td></tr>",
                            "<tr><td>2</td><td>Lagúna Hotel</td></tr>",
                            "<tr><td>1</td><td>Hotel Három Hattyú</td></tr>",
                            "<tr><td>2</td><td>Hotel Három Hattyú</td></tr>",
                            "<tr><td>1</td><td>Hotel Három Hattyú</td></tr>",
                            "<tr><td>2</td><td>Gold Hotel</td></tr>",
                            "<tr><td>3</td><td>Kentaur Hotel</td></tr>",
                            "<tr><td>3</td><td>Fortuna panzió</td></tr>",
                            "<tr><td>2</td><td>Hotel Három Hattyú</td></tr>",
                            "<tr><td>1</td><td>Kentaur Hotel</td></tr>",
                            "<tr><td>2</td><td>Fortuna panzió</td></tr>",
                            "<tr><td>2</td><td>Fortuna panzió</td></tr>",
                            "<tr><td>2</td><td>Kentaur Hotel</td></tr>",
                            "<tr><td>2</td><td>Gold Hotel</td></tr>",
                            "<tr><td>1</td><td>Kentaur Hotel</td></tr>",
                            "<tr><td>2</td><td>Hotel Három Hattyú</td></tr>",
                            "<tr><td>3</td><td>Kentaur Hotel</td></tr>",
                            "<tr><td>3</td><td>Gold Hotel</td></tr>",
                            "<tr><td>2</td><td>Fortuna panzió</td></tr>",
                            "<tr><td>2</td><td>Kentaur Hotel</td></tr>",
                            "<tr><td>2</td><td>Gold Hotel</td></tr>",
                            "<tr><td>5</td><td>Hotel Három Hattyú</td></tr>",
                            "<tr><td>2</td><td>Hotel Három Hattyú</td></tr>",
                            "<tr><td>3</td><td>Hotel Három Hattyú</td></tr>",
                            "<tr><td>4</td><td>Lagúna Hotel</td></tr>",
                            "<tr><td>3</td><td>Hotel Három Hattyú</td></tr>",
                            "<tr><td>1</td><td>Kentaur Hotel</td></tr>",
                            "<tr><td>2</td><td>Hotel Három Hattyú</td></tr>",
                            "<tr><td>2</td><td>Hotel Három Hattyú</td></tr>",
                            "<tr><td>3</td><td>Szieszta Apartmanház</td></tr>",
                            "<tr><td>2</td><td>Partiszél Vendégház</td></tr>",
                            "<tr><td>2</td><td>Lagúna Hotel</td></tr>",
                            "<tr><td>2</td><td>Hotel Három Hattyú</td></tr>",
                            "<tr><td>1</td><td>Hotel Három Hattyú</td></tr>",
                            "<tr><td>3</td><td>Gold Hotel</td></tr>",
                            "<tr><td>3</td><td>Szieszta Apartmanház</td></tr>",
                            "<tr><td>3</td><td>Kentaur Hotel</td></tr>",
                            "<tr><td>2</td><td>Gold Hotel</td></tr>",
                            "<tr><td>2</td><td>Hotel Három Hattyú</td></tr>",
                            "<tr><td>3</td><td>Jáde panzió</td></tr>",
                            "<tr><td>2</td><td>Gold Hotel</td></tr>",
                            "<tr><td>3</td><td>Fortuna panzió</td></tr>",
                            "<tr><td>2</td><td>Kentaur Hotel</td></tr>",
                            "<tr><td>2</td><td>Hotel Három Hattyú</td></tr>",
                            "<tr><td>3</td><td>Gold Hotel</td></tr>",
                            "<tr><td>5</td><td>Fortuna Apartman</td></tr>",
                            "<tr><td>2</td><td>Fortuna panzió</td></tr>",
                            "<tr><td>2</td><td>Hotel Három Hattyú</td></tr>",
                            "<tr><td>3</td><td>Családi Ház</td></tr>",
                            "<tr><td>3</td><td>Hotel Három Hattyú</td></tr>",
                            "<tr><td>1</td><td>Gold Hotel</td></tr>",
                            "<tr><td>2</td><td>Gold Hotel</td></tr>",
                            "<tr><td>1</td><td>Gold Hotel</td></tr>",
                            "<tr><td>4</td><td>Sába-Ház</td></tr>",
                            "<tr><td>2</td><td>Hotel Három Hattyú</td></tr>",
                            "<tr><td>3</td><td>Fortuna Panzió</td></tr>",
                            "<tr><td>2</td><td>Kentaur Hotel</td></tr>",
                            "<tr><td>2</td><td>Gold Hotel</td></tr>",
                            "<tr><td>1</td><td>Hotel Három Hattyú</td></tr>",
                            "<tr><td>2</td><td>Gold Hotel</td></tr>",
                            "<tr><td>1</td><td>Sába-Ház</td></tr>",
                            "<tr><td>2</td><td>Kentaur Hotel</td></tr>",
                            "<tr><td>2</td><td>Lagúna Hotel</td></tr>",
                            "<tr><td>3</td><td>Lagúna Hotel</td></tr>",
                            "<tr><td>1</td><td>Sába-Ház</td></tr>",
                            "<tr><td>2</td><td>Fortuna panzió</td></tr>",
                            "<tr><td>1</td><td>Fortuna panzió</td></tr>",
                            "<tr><td>3</td><td>Gold Hotel</td></tr>",
                            "<tr><td>2</td><td>Hotel Három Hattyú</td></tr>",
                            "<tr><td>3</td><td>Kentaur Hotel</td></tr>",
                            "<tr><td>4</td><td>Hotel Három Hattyú</td></tr>",
                            "<tr><td>3</td><td>Gold Hotel</td></tr>",
                            "<tr><td>3</td><td>Családi Ház</td></tr>",
                            "<tr><td>1</td><td>Kentaur Hotel</td></tr>",
                            "<tr><td>2</td><td>Fortuna Panzió</td></tr>",
                            "<tr><td>3</td><td>Hotel Három Hattyú</td></tr>",
                            "<tr><td>2</td><td>Kentaur Hotel</td></tr>",
                            "<tr><td>2</td><td>Kentaur Hotel</td></tr>",
                            "<tr><td>2</td><td>Lagúna Hotel</td></tr>",
                            "<tr><td>2</td><td>Gold Hotel</td></tr>",
                            "<tr><td>1</td><td>Lagúna Hotel</td></tr>",
                            "<tr><td>2</td><td>Kentaur Hotel</td></tr>",
                            "<tr><td>3</td><td>Hotel Három Hattyú</td></tr>",
                            "<tr><td>3</td><td>Szieszta Apartmanház</td></tr>",
                            "<tr><td>2</td><td>Fortuna panzió</td></tr>",
                            "<tr><td>2</td><td>Hotel Három Hattyú</td></tr>",
                            "<tr><td>3</td><td>Szieszta Apartmanház</td></tr>",
                            "<tr><td>2</td><td>Kentaur Hotel</td></tr>",
                            "<tr><td>3</td><td>Kentaur Hotel</td></tr>",
                            "<tr><td>2</td><td>Fortuna panzió</td></tr>",
                            "<tr><td>2</td><td>Lagúna Hotel</td></tr>",
                            "<tr><td>1</td><td>Kentaur Hotel</td></tr>",
                            "<tr><td>4</td><td>Lagúna Hotel</td></tr>",
                            "<tr><td>3</td><td>Gold Hotel</td></tr>",
                            "<tr><td>2</td><td>Kentaur Hotel</td></tr>",
                            "<tr><td>2</td><td>Kentaur Hotel</td></tr>",
                            "<tr><td>1</td><td>Kentaur Hotel</td></tr>",
                            "<tr><td>4</td><td>Gold Hotel</td></tr>",
                            "<tr><td>4</td><td>Hotel Három Hattyú</td></tr>",
                            "<tr><td>1</td><td>Családi Ház</td></tr>",
                            "<tr><td>3</td><td>Lagúna Hotel</td></tr>",
                            "<tr><td>3</td><td>Lagúna Hotel</td></tr>",
                            "<tr><td>3</td><td>Hotel Három Hattyú</td></tr>",
                            "<tr><td>2</td><td>Gold Hotel</td></tr>",
                            "<tr><td>2</td><td>Jáde panzió</td></tr>",
                            "<tr><td>2</td><td>Jáde panzió</td></tr>",
                            "<tr><td>3</td><td>Fortuna panzió</td></tr>",
                            "<tr><td>2</td><td>Kentaur Hotel</td></tr>",
                            "<tr><td>2</td><td>Fortuna panzió</td></tr>",
                            "<tr><td>2</td><td>Lagúna Hotel</td></tr>",
                            "<tr><td>1</td><td>Fortuna panzió</td></tr>",
                            "<tr><td>2</td><td>Hotel Három Hattyú</td></tr>",
                            "<tr><td>3</td><td>Hotel Három Hattyú</td></tr>",
                            "<tr><td>4</td><td>Hotel Három Hattyú</td></tr>",
                            "<tr><td>2</td><td>Gold Hotel</td></tr>",
                            "<tr><td>2</td><td>Hotel Három Hattyú</td></tr>",
                            "<tr><td>2</td><td>Hotel Három Hattyú</td></tr>",
                            "<tr><td>2</td><td>Partiszél Vendégház</td></tr>",
                            "<tr><td>2</td><td>Hotel Három Hattyú</td></tr>",
                            "<tr><td>2</td><td>Hotel Három Hattyú</td></tr>",
                            "<tr><td>2</td><td>Lagúna Hotel</td></tr>",
                            "<tr><td>2</td><td>Gold Hotel</td></tr>",
                            "<tr><td>2</td><td>Sába-Ház</td></tr>",
                            "<tr><td>4</td><td>Hotel Három Hattyú</td></tr>",
                            "<tr><td>3</td><td>Hotel Három Hattyú</td></tr>",
                            "<tr><td>5</td><td>Hotel Három Hattyú</td></tr>",
                            "<tr><td>3</td><td>Kentaur Hotel</td></tr>",
                            "<tr><td>3</td><td>Gold Hotel</td></tr>",
                            "<tr><td>3</td><td>Családi Ház</td></tr>",
                            "<tr><td>4</td><td>Hotel Három Hattyú</td></tr>",
                            "<tr><td>3</td><td>Hotel Három Hattyú</td></tr>",
                            "<tr><td>3</td><td>Hotel Három Hattyú</td></tr>",
                            "<tr><td>2</td><td>Gold Hotel</td></tr>",
                            "<tr><td>3</td><td>Gold Hotel</td></tr>",
                            "<tr><td>1</td><td>Kentaur Hotel</td></tr>",
                            "<tr><td>4</td><td>Fortuna Apartman</td></tr>",
                            "<tr><td>2</td><td>Kentaur Hotel</td></tr>",
                            "<tr><td>3</td><td>Lagúna Hotel</td></tr>",
                            "<tr><td>1</td><td>Gold Hotel</td></tr>",
                            "<tr><td>3</td><td>Hotel Három Hattyú</td></tr>",
                            "<tr><td>2</td><td>Hotel Három Hattyú</td></tr>",
                            "<tr><td>4</td><td>Gold Hotel</td></tr>",
                            "<tr><td>3</td><td>Kentaur Hotel</td></tr>",
                            "<tr><td>2</td><td>Szieszta Apartmanház</td></tr>",
                            "<tr><td>2</td><td>Lagúna Hotel</td></tr>",
                            "<tr><td>3</td><td>Fortuna Panzió</td></tr>",
                            "<tr><td>2</td><td>Hotel Három Hattyú</td></tr>",
                            "<tr><td>2</td><td>Gold Hotel</td></tr>",
                            "<tr><td>2</td><td>Hotel Három Hattyú</td></tr>",
                            "<tr><td>3</td><td>Jáde panzió</td></tr>",
                            "<tr><td>3</td><td>Kentaur Hotel</td></tr>",
                            "<tr><td>3</td><td>Szieszta Apartmanház</td></tr>",
                            "<tr><td>3</td><td>Hotel Három Hattyú</td></tr>",
                            "<tr><td>1</td><td>Sába-Ház</td></tr>",
                            "<tr><td>2</td><td>Fortuna Panzió</td></tr>",
                            "<tr><td>2</td><td>Hotel Három Hattyú</td></tr>",
                            "<tr><td>3</td><td>Gold Hotel</td></tr>",
                            "<tr><td>2</td><td>Hotel Három Hattyú</td></tr>",
                            "<tr><td>3</td><td>Hotel Három Hattyú</td></tr>",
                            "<tr><td>1</td><td>Fortuna panzió</td></tr>",
                            "<tr><td>3</td><td>Hotel Három Hattyú</td></tr>",
                            "<tr><td>3</td><td>Hotel Három Hattyú</td></tr>",
                            "<tr><td>2</td><td>Hotel Három Hattyú</td></tr>",
                            "<tr><td>3</td><td>Fortuna Apartman</td></tr>",
                            "<tr><td>3</td><td>Kentaur Hotel</td></tr>",
                            "<tr><td>2</td><td>Jáde panzió</td></tr>",
                            "<tr><td>2</td><td>Fortuna Panzió</td></tr>",
                            "<tr><td>4</td><td>Sába-Ház</td></tr>",
                            "<tr><td>2</td><td>Fortuna panzió</td></tr>",
                            "<tr><td>2</td><td>Lagúna Hotel</td></tr>",
                            "<tr><td>3</td><td>Hotel Három Hattyú</td></tr>",
                            "<tr><td>1</td><td>Lagúna Hotel</td></tr>",
                            "<tr><td>4</td><td>Családi Ház</td></tr>",
                            "<tr><td>1</td><td>Hotel Három Hattyú</td></tr>",
                            "<tr><td>3</td><td>Sába-Ház</td></tr>",
                            "<tr><td>2</td><td>Lagúna Hotel</td></tr>",
                            "<tr><td>3</td><td>Fortuna Panzió</td></tr>",
                            "<tr><td>3</td><td>Fortuna Panzió</td></tr>",
                            "<tr><td>3</td><td>Szieszta Apartmanház</td></tr>",
                            "<tr><td>3</td><td>Fortuna Apartman</td></tr>",
                            "<tr><td>4</td><td>Kentaur Hotel</td></tr>",
                            "<tr><td>2</td><td>Lagúna Hotel</td></tr>",
                            "<tr><td>3</td><td>Fortuna Panzió</td></tr>",
                            "<tr><td>2</td><td>Fortuna Panzió</td></tr>",
                            "<tr><td>3</td><td>Hotel Három Hattyú</td></tr>",
                            "<tr><td>4</td><td>Hotel Három Hattyú</td></tr>",
                            "<tr><td>3</td><td>Fortuna panzió</td></tr>",
                            "<tr><td>2</td><td>Kentaur Hotel</td></tr>",
                            "<tr><td>2</td><td>Lagúna Hotel</td></tr>",
                            "<tr><td>3</td><td>Gold Hotel</td></tr>",
                            "<tr><td>2</td><td>Hotel Három Hattyú</td></tr>",
                            "<tr><td>3</td><td>Lagúna Hotel</td></tr>",
                            "<tr><td>2</td><td>Kentaur Hotel</td></tr>",
                            "<tr><td>4</td><td>Gold Hotel</td></tr>",
                            "<tr><td>2</td><td>Hotel Három Hattyú</td></tr>",
                            "<tr><td>3</td><td>Partiszél Vendégház</td></tr>",
                            "<tr><td>3</td><td>Hotel Három Hattyú</td></tr>",
                            "<tr><td>2</td><td>Gold Hotel</td></tr>",
                            "<tr><td>1</td><td>Fortuna panzió</td></tr>",
                            "<tr><td>3</td><td>Hotel Három Hattyú</td></tr>",
                            "<tr><td>3</td><td>Gold Hotel</td></tr>",
                            "<tr><td>3</td><td>Partiszél Vendégház</td></tr>",
                            "<tr><td>4</td><td>Lagúna Hotel</td></tr>",
                            "<tr><td>3</td><td>Kentaur Hotel</td></tr>",
                            "<tr><td>3</td><td>Hotel Három Hattyú</td></tr>",
                            "<tr><td>2</td><td>Szieszta Apartmanház</td></tr>",
                            "<tr><td>1</td><td>Gold Hotel</td></tr>",
                            "<tr><td>3</td><td>Kentaur Hotel</td></tr>",
                            "<tr><td>1</td><td>Lagúna Hotel</td></tr>",
                            "<tr><td>3</td><td>Hotel Három Hattyú</td></tr>",
                            "<tr><td>4</td><td>Kentaur Hotel</td></tr>",
                            "<tr><td>1</td><td>Fortuna Panzió</td></tr>",
                            "<tr><td>2</td><td>Kentaur Hotel</td></tr>",
                            "<tr><td>2</td><td>Hotel Három Hattyú</td></tr>",
                            "<tr><td>3</td><td>Kentaur Hotel</td></tr>",
                            "</table>"
                        ]
                    }
                }
            ],
            "execution_count": 18
        }
    ]
}